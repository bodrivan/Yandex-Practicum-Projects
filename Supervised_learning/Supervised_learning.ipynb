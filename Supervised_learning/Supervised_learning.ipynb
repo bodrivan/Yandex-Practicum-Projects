{
 "cells": [
  {
   "cell_type": "markdown",
   "metadata": {
    "toc": true
   },
   "source": [
    "<h1>Содержание<span class=\"tocSkip\"></span></h1>\n",
    "<div class=\"toc\"><ul class=\"toc-item\"><li><span><a href=\"#Описание-данных\" data-toc-modified-id=\"Описание-данных-1\"><span class=\"toc-item-num\">1&nbsp;&nbsp;</span>Описание данных</a></span><ul class=\"toc-item\"><li><span><a href=\"#Признаки\" data-toc-modified-id=\"Признаки-1.1\"><span class=\"toc-item-num\">1.1&nbsp;&nbsp;</span>Признаки</a></span></li><li><span><a href=\"#Целевой-признак\" data-toc-modified-id=\"Целевой-признак-1.2\"><span class=\"toc-item-num\">1.2&nbsp;&nbsp;</span>Целевой признак</a></span></li></ul></li><li><span><a href=\"#Подготовка-данных\" data-toc-modified-id=\"Подготовка-данных-2\"><span class=\"toc-item-num\">2&nbsp;&nbsp;</span>Подготовка данных</a></span><ul class=\"toc-item\"><li><span><a href=\"#Информация-о-датасете\" data-toc-modified-id=\"Информация-о-датасете-2.1\"><span class=\"toc-item-num\">2.1&nbsp;&nbsp;</span>Информация о датасете</a></span></li><li><span><a href=\"#Удаление-лишних-столбцов\" data-toc-modified-id=\"Удаление-лишних-столбцов-2.2\"><span class=\"toc-item-num\">2.2&nbsp;&nbsp;</span>Удаление лишних столбцов</a></span></li><li><span><a href=\"#Обработка-пропусков\" data-toc-modified-id=\"Обработка-пропусков-2.3\"><span class=\"toc-item-num\">2.3&nbsp;&nbsp;</span>Обработка пропусков</a></span></li><li><span><a href=\"#Промежуточный-вывод\" data-toc-modified-id=\"Промежуточный-вывод-2.4\"><span class=\"toc-item-num\">2.4&nbsp;&nbsp;</span>Промежуточный вывод</a></span></li><li><span><a href=\"#Разделение-на-выборки,-OHE,-scaling\" data-toc-modified-id=\"Разделение-на-выборки,-OHE,-scaling-2.5\"><span class=\"toc-item-num\">2.5&nbsp;&nbsp;</span>Разделение на выборки, OHE, scaling</a></span></li></ul></li><li><span><a href=\"#Исследование-задачи\" data-toc-modified-id=\"Исследование-задачи-3\"><span class=\"toc-item-num\">3&nbsp;&nbsp;</span>Исследование задачи</a></span><ul class=\"toc-item\"><li><span><a href=\"#Решающее-дерево-с-несбалансированными-классами\" data-toc-modified-id=\"Решающее-дерево-с-несбалансированными-классами-3.1\"><span class=\"toc-item-num\">3.1&nbsp;&nbsp;</span>Решающее дерево с несбалансированными классами</a></span></li><li><span><a href=\"#Случайный-лес-с-несбалансированными-классами\" data-toc-modified-id=\"Случайный-лес-с-несбалансированными-классами-3.2\"><span class=\"toc-item-num\">3.2&nbsp;&nbsp;</span>Случайный лес с несбалансированными классами</a></span></li><li><span><a href=\"#Логистическая-регрессия-с-несбалансированными-классами\" data-toc-modified-id=\"Логистическая-регрессия-с-несбалансированными-классами-3.3\"><span class=\"toc-item-num\">3.3&nbsp;&nbsp;</span>Логистическая регрессия с несбалансированными классами</a></span></li><li><span><a href=\"#Промежуточный-вывод\" data-toc-modified-id=\"Промежуточный-вывод-3.4\"><span class=\"toc-item-num\">3.4&nbsp;&nbsp;</span>Промежуточный вывод</a></span></li></ul></li><li><span><a href=\"#Борьба-с-дисбалансом\" data-toc-modified-id=\"Борьба-с-дисбалансом-4\"><span class=\"toc-item-num\">4&nbsp;&nbsp;</span>Борьба с дисбалансом</a></span><ul class=\"toc-item\"><li><span><a href=\"#Борьба-с-дислабансом-с-помощью-взвешивания-классов\" data-toc-modified-id=\"Борьба-с-дислабансом-с-помощью-взвешивания-классов-4.1\"><span class=\"toc-item-num\">4.1&nbsp;&nbsp;</span>Борьба с дислабансом с помощью взвешивания классов</a></span><ul class=\"toc-item\"><li><span><a href=\"#Решающее-дерево-class_weight-=-'balanced'\" data-toc-modified-id=\"Решающее-дерево-class_weight-=-'balanced'-4.1.1\"><span class=\"toc-item-num\">4.1.1&nbsp;&nbsp;</span>Решающее дерево class_weight = 'balanced'</a></span></li><li><span><a href=\"#Случайный-лес-class_weight-=-'balanced'\" data-toc-modified-id=\"Случайный-лес-class_weight-=-'balanced'-4.1.2\"><span class=\"toc-item-num\">4.1.2&nbsp;&nbsp;</span>Случайный лес class_weight = 'balanced'</a></span></li><li><span><a href=\"#Логистическая-регрессия-class_weight-=-'balanced'\" data-toc-modified-id=\"Логистическая-регрессия-class_weight-=-'balanced'-4.1.3\"><span class=\"toc-item-num\">4.1.3&nbsp;&nbsp;</span>Логистическая регрессия class_weight = 'balanced'</a></span></li></ul></li><li><span><a href=\"#Борьба-с-дислабансом-с-помощью-upsampling\" data-toc-modified-id=\"Борьба-с-дислабансом-с-помощью-upsampling-4.2\"><span class=\"toc-item-num\">4.2&nbsp;&nbsp;</span>Борьба с дислабансом с помощью upsampling</a></span><ul class=\"toc-item\"><li><span><a href=\"#Решающее-дерево,-upsampling\" data-toc-modified-id=\"Решающее-дерево,-upsampling-4.2.1\"><span class=\"toc-item-num\">4.2.1&nbsp;&nbsp;</span>Решающее дерево, upsampling</a></span></li><li><span><a href=\"#Случайный-лес,-upsampling\" data-toc-modified-id=\"Случайный-лес,-upsampling-4.2.2\"><span class=\"toc-item-num\">4.2.2&nbsp;&nbsp;</span>Случайный лес, upsampling</a></span></li><li><span><a href=\"#Логистическая-регрессия,-upsampling\" data-toc-modified-id=\"Логистическая-регрессия,-upsampling-4.2.3\"><span class=\"toc-item-num\">4.2.3&nbsp;&nbsp;</span>Логистическая регрессия, upsampling</a></span></li></ul></li><li><span><a href=\"#Борьба-с-дислабансом-с-помощью-downsampling\" data-toc-modified-id=\"Борьба-с-дислабансом-с-помощью-downsampling-4.3\"><span class=\"toc-item-num\">4.3&nbsp;&nbsp;</span>Борьба с дислабансом с помощью downsampling</a></span><ul class=\"toc-item\"><li><span><a href=\"#Решающее-дерево,-downsampling\" data-toc-modified-id=\"Решающее-дерево,-downsampling-4.3.1\"><span class=\"toc-item-num\">4.3.1&nbsp;&nbsp;</span>Решающее дерево, downsampling</a></span></li><li><span><a href=\"#Случайный-лес,-downsampling\" data-toc-modified-id=\"Случайный-лес,-downsampling-4.3.2\"><span class=\"toc-item-num\">4.3.2&nbsp;&nbsp;</span>Случайный лес, downsampling</a></span></li><li><span><a href=\"#Логистическая-регрессия,-downsampling\" data-toc-modified-id=\"Логистическая-регрессия,-downsampling-4.3.3\"><span class=\"toc-item-num\">4.3.3&nbsp;&nbsp;</span>Логистическая регрессия, downsampling</a></span></li></ul></li><li><span><a href=\"#Промежуточный-вывод\" data-toc-modified-id=\"Промежуточный-вывод-4.4\"><span class=\"toc-item-num\">4.4&nbsp;&nbsp;</span>Промежуточный вывод</a></span></li></ul></li><li><span><a href=\"#Тестирование-модели\" data-toc-modified-id=\"Тестирование-модели-5\"><span class=\"toc-item-num\">5&nbsp;&nbsp;</span>Тестирование модели</a></span><ul class=\"toc-item\"><li><span><a href=\"#Проверка-на-тестовой-выборке\" data-toc-modified-id=\"Проверка-на-тестовой-выборке-5.1\"><span class=\"toc-item-num\">5.1&nbsp;&nbsp;</span>Проверка на тестовой выборке</a></span></li><li><span><a href=\"#AUC-ROC\" data-toc-modified-id=\"AUC-ROC-5.2\"><span class=\"toc-item-num\">5.2&nbsp;&nbsp;</span>AUC-ROC</a></span></li><li><span><a href=\"#Промежуточный-вывод\" data-toc-modified-id=\"Промежуточный-вывод-5.3\"><span class=\"toc-item-num\">5.3&nbsp;&nbsp;</span>Промежуточный вывод</a></span></li></ul></li><li><span><a href=\"#Выводы\" data-toc-modified-id=\"Выводы-6\"><span class=\"toc-item-num\">6&nbsp;&nbsp;</span>Выводы</a></span></li></ul></div>"
   ]
  },
  {
   "cell_type": "markdown",
   "metadata": {},
   "source": [
    "# Отток клиентов"
   ]
  },
  {
   "cell_type": "markdown",
   "metadata": {},
   "source": [
    "Из «Бета-Банка» стали уходить клиенты. Каждый месяц. Немного, но заметно. Банковские маркетологи посчитали: сохранять текущих клиентов дешевле, чем привлекать новых.\n",
    "\n",
    "Нужно спрогнозировать, уйдёт клиент из банка в ближайшее время или нет. Вам предоставлены исторические данные о поведении клиентов и расторжении договоров с банком. \n",
    "\n",
    "Постройте модель с предельно большим значением *F1*-меры. Чтобы сдать проект успешно, нужно довести метрику до 0.59. Проверьте *F1*-меру на тестовой выборке самостоятельно.\n",
    "\n",
    "Дополнительно измеряйте *AUC-ROC*, сравнивайте её значение с *F1*-мерой.\n",
    "\n",
    "Источник данных: [https://www.kaggle.com/barelydedicated/bank-customer-churn-modeling](https://www.kaggle.com/barelydedicated/bank-customer-churn-modeling)"
   ]
  },
  {
   "cell_type": "markdown",
   "metadata": {},
   "source": [
    "## Описание данных "
   ]
  },
  {
   "cell_type": "markdown",
   "metadata": {},
   "source": [
    "### Признаки\n",
    "* RowNumber — индекс строки в данных\n",
    "* CustomerId — уникальный идентификатор клиента\n",
    "* Surname — фамилия\n",
    "* CreditScore — кредитный рейтинг\n",
    "* Geography — страна проживания\n",
    "* Gender — пол\n",
    "* Age — возраст\n",
    "* Tenure — сколько лет человек является клиентом банка\n",
    "* Balance — баланс на счёте\n",
    "* NumOfProducts — количество продуктов банка, используемых клиентом\n",
    "* HasCrCard — наличие кредитной карты\n",
    "* IsActiveMember — активность клиента\n",
    "* EstimatedSalary — предполагаемая зарплата\n",
    "\n",
    "### Целевой признак\n",
    "* Exited — факт ухода клиента"
   ]
  },
  {
   "cell_type": "markdown",
   "metadata": {},
   "source": [
    "## Подготовка данных"
   ]
  },
  {
   "cell_type": "code",
   "execution_count": 1,
   "metadata": {},
   "outputs": [],
   "source": [
    "import pandas as pd\n",
    "import os\n",
    "import matplotlib.pyplot as plt\n",
    "from sklearn.preprocessing import OrdinalEncoder \n",
    "from sklearn.preprocessing import StandardScaler\n",
    "from sklearn.metrics import f1_score\n",
    "from sklearn.model_selection import train_test_split\n",
    "from sklearn.tree import DecisionTreeClassifier\n",
    "from sklearn.ensemble import RandomForestClassifier\n",
    "from sklearn.linear_model import LogisticRegression \n",
    "from sklearn.metrics import f1_score\n",
    "from sklearn.metrics import roc_auc_score\n",
    "from sklearn.metrics import roc_curve\n",
    "from sklearn.metrics import confusion_matrix\n",
    "from sklearn.metrics import recall_score\n",
    "from sklearn.metrics import precision_score\n",
    "from sklearn.utils import shuffle"
   ]
  },
  {
   "cell_type": "code",
   "execution_count": 2,
   "metadata": {},
   "outputs": [],
   "source": [
    "path_1 = '/Users/ivanbodrenkov/Yandex.Disk.localized/Яндекс Практикум/7. Обучение с учителем/Проект/Churn.csv'\n",
    "path_2 = 'https://code.s3.yandex.net/datasets/Churn.csv'\n",
    "path_3 = 'C:/Users/bodrenkov_ia/Desktop/Project/Churn.csv'\n",
    "path_4 = '/datasets/Churn.csv'\n",
    "\n",
    "if os.path.exists(path_1):\n",
    "    data = pd.read_csv(path_1, sep = ',')\n",
    "elif os.path.exists(path_2):\n",
    "    data = pd.read_csv(path_2, sep = ',')\n",
    "elif os.path.exists(path_3):\n",
    "    data = pd.read_csv(path_3, sep = ',')\n",
    "elif os.path.exists(path_4):\n",
    "    data = pd.read_csv(path_4, sep = ',')\n",
    "else:\n",
    "    print('Что-то пошло не так!')"
   ]
  },
  {
   "cell_type": "markdown",
   "metadata": {},
   "source": [
    "### Информация о датасете"
   ]
  },
  {
   "cell_type": "code",
   "execution_count": 3,
   "metadata": {},
   "outputs": [
    {
     "name": "stdout",
     "output_type": "stream",
     "text": [
      "<class 'pandas.core.frame.DataFrame'>\n",
      "RangeIndex: 10000 entries, 0 to 9999\n",
      "Data columns (total 14 columns):\n",
      " #   Column           Non-Null Count  Dtype  \n",
      "---  ------           --------------  -----  \n",
      " 0   RowNumber        10000 non-null  int64  \n",
      " 1   CustomerId       10000 non-null  int64  \n",
      " 2   Surname          10000 non-null  object \n",
      " 3   CreditScore      10000 non-null  int64  \n",
      " 4   Geography        10000 non-null  object \n",
      " 5   Gender           10000 non-null  object \n",
      " 6   Age              10000 non-null  int64  \n",
      " 7   Tenure           9091 non-null   float64\n",
      " 8   Balance          10000 non-null  float64\n",
      " 9   NumOfProducts    10000 non-null  int64  \n",
      " 10  HasCrCard        10000 non-null  int64  \n",
      " 11  IsActiveMember   10000 non-null  int64  \n",
      " 12  EstimatedSalary  10000 non-null  float64\n",
      " 13  Exited           10000 non-null  int64  \n",
      "dtypes: float64(3), int64(8), object(3)\n",
      "memory usage: 1.1+ MB\n",
      "None\n"
     ]
    }
   ],
   "source": [
    "print(data.info())"
   ]
  },
  {
   "cell_type": "code",
   "execution_count": 4,
   "metadata": {
    "scrolled": false
   },
   "outputs": [
    {
     "data": {
      "text/html": [
       "<div>\n",
       "<style scoped>\n",
       "    .dataframe tbody tr th:only-of-type {\n",
       "        vertical-align: middle;\n",
       "    }\n",
       "\n",
       "    .dataframe tbody tr th {\n",
       "        vertical-align: top;\n",
       "    }\n",
       "\n",
       "    .dataframe thead th {\n",
       "        text-align: right;\n",
       "    }\n",
       "</style>\n",
       "<table border=\"1\" class=\"dataframe\">\n",
       "  <thead>\n",
       "    <tr style=\"text-align: right;\">\n",
       "      <th></th>\n",
       "      <th>RowNumber</th>\n",
       "      <th>CustomerId</th>\n",
       "      <th>Surname</th>\n",
       "      <th>CreditScore</th>\n",
       "      <th>Geography</th>\n",
       "      <th>Gender</th>\n",
       "      <th>Age</th>\n",
       "      <th>Tenure</th>\n",
       "      <th>Balance</th>\n",
       "      <th>NumOfProducts</th>\n",
       "      <th>HasCrCard</th>\n",
       "      <th>IsActiveMember</th>\n",
       "      <th>EstimatedSalary</th>\n",
       "      <th>Exited</th>\n",
       "    </tr>\n",
       "  </thead>\n",
       "  <tbody>\n",
       "    <tr>\n",
       "      <th>0</th>\n",
       "      <td>1</td>\n",
       "      <td>15634602</td>\n",
       "      <td>Hargrave</td>\n",
       "      <td>619</td>\n",
       "      <td>France</td>\n",
       "      <td>Female</td>\n",
       "      <td>42</td>\n",
       "      <td>2.0</td>\n",
       "      <td>0.00</td>\n",
       "      <td>1</td>\n",
       "      <td>1</td>\n",
       "      <td>1</td>\n",
       "      <td>101348.88</td>\n",
       "      <td>1</td>\n",
       "    </tr>\n",
       "    <tr>\n",
       "      <th>1</th>\n",
       "      <td>2</td>\n",
       "      <td>15647311</td>\n",
       "      <td>Hill</td>\n",
       "      <td>608</td>\n",
       "      <td>Spain</td>\n",
       "      <td>Female</td>\n",
       "      <td>41</td>\n",
       "      <td>1.0</td>\n",
       "      <td>83807.86</td>\n",
       "      <td>1</td>\n",
       "      <td>0</td>\n",
       "      <td>1</td>\n",
       "      <td>112542.58</td>\n",
       "      <td>0</td>\n",
       "    </tr>\n",
       "    <tr>\n",
       "      <th>2</th>\n",
       "      <td>3</td>\n",
       "      <td>15619304</td>\n",
       "      <td>Onio</td>\n",
       "      <td>502</td>\n",
       "      <td>France</td>\n",
       "      <td>Female</td>\n",
       "      <td>42</td>\n",
       "      <td>8.0</td>\n",
       "      <td>159660.80</td>\n",
       "      <td>3</td>\n",
       "      <td>1</td>\n",
       "      <td>0</td>\n",
       "      <td>113931.57</td>\n",
       "      <td>1</td>\n",
       "    </tr>\n",
       "    <tr>\n",
       "      <th>3</th>\n",
       "      <td>4</td>\n",
       "      <td>15701354</td>\n",
       "      <td>Boni</td>\n",
       "      <td>699</td>\n",
       "      <td>France</td>\n",
       "      <td>Female</td>\n",
       "      <td>39</td>\n",
       "      <td>1.0</td>\n",
       "      <td>0.00</td>\n",
       "      <td>2</td>\n",
       "      <td>0</td>\n",
       "      <td>0</td>\n",
       "      <td>93826.63</td>\n",
       "      <td>0</td>\n",
       "    </tr>\n",
       "    <tr>\n",
       "      <th>4</th>\n",
       "      <td>5</td>\n",
       "      <td>15737888</td>\n",
       "      <td>Mitchell</td>\n",
       "      <td>850</td>\n",
       "      <td>Spain</td>\n",
       "      <td>Female</td>\n",
       "      <td>43</td>\n",
       "      <td>2.0</td>\n",
       "      <td>125510.82</td>\n",
       "      <td>1</td>\n",
       "      <td>1</td>\n",
       "      <td>1</td>\n",
       "      <td>79084.10</td>\n",
       "      <td>0</td>\n",
       "    </tr>\n",
       "  </tbody>\n",
       "</table>\n",
       "</div>"
      ],
      "text/plain": [
       "   RowNumber  CustomerId   Surname  CreditScore Geography  Gender  Age  \\\n",
       "0          1    15634602  Hargrave          619    France  Female   42   \n",
       "1          2    15647311      Hill          608     Spain  Female   41   \n",
       "2          3    15619304      Onio          502    France  Female   42   \n",
       "3          4    15701354      Boni          699    France  Female   39   \n",
       "4          5    15737888  Mitchell          850     Spain  Female   43   \n",
       "\n",
       "   Tenure    Balance  NumOfProducts  HasCrCard  IsActiveMember  \\\n",
       "0     2.0       0.00              1          1               1   \n",
       "1     1.0   83807.86              1          0               1   \n",
       "2     8.0  159660.80              3          1               0   \n",
       "3     1.0       0.00              2          0               0   \n",
       "4     2.0  125510.82              1          1               1   \n",
       "\n",
       "   EstimatedSalary  Exited  \n",
       "0        101348.88       1  \n",
       "1        112542.58       0  \n",
       "2        113931.57       1  \n",
       "3         93826.63       0  \n",
       "4         79084.10       0  "
      ]
     },
     "metadata": {},
     "output_type": "display_data"
    }
   ],
   "source": [
    "display(data.head())"
   ]
  },
  {
   "cell_type": "code",
   "execution_count": 5,
   "metadata": {},
   "outputs": [
    {
     "data": {
      "text/plain": [
       "array([[<AxesSubplot:title={'center':'RowNumber'}>,\n",
       "        <AxesSubplot:title={'center':'CustomerId'}>,\n",
       "        <AxesSubplot:title={'center':'CreditScore'}>],\n",
       "       [<AxesSubplot:title={'center':'Age'}>,\n",
       "        <AxesSubplot:title={'center':'Tenure'}>,\n",
       "        <AxesSubplot:title={'center':'Balance'}>],\n",
       "       [<AxesSubplot:title={'center':'NumOfProducts'}>,\n",
       "        <AxesSubplot:title={'center':'HasCrCard'}>,\n",
       "        <AxesSubplot:title={'center':'IsActiveMember'}>],\n",
       "       [<AxesSubplot:title={'center':'EstimatedSalary'}>,\n",
       "        <AxesSubplot:title={'center':'Exited'}>, <AxesSubplot:>]],\n",
       "      dtype=object)"
      ]
     },
     "execution_count": 5,
     "metadata": {},
     "output_type": "execute_result"
    },
    {
     "data": {
      "image/png": "[encoded data removed]",
      "text/plain": [
       "<Figure size 1080x1080 with 12 Axes>"
      ]
     },
     "metadata": {
      "needs_background": "light"
     },
     "output_type": "display_data"
    }
   ],
   "source": [
    "data.hist(figsize = (15, 15), color = 'black', alpha = 0.75)"
   ]
  },
  {
   "cell_type": "markdown",
   "metadata": {},
   "source": [
    "### Удаление лишних столбцов"
   ]
  },
  {
   "cell_type": "code",
   "execution_count": 6,
   "metadata": {},
   "outputs": [],
   "source": [
    "data = data.drop(columns = ['Surname', 'RowNumber', 'CustomerId'])"
   ]
  },
  {
   "cell_type": "markdown",
   "metadata": {},
   "source": [
    "### Обработка пропусков"
   ]
  },
  {
   "cell_type": "code",
   "execution_count": 7,
   "metadata": {},
   "outputs": [
    {
     "name": "stdout",
     "output_type": "stream",
     "text": [
      "<class 'pandas.core.frame.DataFrame'>\n",
      "RangeIndex: 10000 entries, 0 to 9999\n",
      "Data columns (total 11 columns):\n",
      " #   Column           Non-Null Count  Dtype  \n",
      "---  ------           --------------  -----  \n",
      " 0   CreditScore      10000 non-null  int64  \n",
      " 1   Geography        10000 non-null  object \n",
      " 2   Gender           10000 non-null  object \n",
      " 3   Age              10000 non-null  int64  \n",
      " 4   Tenure           10000 non-null  float64\n",
      " 5   Balance          10000 non-null  float64\n",
      " 6   NumOfProducts    10000 non-null  int64  \n",
      " 7   HasCrCard        10000 non-null  int64  \n",
      " 8   IsActiveMember   10000 non-null  int64  \n",
      " 9   EstimatedSalary  10000 non-null  float64\n",
      " 10  Exited           10000 non-null  int64  \n",
      "dtypes: float64(3), int64(6), object(2)\n",
      "memory usage: 859.5+ KB\n"
     ]
    }
   ],
   "source": [
    "data['Tenure'] = data['Tenure'].fillna(-1)\n",
    "data.info()"
   ]
  },
  {
   "cell_type": "markdown",
   "metadata": {},
   "source": [
    "### Промежуточный вывод\n",
    "Получена общая информация о наборе данных и построены гистрограммы. В столбце \"balance\" есть нечтно похожее на выброс, но по моему мнению таковым не является. Достаточно часто встречается нулевой баланс на счету и при этом клиент не собирается прекращать работать с банком (лично у меня даже так). В остальных графах никаких аномалий в данных не наблюдается.\n",
    "\n",
    "Пропуски в столбце \"tenure\" составляют мене 10% всего набора данных, принято решение их удалить из датасета.\n",
    "\n",
    "Столбцы \"Surname\" и \"RowNumber\" удалены. Первый удален из-за сложности (и бесполезности) дальнейшего кодирования данных, второй из-за бесполезности в целом."
   ]
  },
  {
   "cell_type": "markdown",
   "metadata": {},
   "source": [
    "### Разделение на выборки, OHE, scaling"
   ]
  },
  {
   "cell_type": "code",
   "execution_count": 8,
   "metadata": {},
   "outputs": [],
   "source": [
    "# Разделение на выборки\n",
    "data_train, data_valid_and_test = train_test_split(data, test_size=0.4, random_state=12345)\n",
    "data_valid, data_test = train_test_split(data_valid_and_test, test_size=0.5, random_state=12345)\n",
    "\n",
    "# OHE\n",
    "data_train_ohe = pd.get_dummies(data_train, drop_first = True)\n",
    "data_valid_ohe = pd.get_dummies(data_valid, drop_first = True)\n",
    "data_test_ohe = pd.get_dummies(data_test, drop_first = True)\n",
    "\n",
    "features_train = data_train_ohe.drop('Exited', axis = 1)\n",
    "target_train = data_train_ohe['Exited']\n",
    "features_valid = data_valid_ohe.drop('Exited', axis = 1)\n",
    "target_valid = data_valid_ohe['Exited']\n",
    "features_test = data_test_ohe.drop('Exited', axis = 1)\n",
    "target_test = data_test_ohe['Exited']\n",
    "\n",
    "numeric = ['CreditScore', 'Age', 'Tenure', 'Balance', 'NumOfProducts', 'EstimatedSalary']\n",
    "\n",
    "#Scaling\n",
    "scaler = StandardScaler()\n",
    "scaler.fit(features_train[numeric])\n",
    "features_train[numeric] = scaler.transform(features_train[numeric])\n",
    "scaler.fit(features_valid[numeric])\n",
    "features_valid[numeric] = scaler.transform(features_valid[numeric])\n",
    "scaler.fit(features_test[numeric])\n",
    "features_test[numeric] = scaler.transform(features_test[numeric])"
   ]
  },
  {
   "cell_type": "markdown",
   "metadata": {},
   "source": [
    "## Исследование задачи"
   ]
  },
  {
   "cell_type": "markdown",
   "metadata": {},
   "source": [
    "### Решающее дерево с несбалансированными классами"
   ]
  },
  {
   "cell_type": "code",
   "execution_count": 9,
   "metadata": {
    "scrolled": false
   },
   "outputs": [
    {
     "data": {
      "text/html": [
       "<div>\n",
       "<style scoped>\n",
       "    .dataframe tbody tr th:only-of-type {\n",
       "        vertical-align: middle;\n",
       "    }\n",
       "\n",
       "    .dataframe tbody tr th {\n",
       "        vertical-align: top;\n",
       "    }\n",
       "\n",
       "    .dataframe thead th {\n",
       "        text-align: right;\n",
       "    }\n",
       "</style>\n",
       "<table border=\"1\" class=\"dataframe\">\n",
       "  <thead>\n",
       "    <tr style=\"text-align: right;\">\n",
       "      <th></th>\n",
       "      <th>Depth</th>\n",
       "      <th>F1</th>\n",
       "    </tr>\n",
       "  </thead>\n",
       "  <tbody>\n",
       "    <tr>\n",
       "      <th>5</th>\n",
       "      <td>6.0</td>\n",
       "      <td>0.567527</td>\n",
       "    </tr>\n",
       "    <tr>\n",
       "      <th>8</th>\n",
       "      <td>9.0</td>\n",
       "      <td>0.56</td>\n",
       "    </tr>\n",
       "    <tr>\n",
       "      <th>3</th>\n",
       "      <td>4.0</td>\n",
       "      <td>0.55287</td>\n",
       "    </tr>\n",
       "    <tr>\n",
       "      <th>4</th>\n",
       "      <td>5.0</td>\n",
       "      <td>0.540625</td>\n",
       "    </tr>\n",
       "    <tr>\n",
       "      <th>9</th>\n",
       "      <td>10.0</td>\n",
       "      <td>0.534286</td>\n",
       "    </tr>\n",
       "  </tbody>\n",
       "</table>\n",
       "</div>"
      ],
      "text/plain": [
       "  Depth        F1\n",
       "5   6.0  0.567527\n",
       "8   9.0      0.56\n",
       "3   4.0   0.55287\n",
       "4   5.0  0.540625\n",
       "9  10.0  0.534286"
      ]
     },
     "metadata": {},
     "output_type": "display_data"
    },
    {
     "data": {
      "text/plain": [
       "'Наилучшие гиперпараметры из исследованных:'"
      ]
     },
     "metadata": {},
     "output_type": "display_data"
    },
    {
     "data": {
      "text/html": [
       "<div>\n",
       "<style scoped>\n",
       "    .dataframe tbody tr th:only-of-type {\n",
       "        vertical-align: middle;\n",
       "    }\n",
       "\n",
       "    .dataframe tbody tr th {\n",
       "        vertical-align: top;\n",
       "    }\n",
       "\n",
       "    .dataframe thead th {\n",
       "        text-align: right;\n",
       "    }\n",
       "</style>\n",
       "<table border=\"1\" class=\"dataframe\">\n",
       "  <thead>\n",
       "    <tr style=\"text-align: right;\">\n",
       "      <th></th>\n",
       "      <th>Depth</th>\n",
       "      <th>F1</th>\n",
       "    </tr>\n",
       "  </thead>\n",
       "  <tbody>\n",
       "    <tr>\n",
       "      <th>0</th>\n",
       "      <td>6.0</td>\n",
       "      <td>0.567527</td>\n",
       "    </tr>\n",
       "  </tbody>\n",
       "</table>\n",
       "</div>"
      ],
      "text/plain": [
       "  Depth        F1\n",
       "0   6.0  0.567527"
      ]
     },
     "metadata": {},
     "output_type": "display_data"
    },
    {
     "name": "stdout",
     "output_type": "stream",
     "text": [
      "Метрики наилучшей модели из исследованных:\n",
      "Матрица ошибок: \n",
      " [[1528   54]\n",
      " [ 231  187]]\n",
      "Полнота (Recall): 0.4473684210526316\n",
      "Точность (Precision): 0.7759336099585062\n",
      "F1: 0.56752655538695\n",
      "AUC-ROC: 0.8159293547626104\n"
     ]
    }
   ],
   "source": [
    "scores = pd.DataFrame(columns = ['Depth', 'F1'])\n",
    "\n",
    "for depth in range(1, 20, 1):\n",
    "    model = DecisionTreeClassifier(random_state = 12345, max_depth = depth)\n",
    "    model.fit(features_train, target_train)\n",
    "    predictions_valid = model.predict(features_valid)\n",
    "    new_row = pd.Series(data = {'Depth' : depth, \n",
    "                                'F1' : f1_score(target_valid, predictions_valid)})\n",
    "    scores = pd.concat([scores, new_row.to_frame().T], ignore_index=True)\n",
    "\n",
    "best_score = scores[scores['F1'] == scores['F1'].max()].reset_index(drop = True)\n",
    "\n",
    "display(scores.sort_values('F1', ascending = False).head())\n",
    "display('Наилучшие гиперпараметры из исследованных:', best_score)\n",
    "    \n",
    "model = DecisionTreeClassifier(random_state = 12345, max_depth = best_score.iloc[0]['Depth'])\n",
    "model.fit(features_train, target_train)\n",
    "predictions_valid = model.predict(features_valid)\n",
    "\n",
    "print('Метрики наилучшей модели из исследованных:')                        \n",
    "print('Матрица ошибок: \\n', confusion_matrix(target_valid, predictions_valid))\n",
    "print('Полнота (Recall):', recall_score(target_valid, predictions_valid))\n",
    "print('Точность (Precision):', precision_score(target_valid, predictions_valid))\n",
    "print('F1:', f1_score(target_valid, predictions_valid))\n",
    "probabilities_valid = model.predict_proba(features_valid)\n",
    "probabilities_one_valid = probabilities_valid[:, 1]\n",
    "auc_roc = roc_auc_score(target_valid, probabilities_one_valid)\n",
    "print('AUC-ROC:', auc_roc)"
   ]
  },
  {
   "cell_type": "markdown",
   "metadata": {},
   "source": [
    "### Случайный лес с несбалансированными классами"
   ]
  },
  {
   "cell_type": "code",
   "execution_count": 10,
   "metadata": {
    "scrolled": false
   },
   "outputs": [
    {
     "data": {
      "text/html": [
       "<div>\n",
       "<style scoped>\n",
       "    .dataframe tbody tr th:only-of-type {\n",
       "        vertical-align: middle;\n",
       "    }\n",
       "\n",
       "    .dataframe tbody tr th {\n",
       "        vertical-align: top;\n",
       "    }\n",
       "\n",
       "    .dataframe thead th {\n",
       "        text-align: right;\n",
       "    }\n",
       "</style>\n",
       "<table border=\"1\" class=\"dataframe\">\n",
       "  <thead>\n",
       "    <tr style=\"text-align: right;\">\n",
       "      <th></th>\n",
       "      <th>Depth</th>\n",
       "      <th>Trees</th>\n",
       "      <th>F1</th>\n",
       "    </tr>\n",
       "  </thead>\n",
       "  <tbody>\n",
       "    <tr>\n",
       "      <th>52</th>\n",
       "      <td>15.0</td>\n",
       "      <td>60.0</td>\n",
       "      <td>0.599407</td>\n",
       "    </tr>\n",
       "    <tr>\n",
       "      <th>32</th>\n",
       "      <td>14.0</td>\n",
       "      <td>40.0</td>\n",
       "      <td>0.596439</td>\n",
       "    </tr>\n",
       "    <tr>\n",
       "      <th>53</th>\n",
       "      <td>16.0</td>\n",
       "      <td>60.0</td>\n",
       "      <td>0.591716</td>\n",
       "    </tr>\n",
       "    <tr>\n",
       "      <th>90</th>\n",
       "      <td>15.0</td>\n",
       "      <td>100.0</td>\n",
       "      <td>0.591592</td>\n",
       "    </tr>\n",
       "    <tr>\n",
       "      <th>48</th>\n",
       "      <td>11.0</td>\n",
       "      <td>60.0</td>\n",
       "      <td>0.590214</td>\n",
       "    </tr>\n",
       "  </tbody>\n",
       "</table>\n",
       "</div>"
      ],
      "text/plain": [
       "   Depth  Trees        F1\n",
       "52  15.0   60.0  0.599407\n",
       "32  14.0   40.0  0.596439\n",
       "53  16.0   60.0  0.591716\n",
       "90  15.0  100.0  0.591592\n",
       "48  11.0   60.0  0.590214"
      ]
     },
     "metadata": {},
     "output_type": "display_data"
    },
    {
     "data": {
      "text/plain": [
       "'Наилучшие гиперпараметры из исследованных:'"
      ]
     },
     "metadata": {},
     "output_type": "display_data"
    },
    {
     "data": {
      "text/html": [
       "<div>\n",
       "<style scoped>\n",
       "    .dataframe tbody tr th:only-of-type {\n",
       "        vertical-align: middle;\n",
       "    }\n",
       "\n",
       "    .dataframe tbody tr th {\n",
       "        vertical-align: top;\n",
       "    }\n",
       "\n",
       "    .dataframe thead th {\n",
       "        text-align: right;\n",
       "    }\n",
       "</style>\n",
       "<table border=\"1\" class=\"dataframe\">\n",
       "  <thead>\n",
       "    <tr style=\"text-align: right;\">\n",
       "      <th></th>\n",
       "      <th>Depth</th>\n",
       "      <th>Trees</th>\n",
       "      <th>F1</th>\n",
       "    </tr>\n",
       "  </thead>\n",
       "  <tbody>\n",
       "    <tr>\n",
       "      <th>0</th>\n",
       "      <td>15.0</td>\n",
       "      <td>60.0</td>\n",
       "      <td>0.599407</td>\n",
       "    </tr>\n",
       "  </tbody>\n",
       "</table>\n",
       "</div>"
      ],
      "text/plain": [
       "  Depth Trees        F1\n",
       "0  15.0  60.0  0.599407"
      ]
     },
     "metadata": {},
     "output_type": "display_data"
    },
    {
     "name": "stdout",
     "output_type": "stream",
     "text": [
      "Метрики наилучшей модели из исследованных:\n",
      "Матрица ошибок: \n",
      " [[1528   54]\n",
      " [ 216  202]]\n",
      "Полнота (Recall): 0.48325358851674644\n",
      "Точность (Precision): 0.7890625\n",
      "F1: 0.599406528189911\n",
      "AUC-ROC: 0.8450034478795541\n"
     ]
    }
   ],
   "source": [
    "scores = pd.DataFrame(columns = ['Depth', 'Trees', 'F1'])\n",
    "\n",
    "for n_estimators in range(20, 120, 20):\n",
    "    for depth in range(1, 20, 1):\n",
    "        model = RandomForestClassifier(random_state = 12345, max_depth = depth, n_estimators = n_estimators)\n",
    "        model.fit(features_train, target_train)\n",
    "        predictions_valid = model.predict(features_valid)\n",
    "        new_row = pd.Series(data = {'Depth' : depth,\n",
    "                                    'Trees' : n_estimators,\n",
    "                                    'F1' : f1_score(target_valid, predictions_valid)})\n",
    "        scores = pd.concat([scores, new_row.to_frame().T], ignore_index=True)\n",
    "\n",
    "best_score = scores[scores['F1'] == scores['F1'].max()].reset_index(drop = True)        \n",
    "\n",
    "display(scores.sort_values('F1', ascending = False).head())\n",
    "display('Наилучшие гиперпараметры из исследованных:', best_score)\n",
    "\n",
    "model = RandomForestClassifier(random_state = 12345, \n",
    "                               max_depth = best_score.iloc[0]['Depth'], \n",
    "                               n_estimators = int(best_score.iloc[0]['Trees']))\n",
    "model.fit(features_train, target_train)\n",
    "predictions_valid = model.predict(features_valid)\n",
    "\n",
    "print('Метрики наилучшей модели из исследованных:')                        \n",
    "print('Матрица ошибок: \\n', confusion_matrix(target_valid, predictions_valid))\n",
    "print('Полнота (Recall):', recall_score(target_valid, predictions_valid))\n",
    "print('Точность (Precision):', precision_score(target_valid, predictions_valid))\n",
    "print('F1:', f1_score(target_valid, predictions_valid))\n",
    "probabilities_valid = model.predict_proba(features_valid)\n",
    "probabilities_one_valid = probabilities_valid[:, 1]\n",
    "auc_roc = roc_auc_score(target_valid, probabilities_one_valid)\n",
    "print('AUC-ROC:', auc_roc)"
   ]
  },
  {
   "cell_type": "markdown",
   "metadata": {},
   "source": [
    "### Логистическая регрессия с несбалансированными классами"
   ]
  },
  {
   "cell_type": "code",
   "execution_count": 11,
   "metadata": {
    "scrolled": false
   },
   "outputs": [
    {
     "data": {
      "text/html": [
       "<div>\n",
       "<style scoped>\n",
       "    .dataframe tbody tr th:only-of-type {\n",
       "        vertical-align: middle;\n",
       "    }\n",
       "\n",
       "    .dataframe tbody tr th {\n",
       "        vertical-align: top;\n",
       "    }\n",
       "\n",
       "    .dataframe thead th {\n",
       "        text-align: right;\n",
       "    }\n",
       "</style>\n",
       "<table border=\"1\" class=\"dataframe\">\n",
       "  <thead>\n",
       "    <tr style=\"text-align: right;\">\n",
       "      <th></th>\n",
       "      <th>Penalty</th>\n",
       "      <th>Tolerance</th>\n",
       "      <th>Max Iterations</th>\n",
       "      <th>F1</th>\n",
       "    </tr>\n",
       "  </thead>\n",
       "  <tbody>\n",
       "    <tr>\n",
       "      <th>1</th>\n",
       "      <td>l1</td>\n",
       "      <td>0.01</td>\n",
       "      <td>1000</td>\n",
       "      <td>0.332203</td>\n",
       "    </tr>\n",
       "    <tr>\n",
       "      <th>0</th>\n",
       "      <td>l1</td>\n",
       "      <td>0.01</td>\n",
       "      <td>100</td>\n",
       "      <td>0.324786</td>\n",
       "    </tr>\n",
       "    <tr>\n",
       "      <th>2</th>\n",
       "      <td>l1</td>\n",
       "      <td>0.01</td>\n",
       "      <td>10000</td>\n",
       "      <td>0.324786</td>\n",
       "    </tr>\n",
       "    <tr>\n",
       "      <th>3</th>\n",
       "      <td>l1</td>\n",
       "      <td>0.01</td>\n",
       "      <td>100000</td>\n",
       "      <td>0.324786</td>\n",
       "    </tr>\n",
       "    <tr>\n",
       "      <th>31</th>\n",
       "      <td>l2</td>\n",
       "      <td>0.0001</td>\n",
       "      <td>100000</td>\n",
       "      <td>0.323024</td>\n",
       "    </tr>\n",
       "  </tbody>\n",
       "</table>\n",
       "</div>"
      ],
      "text/plain": [
       "   Penalty Tolerance Max Iterations        F1\n",
       "1       l1      0.01           1000  0.332203\n",
       "0       l1      0.01            100  0.324786\n",
       "2       l1      0.01          10000  0.324786\n",
       "3       l1      0.01         100000  0.324786\n",
       "31      l2    0.0001         100000  0.323024"
      ]
     },
     "metadata": {},
     "output_type": "display_data"
    },
    {
     "data": {
      "text/plain": [
       "'Наилучшие гиперпараметры из исследованных:\\n'"
      ]
     },
     "metadata": {},
     "output_type": "display_data"
    },
    {
     "data": {
      "text/html": [
       "<div>\n",
       "<style scoped>\n",
       "    .dataframe tbody tr th:only-of-type {\n",
       "        vertical-align: middle;\n",
       "    }\n",
       "\n",
       "    .dataframe tbody tr th {\n",
       "        vertical-align: top;\n",
       "    }\n",
       "\n",
       "    .dataframe thead th {\n",
       "        text-align: right;\n",
       "    }\n",
       "</style>\n",
       "<table border=\"1\" class=\"dataframe\">\n",
       "  <thead>\n",
       "    <tr style=\"text-align: right;\">\n",
       "      <th></th>\n",
       "      <th>Penalty</th>\n",
       "      <th>Tolerance</th>\n",
       "      <th>Max Iterations</th>\n",
       "      <th>F1</th>\n",
       "    </tr>\n",
       "  </thead>\n",
       "  <tbody>\n",
       "    <tr>\n",
       "      <th>0</th>\n",
       "      <td>l1</td>\n",
       "      <td>0.01</td>\n",
       "      <td>1000</td>\n",
       "      <td>0.332203</td>\n",
       "    </tr>\n",
       "  </tbody>\n",
       "</table>\n",
       "</div>"
      ],
      "text/plain": [
       "  Penalty Tolerance Max Iterations        F1\n",
       "0      l1      0.01           1000  0.332203"
      ]
     },
     "metadata": {},
     "output_type": "display_data"
    },
    {
     "name": "stdout",
     "output_type": "stream",
     "text": [
      "Метрики наилучшей модели из исследованных:\n",
      "Матрица ошибок: \n",
      " [[1510   72]\n",
      " [ 323   95]]\n",
      "Полнота (Recall): 0.22727272727272727\n",
      "Точность (Precision): 0.5688622754491018\n",
      "F1: 0.3247863247863248\n",
      "AUC-ROC: 0.7579134884677503\n"
     ]
    }
   ],
   "source": [
    "scores = pd.DataFrame(columns = ['Penalty', 'Tolerance', 'Max Iterations', 'F1'])\n",
    "\n",
    "for penalty in ['l1', 'l2']:\n",
    "    for tolerance in [0.01, 0.001, 0.0001, 0.00001, 0.000001]:\n",
    "        for max_iter in [100, 1000, 10000, 100000]:\n",
    "            model = LogisticRegression(solver = 'liblinear', penalty = penalty, tol = tolerance, max_iter = max_iter)\n",
    "            model.fit(features_train, target_train)\n",
    "            predictions_valid = model.predict(features_valid)\n",
    "            new_row = pd.Series(data = {'Penalty' : penalty,\n",
    "                                        'Tolerance' : tolerance,\n",
    "                                        'Max Iterations' : max_iter,\n",
    "                                        'F1' : f1_score(target_valid, predictions_valid)})\n",
    "            scores = pd.concat([scores, new_row.to_frame().T], ignore_index=True)\n",
    "            \n",
    "best_score = scores[scores['F1'] == scores['F1'].max()].reset_index(drop = True).head(1)   \n",
    "        \n",
    "display(scores.sort_values('F1', ascending = False).head())\n",
    "display('Наилучшие гиперпараметры из исследованных:\\n', best_score)\n",
    "\n",
    "model = LogisticRegression(solver = 'liblinear', \n",
    "                           penalty = best_score.iloc[0]['Penalty'], \n",
    "                           tol = best_score.iloc[0]['Tolerance'], \n",
    "                           max_iter = best_score.iloc[0]['Max Iterations'])\n",
    "model.fit(features_train, target_train)\n",
    "predictions_valid = model.predict(features_valid)\n",
    "\n",
    "print('Метрики наилучшей модели из исследованных:')                        \n",
    "print('Матрица ошибок: \\n', confusion_matrix(target_valid, predictions_valid))\n",
    "print('Полнота (Recall):', recall_score(target_valid, predictions_valid))\n",
    "print('Точность (Precision):', precision_score(target_valid, predictions_valid))\n",
    "print('F1:', f1_score(target_valid, predictions_valid))\n",
    "probabilities_valid = model.predict_proba(features_valid)\n",
    "probabilities_one_valid = probabilities_valid[:, 1]\n",
    "auc_roc = roc_auc_score(target_valid, probabilities_one_valid)\n",
    "print('AUC-ROC:', auc_roc)"
   ]
  },
  {
   "cell_type": "markdown",
   "metadata": {},
   "source": [
    "### Промежуточный вывод\n",
    "Матрики классификации для наилучших рассмотренных моделей без учета баланса классов:\n",
    "\n",
    "|  |Решающее дерево|Случайный лес|Логистическая регрессия| \n",
    "|:-|:-------------:|:-----------:|:---------------------:|\n",
    "|Полнота|0.447|0.483|0.227|\n",
    "|Точность|0.775|0.789|0.569|\n",
    "|F1- мера|0.568|**0.599**|0.324|\n",
    "|AUC-ROC|0.815|0.845|0.334|\n",
    "\n",
    "\n",
    "Наилучшие гиперпараметры:\n",
    "\n",
    "|  |Решающее дерево|Случайный лес|Логистическая регрессия| \n",
    "|:-|:-------------:|:-----------:|:---------------------:|\n",
    "|Depth|6|15|-|\n",
    "|Trees|-|60|-|\n",
    "|Penalty|-|-|l1|\n",
    "|Tolerance|-|-|0.01|\n",
    "|Max Iterations|-|-|1000|\n",
    "\n",
    "При выборе между  OHE и Ordinaly Encoding был выбран OHE, так как данный метод давал лучшие значения F1-меры."
   ]
  },
  {
   "cell_type": "markdown",
   "metadata": {},
   "source": [
    "## Борьба с дисбалансом"
   ]
  },
  {
   "cell_type": "markdown",
   "metadata": {},
   "source": [
    "### Борьба с дислабансом с помощью взвешивания классов"
   ]
  },
  {
   "cell_type": "markdown",
   "metadata": {},
   "source": [
    "#### Решающее дерево class_weight = 'balanced'"
   ]
  },
  {
   "cell_type": "code",
   "execution_count": 12,
   "metadata": {},
   "outputs": [
    {
     "data": {
      "text/html": [
       "<div>\n",
       "<style scoped>\n",
       "    .dataframe tbody tr th:only-of-type {\n",
       "        vertical-align: middle;\n",
       "    }\n",
       "\n",
       "    .dataframe tbody tr th {\n",
       "        vertical-align: top;\n",
       "    }\n",
       "\n",
       "    .dataframe thead th {\n",
       "        text-align: right;\n",
       "    }\n",
       "</style>\n",
       "<table border=\"1\" class=\"dataframe\">\n",
       "  <thead>\n",
       "    <tr style=\"text-align: right;\">\n",
       "      <th></th>\n",
       "      <th>Depth</th>\n",
       "      <th>F1</th>\n",
       "    </tr>\n",
       "  </thead>\n",
       "  <tbody>\n",
       "    <tr>\n",
       "      <th>4</th>\n",
       "      <td>5.0</td>\n",
       "      <td>0.596379</td>\n",
       "    </tr>\n",
       "    <tr>\n",
       "      <th>5</th>\n",
       "      <td>6.0</td>\n",
       "      <td>0.558184</td>\n",
       "    </tr>\n",
       "    <tr>\n",
       "      <th>6</th>\n",
       "      <td>7.0</td>\n",
       "      <td>0.555445</td>\n",
       "    </tr>\n",
       "    <tr>\n",
       "      <th>2</th>\n",
       "      <td>3.0</td>\n",
       "      <td>0.541016</td>\n",
       "    </tr>\n",
       "    <tr>\n",
       "      <th>1</th>\n",
       "      <td>2.0</td>\n",
       "      <td>0.541016</td>\n",
       "    </tr>\n",
       "  </tbody>\n",
       "</table>\n",
       "</div>"
      ],
      "text/plain": [
       "  Depth        F1\n",
       "4   5.0  0.596379\n",
       "5   6.0  0.558184\n",
       "6   7.0  0.555445\n",
       "2   3.0  0.541016\n",
       "1   2.0  0.541016"
      ]
     },
     "metadata": {},
     "output_type": "display_data"
    },
    {
     "data": {
      "text/plain": [
       "'Наилучшие гиперпараметры из исследованных:'"
      ]
     },
     "metadata": {},
     "output_type": "display_data"
    },
    {
     "data": {
      "text/html": [
       "<div>\n",
       "<style scoped>\n",
       "    .dataframe tbody tr th:only-of-type {\n",
       "        vertical-align: middle;\n",
       "    }\n",
       "\n",
       "    .dataframe tbody tr th {\n",
       "        vertical-align: top;\n",
       "    }\n",
       "\n",
       "    .dataframe thead th {\n",
       "        text-align: right;\n",
       "    }\n",
       "</style>\n",
       "<table border=\"1\" class=\"dataframe\">\n",
       "  <thead>\n",
       "    <tr style=\"text-align: right;\">\n",
       "      <th></th>\n",
       "      <th>Depth</th>\n",
       "      <th>F1</th>\n",
       "    </tr>\n",
       "  </thead>\n",
       "  <tbody>\n",
       "    <tr>\n",
       "      <th>0</th>\n",
       "      <td>5.0</td>\n",
       "      <td>0.596379</td>\n",
       "    </tr>\n",
       "  </tbody>\n",
       "</table>\n",
       "</div>"
      ],
      "text/plain": [
       "  Depth        F1\n",
       "0   5.0  0.596379"
      ]
     },
     "metadata": {},
     "output_type": "display_data"
    },
    {
     "name": "stdout",
     "output_type": "stream",
     "text": [
      "Метрики наилучшей модели из исследованных:\n",
      "Матрица ошибок: \n",
      " [[1341  241]\n",
      " [ 138  280]]\n",
      "Полнота (Recall): 0.6698564593301436\n",
      "Точность (Precision): 0.5374280230326296\n",
      "F1: 0.5963791267305644\n",
      "AUC-ROC: 0.8310244134068074\n"
     ]
    }
   ],
   "source": [
    "scores = pd.DataFrame(columns = ['Depth', 'F1'])\n",
    "\n",
    "for depth in range(1, 20, 1):\n",
    "    model = DecisionTreeClassifier(random_state = 12345, \n",
    "                                   max_depth = depth,\n",
    "                                   class_weight = 'balanced')\n",
    "    model.fit(features_train, target_train)\n",
    "    predictions_valid = model.predict(features_valid)\n",
    "    new_row = pd.Series(data = {'Depth' : depth, \n",
    "                                'F1' : f1_score(target_valid, predictions_valid)})\n",
    "    scores = pd.concat([scores, new_row.to_frame().T], ignore_index=True)\n",
    "\n",
    "best_score = scores[scores['F1'] == scores['F1'].max()].reset_index(drop = True)\n",
    "\n",
    "display(scores.sort_values('F1', ascending = False).head())\n",
    "display('Наилучшие гиперпараметры из исследованных:', best_score)\n",
    "    \n",
    "model = DecisionTreeClassifier(random_state = 12345, \n",
    "                               max_depth = best_score.iloc[0]['Depth'], \n",
    "                               class_weight = 'balanced')\n",
    "model.fit(features_train, target_train)\n",
    "predictions_valid = model.predict(features_valid)\n",
    "\n",
    "print('Метрики наилучшей модели из исследованных:')                        \n",
    "print('Матрица ошибок: \\n', confusion_matrix(target_valid, predictions_valid))\n",
    "print('Полнота (Recall):', recall_score(target_valid, predictions_valid))\n",
    "print('Точность (Precision):', precision_score(target_valid, predictions_valid))\n",
    "print('F1:', f1_score(target_valid, predictions_valid))\n",
    "probabilities_valid = model.predict_proba(features_valid)\n",
    "probabilities_one_valid = probabilities_valid[:, 1]\n",
    "auc_roc = roc_auc_score(target_valid, probabilities_one_valid)\n",
    "print('AUC-ROC:', auc_roc)"
   ]
  },
  {
   "cell_type": "markdown",
   "metadata": {},
   "source": [
    "#### Случайный лес class_weight = 'balanced'"
   ]
  },
  {
   "cell_type": "code",
   "execution_count": 13,
   "metadata": {},
   "outputs": [
    {
     "data": {
      "text/html": [
       "<div>\n",
       "<style scoped>\n",
       "    .dataframe tbody tr th:only-of-type {\n",
       "        vertical-align: middle;\n",
       "    }\n",
       "\n",
       "    .dataframe tbody tr th {\n",
       "        vertical-align: top;\n",
       "    }\n",
       "\n",
       "    .dataframe thead th {\n",
       "        text-align: right;\n",
       "    }\n",
       "</style>\n",
       "<table border=\"1\" class=\"dataframe\">\n",
       "  <thead>\n",
       "    <tr style=\"text-align: right;\">\n",
       "      <th></th>\n",
       "      <th>Depth</th>\n",
       "      <th>Trees</th>\n",
       "      <th>F1</th>\n",
       "    </tr>\n",
       "  </thead>\n",
       "  <tbody>\n",
       "    <tr>\n",
       "      <th>49</th>\n",
       "      <td>8.0</td>\n",
       "      <td>35.0</td>\n",
       "      <td>0.621739</td>\n",
       "    </tr>\n",
       "    <tr>\n",
       "      <th>63</th>\n",
       "      <td>8.0</td>\n",
       "      <td>40.0</td>\n",
       "      <td>0.621592</td>\n",
       "    </tr>\n",
       "    <tr>\n",
       "      <th>35</th>\n",
       "      <td>8.0</td>\n",
       "      <td>30.0</td>\n",
       "      <td>0.621295</td>\n",
       "    </tr>\n",
       "    <tr>\n",
       "      <th>20</th>\n",
       "      <td>7.0</td>\n",
       "      <td>25.0</td>\n",
       "      <td>0.620763</td>\n",
       "    </tr>\n",
       "    <tr>\n",
       "      <th>50</th>\n",
       "      <td>9.0</td>\n",
       "      <td>35.0</td>\n",
       "      <td>0.620225</td>\n",
       "    </tr>\n",
       "  </tbody>\n",
       "</table>\n",
       "</div>"
      ],
      "text/plain": [
       "   Depth Trees        F1\n",
       "49   8.0  35.0  0.621739\n",
       "63   8.0  40.0  0.621592\n",
       "35   8.0  30.0  0.621295\n",
       "20   7.0  25.0  0.620763\n",
       "50   9.0  35.0  0.620225"
      ]
     },
     "metadata": {},
     "output_type": "display_data"
    },
    {
     "data": {
      "text/plain": [
       "'Наилучшие гиперпараметры из исследованных:'"
      ]
     },
     "metadata": {},
     "output_type": "display_data"
    },
    {
     "data": {
      "text/html": [
       "<div>\n",
       "<style scoped>\n",
       "    .dataframe tbody tr th:only-of-type {\n",
       "        vertical-align: middle;\n",
       "    }\n",
       "\n",
       "    .dataframe tbody tr th {\n",
       "        vertical-align: top;\n",
       "    }\n",
       "\n",
       "    .dataframe thead th {\n",
       "        text-align: right;\n",
       "    }\n",
       "</style>\n",
       "<table border=\"1\" class=\"dataframe\">\n",
       "  <thead>\n",
       "    <tr style=\"text-align: right;\">\n",
       "      <th></th>\n",
       "      <th>Depth</th>\n",
       "      <th>Trees</th>\n",
       "      <th>F1</th>\n",
       "    </tr>\n",
       "  </thead>\n",
       "  <tbody>\n",
       "    <tr>\n",
       "      <th>0</th>\n",
       "      <td>8.0</td>\n",
       "      <td>35.0</td>\n",
       "      <td>0.621739</td>\n",
       "    </tr>\n",
       "  </tbody>\n",
       "</table>\n",
       "</div>"
      ],
      "text/plain": [
       "  Depth Trees        F1\n",
       "0   8.0  35.0  0.621739"
      ]
     },
     "metadata": {},
     "output_type": "display_data"
    },
    {
     "name": "stdout",
     "output_type": "stream",
     "text": [
      "Метрики наилучшей модели из исследованных:\n",
      "Матрица ошибок: \n",
      " [[1366  216]\n",
      " [ 132  286]]\n",
      "Полнота (Recall): 0.6842105263157895\n",
      "Точность (Precision): 0.5697211155378487\n",
      "F1: 0.6217391304347827\n",
      "AUC-ROC: 0.8522371899176744\n"
     ]
    }
   ],
   "source": [
    "scores = pd.DataFrame(columns = ['Depth', 'Trees', 'F1'])\n",
    "\n",
    "for n_estimators in range(20, 70, 5):\n",
    "    for depth in range(1, 15, 1):\n",
    "        model = RandomForestClassifier(random_state = 12345,\n",
    "                                       max_depth = depth, \n",
    "                                       n_estimators = n_estimators, \n",
    "                                       class_weight = 'balanced')\n",
    "        model.fit(features_train, target_train)\n",
    "        predictions_valid = model.predict(features_valid)\n",
    "        new_row = pd.Series(data = {'Depth' : depth,\n",
    "                                    'Trees' : n_estimators,\n",
    "                                    'F1' : f1_score(target_valid, predictions_valid)})\n",
    "        scores = pd.concat([scores, new_row.to_frame().T], ignore_index=True)\n",
    "\n",
    "best_score = scores[scores['F1'] == scores['F1'].max()].reset_index(drop = True)        \n",
    "\n",
    "display(scores.sort_values('F1', ascending = False).head())\n",
    "display('Наилучшие гиперпараметры из исследованных:', best_score)\n",
    "\n",
    "model = RandomForestClassifier(random_state = 12345, \n",
    "                               max_depth = best_score.iloc[0]['Depth'], \n",
    "                               n_estimators = int(best_score.iloc[0]['Trees']), \n",
    "                               class_weight = 'balanced')\n",
    "model.fit(features_train, target_train)\n",
    "predictions_valid = model.predict(features_valid)\n",
    "\n",
    "print('Метрики наилучшей модели из исследованных:')                        \n",
    "print('Матрица ошибок: \\n', confusion_matrix(target_valid, predictions_valid))\n",
    "print('Полнота (Recall):', recall_score(target_valid, predictions_valid))\n",
    "print('Точность (Precision):', precision_score(target_valid, predictions_valid))\n",
    "print('F1:', f1_score(target_valid, predictions_valid))\n",
    "probabilities_valid = model.predict_proba(features_valid)\n",
    "probabilities_one_valid = probabilities_valid[:, 1]\n",
    "auc_roc = roc_auc_score(target_valid, probabilities_one_valid)\n",
    "print('AUC-ROC:', auc_roc)"
   ]
  },
  {
   "cell_type": "markdown",
   "metadata": {},
   "source": [
    "#### Логистическая регрессия class_weight = 'balanced'"
   ]
  },
  {
   "cell_type": "code",
   "execution_count": 14,
   "metadata": {
    "scrolled": false
   },
   "outputs": [
    {
     "data": {
      "text/html": [
       "<div>\n",
       "<style scoped>\n",
       "    .dataframe tbody tr th:only-of-type {\n",
       "        vertical-align: middle;\n",
       "    }\n",
       "\n",
       "    .dataframe tbody tr th {\n",
       "        vertical-align: top;\n",
       "    }\n",
       "\n",
       "    .dataframe thead th {\n",
       "        text-align: right;\n",
       "    }\n",
       "</style>\n",
       "<table border=\"1\" class=\"dataframe\">\n",
       "  <thead>\n",
       "    <tr style=\"text-align: right;\">\n",
       "      <th></th>\n",
       "      <th>Penalty</th>\n",
       "      <th>Tolerance</th>\n",
       "      <th>Max Iterations</th>\n",
       "      <th>F1</th>\n",
       "    </tr>\n",
       "  </thead>\n",
       "  <tbody>\n",
       "    <tr>\n",
       "      <th>20</th>\n",
       "      <td>l2</td>\n",
       "      <td>0.01</td>\n",
       "      <td>100</td>\n",
       "      <td>0.48927</td>\n",
       "    </tr>\n",
       "    <tr>\n",
       "      <th>30</th>\n",
       "      <td>l2</td>\n",
       "      <td>0.0001</td>\n",
       "      <td>10000</td>\n",
       "      <td>0.48927</td>\n",
       "    </tr>\n",
       "    <tr>\n",
       "      <th>23</th>\n",
       "      <td>l2</td>\n",
       "      <td>0.01</td>\n",
       "      <td>100000</td>\n",
       "      <td>0.48927</td>\n",
       "    </tr>\n",
       "    <tr>\n",
       "      <th>24</th>\n",
       "      <td>l2</td>\n",
       "      <td>0.001</td>\n",
       "      <td>100</td>\n",
       "      <td>0.48927</td>\n",
       "    </tr>\n",
       "    <tr>\n",
       "      <th>25</th>\n",
       "      <td>l2</td>\n",
       "      <td>0.001</td>\n",
       "      <td>1000</td>\n",
       "      <td>0.48927</td>\n",
       "    </tr>\n",
       "  </tbody>\n",
       "</table>\n",
       "</div>"
      ],
      "text/plain": [
       "   Penalty Tolerance Max Iterations       F1\n",
       "20      l2      0.01            100  0.48927\n",
       "30      l2    0.0001          10000  0.48927\n",
       "23      l2      0.01         100000  0.48927\n",
       "24      l2     0.001            100  0.48927\n",
       "25      l2     0.001           1000  0.48927"
      ]
     },
     "metadata": {},
     "output_type": "display_data"
    },
    {
     "data": {
      "text/plain": [
       "'Наилучшие гиперпараметры из исследованных:\\n'"
      ]
     },
     "metadata": {},
     "output_type": "display_data"
    },
    {
     "data": {
      "text/html": [
       "<div>\n",
       "<style scoped>\n",
       "    .dataframe tbody tr th:only-of-type {\n",
       "        vertical-align: middle;\n",
       "    }\n",
       "\n",
       "    .dataframe tbody tr th {\n",
       "        vertical-align: top;\n",
       "    }\n",
       "\n",
       "    .dataframe thead th {\n",
       "        text-align: right;\n",
       "    }\n",
       "</style>\n",
       "<table border=\"1\" class=\"dataframe\">\n",
       "  <thead>\n",
       "    <tr style=\"text-align: right;\">\n",
       "      <th></th>\n",
       "      <th>Penalty</th>\n",
       "      <th>Tolerance</th>\n",
       "      <th>Max Iterations</th>\n",
       "      <th>F1</th>\n",
       "    </tr>\n",
       "  </thead>\n",
       "  <tbody>\n",
       "    <tr>\n",
       "      <th>0</th>\n",
       "      <td>l2</td>\n",
       "      <td>0.01</td>\n",
       "      <td>100</td>\n",
       "      <td>0.48927</td>\n",
       "    </tr>\n",
       "  </tbody>\n",
       "</table>\n",
       "</div>"
      ],
      "text/plain": [
       "  Penalty Tolerance Max Iterations       F1\n",
       "0      l2      0.01            100  0.48927"
      ]
     },
     "metadata": {},
     "output_type": "display_data"
    },
    {
     "name": "stdout",
     "output_type": "stream",
     "text": [
      "Метрики наилучшей модели из исследованных:\n",
      "Матрица ошибок: \n",
      " [[1120  462]\n",
      " [ 133  285]]\n",
      "Полнота (Recall): 0.6818181818181818\n",
      "Точность (Precision): 0.3815261044176707\n",
      "F1: 0.4892703862660944\n",
      "AUC-ROC: 0.7629945741263858\n"
     ]
    }
   ],
   "source": [
    "scores = pd.DataFrame(columns = ['Penalty', 'Tolerance', 'Max Iterations', 'F1'])\n",
    "\n",
    "for penalty in ['l1', 'l2']:\n",
    "    for tolerance in [0.01, 0.001, 0.0001, 0.00001, 0.000001]:\n",
    "        for max_iter in [100, 1000, 10000, 100000]:\n",
    "            model = LogisticRegression(solver = 'liblinear', \n",
    "                                       penalty = penalty, \n",
    "                                       tol = tolerance, \n",
    "                                       max_iter = max_iter, \n",
    "                                       class_weight = 'balanced')\n",
    "            model.fit(features_train, target_train)\n",
    "            predictions_valid = model.predict(features_valid)\n",
    "            new_row = pd.Series(data = {'Penalty' : penalty,\n",
    "                                        'Tolerance' : tolerance,\n",
    "                                        'Max Iterations' : max_iter,\n",
    "                                        'F1' : f1_score(target_valid, predictions_valid)})\n",
    "            scores = pd.concat([scores, new_row.to_frame().T], ignore_index=True)\n",
    "            \n",
    "best_score = scores[scores['F1'] == scores['F1'].max()].reset_index(drop = True).head(1)   \n",
    "        \n",
    "display(scores.sort_values('F1', ascending = False).head())\n",
    "display('Наилучшие гиперпараметры из исследованных:\\n', best_score)\n",
    "\n",
    "model = LogisticRegression(solver = 'liblinear', \n",
    "                           penalty = best_score.iloc[0]['Penalty'], \n",
    "                           tol = best_score.iloc[0]['Tolerance'], \n",
    "                           max_iter = best_score.iloc[0]['Max Iterations'], \n",
    "                           class_weight = 'balanced')\n",
    "model.fit(features_train, target_train)\n",
    "predictions_valid = model.predict(features_valid)\n",
    "\n",
    "print('Метрики наилучшей модели из исследованных:')                        \n",
    "print('Матрица ошибок: \\n', confusion_matrix(target_valid, predictions_valid))\n",
    "print('Полнота (Recall):', recall_score(target_valid, predictions_valid))\n",
    "print('Точность (Precision):', precision_score(target_valid, predictions_valid))\n",
    "print('F1:', f1_score(target_valid, predictions_valid))\n",
    "probabilities_valid = model.predict_proba(features_valid)\n",
    "probabilities_one_valid = probabilities_valid[:, 1]\n",
    "auc_roc = roc_auc_score(target_valid, probabilities_one_valid)\n",
    "print('AUC-ROC:', auc_roc)"
   ]
  },
  {
   "cell_type": "markdown",
   "metadata": {},
   "source": [
    "### Борьба с дислабансом с помощью upsampling"
   ]
  },
  {
   "cell_type": "markdown",
   "metadata": {},
   "source": [
    "Гиперпараметры моделей взяты наилучшие для несбалансированных выборок. \n",
    "* решающее дерево - **depth = 6**;\n",
    "* случайный лес - **depth = 15**, **n_estimators = 60**;\n",
    "* логистическая регрессия - **penalty = 'l1'**, **tolerance = 0.0001**, **msx_iterations = 1000**."
   ]
  },
  {
   "cell_type": "code",
   "execution_count": 15,
   "metadata": {},
   "outputs": [],
   "source": [
    "def upsample(features, target, repeat):\n",
    "    features_zeros = features[target == 0]\n",
    "    features_ones = features[target == 1]\n",
    "    target_zeros = target[target == 0]\n",
    "    target_ones = target[target == 1]\n",
    "    \n",
    "    features_upsampled = pd.concat([features_zeros] + [features_ones] * repeat)\n",
    "    target_upsampled = pd.concat([target_zeros] + [target_ones] * repeat)\n",
    "    \n",
    "    features_upsampled, target_upsampled = shuffle(features_upsampled, target_upsampled, random_state=12345)\n",
    "    \n",
    "    return features_upsampled, target_upsampled"
   ]
  },
  {
   "cell_type": "markdown",
   "metadata": {},
   "source": [
    "####  Решающее дерево, upsampling"
   ]
  },
  {
   "cell_type": "code",
   "execution_count": 16,
   "metadata": {},
   "outputs": [
    {
     "data": {
      "text/html": [
       "<div>\n",
       "<style scoped>\n",
       "    .dataframe tbody tr th:only-of-type {\n",
       "        vertical-align: middle;\n",
       "    }\n",
       "\n",
       "    .dataframe tbody tr th {\n",
       "        vertical-align: top;\n",
       "    }\n",
       "\n",
       "    .dataframe thead th {\n",
       "        text-align: right;\n",
       "    }\n",
       "</style>\n",
       "<table border=\"1\" class=\"dataframe\">\n",
       "  <thead>\n",
       "    <tr style=\"text-align: right;\">\n",
       "      <th></th>\n",
       "      <th>Upsampling Ratio</th>\n",
       "      <th>F1</th>\n",
       "    </tr>\n",
       "  </thead>\n",
       "  <tbody>\n",
       "    <tr>\n",
       "      <th>1</th>\n",
       "      <td>2.0</td>\n",
       "      <td>0.597796</td>\n",
       "    </tr>\n",
       "    <tr>\n",
       "      <th>2</th>\n",
       "      <td>3.0</td>\n",
       "      <td>0.577236</td>\n",
       "    </tr>\n",
       "    <tr>\n",
       "      <th>0</th>\n",
       "      <td>1.0</td>\n",
       "      <td>0.567527</td>\n",
       "    </tr>\n",
       "    <tr>\n",
       "      <th>3</th>\n",
       "      <td>4.0</td>\n",
       "      <td>0.558184</td>\n",
       "    </tr>\n",
       "    <tr>\n",
       "      <th>5</th>\n",
       "      <td>6.0</td>\n",
       "      <td>0.542714</td>\n",
       "    </tr>\n",
       "  </tbody>\n",
       "</table>\n",
       "</div>"
      ],
      "text/plain": [
       "  Upsampling Ratio        F1\n",
       "1              2.0  0.597796\n",
       "2              3.0  0.577236\n",
       "0              1.0  0.567527\n",
       "3              4.0  0.558184\n",
       "5              6.0  0.542714"
      ]
     },
     "metadata": {},
     "output_type": "display_data"
    },
    {
     "data": {
      "text/plain": [
       "'Наилучшие гиперпараметры из исследованных:'"
      ]
     },
     "metadata": {},
     "output_type": "display_data"
    },
    {
     "data": {
      "text/html": [
       "<div>\n",
       "<style scoped>\n",
       "    .dataframe tbody tr th:only-of-type {\n",
       "        vertical-align: middle;\n",
       "    }\n",
       "\n",
       "    .dataframe tbody tr th {\n",
       "        vertical-align: top;\n",
       "    }\n",
       "\n",
       "    .dataframe thead th {\n",
       "        text-align: right;\n",
       "    }\n",
       "</style>\n",
       "<table border=\"1\" class=\"dataframe\">\n",
       "  <thead>\n",
       "    <tr style=\"text-align: right;\">\n",
       "      <th></th>\n",
       "      <th>Upsampling Ratio</th>\n",
       "      <th>F1</th>\n",
       "    </tr>\n",
       "  </thead>\n",
       "  <tbody>\n",
       "    <tr>\n",
       "      <th>0</th>\n",
       "      <td>2.0</td>\n",
       "      <td>0.597796</td>\n",
       "    </tr>\n",
       "  </tbody>\n",
       "</table>\n",
       "</div>"
      ],
      "text/plain": [
       "  Upsampling Ratio        F1\n",
       "0              2.0  0.597796"
      ]
     },
     "metadata": {},
     "output_type": "display_data"
    },
    {
     "name": "stdout",
     "output_type": "stream",
     "text": [
      "Метрики наилучшей модели из исследованных:\n",
      "Матрица ошибок: \n",
      " [[1491   91]\n",
      " [ 201  217]]\n",
      "Полнота (Recall): 0.5191387559808612\n",
      "Точность (Precision): 0.7045454545454546\n",
      "F1: 0.5977961432506886\n",
      "AUC-ROC: 0.8204078176132205\n"
     ]
    }
   ],
   "source": [
    "scores = pd.DataFrame(columns = ['Upsampling Ratio', 'F1'])\n",
    "\n",
    "for ratio in range(1, 10, 1):\n",
    "    features_train_upsampled, target_train_upsampled = upsample(features_train, target_train, ratio)\n",
    "    \n",
    "    model = DecisionTreeClassifier(random_state = 12345, \n",
    "                                   max_depth = 6)\n",
    "    model.fit(features_train_upsampled, target_train_upsampled)\n",
    "    predictions_valid = model.predict(features_valid)\n",
    "    new_row = pd.Series(data = {'Upsampling Ratio' : ratio, \n",
    "                                'F1' : f1_score(target_valid, predictions_valid)})\n",
    "    scores = pd.concat([scores, new_row.to_frame().T], ignore_index=True)\n",
    "\n",
    "best_score = scores[scores['F1'] == scores['F1'].max()].reset_index(drop = True)\n",
    "\n",
    "display(scores.sort_values('F1', ascending = False).head())\n",
    "display('Наилучшие гиперпараметры из исследованных:', best_score)\n",
    "\n",
    "features_train_upsampled, target_train_upsampled = upsample(features_train, target_train, \n",
    "                                                            int(best_score.iloc[0]['Upsampling Ratio']))\n",
    "\n",
    "model = DecisionTreeClassifier(random_state = 12345, max_depth = 6)\n",
    "model.fit(features_train_upsampled, target_train_upsampled)\n",
    "predictions_valid = model.predict(features_valid)\n",
    "\n",
    "print('Метрики наилучшей модели из исследованных:')                        \n",
    "print('Матрица ошибок: \\n', confusion_matrix(target_valid, predictions_valid))\n",
    "print('Полнота (Recall):', recall_score(target_valid, predictions_valid))\n",
    "print('Точность (Precision):', precision_score(target_valid, predictions_valid))\n",
    "print('F1:', f1_score(target_valid, predictions_valid))\n",
    "probabilities_valid = model.predict_proba(features_valid)\n",
    "probabilities_one_valid = probabilities_valid[:, 1]\n",
    "auc_roc = roc_auc_score(target_valid, probabilities_one_valid)\n",
    "print('AUC-ROC:', auc_roc)"
   ]
  },
  {
   "cell_type": "markdown",
   "metadata": {},
   "source": [
    "####  Случайный лес, upsampling"
   ]
  },
  {
   "cell_type": "code",
   "execution_count": 17,
   "metadata": {},
   "outputs": [
    {
     "data": {
      "text/html": [
       "<div>\n",
       "<style scoped>\n",
       "    .dataframe tbody tr th:only-of-type {\n",
       "        vertical-align: middle;\n",
       "    }\n",
       "\n",
       "    .dataframe tbody tr th {\n",
       "        vertical-align: top;\n",
       "    }\n",
       "\n",
       "    .dataframe thead th {\n",
       "        text-align: right;\n",
       "    }\n",
       "</style>\n",
       "<table border=\"1\" class=\"dataframe\">\n",
       "  <thead>\n",
       "    <tr style=\"text-align: right;\">\n",
       "      <th></th>\n",
       "      <th>Upsampling Ratio</th>\n",
       "      <th>F1</th>\n",
       "    </tr>\n",
       "  </thead>\n",
       "  <tbody>\n",
       "    <tr>\n",
       "      <th>3</th>\n",
       "      <td>4.0</td>\n",
       "      <td>0.61461</td>\n",
       "    </tr>\n",
       "    <tr>\n",
       "      <th>5</th>\n",
       "      <td>6.0</td>\n",
       "      <td>0.612546</td>\n",
       "    </tr>\n",
       "    <tr>\n",
       "      <th>7</th>\n",
       "      <td>8.0</td>\n",
       "      <td>0.61185</td>\n",
       "    </tr>\n",
       "    <tr>\n",
       "      <th>8</th>\n",
       "      <td>9.0</td>\n",
       "      <td>0.611511</td>\n",
       "    </tr>\n",
       "    <tr>\n",
       "      <th>2</th>\n",
       "      <td>3.0</td>\n",
       "      <td>0.602317</td>\n",
       "    </tr>\n",
       "  </tbody>\n",
       "</table>\n",
       "</div>"
      ],
      "text/plain": [
       "  Upsampling Ratio        F1\n",
       "3              4.0   0.61461\n",
       "5              6.0  0.612546\n",
       "7              8.0   0.61185\n",
       "8              9.0  0.611511\n",
       "2              3.0  0.602317"
      ]
     },
     "metadata": {},
     "output_type": "display_data"
    },
    {
     "data": {
      "text/plain": [
       "'Наилучшие гиперпараметры из исследованных:'"
      ]
     },
     "metadata": {},
     "output_type": "display_data"
    },
    {
     "data": {
      "text/html": [
       "<div>\n",
       "<style scoped>\n",
       "    .dataframe tbody tr th:only-of-type {\n",
       "        vertical-align: middle;\n",
       "    }\n",
       "\n",
       "    .dataframe tbody tr th {\n",
       "        vertical-align: top;\n",
       "    }\n",
       "\n",
       "    .dataframe thead th {\n",
       "        text-align: right;\n",
       "    }\n",
       "</style>\n",
       "<table border=\"1\" class=\"dataframe\">\n",
       "  <thead>\n",
       "    <tr style=\"text-align: right;\">\n",
       "      <th></th>\n",
       "      <th>Upsampling Ratio</th>\n",
       "      <th>F1</th>\n",
       "    </tr>\n",
       "  </thead>\n",
       "  <tbody>\n",
       "    <tr>\n",
       "      <th>0</th>\n",
       "      <td>4.0</td>\n",
       "      <td>0.61461</td>\n",
       "    </tr>\n",
       "  </tbody>\n",
       "</table>\n",
       "</div>"
      ],
      "text/plain": [
       "  Upsampling Ratio       F1\n",
       "0              4.0  0.61461"
      ]
     },
     "metadata": {},
     "output_type": "display_data"
    },
    {
     "name": "stdout",
     "output_type": "stream",
     "text": [
      "Метрики наилучшей модели из исследованных:\n",
      "Матрица ошибок: \n",
      " [[1450  132]\n",
      " [ 174  244]]\n",
      "Полнота (Recall): 0.583732057416268\n",
      "Точность (Precision): 0.648936170212766\n",
      "F1: 0.6146095717884131\n",
      "AUC-ROC: 0.8420871164233996\n"
     ]
    }
   ],
   "source": [
    "scores = pd.DataFrame(columns = ['Upsampling Ratio', 'F1'])\n",
    "\n",
    "for ratio in range(1, 10, 1):\n",
    "    features_train_upsampled, target_train_upsampled = upsample(features_train, target_train, ratio)\n",
    "    \n",
    "    model = RandomForestClassifier(random_state = 12345, max_depth = 15, n_estimators = 60)\n",
    "    model.fit(features_train_upsampled, target_train_upsampled)\n",
    "    predictions_valid = model.predict(features_valid)\n",
    "    new_row = pd.Series(data = {'Upsampling Ratio' : ratio, \n",
    "                                'F1' : f1_score(target_valid, predictions_valid)})\n",
    "    scores = pd.concat([scores, new_row.to_frame().T], ignore_index=True)\n",
    "\n",
    "best_score = scores[scores['F1'] == scores['F1'].max()].reset_index(drop = True)        \n",
    "\n",
    "display(scores.sort_values('F1', ascending = False).head())\n",
    "display('Наилучшие гиперпараметры из исследованных:', best_score)\n",
    "\n",
    "features_train_upsampled, target_train_upsampled = upsample(features_train, target_train, \n",
    "                                                            int(best_score.iloc[0]['Upsampling Ratio']))\n",
    "\n",
    "model = RandomForestClassifier(random_state = 12345, \n",
    "                               max_depth = 15, \n",
    "                               n_estimators = 60)\n",
    "model.fit(features_train_upsampled, target_train_upsampled)\n",
    "predictions_valid = model.predict(features_valid)\n",
    "\n",
    "print('Метрики наилучшей модели из исследованных:')                        \n",
    "print('Матрица ошибок: \\n', confusion_matrix(target_valid, predictions_valid))\n",
    "print('Полнота (Recall):', recall_score(target_valid, predictions_valid))\n",
    "print('Точность (Precision):', precision_score(target_valid, predictions_valid))\n",
    "print('F1:', f1_score(target_valid, predictions_valid))\n",
    "probabilities_valid = model.predict_proba(features_valid)\n",
    "probabilities_one_valid = probabilities_valid[:, 1]\n",
    "auc_roc = roc_auc_score(target_valid, probabilities_one_valid)\n",
    "print('AUC-ROC:', auc_roc)"
   ]
  },
  {
   "cell_type": "markdown",
   "metadata": {},
   "source": [
    "#### Логистическая регрессия, upsampling"
   ]
  },
  {
   "cell_type": "code",
   "execution_count": 18,
   "metadata": {},
   "outputs": [
    {
     "data": {
      "text/html": [
       "<div>\n",
       "<style scoped>\n",
       "    .dataframe tbody tr th:only-of-type {\n",
       "        vertical-align: middle;\n",
       "    }\n",
       "\n",
       "    .dataframe tbody tr th {\n",
       "        vertical-align: top;\n",
       "    }\n",
       "\n",
       "    .dataframe thead th {\n",
       "        text-align: right;\n",
       "    }\n",
       "</style>\n",
       "<table border=\"1\" class=\"dataframe\">\n",
       "  <thead>\n",
       "    <tr style=\"text-align: right;\">\n",
       "      <th></th>\n",
       "      <th>Upsampling Ratio</th>\n",
       "      <th>F1</th>\n",
       "    </tr>\n",
       "  </thead>\n",
       "  <tbody>\n",
       "    <tr>\n",
       "      <th>2</th>\n",
       "      <td>3.0</td>\n",
       "      <td>0.499498</td>\n",
       "    </tr>\n",
       "    <tr>\n",
       "      <th>3</th>\n",
       "      <td>4.0</td>\n",
       "      <td>0.490534</td>\n",
       "    </tr>\n",
       "    <tr>\n",
       "      <th>4</th>\n",
       "      <td>5.0</td>\n",
       "      <td>0.48355</td>\n",
       "    </tr>\n",
       "    <tr>\n",
       "      <th>5</th>\n",
       "      <td>6.0</td>\n",
       "      <td>0.471567</td>\n",
       "    </tr>\n",
       "    <tr>\n",
       "      <th>1</th>\n",
       "      <td>2.0</td>\n",
       "      <td>0.462687</td>\n",
       "    </tr>\n",
       "  </tbody>\n",
       "</table>\n",
       "</div>"
      ],
      "text/plain": [
       "  Upsampling Ratio        F1\n",
       "2              3.0  0.499498\n",
       "3              4.0  0.490534\n",
       "4              5.0   0.48355\n",
       "5              6.0  0.471567\n",
       "1              2.0  0.462687"
      ]
     },
     "metadata": {},
     "output_type": "display_data"
    },
    {
     "data": {
      "text/plain": [
       "'Наилучшие гиперпараметры из исследованных:\\n'"
      ]
     },
     "metadata": {},
     "output_type": "display_data"
    },
    {
     "data": {
      "text/html": [
       "<div>\n",
       "<style scoped>\n",
       "    .dataframe tbody tr th:only-of-type {\n",
       "        vertical-align: middle;\n",
       "    }\n",
       "\n",
       "    .dataframe tbody tr th {\n",
       "        vertical-align: top;\n",
       "    }\n",
       "\n",
       "    .dataframe thead th {\n",
       "        text-align: right;\n",
       "    }\n",
       "</style>\n",
       "<table border=\"1\" class=\"dataframe\">\n",
       "  <thead>\n",
       "    <tr style=\"text-align: right;\">\n",
       "      <th></th>\n",
       "      <th>Upsampling Ratio</th>\n",
       "      <th>F1</th>\n",
       "    </tr>\n",
       "  </thead>\n",
       "  <tbody>\n",
       "    <tr>\n",
       "      <th>0</th>\n",
       "      <td>3.0</td>\n",
       "      <td>0.499498</td>\n",
       "    </tr>\n",
       "  </tbody>\n",
       "</table>\n",
       "</div>"
      ],
      "text/plain": [
       "  Upsampling Ratio        F1\n",
       "0              3.0  0.499498"
      ]
     },
     "metadata": {},
     "output_type": "display_data"
    },
    {
     "name": "stdout",
     "output_type": "stream",
     "text": [
      "Метрики наилучшей модели из исследованных:\n",
      "Матрица ошибок: \n",
      " [[1253  329]\n",
      " [ 169  249]]\n",
      "Полнота (Recall): 0.5956937799043063\n",
      "Точность (Precision): 0.43079584775086505\n",
      "F1: 0.5\n",
      "AUC-ROC: 0.7621386531493657\n"
     ]
    }
   ],
   "source": [
    "scores = pd.DataFrame(columns = ['Upsampling Ratio', 'F1'])\n",
    "\n",
    "for ratio in range(1, 10, 1):\n",
    "    features_train_upsampled, target_train_upsampled = upsample(features_train, target_train, ratio)\n",
    "    \n",
    "    model = LogisticRegression(solver = 'liblinear', penalty = 'l1', tol = 0.0001, max_iter = 1000)\n",
    "    model.fit(features_train_upsampled, target_train_upsampled)\n",
    "    predictions_valid = model.predict(features_valid)\n",
    "    new_row = pd.Series(data = {'Upsampling Ratio' : ratio, \n",
    "                                'F1' : f1_score(target_valid, predictions_valid)})\n",
    "    scores = pd.concat([scores, new_row.to_frame().T], ignore_index=True)\n",
    "            \n",
    "best_score = scores[scores['F1'] == scores['F1'].max()].reset_index(drop = True).head(1)   \n",
    "        \n",
    "display(scores.sort_values('F1', ascending = False).head())\n",
    "display('Наилучшие гиперпараметры из исследованных:\\n', best_score)\n",
    "\n",
    "features_train_upsampled, target_train_upsampled = upsample(features_train, target_train, \n",
    "                                                            int(best_score.iloc[0]['Upsampling Ratio']))\n",
    "\n",
    "model = LogisticRegression(solver = 'liblinear', \n",
    "                           penalty = 'l1', \n",
    "                           tol = 0.0001, \n",
    "                           max_iter = 1000)\n",
    "model.fit(features_train_upsampled, target_train_upsampled)\n",
    "predictions_valid = model.predict(features_valid)\n",
    "\n",
    "print('Метрики наилучшей модели из исследованных:')                        \n",
    "print('Матрица ошибок: \\n', confusion_matrix(target_valid, predictions_valid))\n",
    "print('Полнота (Recall):', recall_score(target_valid, predictions_valid))\n",
    "print('Точность (Precision):', precision_score(target_valid, predictions_valid))\n",
    "print('F1:', f1_score(target_valid, predictions_valid))\n",
    "probabilities_valid = model.predict_proba(features_valid)\n",
    "probabilities_one_valid = probabilities_valid[:, 1]\n",
    "auc_roc = roc_auc_score(target_valid, probabilities_one_valid)\n",
    "print('AUC-ROC:', auc_roc)"
   ]
  },
  {
   "cell_type": "markdown",
   "metadata": {},
   "source": [
    "### Борьба с дислабансом с помощью downsampling"
   ]
  },
  {
   "cell_type": "markdown",
   "metadata": {},
   "source": [
    "Гиперпараметры моделей взяты наилучшие для несбалансированных выборок. \n",
    "* решающее дерево - **depth = 6**;\n",
    "* случайный лес - **depth = 15**, **n_estimators = 60**;\n",
    "* логистическая регрессия - **penalty = 'l1'**, **tolerance = 0.0001**, **msx_iterations = 1000**."
   ]
  },
  {
   "cell_type": "code",
   "execution_count": 19,
   "metadata": {},
   "outputs": [],
   "source": [
    "def downsample(features, target, fraction):\n",
    "    features_zeros = features[target == 0]\n",
    "    features_ones = features[target == 1]\n",
    "    target_zeros = target[target == 0]\n",
    "    target_ones = target[target == 1]\n",
    "    \n",
    "    features_downsampled = pd.concat([features_zeros.sample(frac=fraction, random_state=12345)] + [features_ones])\n",
    "    target_downsampled = pd.concat([target_zeros.sample(frac=fraction, random_state=12345)] + [target_ones])\n",
    "    features_downsampled, target_downsampled = shuffle(features_downsampled, target_downsampled, random_state=12345)\n",
    "    \n",
    "    return features_downsampled, target_downsampled"
   ]
  },
  {
   "cell_type": "markdown",
   "metadata": {},
   "source": [
    "#### Решающее дерево, downsampling"
   ]
  },
  {
   "cell_type": "code",
   "execution_count": 20,
   "metadata": {},
   "outputs": [
    {
     "data": {
      "text/html": [
       "<div>\n",
       "<style scoped>\n",
       "    .dataframe tbody tr th:only-of-type {\n",
       "        vertical-align: middle;\n",
       "    }\n",
       "\n",
       "    .dataframe tbody tr th {\n",
       "        vertical-align: top;\n",
       "    }\n",
       "\n",
       "    .dataframe thead th {\n",
       "        text-align: right;\n",
       "    }\n",
       "</style>\n",
       "<table border=\"1\" class=\"dataframe\">\n",
       "  <thead>\n",
       "    <tr style=\"text-align: right;\">\n",
       "      <th></th>\n",
       "      <th>Downsampling Ratio</th>\n",
       "      <th>F1</th>\n",
       "    </tr>\n",
       "  </thead>\n",
       "  <tbody>\n",
       "    <tr>\n",
       "      <th>2</th>\n",
       "      <td>0.3</td>\n",
       "      <td>0.582469</td>\n",
       "    </tr>\n",
       "    <tr>\n",
       "      <th>7</th>\n",
       "      <td>0.8</td>\n",
       "      <td>0.577778</td>\n",
       "    </tr>\n",
       "    <tr>\n",
       "      <th>3</th>\n",
       "      <td>0.4</td>\n",
       "      <td>0.565832</td>\n",
       "    </tr>\n",
       "    <tr>\n",
       "      <th>8</th>\n",
       "      <td>0.9</td>\n",
       "      <td>0.554364</td>\n",
       "    </tr>\n",
       "    <tr>\n",
       "      <th>4</th>\n",
       "      <td>0.5</td>\n",
       "      <td>0.552764</td>\n",
       "    </tr>\n",
       "  </tbody>\n",
       "</table>\n",
       "</div>"
      ],
      "text/plain": [
       "  Downsampling Ratio        F1\n",
       "2                0.3  0.582469\n",
       "7                0.8  0.577778\n",
       "3                0.4  0.565832\n",
       "8                0.9  0.554364\n",
       "4                0.5  0.552764"
      ]
     },
     "metadata": {},
     "output_type": "display_data"
    },
    {
     "data": {
      "text/plain": [
       "'Наилучшие гиперпараметры из исследованных:'"
      ]
     },
     "metadata": {},
     "output_type": "display_data"
    },
    {
     "data": {
      "text/html": [
       "<div>\n",
       "<style scoped>\n",
       "    .dataframe tbody tr th:only-of-type {\n",
       "        vertical-align: middle;\n",
       "    }\n",
       "\n",
       "    .dataframe tbody tr th {\n",
       "        vertical-align: top;\n",
       "    }\n",
       "\n",
       "    .dataframe thead th {\n",
       "        text-align: right;\n",
       "    }\n",
       "</style>\n",
       "<table border=\"1\" class=\"dataframe\">\n",
       "  <thead>\n",
       "    <tr style=\"text-align: right;\">\n",
       "      <th></th>\n",
       "      <th>Downsampling Ratio</th>\n",
       "      <th>F1</th>\n",
       "    </tr>\n",
       "  </thead>\n",
       "  <tbody>\n",
       "    <tr>\n",
       "      <th>0</th>\n",
       "      <td>0.3</td>\n",
       "      <td>0.582469</td>\n",
       "    </tr>\n",
       "  </tbody>\n",
       "</table>\n",
       "</div>"
      ],
      "text/plain": [
       "  Downsampling Ratio        F1\n",
       "0                0.3  0.582469"
      ]
     },
     "metadata": {},
     "output_type": "display_data"
    },
    {
     "name": "stdout",
     "output_type": "stream",
     "text": [
      "Метрики наилучшей модели из исследованных:\n",
      "Матрица ошибок: \n",
      " [[1248  334]\n",
      " [ 109  309]]\n",
      "Полнота (Recall): 0.7392344497607656\n",
      "Точность (Precision): 0.48055987558320373\n",
      "F1: 0.5824693685202639\n",
      "AUC-ROC: 0.8130462923196972\n"
     ]
    }
   ],
   "source": [
    "scores = pd.DataFrame(columns = ['Downsampling Ratio', 'F1'])\n",
    "\n",
    "for ratio in range(1, 10, 1):\n",
    "    features_train_downsampled, target_train_downsampled = downsample(features_train, target_train, ratio/10)\n",
    "    \n",
    "    model = DecisionTreeClassifier(random_state = 12345, \n",
    "                                   max_depth = 6)\n",
    "    model.fit(features_train_downsampled, target_train_downsampled)\n",
    "    predictions_valid = model.predict(features_valid)\n",
    "    new_row = pd.Series(data = {'Downsampling Ratio' : ratio/10, \n",
    "                                'F1' : f1_score(target_valid, predictions_valid)})\n",
    "    scores = pd.concat([scores, new_row.to_frame().T], ignore_index=True)\n",
    "\n",
    "best_score = scores[scores['F1'] == scores['F1'].max()].reset_index(drop = True)\n",
    "\n",
    "display(scores.sort_values('F1', ascending = False).head())\n",
    "display('Наилучшие гиперпараметры из исследованных:', best_score)\n",
    "\n",
    "features_train_downsampled, target_train_downsampled = downsample(features_train, target_train, \n",
    "                                                            best_score.iloc[0]['Downsampling Ratio'])\n",
    "\n",
    "model = DecisionTreeClassifier(random_state = 12345, max_depth = 6)\n",
    "model.fit(features_train_downsampled, target_train_downsampled)\n",
    "predictions_valid = model.predict(features_valid)\n",
    "\n",
    "print('Метрики наилучшей модели из исследованных:')                        \n",
    "print('Матрица ошибок: \\n', confusion_matrix(target_valid, predictions_valid))\n",
    "print('Полнота (Recall):', recall_score(target_valid, predictions_valid))\n",
    "print('Точность (Precision):', precision_score(target_valid, predictions_valid))\n",
    "print('F1:', f1_score(target_valid, predictions_valid))\n",
    "probabilities_valid = model.predict_proba(features_valid)\n",
    "probabilities_one_valid = probabilities_valid[:, 1]\n",
    "auc_roc = roc_auc_score(target_valid, probabilities_one_valid)\n",
    "print('AUC-ROC:', auc_roc)"
   ]
  },
  {
   "cell_type": "markdown",
   "metadata": {},
   "source": [
    "#### Случайный лес, downsampling"
   ]
  },
  {
   "cell_type": "code",
   "execution_count": 21,
   "metadata": {},
   "outputs": [
    {
     "data": {
      "text/html": [
       "<div>\n",
       "<style scoped>\n",
       "    .dataframe tbody tr th:only-of-type {\n",
       "        vertical-align: middle;\n",
       "    }\n",
       "\n",
       "    .dataframe tbody tr th {\n",
       "        vertical-align: top;\n",
       "    }\n",
       "\n",
       "    .dataframe thead th {\n",
       "        text-align: right;\n",
       "    }\n",
       "</style>\n",
       "<table border=\"1\" class=\"dataframe\">\n",
       "  <thead>\n",
       "    <tr style=\"text-align: right;\">\n",
       "      <th></th>\n",
       "      <th>Downsampling Ratio</th>\n",
       "      <th>F1</th>\n",
       "    </tr>\n",
       "  </thead>\n",
       "  <tbody>\n",
       "    <tr>\n",
       "      <th>5</th>\n",
       "      <td>0.6</td>\n",
       "      <td>0.630208</td>\n",
       "    </tr>\n",
       "    <tr>\n",
       "      <th>6</th>\n",
       "      <td>0.7</td>\n",
       "      <td>0.619835</td>\n",
       "    </tr>\n",
       "    <tr>\n",
       "      <th>4</th>\n",
       "      <td>0.5</td>\n",
       "      <td>0.616307</td>\n",
       "    </tr>\n",
       "    <tr>\n",
       "      <th>3</th>\n",
       "      <td>0.4</td>\n",
       "      <td>0.613662</td>\n",
       "    </tr>\n",
       "    <tr>\n",
       "      <th>7</th>\n",
       "      <td>0.8</td>\n",
       "      <td>0.609442</td>\n",
       "    </tr>\n",
       "  </tbody>\n",
       "</table>\n",
       "</div>"
      ],
      "text/plain": [
       "  Downsampling Ratio        F1\n",
       "5                0.6  0.630208\n",
       "6                0.7  0.619835\n",
       "4                0.5  0.616307\n",
       "3                0.4  0.613662\n",
       "7                0.8  0.609442"
      ]
     },
     "metadata": {},
     "output_type": "display_data"
    },
    {
     "data": {
      "text/plain": [
       "'Наилучшие гиперпараметры из исследованных:'"
      ]
     },
     "metadata": {},
     "output_type": "display_data"
    },
    {
     "data": {
      "text/html": [
       "<div>\n",
       "<style scoped>\n",
       "    .dataframe tbody tr th:only-of-type {\n",
       "        vertical-align: middle;\n",
       "    }\n",
       "\n",
       "    .dataframe tbody tr th {\n",
       "        vertical-align: top;\n",
       "    }\n",
       "\n",
       "    .dataframe thead th {\n",
       "        text-align: right;\n",
       "    }\n",
       "</style>\n",
       "<table border=\"1\" class=\"dataframe\">\n",
       "  <thead>\n",
       "    <tr style=\"text-align: right;\">\n",
       "      <th></th>\n",
       "      <th>Downsampling Ratio</th>\n",
       "      <th>F1</th>\n",
       "    </tr>\n",
       "  </thead>\n",
       "  <tbody>\n",
       "    <tr>\n",
       "      <th>0</th>\n",
       "      <td>0.6</td>\n",
       "      <td>0.630208</td>\n",
       "    </tr>\n",
       "  </tbody>\n",
       "</table>\n",
       "</div>"
      ],
      "text/plain": [
       "  Downsampling Ratio        F1\n",
       "0                0.6  0.630208"
      ]
     },
     "metadata": {},
     "output_type": "display_data"
    },
    {
     "name": "stdout",
     "output_type": "stream",
     "text": [
      "Метрики наилучшей модели из исследованных:\n",
      "Матрица ошибок: \n",
      " [[1474  108]\n",
      " [ 176  242]]\n",
      "Полнота (Recall): 0.5789473684210527\n",
      "Точность (Precision): 0.6914285714285714\n",
      "F1: 0.6302083333333335\n",
      "AUC-ROC: 0.8419646259655575\n"
     ]
    }
   ],
   "source": [
    "scores = pd.DataFrame(columns = ['Downsampling Ratio', 'F1'])\n",
    "\n",
    "for ratio in range(1, 10, 1):\n",
    "    features_train_downsampled, target_train_downsample = downsample(features_train, target_train, ratio/10)\n",
    "    \n",
    "    model = RandomForestClassifier(random_state = 12345, max_depth = 15, n_estimators = 60)\n",
    "    model.fit(features_train_downsampled, target_train_downsample)\n",
    "    predictions_valid = model.predict(features_valid)\n",
    "    new_row = pd.Series(data = {'Downsampling Ratio' : ratio/10, \n",
    "                                'F1' : f1_score(target_valid, predictions_valid)})\n",
    "    scores = pd.concat([scores, new_row.to_frame().T], ignore_index=True)\n",
    "\n",
    "best_score = scores[scores['F1'] == scores['F1'].max()].reset_index(drop = True)        \n",
    "\n",
    "display(scores.sort_values('F1', ascending = False).head())\n",
    "display('Наилучшие гиперпараметры из исследованных:', best_score)\n",
    "\n",
    "features_train_downsampled, target_train_downsample = downsample(features_train, target_train, \n",
    "                                                            best_score.iloc[0]['Downsampling Ratio'])\n",
    "\n",
    "model = RandomForestClassifier(random_state = 12345, \n",
    "                               max_depth = 15, \n",
    "                               n_estimators = 60)\n",
    "model.fit(features_train_downsampled, target_train_downsample)\n",
    "predictions_valid = model.predict(features_valid)\n",
    "\n",
    "print('Метрики наилучшей модели из исследованных:')                        \n",
    "print('Матрица ошибок: \\n', confusion_matrix(target_valid, predictions_valid))\n",
    "print('Полнота (Recall):', recall_score(target_valid, predictions_valid))\n",
    "print('Точность (Precision):', precision_score(target_valid, predictions_valid))\n",
    "print('F1:', f1_score(target_valid, predictions_valid))\n",
    "probabilities_valid = model.predict_proba(features_valid)\n",
    "probabilities_one_valid = probabilities_valid[:, 1]\n",
    "auc_roc = roc_auc_score(target_valid, probabilities_one_valid)\n",
    "print('AUC-ROC:', auc_roc)"
   ]
  },
  {
   "cell_type": "markdown",
   "metadata": {},
   "source": [
    "#### Логистическая регрессия, downsampling"
   ]
  },
  {
   "cell_type": "code",
   "execution_count": 22,
   "metadata": {
    "scrolled": false
   },
   "outputs": [
    {
     "data": {
      "text/html": [
       "<div>\n",
       "<style scoped>\n",
       "    .dataframe tbody tr th:only-of-type {\n",
       "        vertical-align: middle;\n",
       "    }\n",
       "\n",
       "    .dataframe tbody tr th {\n",
       "        vertical-align: top;\n",
       "    }\n",
       "\n",
       "    .dataframe thead th {\n",
       "        text-align: right;\n",
       "    }\n",
       "</style>\n",
       "<table border=\"1\" class=\"dataframe\">\n",
       "  <thead>\n",
       "    <tr style=\"text-align: right;\">\n",
       "      <th></th>\n",
       "      <th>Downsampling Ratio</th>\n",
       "      <th>F1</th>\n",
       "    </tr>\n",
       "  </thead>\n",
       "  <tbody>\n",
       "    <tr>\n",
       "      <th>3</th>\n",
       "      <td>0.4</td>\n",
       "      <td>0.503834</td>\n",
       "    </tr>\n",
       "    <tr>\n",
       "      <th>2</th>\n",
       "      <td>0.3</td>\n",
       "      <td>0.494297</td>\n",
       "    </tr>\n",
       "    <tr>\n",
       "      <th>1</th>\n",
       "      <td>0.2</td>\n",
       "      <td>0.480309</td>\n",
       "    </tr>\n",
       "    <tr>\n",
       "      <th>4</th>\n",
       "      <td>0.5</td>\n",
       "      <td>0.459259</td>\n",
       "    </tr>\n",
       "    <tr>\n",
       "      <th>0</th>\n",
       "      <td>0.1</td>\n",
       "      <td>0.429621</td>\n",
       "    </tr>\n",
       "  </tbody>\n",
       "</table>\n",
       "</div>"
      ],
      "text/plain": [
       "  Downsampling Ratio        F1\n",
       "3                0.4  0.503834\n",
       "2                0.3  0.494297\n",
       "1                0.2  0.480309\n",
       "4                0.5  0.459259\n",
       "0                0.1  0.429621"
      ]
     },
     "metadata": {},
     "output_type": "display_data"
    },
    {
     "data": {
      "text/plain": [
       "'Наилучшие гиперпараметры из исследованных:\\n'"
      ]
     },
     "metadata": {},
     "output_type": "display_data"
    },
    {
     "data": {
      "text/html": [
       "<div>\n",
       "<style scoped>\n",
       "    .dataframe tbody tr th:only-of-type {\n",
       "        vertical-align: middle;\n",
       "    }\n",
       "\n",
       "    .dataframe tbody tr th {\n",
       "        vertical-align: top;\n",
       "    }\n",
       "\n",
       "    .dataframe thead th {\n",
       "        text-align: right;\n",
       "    }\n",
       "</style>\n",
       "<table border=\"1\" class=\"dataframe\">\n",
       "  <thead>\n",
       "    <tr style=\"text-align: right;\">\n",
       "      <th></th>\n",
       "      <th>Downsampling Ratio</th>\n",
       "      <th>F1</th>\n",
       "    </tr>\n",
       "  </thead>\n",
       "  <tbody>\n",
       "    <tr>\n",
       "      <th>0</th>\n",
       "      <td>0.4</td>\n",
       "      <td>0.503834</td>\n",
       "    </tr>\n",
       "  </tbody>\n",
       "</table>\n",
       "</div>"
      ],
      "text/plain": [
       "  Downsampling Ratio        F1\n",
       "0                0.4  0.503834"
      ]
     },
     "metadata": {},
     "output_type": "display_data"
    },
    {
     "name": "stdout",
     "output_type": "stream",
     "text": [
      "Метрики наилучшей модели из исследованных:\n",
      "Матрица ошибок: \n",
      " [[1317  265]\n",
      " [ 188  230]]\n",
      "Полнота (Recall): 0.5502392344497608\n",
      "Точность (Precision): 0.46464646464646464\n",
      "F1: 0.5038335158817085\n",
      "AUC-ROC: 0.7624274886734133\n"
     ]
    }
   ],
   "source": [
    "scores = pd.DataFrame(columns = ['Downsampling Ratio', 'F1'])\n",
    "\n",
    "for ratio in range(1, 10, 1):\n",
    "    features_train_downsampled, target_train_downsample = downsample(features_train, target_train, ratio/10)\n",
    "    \n",
    "    model = LogisticRegression(solver = 'liblinear', penalty = 'l1', tol = 0.0001, max_iter = 1000)\n",
    "    model.fit(features_train_downsampled, target_train_downsample)\n",
    "    predictions_valid = model.predict(features_valid)\n",
    "    new_row = pd.Series(data = {'Downsampling Ratio' : ratio/10, \n",
    "                                'F1' : f1_score(target_valid, predictions_valid)})\n",
    "    scores = pd.concat([scores, new_row.to_frame().T], ignore_index=True)\n",
    "            \n",
    "best_score = scores[scores['F1'] == scores['F1'].max()].reset_index(drop = True).head(1)   \n",
    "        \n",
    "display(scores.sort_values('F1', ascending = False).head())\n",
    "display('Наилучшие гиперпараметры из исследованных:\\n', best_score)\n",
    "\n",
    "features_train_downsampled, target_train_downsample = downsample(features_train, target_train, \n",
    "                                                            best_score.iloc[0]['Downsampling Ratio'])\n",
    "\n",
    "model = LogisticRegression(solver = 'liblinear', \n",
    "                           penalty = 'l1', \n",
    "                           tol = 0.0001, \n",
    "                           max_iter = 1000)\n",
    "model.fit(features_train_downsampled, target_train_downsample)\n",
    "predictions_valid = model.predict(features_valid)\n",
    "\n",
    "print('Метрики наилучшей модели из исследованных:')                        \n",
    "print('Матрица ошибок: \\n', confusion_matrix(target_valid, predictions_valid))\n",
    "print('Полнота (Recall):', recall_score(target_valid, predictions_valid))\n",
    "print('Точность (Precision):', precision_score(target_valid, predictions_valid))\n",
    "print('F1:', f1_score(target_valid, predictions_valid))\n",
    "probabilities_valid = model.predict_proba(features_valid)\n",
    "probabilities_one_valid = probabilities_valid[:, 1]\n",
    "auc_roc = roc_auc_score(target_valid, probabilities_one_valid)\n",
    "print('AUC-ROC:', auc_roc)"
   ]
  },
  {
   "cell_type": "markdown",
   "metadata": {},
   "source": [
    "### Промежуточный вывод\n",
    "\n",
    "При борьбе с дисбалансом классов были опробованы методы upsampling, downsampling и взвешивание классов. Гиперпараметры моделей при работе со сбалансированными выборками были взяты те, которые показали наилучшие результаты при работе с несбалансированными выборками.\n",
    "\n",
    "Наилучшие значения F1-меры дает модель случайного леса. Для всех вариантов борьбы с дисбалансом классов получилось достичь значения метрики выше 0.61. Наилучшие результаты F1-меры на валидационной выборке показала модель обученная на данных обработанных методом upsampling с гиперпараметрами:\n",
    "* depth = 15;\n",
    "* n_estimators = 60;\n",
    "* downsampling ratio = 0.6.\n",
    "\n",
    "Метрики классификации для моделей, борьба с дисбалансом классов методом взвешивания классов:\n",
    "\n",
    "|  |Решающее дерево|Случайный лес|Логистическая регрессия| \n",
    "|:-|:-------------:|:-----------:|:---------------------:|\n",
    "|Полнота|0.670|0.684|0.682|\n",
    "|Точность|0.537|0.570|0.382|\n",
    "|F1- мера|0.596|**0.622**|0.490|\n",
    "|AUC-ROC|0.831|0.852|0.763|\n",
    "\n",
    "Метрики классификации для моделей, борьба с дисбалансом классов методом upsampling:\n",
    "\n",
    "|  |Решающее дерево|Случайный лес|Логистическая регрессия| \n",
    "|:-|:-------------:|:-----------:|:---------------------:|\n",
    "|Полнота|0.519|0.584|0.596|\n",
    "|Точность|0.705|0.649|0.431|\n",
    "|F1- мера|0.598|**0.615**|0.500|\n",
    "|AUC-ROC|0.820|0.842|0.762|\n",
    "\n",
    "Метрики классификации для моделей, борьба с дисбалансом классов методом downsampling:\n",
    "\n",
    "|  |Решающее дерево|Случайный лес|Логистическая регрессия| \n",
    "|:-|:-------------:|:-----------:|:---------------------:|\n",
    "|Полнота|0.739|0.579|0.550|\n",
    "|Точность|0.481|0.691|0.465|\n",
    "|F1- мера|0.582|**0.630**|0.504|\n",
    "|AUC-ROC|0.813|0.842|0.762|"
   ]
  },
  {
   "cell_type": "markdown",
   "metadata": {},
   "source": [
    "## Тестирование модели"
   ]
  },
  {
   "cell_type": "markdown",
   "metadata": {},
   "source": [
    "### Проверка на тестовой выборке"
   ]
  },
  {
   "cell_type": "code",
   "execution_count": 23,
   "metadata": {},
   "outputs": [
    {
     "name": "stdout",
     "output_type": "stream",
     "text": [
      "Метрики наилучшей модели из исследованных:\n",
      "Матрица ошибок: \n",
      " [[1462  115]\n",
      " [ 187  236]]\n",
      "Полнота (Recall): 0.557919621749409\n",
      "Точность (Precision): 0.6723646723646723\n",
      "F1: 0.6098191214470284\n"
     ]
    }
   ],
   "source": [
    "features_train_downsampled, target_train_downsample = downsample(features_train, target_train, 0.6)\n",
    "model = RandomForestClassifier(random_state = 12345, \n",
    "                               max_depth = 15, \n",
    "                               n_estimators = 60)\n",
    "model.fit(features_train_downsampled, target_train_downsample)\n",
    "predictions_test = model.predict(features_test)\n",
    "\n",
    "print('Метрики наилучшей модели из исследованных:')                        \n",
    "print('Матрица ошибок: \\n', confusion_matrix(target_test, predictions_test))\n",
    "print('Полнота (Recall):', recall_score(target_test, predictions_test))\n",
    "print('Точность (Precision):', precision_score(target_test, predictions_test))\n",
    "print('F1:', f1_score(target_test, predictions_test))"
   ]
  },
  {
   "cell_type": "markdown",
   "metadata": {},
   "source": [
    "### AUC-ROC"
   ]
  },
  {
   "cell_type": "code",
   "execution_count": 24,
   "metadata": {},
   "outputs": [
    {
     "data": {
      "image/png": "[encoded data removed]",
      "text/plain": [
       "<Figure size 432x288 with 1 Axes>"
      ]
     },
     "metadata": {
      "needs_background": "light"
     },
     "output_type": "display_data"
    },
    {
     "name": "stdout",
     "output_type": "stream",
     "text": [
      "AUC-ROC: 0.8464833578434677\n"
     ]
    }
   ],
   "source": [
    "probabilities_test = model.predict_proba(features_test)\n",
    "probabilities_one_test = probabilities_test[:, 1]\n",
    "auc_roc = roc_auc_score(target_test, probabilities_one_test)\n",
    "\n",
    "fpr, tpr, thresholds = roc_curve(target_test, probabilities_one_test)\n",
    "plt.plot([0, 1], [0, 1], linestyle='--')\n",
    "plt.plot(fpr, tpr)\n",
    "plt.xlim([0.0, 1.0])\n",
    "plt.ylim([0.0, 1.0])\n",
    "plt.xlabel('False Positive Rate')\n",
    "plt.ylabel('True Positive Rate')\n",
    "plt.title('ROC-кривая')\n",
    "plt.show()\n",
    "\n",
    "print('AUC-ROC:', auc_roc)"
   ]
  },
  {
   "cell_type": "markdown",
   "metadata": {},
   "source": [
    "### Промежуточный вывод\n",
    "\n",
    "Наилучшая модель - случайный лес с downsampling. Гиперпараметры: \n",
    "* downsampling ratio = 0.6;\n",
    "* depth = 15;\n",
    "* n_estimators = 60.\n",
    "\n",
    "Значение F1-меры на валидационной выборке - 0.630, значение F1-меры на тестовой выборке - **0.610**.\n",
    "Значение AUC-ROC - 0.846."
   ]
  },
  {
   "cell_type": "markdown",
   "metadata": {},
   "source": [
    "## Выводы\n",
    "\n",
    "В процессе обработки данных из датасета удалены строки с пропусками в столбце \"Tenure\". Удалены столбцы \"Surname\", \"RowNumber\", \"CustomerId\" за ненадобностью (мешают дальнейшему OHE преобразованию). Произведено масштабирование признаков.\n",
    "Данные обработаны методом OHE, так как в конечном счете он дает лучшие результаты чем Ordinaly Encode.\n",
    "\n",
    "Сначала исследованы модели не учитывающие дисбаланс классов, наилучшая модель показала F1-меру - 0.599.\n",
    "Далее модели обучались с учетом дисбаланса классов. Борьба с дисбалансом велась взвешиванием классов, методом upsampling и downsampling. Наилучшие результаты на валидационной выборке показала модель случайного леса c downsampling , F1 = 0.630.\n",
    "\n",
    "При проверке на тестовой выборке наилучшая модель показала F1 = 0.610 и AUC-ROC = 0.846. Построен ROC-график."
   ]
  }
 ],
 "metadata": {
  "kernelspec": {
   "display_name": "Python 3 (ipykernel)",
   "language": "python",
   "name": "python3"
  },
  "language_info": {
   "codemirror_mode": {
    "name": "ipython",
    "version": 3
   },
   "file_extension": ".py",
   "mimetype": "text/x-python",
   "name": "python",
   "nbconvert_exporter": "python",
   "pygments_lexer": "ipython3",
   "version": "3.9.13"
  },
  "toc": {
   "base_numbering": 1,
   "nav_menu": {},
   "number_sections": true,
   "sideBar": true,
   "skip_h1_title": true,
   "title_cell": "Содержание",
   "title_sidebar": "Contents",
   "toc_cell": true,
   "toc_position": {
    "height": "calc(100% - 180px)",
    "left": "10px",
    "top": "150px",
    "width": "273px"
   },
   "toc_section_display": true,
   "toc_window_display": true
  }
 },
 "nbformat": 4,
 "nbformat_minor": 2
}
