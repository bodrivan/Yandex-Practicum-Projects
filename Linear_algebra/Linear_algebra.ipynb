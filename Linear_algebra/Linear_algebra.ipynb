{
 "cells": [
  {
   "cell_type": "markdown",
   "metadata": {
    "toc": true
   },
   "source": [
    "<h1>Содержание<span class=\"tocSkip\"></span></h1>\n",
    "<div class=\"toc\"><ul class=\"toc-item\"><li><span><a href=\"#Загрузка-данных\" data-toc-modified-id=\"Загрузка-данных-1\"><span class=\"toc-item-num\">1&nbsp;&nbsp;</span>Загрузка данных</a></span><ul class=\"toc-item\"><li><span><a href=\"#Подключение-библиотек\" data-toc-modified-id=\"Подключение-библиотек-1.1\"><span class=\"toc-item-num\">1.1&nbsp;&nbsp;</span>Подключение библиотек</a></span></li><li><span><a href=\"#Загрузка-файлов\" data-toc-modified-id=\"Загрузка-файлов-1.2\"><span class=\"toc-item-num\">1.2&nbsp;&nbsp;</span>Загрузка файлов</a></span></li><li><span><a href=\"#Получение-основной-информации-о-данных\" data-toc-modified-id=\"Получение-основной-информации-о-данных-1.3\"><span class=\"toc-item-num\">1.3&nbsp;&nbsp;</span>Получение основной информации о данных</a></span></li><li><span><a href=\"#Деление-данных-на-выборки\" data-toc-modified-id=\"Деление-данных-на-выборки-1.4\"><span class=\"toc-item-num\">1.4&nbsp;&nbsp;</span>Деление данных на выборки</a></span></li><li><span><a href=\"#Обучение-и-валидация-линейной-регрессии-без-применения-алгоритма-&quot;шифрования&quot;-данных,-расчет-R2-метрики\" data-toc-modified-id=\"Обучение-и-валидация-линейной-регрессии-без-применения-алгоритма-&quot;шифрования&quot;-данных,-расчет-R2-метрики-1.5\"><span class=\"toc-item-num\">1.5&nbsp;&nbsp;</span>Обучение и валидация линейной регрессии без применения алгоритма \"шифрования\" данных, расчет R2 метрики</a></span></li></ul></li><li><span><a href=\"#Умножение-матриц\" data-toc-modified-id=\"Умножение-матриц-2\"><span class=\"toc-item-num\">2&nbsp;&nbsp;</span>Умножение матриц</a></span></li><li><span><a href=\"#Алгоритм-преобразования\" data-toc-modified-id=\"Алгоритм-преобразования-3\"><span class=\"toc-item-num\">3&nbsp;&nbsp;</span>Алгоритм преобразования</a></span></li><li><span><a href=\"#Проверка-алгоритма\" data-toc-modified-id=\"Проверка-алгоритма-4\"><span class=\"toc-item-num\">4&nbsp;&nbsp;</span>Проверка алгоритма</a></span><ul class=\"toc-item\"><li><span><a href=\"#Функция,-реализующая-алгоритм-&quot;шифрования&quot;-для-признаков-валидационной-и-обучающей-выборок\" data-toc-modified-id=\"Функция,-реализующая-алгоритм-&quot;шифрования&quot;-для-признаков-валидационной-и-обучающей-выборок-4.1\"><span class=\"toc-item-num\">4.1&nbsp;&nbsp;</span>Функция, реализующая алгоритм \"шифрования\" для признаков валидационной и обучающей выборок</a></span></li><li><span><a href=\"#Обучение-и-валидация-линейной-регрессии-с-применением-алгоритма-&quot;шифрования&quot;-данных,-расчет-R2-метрики\" data-toc-modified-id=\"Обучение-и-валидация-линейной-регрессии-с-применением-алгоритма-&quot;шифрования&quot;-данных,-расчет-R2-метрики-4.2\"><span class=\"toc-item-num\">4.2&nbsp;&nbsp;</span>Обучение и валидация линейной регрессии с применением алгоритма \"шифрования\" данных, расчет R2 метрики</a></span></li></ul></li><li><span><a href=\"#Выводы\" data-toc-modified-id=\"Выводы-5\"><span class=\"toc-item-num\">5&nbsp;&nbsp;</span>Выводы</a></span></li></ul></div>"
   ]
  },
  {
   "cell_type": "markdown",
   "metadata": {},
   "source": [
    "# Защита персональных данных клиентов"
   ]
  },
  {
   "cell_type": "markdown",
   "metadata": {},
   "source": [
    "Вам нужно защитить данные клиентов страховой компании «Хоть потоп». Разработайте такой метод преобразования данных, чтобы по ним было сложно восстановить персональную информацию. Обоснуйте корректность его работы.\n",
    "\n",
    "Нужно защитить данные, чтобы при преобразовании качество моделей машинного обучения не ухудшилось. Подбирать наилучшую модель не требуется."
   ]
  },
  {
   "cell_type": "markdown",
   "metadata": {},
   "source": [
    "## Загрузка данных"
   ]
  },
  {
   "cell_type": "markdown",
   "metadata": {},
   "source": [
    "### Подключение библиотек"
   ]
  },
  {
   "cell_type": "code",
   "execution_count": 1,
   "metadata": {},
   "outputs": [],
   "source": [
    "import pandas as pd\n",
    "import numpy as np\n",
    "import os\n",
    "import seaborn\n",
    "import matplotlib.pyplot as plt\n",
    "from sklearn.model_selection import train_test_split\n",
    "from sklearn.metrics import r2_score\n",
    "from sklearn.linear_model import LinearRegression"
   ]
  },
  {
   "cell_type": "markdown",
   "metadata": {},
   "source": [
    "### Загрузка файлов"
   ]
  },
  {
   "cell_type": "code",
   "execution_count": 2,
   "metadata": {},
   "outputs": [],
   "source": [
    "path_1 = '/Users/ivanbodrenkov/Yandex.Disk.localized/Яндекс Практикум/10. Линейная алгебра/Проект/insurance.csv'\n",
    "path_2 = 'https://code.s3.yandex.net/datasets/insurance.csv'\n",
    "path_3 = 'C:/Users/bodrenkov_ia/Desktop/Project/insurance.csv'\n",
    "path_4 = '/datasets/insurance.csv'\n",
    "\n",
    "if os.path.exists(path_1):\n",
    "    data = pd.read_csv(path_1, sep = ',')\n",
    "elif os.path.exists(path_2):\n",
    "    data = pd.read_csv(path_2, sep = ',')\n",
    "elif os.path.exists(path_3):\n",
    "    data = pd.read_csv(path_3, sep = ',')\n",
    "elif os.path.exists(path_4):\n",
    "    data = pd.read_csv(path_4, sep = ',')\n",
    "else:\n",
    "    print('Что-то пошло не так!')"
   ]
  },
  {
   "cell_type": "markdown",
   "metadata": {},
   "source": [
    "### Получение основной информации о данных"
   ]
  },
  {
   "cell_type": "code",
   "execution_count": 3,
   "metadata": {},
   "outputs": [
    {
     "name": "stdout",
     "output_type": "stream",
     "text": [
      "<class 'pandas.core.frame.DataFrame'>\n",
      "RangeIndex: 5000 entries, 0 to 4999\n",
      "Data columns (total 5 columns):\n",
      " #   Column             Non-Null Count  Dtype  \n",
      "---  ------             --------------  -----  \n",
      " 0   Пол                5000 non-null   int64  \n",
      " 1   Возраст            5000 non-null   float64\n",
      " 2   Зарплата           5000 non-null   float64\n",
      " 3   Члены семьи        5000 non-null   int64  \n",
      " 4   Страховые выплаты  5000 non-null   int64  \n",
      "dtypes: float64(2), int64(3)\n",
      "memory usage: 195.4 KB\n"
     ]
    }
   ],
   "source": [
    "data.info()"
   ]
  },
  {
   "cell_type": "code",
   "execution_count": 4,
   "metadata": {},
   "outputs": [
    {
     "data": {
      "text/html": [
       "<div>\n",
       "<style scoped>\n",
       "    .dataframe tbody tr th:only-of-type {\n",
       "        vertical-align: middle;\n",
       "    }\n",
       "\n",
       "    .dataframe tbody tr th {\n",
       "        vertical-align: top;\n",
       "    }\n",
       "\n",
       "    .dataframe thead th {\n",
       "        text-align: right;\n",
       "    }\n",
       "</style>\n",
       "<table border=\"1\" class=\"dataframe\">\n",
       "  <thead>\n",
       "    <tr style=\"text-align: right;\">\n",
       "      <th></th>\n",
       "      <th>Пол</th>\n",
       "      <th>Возраст</th>\n",
       "      <th>Зарплата</th>\n",
       "      <th>Члены семьи</th>\n",
       "      <th>Страховые выплаты</th>\n",
       "    </tr>\n",
       "  </thead>\n",
       "  <tbody>\n",
       "    <tr>\n",
       "      <th>0</th>\n",
       "      <td>1</td>\n",
       "      <td>41.0</td>\n",
       "      <td>49600.0</td>\n",
       "      <td>1</td>\n",
       "      <td>0</td>\n",
       "    </tr>\n",
       "    <tr>\n",
       "      <th>1</th>\n",
       "      <td>0</td>\n",
       "      <td>46.0</td>\n",
       "      <td>38000.0</td>\n",
       "      <td>1</td>\n",
       "      <td>1</td>\n",
       "    </tr>\n",
       "    <tr>\n",
       "      <th>2</th>\n",
       "      <td>0</td>\n",
       "      <td>29.0</td>\n",
       "      <td>21000.0</td>\n",
       "      <td>0</td>\n",
       "      <td>0</td>\n",
       "    </tr>\n",
       "    <tr>\n",
       "      <th>3</th>\n",
       "      <td>0</td>\n",
       "      <td>21.0</td>\n",
       "      <td>41700.0</td>\n",
       "      <td>2</td>\n",
       "      <td>0</td>\n",
       "    </tr>\n",
       "    <tr>\n",
       "      <th>4</th>\n",
       "      <td>1</td>\n",
       "      <td>28.0</td>\n",
       "      <td>26100.0</td>\n",
       "      <td>0</td>\n",
       "      <td>0</td>\n",
       "    </tr>\n",
       "  </tbody>\n",
       "</table>\n",
       "</div>"
      ],
      "text/plain": [
       "   Пол  Возраст  Зарплата  Члены семьи  Страховые выплаты\n",
       "0    1     41.0   49600.0            1                  0\n",
       "1    0     46.0   38000.0            1                  1\n",
       "2    0     29.0   21000.0            0                  0\n",
       "3    0     21.0   41700.0            2                  0\n",
       "4    1     28.0   26100.0            0                  0"
      ]
     },
     "metadata": {},
     "output_type": "display_data"
    }
   ],
   "source": [
    "display(data.head())"
   ]
  },
  {
   "cell_type": "code",
   "execution_count": 5,
   "metadata": {},
   "outputs": [
    {
     "data": {
      "image/png": "[encoded data removed]",
      "text/plain": [
       "<Figure size 640x480 with 1 Axes>"
      ]
     },
     "metadata": {},
     "output_type": "display_data"
    },
    {
     "data": {
      "image/png": "[encoded data removed]",
      "text/plain": [
       "<Figure size 640x480 with 1 Axes>"
      ]
     },
     "metadata": {},
     "output_type": "display_data"
    },
    {
     "data": {
      "text/plain": [
       "<BarContainer object of 6 artists>"
      ]
     },
     "execution_count": 5,
     "metadata": {},
     "output_type": "execute_result"
    },
    {
     "data": {
      "image/png": "[encoded data removed]",
      "text/plain": [
       "<Figure size 2000x500 with 3 Axes>"
      ]
     },
     "metadata": {},
     "output_type": "display_data"
    }
   ],
   "source": [
    "data['Зарплата'].hist(bins = 50, color = 'black', alpha = 0.75)\n",
    "plt.title('Зарплата')\n",
    "plt.show()\n",
    "data['Возраст'].hist(bins = 50, color = 'black', alpha = 0.75)\n",
    "plt.title('Возраст')\n",
    "plt.show()\n",
    "\n",
    "\n",
    "data_gender = data.pivot_table(index = 'Пол', values = 'Возраст', aggfunc = 'count')\\\n",
    ".reset_index().rename(columns = {'Возраст' : 'Количество'})\n",
    "\n",
    "data_family = data.pivot_table(index = 'Члены семьи', values = 'Возраст', aggfunc = 'count')\\\n",
    ".reset_index().rename(columns = {'Возраст' : 'Количество'})\n",
    "\n",
    "data_payments = data.pivot_table(index = 'Страховые выплаты', values = 'Возраст', aggfunc = 'count')\\\n",
    ".reset_index().rename(columns = {'Возраст' : 'Количество'})\n",
    "\n",
    "fig, (ax1, ax2, ax3) = plt.subplots(1, 3)\n",
    "\n",
    "ax1.set(title = 'Пол')\n",
    "ax2.set(title = 'Члены семьи')\n",
    "ax3.set(title = 'Страховые выплаты')\n",
    "\n",
    "fig.set_figheight(5)\n",
    "fig.set_figwidth(20)\n",
    "\n",
    "ax1.bar(data_gender['Пол'], \n",
    "         data_gender['Количество'], \n",
    "         color = 'black', \n",
    "         alpha = 0.75)\n",
    "\n",
    "ax2.bar(data_family['Члены семьи'], \n",
    "         data_family['Количество'], \n",
    "         color = 'black', \n",
    "         alpha = 0.75)\n",
    "\n",
    "ax3.bar(data_payments['Страховые выплаты'], \n",
    "         data_payments['Количество'], \n",
    "         color = 'black', \n",
    "         alpha = 0.75)\n"
   ]
  },
  {
   "cell_type": "code",
   "execution_count": 6,
   "metadata": {
    "scrolled": false
   },
   "outputs": [
    {
     "data": {
      "text/html": [
       "<div>\n",
       "<style scoped>\n",
       "    .dataframe tbody tr th:only-of-type {\n",
       "        vertical-align: middle;\n",
       "    }\n",
       "\n",
       "    .dataframe tbody tr th {\n",
       "        vertical-align: top;\n",
       "    }\n",
       "\n",
       "    .dataframe thead th {\n",
       "        text-align: right;\n",
       "    }\n",
       "</style>\n",
       "<table border=\"1\" class=\"dataframe\">\n",
       "  <thead>\n",
       "    <tr style=\"text-align: right;\">\n",
       "      <th></th>\n",
       "      <th>Пол</th>\n",
       "      <th>Возраст</th>\n",
       "      <th>Зарплата</th>\n",
       "      <th>Члены семьи</th>\n",
       "      <th>Страховые выплаты</th>\n",
       "    </tr>\n",
       "  </thead>\n",
       "  <tbody>\n",
       "    <tr>\n",
       "      <th>count</th>\n",
       "      <td>5000.000000</td>\n",
       "      <td>5000.000000</td>\n",
       "      <td>5000.000000</td>\n",
       "      <td>5000.000000</td>\n",
       "      <td>5000.000000</td>\n",
       "    </tr>\n",
       "    <tr>\n",
       "      <th>mean</th>\n",
       "      <td>0.499000</td>\n",
       "      <td>30.952800</td>\n",
       "      <td>39916.360000</td>\n",
       "      <td>1.194200</td>\n",
       "      <td>0.148000</td>\n",
       "    </tr>\n",
       "    <tr>\n",
       "      <th>std</th>\n",
       "      <td>0.500049</td>\n",
       "      <td>8.440807</td>\n",
       "      <td>9900.083569</td>\n",
       "      <td>1.091387</td>\n",
       "      <td>0.463183</td>\n",
       "    </tr>\n",
       "    <tr>\n",
       "      <th>min</th>\n",
       "      <td>0.000000</td>\n",
       "      <td>18.000000</td>\n",
       "      <td>5300.000000</td>\n",
       "      <td>0.000000</td>\n",
       "      <td>0.000000</td>\n",
       "    </tr>\n",
       "    <tr>\n",
       "      <th>25%</th>\n",
       "      <td>0.000000</td>\n",
       "      <td>24.000000</td>\n",
       "      <td>33300.000000</td>\n",
       "      <td>0.000000</td>\n",
       "      <td>0.000000</td>\n",
       "    </tr>\n",
       "    <tr>\n",
       "      <th>50%</th>\n",
       "      <td>0.000000</td>\n",
       "      <td>30.000000</td>\n",
       "      <td>40200.000000</td>\n",
       "      <td>1.000000</td>\n",
       "      <td>0.000000</td>\n",
       "    </tr>\n",
       "    <tr>\n",
       "      <th>75%</th>\n",
       "      <td>1.000000</td>\n",
       "      <td>37.000000</td>\n",
       "      <td>46600.000000</td>\n",
       "      <td>2.000000</td>\n",
       "      <td>0.000000</td>\n",
       "    </tr>\n",
       "    <tr>\n",
       "      <th>max</th>\n",
       "      <td>1.000000</td>\n",
       "      <td>65.000000</td>\n",
       "      <td>79000.000000</td>\n",
       "      <td>6.000000</td>\n",
       "      <td>5.000000</td>\n",
       "    </tr>\n",
       "  </tbody>\n",
       "</table>\n",
       "</div>"
      ],
      "text/plain": [
       "               Пол      Возраст      Зарплата  Члены семьи  Страховые выплаты\n",
       "count  5000.000000  5000.000000   5000.000000  5000.000000        5000.000000\n",
       "mean      0.499000    30.952800  39916.360000     1.194200           0.148000\n",
       "std       0.500049     8.440807   9900.083569     1.091387           0.463183\n",
       "min       0.000000    18.000000   5300.000000     0.000000           0.000000\n",
       "25%       0.000000    24.000000  33300.000000     0.000000           0.000000\n",
       "50%       0.000000    30.000000  40200.000000     1.000000           0.000000\n",
       "75%       1.000000    37.000000  46600.000000     2.000000           0.000000\n",
       "max       1.000000    65.000000  79000.000000     6.000000           5.000000"
      ]
     },
     "execution_count": 6,
     "metadata": {},
     "output_type": "execute_result"
    }
   ],
   "source": [
    "data.describe()"
   ]
  },
  {
   "cell_type": "markdown",
   "metadata": {},
   "source": [
    "### Деление данных на выборки"
   ]
  },
  {
   "cell_type": "code",
   "execution_count": 7,
   "metadata": {},
   "outputs": [
    {
     "name": "stdout",
     "output_type": "stream",
     "text": [
      "Размер обучающей выборки признаков: 3750\n",
      "Размер обучающей выборки целевого признака: 3750\n",
      "Размер валидационной выборки признаков: 1250\n",
      "Размер валидационной выборки целевого признака: 1250\n"
     ]
    }
   ],
   "source": [
    "data_features = data.drop('Страховые выплаты', axis = 1)\n",
    "data_target = data['Страховые выплаты']\n",
    "\n",
    "features_train, features_valid, target_train, target_valid = train_test_split(\n",
    "    data_features, data_target, test_size = 0.25, random_state = 12345) \n",
    "\n",
    "print('Размер обучающей выборки признаков:', features_train.shape[0])\n",
    "print('Размер обучающей выборки целевого признака:', target_train.shape[0])\n",
    "print('Размер валидационной выборки признаков:', features_valid.shape[0])\n",
    "print('Размер валидационной выборки целевого признака:', target_valid.shape[0])"
   ]
  },
  {
   "cell_type": "markdown",
   "metadata": {},
   "source": [
    "### Обучение и валидация линейной регрессии без применения алгоритма \"шифрования\" данных, расчет R2 метрики"
   ]
  },
  {
   "cell_type": "code",
   "execution_count": 8,
   "metadata": {},
   "outputs": [
    {
     "name": "stdout",
     "output_type": "stream",
     "text": [
      "R2 = 0.43522757127025635\n"
     ]
    }
   ],
   "source": [
    "model_1 = LinearRegression()\n",
    "model_1.fit(features_train, target_train)\n",
    "predictions_valid = model_1.predict(features_valid)\n",
    "\n",
    "print('R2 =', r2_score(target_valid, predictions_valid))"
   ]
  },
  {
   "cell_type": "markdown",
   "metadata": {},
   "source": [
    "## Умножение матриц"
   ]
  },
  {
   "cell_type": "markdown",
   "metadata": {},
   "source": [
    "В этом задании вы можете записывать формулы в *Jupyter Notebook.*\n",
    "\n",
    "Чтобы записать формулу внутри текста, окружите её символами доллара \\\\$; если снаружи —  двойными символами \\\\$\\\\$. Эти формулы записываются на языке вёрстки *LaTeX.* \n",
    "\n",
    "Для примера мы записали формулы линейной регрессии. Можете их скопировать и отредактировать, чтобы решить задачу.\n",
    "\n",
    "Работать в *LaTeX* необязательно."
   ]
  },
  {
   "cell_type": "markdown",
   "metadata": {},
   "source": [
    "Обозначения:\n",
    "\n",
    "- $X$ — матрица признаков (нулевой столбец состоит из единиц)\n",
    "\n",
    "- $y$ — вектор целевого признака\n",
    "\n",
    "- $P$ — матрица, на которую умножаются признаки\n",
    "\n",
    "- $w$ — вектор весов линейной регрессии (нулевой элемент равен сдвигу)"
   ]
  },
  {
   "cell_type": "markdown",
   "metadata": {},
   "source": [
    "Предсказания:\n",
    "\n",
    "$$\n",
    "a = Xw\n",
    "$$\n",
    "\n",
    "Задача обучения:\n",
    "\n",
    "$$\n",
    "w = \\arg\\min_w MSE(Xw, y)\n",
    "$$\n",
    "\n",
    "Формула обучения:\n",
    "\n",
    "$$\n",
    "w = (X^T X)^{-1} X^T y\n",
    "$$"
   ]
  },
  {
   "cell_type": "markdown",
   "metadata": {},
   "source": [
    "**Ответ:** умножение матрицы признаков на обратимую матрицу не меняет качества линейной регрессии\n",
    "\n",
    "**Обоснование:** \n",
    "\n",
    "Предсказания без умножения на обратимую матрицу:\n",
    "\n",
    "$$\n",
    "a_1 = Xw \n",
    "$$\n",
    "\n",
    "Вектор весов без умножения на обратимую матрицу:\n",
    "\n",
    "$$\n",
    "w = (X^T X)^{-1} X^T y\n",
    "$$\n",
    "\n",
    "Предсказания с умножением на обратимую матрицу:\n",
    "\n",
    "$$\n",
    "a_2 = XPw_p\n",
    "$$\n",
    "\n",
    "Вектор весов с умножением на обратимую матрицу:\n",
    "\n",
    "$$\n",
    "w_p = [(XP)^T (XP)]^{-1} (XP)^T y\n",
    "$$\n",
    "\n",
    "Упрощение выражения для вектора весов с умножением на обратимую матрицу:\n",
    "\n",
    "$$\n",
    "w_p = [(XP)^T (XP)]^{-1} (XP)^T y = [P^T X^T X P]^{-1} P^T X^T y = (X P)^{-1} (P^T X^T)^{-1} P^T X^T y = P^{-1} X^{-1} (X^T)^{-1} (P^T)^{-1} P^T X^T y = P^{-1} (X^T X)^{-1} E X^T y = P^{-1} (X^T X)^{-1} X^T y = P^{-1} w\n",
    "$$\n",
    "\n",
    "Предсказания с умножением на обратимую матрицу выраженное иначе:\n",
    "\n",
    "$$\n",
    "a_2 = X P P^{-1} w = Xw = a_1\n",
    "$$\n",
    "\n",
    "Тождество:\n",
    "\n",
    "$$\n",
    "a_2 = a_1\n",
    "$$\n",
    "\n",
    "**Обоснование исправленное:**\n",
    "$$\n",
    "w_p = ((XP)^T XP)^{-1} (XP)^T y = (P^T X^T XP)^{-1} (XP)^T y = P^{-1} (X^T X)^{-1} (P^T)^{-1} P^T X^T y = P^{-1} (X^T X)^{-1} E X^T y = P^{-1} (X^T X)^{-1} X^T y = P^{-1} w\n",
    "$$\n",
    "\n",
    "$$\n",
    "a = X P w_p = X P P^{-1} w = X E w = X w\n",
    "$$"
   ]
  },
  {
   "cell_type": "markdown",
   "metadata": {},
   "source": [
    "$$\n",
    "a = Xw = XEw = XPP^{-1}w = (XP)P^{-1}w = (XP)w'\n",
    "$$\n",
    "\n",
    "$$\n",
    "w' = ((XP)^T XP)^{-1} (XP)^T y\n",
    "$$\n",
    "$$\n",
    "w' = (P^T (X^T X) P)^{-1} (XP)^T y\n",
    "$$\n",
    "$$\n",
    ".....\n",
    "$$"
   ]
  },
  {
   "cell_type": "markdown",
   "metadata": {},
   "source": [
    "## Алгоритм преобразования"
   ]
  },
  {
   "cell_type": "markdown",
   "metadata": {},
   "source": [
    "**Алгоритм**\n",
    "\n",
    "Алгоритмом в данном случае является умножение матрицы признаков на любую обратимую матрицу. "
   ]
  },
  {
   "cell_type": "markdown",
   "metadata": {},
   "source": [
    "**Обоснование**\n",
    "\n",
    "Обоснование алгоритма находится в п. 2 настоящей работы."
   ]
  },
  {
   "cell_type": "markdown",
   "metadata": {},
   "source": [
    "## Проверка алгоритма"
   ]
  },
  {
   "cell_type": "markdown",
   "metadata": {},
   "source": [
    "### Функция, реализующая алгоритм \"шифрования\" для признаков валидационной и обучающей выборок"
   ]
  },
  {
   "cell_type": "code",
   "execution_count": 9,
   "metadata": {},
   "outputs": [],
   "source": [
    "def generate_invertible_matrix(size):\n",
    "    try:\n",
    "        matrix = np.random.normal(size=(size, size))\n",
    "        # проверим матрицу на обратимость, если нет, пробуем сгенерировать еще раз\n",
    "        # таким образом гарантируем, что матрица стопроцентно будет обратимой\n",
    "        np.linalg.inv(matrix)\n",
    "    except np.linalg.LinAlgError:\n",
    "        matrix = generate_invertible_matrix()\n",
    "    \n",
    "    return matrix"
   ]
  },
  {
   "cell_type": "code",
   "execution_count": 10,
   "metadata": {},
   "outputs": [],
   "source": [
    "def features_transform(features_train, features_valid):\n",
    "    size = features_train.shape[1]\n",
    "    matrix = generate_invertible_matrix(size)\n",
    "    \n",
    "    features_train_alt = features_train.values @ matrix\n",
    "    features_train_alt = pd.DataFrame(features_train_alt, columns = features_train.columns)\n",
    "    \n",
    "    features_valid_alt = features_valid.values @ matrix\n",
    "    features_valid_alt = pd.DataFrame(features_valid_alt, columns = features_valid.columns)\n",
    "    \n",
    "    return features_train_alt, features_valid_alt"
   ]
  },
  {
   "cell_type": "code",
   "execution_count": 11,
   "metadata": {},
   "outputs": [],
   "source": [
    "features_train_alt, features_valid_alt = features_transform(features_train, features_valid)"
   ]
  },
  {
   "cell_type": "markdown",
   "metadata": {},
   "source": [
    "### Обучение и валидация линейной регрессии с применением алгоритма \"шифрования\" данных, расчет R2 метрики"
   ]
  },
  {
   "cell_type": "code",
   "execution_count": 12,
   "metadata": {},
   "outputs": [
    {
     "name": "stdout",
     "output_type": "stream",
     "text": [
      "R2 = 0.435227571270436\n"
     ]
    }
   ],
   "source": [
    "model_2 = LinearRegression()\n",
    "model_2.fit(features_train_alt, target_train)\n",
    "predictions_valid = model_2.predict(features_valid_alt)\n",
    "\n",
    "print('R2 =', r2_score(target_valid, predictions_valid))"
   ]
  },
  {
   "cell_type": "markdown",
   "metadata": {},
   "source": [
    "## Выводы\n",
    "\n",
    "В данной работе данные пользователей были \"зашифрованы\" с помощью умножения матрицы признаков на обратимую матрицу. Данный метод не ухудшает качества линейной регрессии. Метрика R2 с и без умножения матрицы признаков на обратимую матрицу R2 = 0.435."
   ]
  }
 ],
 "metadata": {
  "ExecuteTimeLog": [
   {
    "duration": 5217,
    "start_time": "2023-01-24T05:45:21.453Z"
   },
   {
    "duration": 315,
    "start_time": "2023-01-24T05:45:26.672Z"
   },
   {
    "duration": 85,
    "start_time": "2023-01-24T05:45:59.573Z"
   },
   {
    "duration": 23,
    "start_time": "2023-01-24T05:46:00.554Z"
   },
   {
    "duration": 6322,
    "start_time": "2023-01-24T05:46:01.553Z"
   },
   {
    "duration": 104,
    "start_time": "2023-01-24T05:46:07.955Z"
   },
   {
    "duration": 313,
    "start_time": "2023-01-24T05:47:47.557Z"
   },
   {
    "duration": 95,
    "start_time": "2023-01-24T05:48:15.760Z"
   }
  ],
  "kernelspec": {
   "display_name": "Python 3 (ipykernel)",
   "language": "python",
   "name": "python3"
  },
  "language_info": {
   "codemirror_mode": {
    "name": "ipython",
    "version": 3
   },
   "file_extension": ".py",
   "mimetype": "text/x-python",
   "name": "python",
   "nbconvert_exporter": "python",
   "pygments_lexer": "ipython3",
   "version": "3.9.13"
  },
  "toc": {
   "base_numbering": 1,
   "nav_menu": {},
   "number_sections": true,
   "sideBar": true,
   "skip_h1_title": true,
   "title_cell": "Содержание",
   "title_sidebar": "Contents",
   "toc_cell": true,
   "toc_position": {},
   "toc_section_display": true,
   "toc_window_display": true
  },
  "vscode": {
   "interpreter": {
    "hash": "d4b41e3bf0d1523bebf4bd002cfd5bf8eb9f887c2cc1bee7578a7f1faa2796c8"
   }
  }
 },
 "nbformat": 4,
 "nbformat_minor": 2
}
