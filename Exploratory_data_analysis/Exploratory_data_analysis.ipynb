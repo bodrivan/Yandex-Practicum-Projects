{
 "cells": [
  {
   "cell_type": "markdown",
   "metadata": {},
   "source": [
    "# Исследование объявлений о продаже квартир\n",
    "\n",
    "В вашем распоряжении данные сервиса Яндекс.Недвижимость — архив объявлений о продаже квартир в Санкт-Петербурге и соседних населённых пунктов за несколько лет. Нужно научиться определять рыночную стоимость объектов недвижимости. Ваша задача — установить параметры. Это позволит построить автоматизированную систему: она отследит аномалии и мошенническую деятельность. \n",
    "\n",
    "По каждой квартире на продажу доступны два вида данных. Первые вписаны пользователем, вторые — получены автоматически на основе картографических данных. Например, расстояние до центра, аэропорта, ближайшего парка и водоёма. "
   ]
  },
  {
   "cell_type": "markdown",
   "metadata": {},
   "source": [
    "### Откройте файл с данными и изучите общую информацию. "
   ]
  },
  {
   "cell_type": "code",
   "execution_count": 1,
   "metadata": {},
   "outputs": [],
   "source": [
    "import pandas as pd\n",
    "import matplotlib.pyplot as plt\n",
    "import numpy as np\n",
    "import os\n",
    "import seaborn as sb"
   ]
  },
  {
   "cell_type": "code",
   "execution_count": 2,
   "metadata": {
    "scrolled": false
   },
   "outputs": [
    {
     "data": {
      "text/html": [
       "<div>\n",
       "<style scoped>\n",
       "    .dataframe tbody tr th:only-of-type {\n",
       "        vertical-align: middle;\n",
       "    }\n",
       "\n",
       "    .dataframe tbody tr th {\n",
       "        vertical-align: top;\n",
       "    }\n",
       "\n",
       "    .dataframe thead th {\n",
       "        text-align: right;\n",
       "    }\n",
       "</style>\n",
       "<table border=\"1\" class=\"dataframe\">\n",
       "  <thead>\n",
       "    <tr style=\"text-align: right;\">\n",
       "      <th></th>\n",
       "      <th>total_images</th>\n",
       "      <th>last_price</th>\n",
       "      <th>total_area</th>\n",
       "      <th>first_day_exposition</th>\n",
       "      <th>rooms</th>\n",
       "      <th>ceiling_height</th>\n",
       "      <th>floors_total</th>\n",
       "      <th>living_area</th>\n",
       "      <th>floor</th>\n",
       "      <th>is_apartment</th>\n",
       "      <th>studio</th>\n",
       "      <th>open_plan</th>\n",
       "      <th>kitchen_area</th>\n",
       "      <th>balcony</th>\n",
       "      <th>locality_name</th>\n",
       "      <th>airports_nearest</th>\n",
       "      <th>cityCenters_nearest</th>\n",
       "      <th>parks_around3000</th>\n",
       "      <th>parks_nearest</th>\n",
       "      <th>ponds_around3000</th>\n",
       "      <th>ponds_nearest</th>\n",
       "      <th>days_exposition</th>\n",
       "    </tr>\n",
       "  </thead>\n",
       "  <tbody>\n",
       "    <tr>\n",
       "      <th>0</th>\n",
       "      <td>20</td>\n",
       "      <td>13000000.0</td>\n",
       "      <td>108.0</td>\n",
       "      <td>2019-03-07T00:00:00</td>\n",
       "      <td>3</td>\n",
       "      <td>2.70</td>\n",
       "      <td>16.0</td>\n",
       "      <td>51.0</td>\n",
       "      <td>8</td>\n",
       "      <td>NaN</td>\n",
       "      <td>False</td>\n",
       "      <td>False</td>\n",
       "      <td>25.0</td>\n",
       "      <td>NaN</td>\n",
       "      <td>Санкт-Петербург</td>\n",
       "      <td>18863.0</td>\n",
       "      <td>16028.0</td>\n",
       "      <td>1.0</td>\n",
       "      <td>482.0</td>\n",
       "      <td>2.0</td>\n",
       "      <td>755.0</td>\n",
       "      <td>NaN</td>\n",
       "    </tr>\n",
       "    <tr>\n",
       "      <th>1</th>\n",
       "      <td>7</td>\n",
       "      <td>3350000.0</td>\n",
       "      <td>40.4</td>\n",
       "      <td>2018-12-04T00:00:00</td>\n",
       "      <td>1</td>\n",
       "      <td>NaN</td>\n",
       "      <td>11.0</td>\n",
       "      <td>18.6</td>\n",
       "      <td>1</td>\n",
       "      <td>NaN</td>\n",
       "      <td>False</td>\n",
       "      <td>False</td>\n",
       "      <td>11.0</td>\n",
       "      <td>2.0</td>\n",
       "      <td>посёлок Шушары</td>\n",
       "      <td>12817.0</td>\n",
       "      <td>18603.0</td>\n",
       "      <td>0.0</td>\n",
       "      <td>NaN</td>\n",
       "      <td>0.0</td>\n",
       "      <td>NaN</td>\n",
       "      <td>81.0</td>\n",
       "    </tr>\n",
       "    <tr>\n",
       "      <th>2</th>\n",
       "      <td>10</td>\n",
       "      <td>5196000.0</td>\n",
       "      <td>56.0</td>\n",
       "      <td>2015-08-20T00:00:00</td>\n",
       "      <td>2</td>\n",
       "      <td>NaN</td>\n",
       "      <td>5.0</td>\n",
       "      <td>34.3</td>\n",
       "      <td>4</td>\n",
       "      <td>NaN</td>\n",
       "      <td>False</td>\n",
       "      <td>False</td>\n",
       "      <td>8.3</td>\n",
       "      <td>0.0</td>\n",
       "      <td>Санкт-Петербург</td>\n",
       "      <td>21741.0</td>\n",
       "      <td>13933.0</td>\n",
       "      <td>1.0</td>\n",
       "      <td>90.0</td>\n",
       "      <td>2.0</td>\n",
       "      <td>574.0</td>\n",
       "      <td>558.0</td>\n",
       "    </tr>\n",
       "    <tr>\n",
       "      <th>3</th>\n",
       "      <td>0</td>\n",
       "      <td>64900000.0</td>\n",
       "      <td>159.0</td>\n",
       "      <td>2015-07-24T00:00:00</td>\n",
       "      <td>3</td>\n",
       "      <td>NaN</td>\n",
       "      <td>14.0</td>\n",
       "      <td>NaN</td>\n",
       "      <td>9</td>\n",
       "      <td>NaN</td>\n",
       "      <td>False</td>\n",
       "      <td>False</td>\n",
       "      <td>NaN</td>\n",
       "      <td>0.0</td>\n",
       "      <td>Санкт-Петербург</td>\n",
       "      <td>28098.0</td>\n",
       "      <td>6800.0</td>\n",
       "      <td>2.0</td>\n",
       "      <td>84.0</td>\n",
       "      <td>3.0</td>\n",
       "      <td>234.0</td>\n",
       "      <td>424.0</td>\n",
       "    </tr>\n",
       "    <tr>\n",
       "      <th>4</th>\n",
       "      <td>2</td>\n",
       "      <td>10000000.0</td>\n",
       "      <td>100.0</td>\n",
       "      <td>2018-06-19T00:00:00</td>\n",
       "      <td>2</td>\n",
       "      <td>3.03</td>\n",
       "      <td>14.0</td>\n",
       "      <td>32.0</td>\n",
       "      <td>13</td>\n",
       "      <td>NaN</td>\n",
       "      <td>False</td>\n",
       "      <td>False</td>\n",
       "      <td>41.0</td>\n",
       "      <td>NaN</td>\n",
       "      <td>Санкт-Петербург</td>\n",
       "      <td>31856.0</td>\n",
       "      <td>8098.0</td>\n",
       "      <td>2.0</td>\n",
       "      <td>112.0</td>\n",
       "      <td>1.0</td>\n",
       "      <td>48.0</td>\n",
       "      <td>121.0</td>\n",
       "    </tr>\n",
       "  </tbody>\n",
       "</table>\n",
       "</div>"
      ],
      "text/plain": [
       "   total_images  last_price  total_area first_day_exposition  rooms  \\\n",
       "0            20  13000000.0       108.0  2019-03-07T00:00:00      3   \n",
       "1             7   3350000.0        40.4  2018-12-04T00:00:00      1   \n",
       "2            10   5196000.0        56.0  2015-08-20T00:00:00      2   \n",
       "3             0  64900000.0       159.0  2015-07-24T00:00:00      3   \n",
       "4             2  10000000.0       100.0  2018-06-19T00:00:00      2   \n",
       "\n",
       "   ceiling_height  floors_total  living_area  floor is_apartment  studio  \\\n",
       "0            2.70          16.0         51.0      8          NaN   False   \n",
       "1             NaN          11.0         18.6      1          NaN   False   \n",
       "2             NaN           5.0         34.3      4          NaN   False   \n",
       "3             NaN          14.0          NaN      9          NaN   False   \n",
       "4            3.03          14.0         32.0     13          NaN   False   \n",
       "\n",
       "   open_plan  kitchen_area  balcony    locality_name  airports_nearest  \\\n",
       "0      False          25.0      NaN  Санкт-Петербург           18863.0   \n",
       "1      False          11.0      2.0   посёлок Шушары           12817.0   \n",
       "2      False           8.3      0.0  Санкт-Петербург           21741.0   \n",
       "3      False           NaN      0.0  Санкт-Петербург           28098.0   \n",
       "4      False          41.0      NaN  Санкт-Петербург           31856.0   \n",
       "\n",
       "   cityCenters_nearest  parks_around3000  parks_nearest  ponds_around3000  \\\n",
       "0              16028.0               1.0          482.0               2.0   \n",
       "1              18603.0               0.0            NaN               0.0   \n",
       "2              13933.0               1.0           90.0               2.0   \n",
       "3               6800.0               2.0           84.0               3.0   \n",
       "4               8098.0               2.0          112.0               1.0   \n",
       "\n",
       "   ponds_nearest  days_exposition  \n",
       "0          755.0              NaN  \n",
       "1            NaN             81.0  \n",
       "2          574.0            558.0  \n",
       "3          234.0            424.0  \n",
       "4           48.0            121.0  "
      ]
     },
     "metadata": {},
     "output_type": "display_data"
    }
   ],
   "source": [
    "path_1 = '/Users/ivanbodrenkov/Yandex.Disk.localized/Яндекс Практикум/3. Исследовательский анализ данных/Проект/real_estate_data.csv'\n",
    "path_2 = 'https://code.s3.yandex.net/datasets/real_estate_data.csv'\n",
    "\n",
    "if os.path.exists(path_1):\n",
    "    data = pd.read_csv(path_1, sep = '\\t')\n",
    "elif os.path.exists(path_2):\n",
    "    data = pd.read_csv(path_2, sep = '\\t')\n",
    "else:\n",
    "    print('Что-то пошло не так!')\n",
    "    \n",
    "pd.set_option('display.max_columns', 50) \n",
    "display(data.head(5))"
   ]
  },
  {
   "cell_type": "code",
   "execution_count": 3,
   "metadata": {
    "scrolled": false
   },
   "outputs": [
    {
     "name": "stdout",
     "output_type": "stream",
     "text": [
      "<class 'pandas.core.frame.DataFrame'>\n",
      "RangeIndex: 23699 entries, 0 to 23698\n",
      "Data columns (total 22 columns):\n",
      " #   Column                Non-Null Count  Dtype  \n",
      "---  ------                --------------  -----  \n",
      " 0   total_images          23699 non-null  int64  \n",
      " 1   last_price            23699 non-null  float64\n",
      " 2   total_area            23699 non-null  float64\n",
      " 3   first_day_exposition  23699 non-null  object \n",
      " 4   rooms                 23699 non-null  int64  \n",
      " 5   ceiling_height        14504 non-null  float64\n",
      " 6   floors_total          23613 non-null  float64\n",
      " 7   living_area           21796 non-null  float64\n",
      " 8   floor                 23699 non-null  int64  \n",
      " 9   is_apartment          2775 non-null   object \n",
      " 10  studio                23699 non-null  bool   \n",
      " 11  open_plan             23699 non-null  bool   \n",
      " 12  kitchen_area          21421 non-null  float64\n",
      " 13  balcony               12180 non-null  float64\n",
      " 14  locality_name         23650 non-null  object \n",
      " 15  airports_nearest      18157 non-null  float64\n",
      " 16  cityCenters_nearest   18180 non-null  float64\n",
      " 17  parks_around3000      18181 non-null  float64\n",
      " 18  parks_nearest         8079 non-null   float64\n",
      " 19  ponds_around3000      18181 non-null  float64\n",
      " 20  ponds_nearest         9110 non-null   float64\n",
      " 21  days_exposition       20518 non-null  float64\n",
      "dtypes: bool(2), float64(14), int64(3), object(3)\n",
      "memory usage: 3.7+ MB\n"
     ]
    }
   ],
   "source": [
    "data.info()"
   ]
  },
  {
   "cell_type": "code",
   "execution_count": 4,
   "metadata": {
    "scrolled": false
   },
   "outputs": [
    {
     "data": {
      "text/plain": [
       "array([[<AxesSubplot:title={'center':'total_images'}>,\n",
       "        <AxesSubplot:title={'center':'last_price'}>,\n",
       "        <AxesSubplot:title={'center':'total_area'}>,\n",
       "        <AxesSubplot:title={'center':'rooms'}>],\n",
       "       [<AxesSubplot:title={'center':'ceiling_height'}>,\n",
       "        <AxesSubplot:title={'center':'floors_total'}>,\n",
       "        <AxesSubplot:title={'center':'living_area'}>,\n",
       "        <AxesSubplot:title={'center':'floor'}>],\n",
       "       [<AxesSubplot:title={'center':'kitchen_area'}>,\n",
       "        <AxesSubplot:title={'center':'balcony'}>,\n",
       "        <AxesSubplot:title={'center':'airports_nearest'}>,\n",
       "        <AxesSubplot:title={'center':'cityCenters_nearest'}>],\n",
       "       [<AxesSubplot:title={'center':'parks_around3000'}>,\n",
       "        <AxesSubplot:title={'center':'parks_nearest'}>,\n",
       "        <AxesSubplot:title={'center':'ponds_around3000'}>,\n",
       "        <AxesSubplot:title={'center':'ponds_nearest'}>],\n",
       "       [<AxesSubplot:title={'center':'days_exposition'}>, <AxesSubplot:>,\n",
       "        <AxesSubplot:>, <AxesSubplot:>]], dtype=object)"
      ]
     },
     "execution_count": 4,
     "metadata": {},
     "output_type": "execute_result"
    },
    {
     "data": {
      "image/png": "[encoded data removed]",
      "text/plain": [
       "<Figure size 1080x1080 with 20 Axes>"
      ]
     },
     "metadata": {
      "needs_background": "light"
     },
     "output_type": "display_data"
    }
   ],
   "source": [
    "data.hist(bins = 50, figsize = (15, 15))"
   ]
  },
  {
   "cell_type": "code",
   "execution_count": 5,
   "metadata": {
    "scrolled": false
   },
   "outputs": [
    {
     "data": {
      "image/png": "[encoded data removed]",
      "text/plain": [
       "<Figure size 1080x1440 with 20 Axes>"
      ]
     },
     "metadata": {
      "needs_background": "light"
     },
     "output_type": "display_data"
    }
   ],
   "source": [
    "# Код ревьюера\n",
    "\n",
    "data.hist(figsize=(15, 20))\n",
    "None"
   ]
  },
  {
   "cell_type": "markdown",
   "metadata": {},
   "source": [
    "**Вывод по первому шагу:**\n",
    "В данных 23699 строк, многие колонки в датасете содержат пропуски, есть видимые на гистограммах аномалии и выбросы (высота потолков, комнаты, расстояние до аэропорта)."
   ]
  },
  {
   "cell_type": "markdown",
   "metadata": {},
   "source": [
    "### Предобработка данных"
   ]
  },
  {
   "cell_type": "markdown",
   "metadata": {},
   "source": [
    "Ниже описан чеклист, описывающий действия, которые были проделаны в рамках предобработки данных, способы работы с теми или иными особенностями датасета и прочие действия, проделанные с датасетом в процессе предобработки данных.\n",
    "\n",
    "Чеклист предобработки данных для себя.\n",
    "**Ликвидация пропусков:**\n",
    "- [x]  ceiling_height (высота потолков (м)) - медиана по населенному пункту, пропуски допустимы;\n",
    "- [x]  floors_total (всего этажей в доме) - nan -> убрать значения, так как необходим полностью заполненный столбец для анализа;\n",
    "- [x]  living_area (жилая площадь в квадратных метрах (м²)) - либо медиана по населенному пункту, либо удалить, либо не заполнять;\n",
    "- [x]  is_apartment (апартаменты) - nan -> False;\n",
    "- [x]  kitchen_area (площадь кухни в квадратных метрах (м²)) - nan -> если студия, то 0, если не студия то либо разность общей с жилой, **либо не заполнять**;\n",
    "- [x]  balcony (число балконов) - nan -> 0;\n",
    "- [x]  locality_name (название населённого пункта) - nan -> удаление;\n",
    "- [x]  airports_nearest (расстояние до ближайшего аэропорта в метрах (м)) - nan - медиана по населенному пункту;\n",
    "- [x]  cityCenters_nearest (расстояние до центра города (м) - nan - медиана по населенному пункту;\n",
    "- [x]  parks_around3000 (число парков в радиусе 3 км) - nan - 0;\n",
    "- [x]  parks_nearest (расстояние до ближайшего парка (м)) - nan -> пропуск допустим, если в радиусе 3км 0 парков;\n",
    "- [x]  ponds_around3000 (число парков в радиусе 3 км) - nan - 0;\n",
    "- [x]  ponds_nearest (расстояние до ближайшего парка (м))  - nan -> пропуск допустим, если в радиусе 3км 0 прудов;\n",
    "- [x]  days_exposition (сколько дней было размещено объявление (от публикации до снятия)) - nan - не проданное объявление (пропуск допустим).\n",
    "\n",
    "**Дополнительные действия по предобработке данных.**\n",
    "- [x]  удаление неявных дубликатов в locality_name (13 населенных пунктов со сходным названием и 36 неявных дубликатов, хороший пример \"поселок Лесное\", \"посёлок Лесное\" и \"коттеджный поселок Лесное\");\n",
    "- [x]  перевод даты и времени в datetime;\n",
    "- [x]  удаление строк датасета с неверными данными по жилой/общей площади. По БТИ площадь кухни не бывает менее 5 метров, но сделано допущение, что у студии может быть площадь кухни 0;\n",
    "- [x]  работа с данными по высоте потолка, по СП 54.13330.2016 \"СНиП 31-01-2003 Здания жилые многоквартирные\" минимальная высота потолка ограничена значением 2.5 м (для жилых помещений). Для данного параметра по СНИПам можно выяснить много тонкостей, но в рамках задачи принято решение принять значения менее 2.5 метров ошибочными, также ошибочными признаны данные с высотой потолка в диапазоне не включительно от 10.3 метра и до 25 метров. Высоты потолков от 25 метров включительно подлежат делению на 10; \n",
    "- [x]  удалить квартиры с 0 комнат;\n",
    "- [x]  удалить квартиры с 0м до аэропорта."
   ]
  },
  {
   "cell_type": "code",
   "execution_count": 6,
   "metadata": {
    "scrolled": false
   },
   "outputs": [
    {
     "name": "stdout",
     "output_type": "stream",
     "text": [
      "0\n",
      "0\n",
      "<class 'pandas.core.frame.DataFrame'>\n",
      "RangeIndex: 23699 entries, 0 to 23698\n",
      "Data columns (total 22 columns):\n",
      " #   Column                Non-Null Count  Dtype  \n",
      "---  ------                --------------  -----  \n",
      " 0   total_images          23699 non-null  int64  \n",
      " 1   last_price            23699 non-null  float64\n",
      " 2   total_area            23699 non-null  float64\n",
      " 3   first_day_exposition  23699 non-null  object \n",
      " 4   rooms                 23699 non-null  int64  \n",
      " 5   ceiling_height        14504 non-null  float64\n",
      " 6   floors_total          23613 non-null  float64\n",
      " 7   living_area           21796 non-null  float64\n",
      " 8   floor                 23699 non-null  int64  \n",
      " 9   is_apartment          2775 non-null   object \n",
      " 10  studio                23699 non-null  bool   \n",
      " 11  open_plan             23699 non-null  bool   \n",
      " 12  kitchen_area          21421 non-null  float64\n",
      " 13  balcony               12180 non-null  float64\n",
      " 14  locality_name         23650 non-null  object \n",
      " 15  airports_nearest      18157 non-null  float64\n",
      " 16  cityCenters_nearest   18180 non-null  float64\n",
      " 17  parks_around3000      23699 non-null  float64\n",
      " 18  parks_nearest         8079 non-null   float64\n",
      " 19  ponds_around3000      23699 non-null  float64\n",
      " 20  ponds_nearest         9110 non-null   float64\n",
      " 21  days_exposition       20518 non-null  float64\n",
      "dtypes: bool(2), float64(14), int64(3), object(3)\n",
      "memory usage: 3.7+ MB\n"
     ]
    }
   ],
   "source": [
    "#Обработка пропусков по прудам и паркам\n",
    "\n",
    "data['parks_around3000'] = data['parks_around3000'].fillna(0)\n",
    "data['ponds_around3000'] = data['ponds_around3000'].fillna(0)\n",
    "\n",
    "#проверка на то, что пропуск в расстоянии до ближайшего парка/пруда только у тех квартир, где в количестве \n",
    "#парков/прудов в радиусе 3км стоит 0\n",
    "print(data.loc[(data['parks_around3000'] != 0) & (data['parks_nearest'].isna() == True)].shape[0])\n",
    "print(data.loc[(data['ponds_around3000'] != 0) & (data['ponds_nearest'].isna() == True)].shape[0])\n",
    "\n",
    "data.info()"
   ]
  },
  {
   "cell_type": "code",
   "execution_count": 7,
   "metadata": {
    "scrolled": false
   },
   "outputs": [
    {
     "name": "stdout",
     "output_type": "stream",
     "text": [
      "Кол-во квартир с не указанным населенным пунктом: 49 \n",
      "\n",
      "Кол-во квартир с не указанным населенным пунктом после удаления строк датафрейма: 0 \n",
      "\n",
      "Кол-во уникальных названий населенных пунктов до удаления неявных дубликатов: 364 \n",
      "\n",
      "Кол-во уникальных названий населенных пунктов после удаления неявных дубликатов: 325 \n",
      "\n",
      "<class 'pandas.core.frame.DataFrame'>\n",
      "Int64Index: 23650 entries, 0 to 23698\n",
      "Data columns (total 22 columns):\n",
      " #   Column                Non-Null Count  Dtype  \n",
      "---  ------                --------------  -----  \n",
      " 0   total_images          23650 non-null  int64  \n",
      " 1   last_price            23650 non-null  float64\n",
      " 2   total_area            23650 non-null  float64\n",
      " 3   first_day_exposition  23650 non-null  object \n",
      " 4   rooms                 23650 non-null  int64  \n",
      " 5   ceiling_height        14490 non-null  float64\n",
      " 6   floors_total          23565 non-null  float64\n",
      " 7   living_area           21752 non-null  float64\n",
      " 8   floor                 23650 non-null  int64  \n",
      " 9   is_apartment          2760 non-null   object \n",
      " 10  studio                23650 non-null  bool   \n",
      " 11  open_plan             23650 non-null  bool   \n",
      " 12  kitchen_area          21381 non-null  float64\n",
      " 13  balcony               12137 non-null  float64\n",
      " 14  locality_name         23650 non-null  object \n",
      " 15  airports_nearest      18116 non-null  float64\n",
      " 16  cityCenters_nearest   18139 non-null  float64\n",
      " 17  parks_around3000      23650 non-null  float64\n",
      " 18  parks_nearest         8064 non-null   float64\n",
      " 19  ponds_around3000      23650 non-null  float64\n",
      " 20  ponds_nearest         9085 non-null   float64\n",
      " 21  days_exposition       20470 non-null  float64\n",
      "dtypes: bool(2), float64(14), int64(3), object(3)\n",
      "memory usage: 3.8+ MB\n"
     ]
    }
   ],
   "source": [
    "#пропуски по названию населенного пункта и обработка данных столбца\n",
    "\n",
    "def locality_name_modder(df):\n",
    "    df = df.replace('городской поселок Большая Ижора', 'поселок городского типа Большая Ижора')\n",
    "    df = df.replace('городской посёлок Лесогорский', 'поселок городского типа Лесогорский')\n",
    "    df = df.replace('городской посёлок Мга', 'посёлок городского типа Мга')\n",
    "    df = df.replace('городской посёлок Назия', 'поселок городского типа Назия')\n",
    "    df = df.replace('Рябово', 'поселок городского типа Рябово')\n",
    "    df = df.replace('городской посёлок Советский', 'поселок городского типа Советский')\n",
    "    df = df.replace('городской посёлок Янино-1', 'городской поселок Янино-1')\n",
    "    df = df.replace('деревня Кудрово', 'Кудрово')\n",
    "    df = df.replace('деревня Фёдоровское', 'городской поселок Фёдоровское')\n",
    "    df = df.replace('коттеджный посёлок Лесное', 'коттеджный поселок Лесное')\n",
    "    df = df.replace('посёлок Аннино', 'поселок Аннино')\n",
    "    df = df.replace('посёлок Бугры', 'поселок Бугры')\n",
    "    df = df.replace('посёлок Возрождение', 'поселок Возрождение')\n",
    "    df = df.replace('посёлок Гаврилово', 'поселок Гаврилово')\n",
    "    df = df.replace('поселок Гарболово', 'деревня Гарболово')\n",
    "    df = df.replace('посёлок городского типа Вырица', 'поселок городского типа Вырица')\n",
    "    df = df.replace('посёлок городского типа имени Свердлова', 'поселок городского типа имени Свердлова')\n",
    "    df = df.replace('посёлок городского типа Красный Бор', 'поселок городского типа Красный Бор')\n",
    "    df = df.replace('посёлок городского типа Кузьмоловский', 'поселок городского типа Кузьмоловский')\n",
    "    df = df.replace('посёлок городского типа Лебяжье', 'поселок городского типа Лебяжье')\n",
    "    df = df.replace('посёлок городского типа Рощино', 'поселок городского типа Рощино')\n",
    "    df = df.replace('посёлок городского типа Рябово', 'поселок городского типа Рябово')\n",
    "    df = df.replace('посёлок городского типа Токсово', 'поселок городского типа Токсово')\n",
    "    df = df.replace('посёлок городского типа Форносово', 'поселок городского типа Форносово')\n",
    "    df = df.replace('посёлок Жилгородок', 'поселок Жилгородок')\n",
    "    df = df.replace('посёлок Ильичёво', 'поселок Ильичёво')\n",
    "    df = df.replace('посёлок Кобралово', 'поселок Кобралово')\n",
    "    df = df.replace('посёлок Коробицыно', 'поселок Коробицыно')\n",
    "    df = df.replace('посёлок Лисий Нос', 'поселок Лисий Нос')\n",
    "    df = df.replace('посёлок Мельниково', 'поселок Мельниково')\n",
    "    df = df.replace('посёлок Мурино', 'поселок Мурино')\n",
    "    df = df.replace('посёлок Новый Свет', 'поселок Новый Свет')\n",
    "    df = df.replace('посёлок Пансионат Зелёный Бор', 'поселок Пансионат Зелёный Бор')\n",
    "    df = df.replace('посёлок Перово', 'поселок Перово')\n",
    "    df = df.replace('посёлок Победа', 'поселок Победа')\n",
    "    df = df.replace('посёлок Поляны', 'поселок Поляны')\n",
    "    df = df.replace('посёлок Старая Малукса', 'поселок Старая Малукса')\n",
    "    df = df.replace('посёлок Стеклянный', 'поселок Стеклянный')\n",
    "    df = df.replace('посёлок Сумино', 'поселок Сумино')\n",
    "    df = df.replace('посёлок Тельмана', 'поселок Тельмана')\n",
    "    df = df.replace('посёлок Терволово', 'поселок Терволово')\n",
    "    df = df.replace('посёлок Усть-Луга', 'поселок Усть-Луга')\n",
    "    \n",
    "    return df\n",
    "\n",
    "print('Кол-во квартир с не указанным населенным пунктом:', \n",
    "      data.loc[data['locality_name'].isna() == True].shape[0], '\\n')\n",
    "data = data.dropna(subset = ['locality_name'])\n",
    "print('Кол-во квартир с не указанным населенным пунктом после удаления строк датафрейма:', \n",
    "      data.loc[data['locality_name'].isna() == True].shape[0], '\\n')\n",
    "\n",
    "print('Кол-во уникальных названий населенных пунктов до удаления неявных дубликатов:', \n",
    "      data['locality_name'].nunique(), '\\n')\n",
    "data = locality_name_modder(data)\n",
    "print('Кол-во уникальных названий населенных пунктов после удаления неявных дубликатов:', \n",
    "      data['locality_name'].nunique(), '\\n')\n",
    "data.info()"
   ]
  },
  {
   "cell_type": "code",
   "execution_count": 8,
   "metadata": {
    "scrolled": false
   },
   "outputs": [
    {
     "name": "stdout",
     "output_type": "stream",
     "text": [
      "<class 'pandas.core.frame.DataFrame'>\n",
      "Int64Index: 23650 entries, 0 to 23698\n",
      "Data columns (total 22 columns):\n",
      " #   Column                Non-Null Count  Dtype  \n",
      "---  ------                --------------  -----  \n",
      " 0   total_images          23650 non-null  int64  \n",
      " 1   last_price            23650 non-null  float64\n",
      " 2   total_area            23650 non-null  float64\n",
      " 3   first_day_exposition  23650 non-null  object \n",
      " 4   rooms                 23650 non-null  int64  \n",
      " 5   ceiling_height        14490 non-null  float64\n",
      " 6   floors_total          23565 non-null  float64\n",
      " 7   living_area           21752 non-null  float64\n",
      " 8   floor                 23650 non-null  int64  \n",
      " 9   is_apartment          23650 non-null  bool   \n",
      " 10  studio                23650 non-null  bool   \n",
      " 11  open_plan             23650 non-null  bool   \n",
      " 12  kitchen_area          21381 non-null  float64\n",
      " 13  balcony               23650 non-null  float64\n",
      " 14  locality_name         23650 non-null  object \n",
      " 15  airports_nearest      18116 non-null  float64\n",
      " 16  cityCenters_nearest   18139 non-null  float64\n",
      " 17  parks_around3000      23650 non-null  float64\n",
      " 18  parks_nearest         8064 non-null   float64\n",
      " 19  ponds_around3000      23650 non-null  float64\n",
      " 20  ponds_nearest         9085 non-null   float64\n",
      " 21  days_exposition       20470 non-null  float64\n",
      "dtypes: bool(3), float64(14), int64(3), object(2)\n",
      "memory usage: 3.7+ MB\n"
     ]
    }
   ],
   "source": [
    "#балконы и апартаменты\n",
    "\n",
    "data['balcony'] = data['balcony'].fillna(0)\n",
    "data['is_apartment'] = data['is_apartment'].fillna(False)\n",
    "\n",
    "data.info()"
   ]
  },
  {
   "cell_type": "code",
   "execution_count": 9,
   "metadata": {
    "scrolled": false
   },
   "outputs": [
    {
     "name": "stdout",
     "output_type": "stream",
     "text": [
      "<class 'pandas.core.frame.DataFrame'>\n",
      "Int64Index: 22126 entries, 0 to 23698\n",
      "Data columns (total 22 columns):\n",
      " #   Column                Non-Null Count  Dtype  \n",
      "---  ------                --------------  -----  \n",
      " 0   total_images          22126 non-null  int64  \n",
      " 1   last_price            22126 non-null  float64\n",
      " 2   total_area            22126 non-null  float64\n",
      " 3   first_day_exposition  22126 non-null  object \n",
      " 4   rooms                 22126 non-null  int64  \n",
      " 5   ceiling_height        13879 non-null  float64\n",
      " 6   floors_total          22074 non-null  float64\n",
      " 7   living_area           22126 non-null  float64\n",
      " 8   floor                 22126 non-null  int64  \n",
      " 9   is_apartment          22126 non-null  bool   \n",
      " 10  studio                22126 non-null  bool   \n",
      " 11  open_plan             22126 non-null  bool   \n",
      " 12  kitchen_area          21317 non-null  float64\n",
      " 13  balcony               22126 non-null  float64\n",
      " 14  locality_name         22126 non-null  object \n",
      " 15  airports_nearest      17085 non-null  float64\n",
      " 16  cityCenters_nearest   17106 non-null  float64\n",
      " 17  parks_around3000      22126 non-null  float64\n",
      " 18  parks_nearest         7593 non-null   float64\n",
      " 19  ponds_around3000      22126 non-null  float64\n",
      " 20  ponds_nearest         8539 non-null   float64\n",
      " 21  days_exposition       19065 non-null  float64\n",
      "dtypes: bool(3), float64(14), int64(3), object(2)\n",
      "memory usage: 3.4+ MB\n"
     ]
    }
   ],
   "source": [
    "#удаление строк датасета не проходящих проверку по площадям (общая площадь <= площадь кухни + жилая площадь)\n",
    "\n",
    "data = data.loc[~(data['kitchen_area'] + data['living_area'] > data['total_area'])]\n",
    "data['living_area'] = data['living_area'].fillna(data['total_area'] - data['kitchen_area'])\n",
    "data = data.loc[data['living_area'].isna() == False]\n",
    "\n",
    "data.info()"
   ]
  },
  {
   "cell_type": "code",
   "execution_count": 10,
   "metadata": {
    "scrolled": false
   },
   "outputs": [
    {
     "name": "stdout",
     "output_type": "stream",
     "text": [
      "<class 'pandas.core.frame.DataFrame'>\n",
      "Int64Index: 22126 entries, 0 to 23698\n",
      "Data columns (total 22 columns):\n",
      " #   Column                Non-Null Count  Dtype  \n",
      "---  ------                --------------  -----  \n",
      " 0   total_images          22126 non-null  int64  \n",
      " 1   last_price            22126 non-null  float64\n",
      " 2   total_area            22126 non-null  float64\n",
      " 3   first_day_exposition  22126 non-null  object \n",
      " 4   rooms                 22126 non-null  int64  \n",
      " 5   ceiling_height        13944 non-null  float64\n",
      " 6   floors_total          22074 non-null  float64\n",
      " 7   living_area           22126 non-null  float64\n",
      " 8   floor                 22126 non-null  int64  \n",
      " 9   is_apartment          22126 non-null  bool   \n",
      " 10  studio                22126 non-null  bool   \n",
      " 11  open_plan             22126 non-null  bool   \n",
      " 12  kitchen_area          21456 non-null  float64\n",
      " 13  balcony               22126 non-null  float64\n",
      " 14  locality_name         22126 non-null  object \n",
      " 15  airports_nearest      17137 non-null  float64\n",
      " 16  cityCenters_nearest   17158 non-null  float64\n",
      " 17  parks_around3000      22126 non-null  float64\n",
      " 18  parks_nearest         7713 non-null   float64\n",
      " 19  ponds_around3000      22126 non-null  float64\n",
      " 20  ponds_nearest         8632 non-null   float64\n",
      " 21  days_exposition       19077 non-null  float64\n",
      "dtypes: bool(3), float64(14), int64(3), object(2)\n",
      "memory usage: 3.4+ MB\n"
     ]
    }
   ],
   "source": [
    "#площадь кухни для студий\n",
    "\n",
    "#у всех студий были пропуски по площади кухни, пропуски были заполнены 0\n",
    "data.loc[(data['kitchen_area'].isna() == True) & (data['studio'] == True)] =\\\n",
    "data.loc[(data['kitchen_area'].isna() == True) & (data['studio'] == True)].fillna(0)\n",
    "\n",
    "data.info()"
   ]
  },
  {
   "cell_type": "code",
   "execution_count": 11,
   "metadata": {
    "scrolled": false
   },
   "outputs": [
    {
     "name": "stdout",
     "output_type": "stream",
     "text": [
      "<class 'pandas.core.frame.DataFrame'>\n",
      "Int64Index: 22074 entries, 0 to 23698\n",
      "Data columns (total 22 columns):\n",
      " #   Column                Non-Null Count  Dtype  \n",
      "---  ------                --------------  -----  \n",
      " 0   total_images          22074 non-null  int64  \n",
      " 1   last_price            22074 non-null  float64\n",
      " 2   total_area            22074 non-null  float64\n",
      " 3   first_day_exposition  22074 non-null  object \n",
      " 4   rooms                 22074 non-null  int64  \n",
      " 5   ceiling_height        13938 non-null  float64\n",
      " 6   floors_total          22074 non-null  float64\n",
      " 7   living_area           22074 non-null  float64\n",
      " 8   floor                 22074 non-null  int64  \n",
      " 9   is_apartment          22074 non-null  bool   \n",
      " 10  studio                22074 non-null  bool   \n",
      " 11  open_plan             22074 non-null  bool   \n",
      " 12  kitchen_area          21418 non-null  float64\n",
      " 13  balcony               22074 non-null  float64\n",
      " 14  locality_name         22074 non-null  object \n",
      " 15  airports_nearest      17089 non-null  float64\n",
      " 16  cityCenters_nearest   17110 non-null  float64\n",
      " 17  parks_around3000      22074 non-null  float64\n",
      " 18  parks_nearest         7692 non-null   float64\n",
      " 19  ponds_around3000      22074 non-null  float64\n",
      " 20  ponds_nearest         8600 non-null   float64\n",
      " 21  days_exposition       19031 non-null  float64\n",
      "dtypes: bool(3), float64(14), int64(3), object(2)\n",
      "memory usage: 3.4+ MB\n"
     ]
    }
   ],
   "source": [
    "# пропуски по количеству этажей в доме \n",
    "data = data.loc[data['floors_total'].isna() == False]\n",
    "\n",
    "data.info()"
   ]
  },
  {
   "cell_type": "code",
   "execution_count": 12,
   "metadata": {
    "scrolled": false
   },
   "outputs": [
    {
     "name": "stdout",
     "output_type": "stream",
     "text": [
      "<class 'pandas.core.frame.DataFrame'>\n",
      "Int64Index: 22074 entries, 0 to 23698\n",
      "Data columns (total 22 columns):\n",
      " #   Column                Non-Null Count  Dtype         \n",
      "---  ------                --------------  -----         \n",
      " 0   total_images          22074 non-null  int64         \n",
      " 1   last_price            22074 non-null  float64       \n",
      " 2   total_area            22074 non-null  float64       \n",
      " 3   first_day_exposition  22074 non-null  datetime64[ns]\n",
      " 4   rooms                 22074 non-null  int64         \n",
      " 5   ceiling_height        13938 non-null  float64       \n",
      " 6   floors_total          22074 non-null  int64         \n",
      " 7   living_area           22074 non-null  float64       \n",
      " 8   floor                 22074 non-null  int64         \n",
      " 9   is_apartment          22074 non-null  bool          \n",
      " 10  studio                22074 non-null  bool          \n",
      " 11  open_plan             22074 non-null  bool          \n",
      " 12  kitchen_area          21418 non-null  float64       \n",
      " 13  balcony               22074 non-null  float64       \n",
      " 14  locality_name         22074 non-null  object        \n",
      " 15  airports_nearest      17089 non-null  float64       \n",
      " 16  cityCenters_nearest   17110 non-null  float64       \n",
      " 17  parks_around3000      22074 non-null  float64       \n",
      " 18  parks_nearest         7692 non-null   float64       \n",
      " 19  ponds_around3000      22074 non-null  float64       \n",
      " 20  ponds_nearest         8600 non-null   float64       \n",
      " 21  days_exposition       19031 non-null  float64       \n",
      "dtypes: bool(3), datetime64[ns](1), float64(13), int64(4), object(1)\n",
      "memory usage: 3.4+ MB\n"
     ]
    }
   ],
   "source": [
    "# изменение типов данных\n",
    "\n",
    "#изменение типа данных для столбца с датой размещения\n",
    "data['first_day_exposition'] = pd.to_datetime(data['first_day_exposition'],format = '%Y-%m-%dT%H:%M:%S')\n",
    "\n",
    "#изменение типа данных для столбца с этажами\n",
    "data['floors_total'] = data['floors_total'].astype('int')\n",
    "\n",
    "data.info()"
   ]
  },
  {
   "cell_type": "code",
   "execution_count": 13,
   "metadata": {
    "scrolled": false
   },
   "outputs": [
    {
     "name": "stdout",
     "output_type": "stream",
     "text": [
      "Процент значений с высотой потолка менее 2.5 и от 10.3 до 25: 0.006206396665760623 \n",
      "\n",
      "<class 'pandas.core.frame.DataFrame'>\n",
      "Int64Index: 21937 entries, 22869 to 23696\n",
      "Data columns (total 22 columns):\n",
      " #   Column                Non-Null Count  Dtype         \n",
      "---  ------                --------------  -----         \n",
      " 0   total_images          21937 non-null  int64         \n",
      " 1   last_price            21937 non-null  float64       \n",
      " 2   total_area            21937 non-null  float64       \n",
      " 3   first_day_exposition  21937 non-null  datetime64[ns]\n",
      " 4   rooms                 21937 non-null  int64         \n",
      " 5   ceiling_height        21847 non-null  float64       \n",
      " 6   floors_total          21937 non-null  int64         \n",
      " 7   living_area           21937 non-null  float64       \n",
      " 8   floor                 21937 non-null  int64         \n",
      " 9   is_apartment          21937 non-null  bool          \n",
      " 10  studio                21937 non-null  bool          \n",
      " 11  open_plan             21937 non-null  bool          \n",
      " 12  kitchen_area          21283 non-null  float64       \n",
      " 13  balcony               21937 non-null  float64       \n",
      " 14  locality_name         21937 non-null  object        \n",
      " 15  airports_nearest      16979 non-null  float64       \n",
      " 16  cityCenters_nearest   17000 non-null  float64       \n",
      " 17  parks_around3000      21937 non-null  float64       \n",
      " 18  parks_nearest         7600 non-null   float64       \n",
      " 19  ponds_around3000      21937 non-null  float64       \n",
      " 20  ponds_nearest         8512 non-null   float64       \n",
      " 21  days_exposition       18905 non-null  float64       \n",
      "dtypes: bool(3), datetime64[ns](1), float64(13), int64(4), object(1)\n",
      "memory usage: 3.4+ MB\n"
     ]
    }
   ],
   "source": [
    "#обработка данных по высоте потолка\n",
    "#удаление некорректных значений\n",
    "\n",
    "delete_percent = data[((data['ceiling_height'] < 2.5)\\\n",
    "                       | ((data['ceiling_height'] > 10.3)\\\n",
    "                          & (data['ceiling_height'] < 25)))].shape[0]/data.shape[0]\n",
    "print('Процент значений с высотой потолка менее 2.5 и от 10.3 до 25:', delete_percent, '\\n')\n",
    "\n",
    "#удаление квартир с ошибочной высотой потолка\n",
    "data = data[~((data['ceiling_height'] < 2.5)\\\n",
    "              | ((data['ceiling_height'] > 10.3)\\\n",
    "                 & (data['ceiling_height'] < 25)))].sort_values('ceiling_height', ascending = False)\n",
    "\n",
    "#деление на 10 значений в диапазоне высот более 25 метров\n",
    "data['ceiling_height'] = data['ceiling_height'].apply(lambda x: x/10 if x >= 25 else x)\n",
    "\n",
    "#заполнение пропусков высот потолков медианами по населенному пункту где это возможно\n",
    "data['ceiling_height'] =\\\n",
    "data['ceiling_height'].fillna(data.groupby('locality_name')['ceiling_height'].transform('median'))\n",
    "\n",
    "data.info()"
   ]
  },
  {
   "cell_type": "code",
   "execution_count": 14,
   "metadata": {
    "scrolled": false
   },
   "outputs": [
    {
     "name": "stdout",
     "output_type": "stream",
     "text": [
      "<class 'pandas.core.frame.DataFrame'>\n",
      "Int64Index: 21937 entries, 22869 to 23696\n",
      "Data columns (total 22 columns):\n",
      " #   Column                Non-Null Count  Dtype         \n",
      "---  ------                --------------  -----         \n",
      " 0   total_images          21937 non-null  int64         \n",
      " 1   last_price            21937 non-null  float64       \n",
      " 2   total_area            21937 non-null  float64       \n",
      " 3   first_day_exposition  21937 non-null  datetime64[ns]\n",
      " 4   rooms                 21937 non-null  int64         \n",
      " 5   ceiling_height        21847 non-null  float64       \n",
      " 6   floors_total          21937 non-null  int64         \n",
      " 7   living_area           21937 non-null  float64       \n",
      " 8   floor                 21937 non-null  int64         \n",
      " 9   is_apartment          21937 non-null  bool          \n",
      " 10  studio                21937 non-null  bool          \n",
      " 11  open_plan             21937 non-null  bool          \n",
      " 12  kitchen_area          21283 non-null  float64       \n",
      " 13  balcony               21937 non-null  float64       \n",
      " 14  locality_name         21937 non-null  object        \n",
      " 15  airports_nearest      18851 non-null  float64       \n",
      " 16  cityCenters_nearest   17000 non-null  float64       \n",
      " 17  parks_around3000      21937 non-null  float64       \n",
      " 18  parks_nearest         7600 non-null   float64       \n",
      " 19  ponds_around3000      21937 non-null  float64       \n",
      " 20  ponds_nearest         8512 non-null   float64       \n",
      " 21  days_exposition       18905 non-null  float64       \n",
      "dtypes: bool(3), datetime64[ns](1), float64(13), int64(4), object(1)\n",
      "memory usage: 3.4+ MB\n"
     ]
    }
   ],
   "source": [
    "#аэропорты и центр города\n",
    "\n",
    "for locality_name in data['locality_name'].unique():\n",
    "    data.loc[data['locality_name'] == locality_name, 'airports_nearest'] =\\\n",
    "    data.loc[data['locality_name'] == locality_name, 'airports_nearest']\\\n",
    "    .fillna(data.loc[data['locality_name'] == locality_name, 'airports_nearest'].median())\n",
    "    \n",
    "\n",
    "for locality_name in data['locality_name'].unique():\n",
    "    data.loc[data['locality_name'] == locality_name, 'cityCenters_nearest'] =\\\n",
    "    data.loc[data['locality_name'] == locality_name, 'cityCenters_nearest']\\\n",
    "    .fillna(data.loc[data['cityCenters_nearest'] == locality_name, 'cityCenters_nearest'].median())\n",
    "    \n",
    "data.info()"
   ]
  },
  {
   "cell_type": "code",
   "execution_count": 15,
   "metadata": {},
   "outputs": [
    {
     "name": "stdout",
     "output_type": "stream",
     "text": [
      "-9\n"
     ]
    }
   ],
   "source": [
    "# Код ревьюера\n",
    "\n",
    "# Так можно преобразовать твои построения ниже\n",
    "for locality_name in data['locality_name'].unique():\n",
    "    data.loc[data['locality_name'] == locality_name, 'airports_nearest'] = \\\n",
    "        data.loc[data['locality_name'] == locality_name, 'airports_nearest']\\\n",
    "        .fillna(data.loc[data['locality_name'] == locality_name, 'airports_nearest'].median()) \n",
    "\n",
    "# Большие вычисления всегда можно взять в скобки\n",
    "a = (1\n",
    "    + 2\n",
    "    + (3 - 4)\n",
    "    - 5\n",
    "    - 6)\n",
    "\n",
    "print(a)"
   ]
  },
  {
   "cell_type": "code",
   "execution_count": 16,
   "metadata": {
    "scrolled": false
   },
   "outputs": [
    {
     "name": "stdout",
     "output_type": "stream",
     "text": [
      "<class 'pandas.core.frame.DataFrame'>\n",
      "Int64Index: 21813 entries, 22869 to 23696\n",
      "Data columns (total 22 columns):\n",
      " #   Column                Non-Null Count  Dtype         \n",
      "---  ------                --------------  -----         \n",
      " 0   total_images          20036 non-null  float64       \n",
      " 1   last_price            20036 non-null  float64       \n",
      " 2   total_area            20036 non-null  float64       \n",
      " 3   first_day_exposition  20036 non-null  datetime64[ns]\n",
      " 4   rooms                 20036 non-null  float64       \n",
      " 5   ceiling_height        19947 non-null  float64       \n",
      " 6   floors_total          20036 non-null  float64       \n",
      " 7   living_area           20036 non-null  float64       \n",
      " 8   floor                 20036 non-null  float64       \n",
      " 9   is_apartment          20036 non-null  object        \n",
      " 10  studio                20036 non-null  object        \n",
      " 11  open_plan             20036 non-null  object        \n",
      " 12  kitchen_area          19531 non-null  float64       \n",
      " 13  balcony               20036 non-null  float64       \n",
      " 14  locality_name         20036 non-null  object        \n",
      " 15  airports_nearest      16954 non-null  float64       \n",
      " 16  cityCenters_nearest   16899 non-null  float64       \n",
      " 17  parks_around3000      20036 non-null  float64       \n",
      " 18  parks_nearest         7520 non-null   float64       \n",
      " 19  ponds_around3000      20036 non-null  float64       \n",
      " 20  ponds_nearest         8422 non-null   float64       \n",
      " 21  days_exposition       17205 non-null  float64       \n",
      "dtypes: datetime64[ns](1), float64(17), object(4)\n",
      "memory usage: 3.8+ MB\n"
     ]
    },
    {
     "data": {
      "text/html": [
       "<div>\n",
       "<style scoped>\n",
       "    .dataframe tbody tr th:only-of-type {\n",
       "        vertical-align: middle;\n",
       "    }\n",
       "\n",
       "    .dataframe tbody tr th {\n",
       "        vertical-align: top;\n",
       "    }\n",
       "\n",
       "    .dataframe thead th {\n",
       "        text-align: right;\n",
       "    }\n",
       "</style>\n",
       "<table border=\"1\" class=\"dataframe\">\n",
       "  <thead>\n",
       "    <tr style=\"text-align: right;\">\n",
       "      <th></th>\n",
       "      <th>total_images</th>\n",
       "      <th>last_price</th>\n",
       "      <th>total_area</th>\n",
       "      <th>first_day_exposition</th>\n",
       "      <th>rooms</th>\n",
       "      <th>ceiling_height</th>\n",
       "      <th>floors_total</th>\n",
       "      <th>living_area</th>\n",
       "      <th>floor</th>\n",
       "      <th>is_apartment</th>\n",
       "      <th>studio</th>\n",
       "      <th>open_plan</th>\n",
       "      <th>kitchen_area</th>\n",
       "      <th>balcony</th>\n",
       "      <th>locality_name</th>\n",
       "      <th>airports_nearest</th>\n",
       "      <th>cityCenters_nearest</th>\n",
       "      <th>parks_around3000</th>\n",
       "      <th>parks_nearest</th>\n",
       "      <th>ponds_around3000</th>\n",
       "      <th>ponds_nearest</th>\n",
       "      <th>days_exposition</th>\n",
       "    </tr>\n",
       "  </thead>\n",
       "  <tbody>\n",
       "    <tr>\n",
       "      <th>21808</th>\n",
       "      <td>6.0</td>\n",
       "      <td>3200000.0</td>\n",
       "      <td>39.0</td>\n",
       "      <td>2017-12-16</td>\n",
       "      <td>1.0</td>\n",
       "      <td>2.7</td>\n",
       "      <td>9.0</td>\n",
       "      <td>20.0</td>\n",
       "      <td>6.0</td>\n",
       "      <td>False</td>\n",
       "      <td>False</td>\n",
       "      <td>False</td>\n",
       "      <td>11.0</td>\n",
       "      <td>2.0</td>\n",
       "      <td>Санкт-Петербург</td>\n",
       "      <td>40837.0</td>\n",
       "      <td>16704.0</td>\n",
       "      <td>0.0</td>\n",
       "      <td>NaN</td>\n",
       "      <td>0.0</td>\n",
       "      <td>NaN</td>\n",
       "      <td>38.0</td>\n",
       "    </tr>\n",
       "    <tr>\n",
       "      <th>21809</th>\n",
       "      <td>3.0</td>\n",
       "      <td>5500000.0</td>\n",
       "      <td>52.0</td>\n",
       "      <td>2018-07-19</td>\n",
       "      <td>2.0</td>\n",
       "      <td>2.7</td>\n",
       "      <td>5.0</td>\n",
       "      <td>31.0</td>\n",
       "      <td>2.0</td>\n",
       "      <td>False</td>\n",
       "      <td>False</td>\n",
       "      <td>False</td>\n",
       "      <td>6.0</td>\n",
       "      <td>0.0</td>\n",
       "      <td>Санкт-Петербург</td>\n",
       "      <td>20151.0</td>\n",
       "      <td>6263.0</td>\n",
       "      <td>1.0</td>\n",
       "      <td>300.0</td>\n",
       "      <td>0.0</td>\n",
       "      <td>NaN</td>\n",
       "      <td>15.0</td>\n",
       "    </tr>\n",
       "    <tr>\n",
       "      <th>21810</th>\n",
       "      <td>2.0</td>\n",
       "      <td>1350000.0</td>\n",
       "      <td>30.0</td>\n",
       "      <td>2017-07-07</td>\n",
       "      <td>1.0</td>\n",
       "      <td>2.6</td>\n",
       "      <td>5.0</td>\n",
       "      <td>17.5</td>\n",
       "      <td>4.0</td>\n",
       "      <td>False</td>\n",
       "      <td>False</td>\n",
       "      <td>False</td>\n",
       "      <td>6.0</td>\n",
       "      <td>0.0</td>\n",
       "      <td>Тихвин</td>\n",
       "      <td>NaN</td>\n",
       "      <td>NaN</td>\n",
       "      <td>0.0</td>\n",
       "      <td>NaN</td>\n",
       "      <td>0.0</td>\n",
       "      <td>NaN</td>\n",
       "      <td>413.0</td>\n",
       "    </tr>\n",
       "    <tr>\n",
       "      <th>21811</th>\n",
       "      <td>14.0</td>\n",
       "      <td>3100000.0</td>\n",
       "      <td>59.0</td>\n",
       "      <td>2018-01-15</td>\n",
       "      <td>3.0</td>\n",
       "      <td>2.5</td>\n",
       "      <td>5.0</td>\n",
       "      <td>38.0</td>\n",
       "      <td>4.0</td>\n",
       "      <td>False</td>\n",
       "      <td>False</td>\n",
       "      <td>False</td>\n",
       "      <td>8.5</td>\n",
       "      <td>0.0</td>\n",
       "      <td>Тосно</td>\n",
       "      <td>NaN</td>\n",
       "      <td>NaN</td>\n",
       "      <td>0.0</td>\n",
       "      <td>NaN</td>\n",
       "      <td>0.0</td>\n",
       "      <td>NaN</td>\n",
       "      <td>45.0</td>\n",
       "    </tr>\n",
       "    <tr>\n",
       "      <th>21812</th>\n",
       "      <td>18.0</td>\n",
       "      <td>2500000.0</td>\n",
       "      <td>56.7</td>\n",
       "      <td>2018-02-11</td>\n",
       "      <td>2.0</td>\n",
       "      <td>NaN</td>\n",
       "      <td>3.0</td>\n",
       "      <td>29.7</td>\n",
       "      <td>1.0</td>\n",
       "      <td>False</td>\n",
       "      <td>False</td>\n",
       "      <td>False</td>\n",
       "      <td>NaN</td>\n",
       "      <td>0.0</td>\n",
       "      <td>село Рождествено</td>\n",
       "      <td>NaN</td>\n",
       "      <td>NaN</td>\n",
       "      <td>0.0</td>\n",
       "      <td>NaN</td>\n",
       "      <td>0.0</td>\n",
       "      <td>NaN</td>\n",
       "      <td>NaN</td>\n",
       "    </tr>\n",
       "  </tbody>\n",
       "</table>\n",
       "</div>"
      ],
      "text/plain": [
       "       total_images  last_price  total_area first_day_exposition  rooms  \\\n",
       "21808           6.0   3200000.0        39.0           2017-12-16    1.0   \n",
       "21809           3.0   5500000.0        52.0           2018-07-19    2.0   \n",
       "21810           2.0   1350000.0        30.0           2017-07-07    1.0   \n",
       "21811          14.0   3100000.0        59.0           2018-01-15    3.0   \n",
       "21812          18.0   2500000.0        56.7           2018-02-11    2.0   \n",
       "\n",
       "       ceiling_height  floors_total  living_area  floor is_apartment studio  \\\n",
       "21808             2.7           9.0         20.0    6.0        False  False   \n",
       "21809             2.7           5.0         31.0    2.0        False  False   \n",
       "21810             2.6           5.0         17.5    4.0        False  False   \n",
       "21811             2.5           5.0         38.0    4.0        False  False   \n",
       "21812             NaN           3.0         29.7    1.0        False  False   \n",
       "\n",
       "      open_plan  kitchen_area  balcony     locality_name  airports_nearest  \\\n",
       "21808     False          11.0      2.0   Санкт-Петербург           40837.0   \n",
       "21809     False           6.0      0.0   Санкт-Петербург           20151.0   \n",
       "21810     False           6.0      0.0            Тихвин               NaN   \n",
       "21811     False           8.5      0.0             Тосно               NaN   \n",
       "21812     False           NaN      0.0  село Рождествено               NaN   \n",
       "\n",
       "       cityCenters_nearest  parks_around3000  parks_nearest  ponds_around3000  \\\n",
       "21808              16704.0               0.0            NaN               0.0   \n",
       "21809               6263.0               1.0          300.0               0.0   \n",
       "21810                  NaN               0.0            NaN               0.0   \n",
       "21811                  NaN               0.0            NaN               0.0   \n",
       "21812                  NaN               0.0            NaN               0.0   \n",
       "\n",
       "       ponds_nearest  days_exposition  \n",
       "21808            NaN             38.0  \n",
       "21809            NaN             15.0  \n",
       "21810            NaN            413.0  \n",
       "21811            NaN             45.0  \n",
       "21812            NaN              NaN  "
      ]
     },
     "metadata": {},
     "output_type": "display_data"
    },
    {
     "data": {
      "image/png": "[encoded data removed]",
      "text/plain": [
       "<Figure size 1080x1080 with 20 Axes>"
      ]
     },
     "metadata": {
      "needs_background": "light"
     },
     "output_type": "display_data"
    }
   ],
   "source": [
    "#прочие действия по предобработке\n",
    "\n",
    "data = data.loc[~(data['rooms'] == 0)]\n",
    "data.loc[data['airports_nearest'] == 0] = np.nan\n",
    "\n",
    "data.info()\n",
    "data.hist(bins = 50, figsize = (15, 15))\n",
    "\n",
    "#сброс и проверка индексации после всех действий с датафреймом\n",
    "data = data.reset_index(drop = True)\n",
    "display(data.tail())"
   ]
  },
  {
   "cell_type": "markdown",
   "metadata": {},
   "source": [
    "### Вывод по предобработке данных.\n",
    "В датасете сохранены 84.54% исходной информации. Изменены типы данных для столбца \"first_day_exposition\" и \"floors_total\". Удалены неявные дубликаты \"locality_name\" с учетом контекста и проверкой по яндекс картам. Убраны некорректные значения из датасета, которые не прошли проверку по площадям (общая > жилая + кухня) и с непонятными аномалиями по высоте потолка. Заполнены пропуски там где это было возможно. В некоторых колонках остались пропуски, считаю их не критичными и допустимыми:\n",
    "* ceiling_height - не представляется возможным заполнить, пропусков в исходном датасете много, часть была заполнена медианой по населенному пункту. Есть аномальные населенные пункты.\n",
    "* kitchen_area - пропусков сравнительно немного, по возможности они были убраны на этапе предобработке, не сильно влияют на дальнейший анализ;\n",
    "* пропуски в расстоянии до центра города и аэропорта можно объяснить большим расстоянием до них;\n",
    "* пропуски в парках и прудах можно объяснить их отсутствием."
   ]
  },
  {
   "cell_type": "markdown",
   "metadata": {},
   "source": [
    "### Посчитайте и добавьте в таблицу новые столбцы"
   ]
  },
  {
   "cell_type": "code",
   "execution_count": 17,
   "metadata": {
    "scrolled": false
   },
   "outputs": [
    {
     "name": "stdout",
     "output_type": "stream",
     "text": [
      "<class 'pandas.core.frame.DataFrame'>\n",
      "RangeIndex: 21813 entries, 0 to 21812\n",
      "Data columns (total 23 columns):\n",
      " #   Column                Non-Null Count  Dtype         \n",
      "---  ------                --------------  -----         \n",
      " 0   total_images          20036 non-null  float64       \n",
      " 1   last_price            20036 non-null  float64       \n",
      " 2   total_area            20036 non-null  float64       \n",
      " 3   first_day_exposition  20036 non-null  datetime64[ns]\n",
      " 4   rooms                 20036 non-null  float64       \n",
      " 5   ceiling_height        19947 non-null  float64       \n",
      " 6   floors_total          20036 non-null  float64       \n",
      " 7   living_area           20036 non-null  float64       \n",
      " 8   floor                 20036 non-null  float64       \n",
      " 9   is_apartment          20036 non-null  object        \n",
      " 10  studio                20036 non-null  object        \n",
      " 11  open_plan             20036 non-null  object        \n",
      " 12  kitchen_area          19531 non-null  float64       \n",
      " 13  balcony               20036 non-null  float64       \n",
      " 14  locality_name         20036 non-null  object        \n",
      " 15  airports_nearest      16954 non-null  float64       \n",
      " 16  cityCenters_nearest   16899 non-null  float64       \n",
      " 17  parks_around3000      20036 non-null  float64       \n",
      " 18  parks_nearest         7520 non-null   float64       \n",
      " 19  ponds_around3000      20036 non-null  float64       \n",
      " 20  ponds_nearest         8422 non-null   float64       \n",
      " 21  days_exposition       17205 non-null  float64       \n",
      " 22  square_meter_price    20036 non-null  float64       \n",
      "dtypes: datetime64[ns](1), float64(18), object(4)\n",
      "memory usage: 3.8+ MB\n"
     ]
    },
    {
     "data": {
      "text/plain": [
       "<AxesSubplot:>"
      ]
     },
     "execution_count": 17,
     "metadata": {},
     "output_type": "execute_result"
    },
    {
     "data": {
      "image/png": "[encoded data removed]",
      "text/plain": [
       "<Figure size 720x720 with 1 Axes>"
      ]
     },
     "metadata": {
      "needs_background": "light"
     },
     "output_type": "display_data"
    }
   ],
   "source": [
    "#добавление цены квадратного метра\n",
    "data['square_meter_price'] = data['last_price'] / data['total_area']\n",
    "\n",
    "data.info()\n",
    "\n",
    "data['square_meter_price'].hist(bins = 500, figsize = (10, 10))\n"
   ]
  },
  {
   "cell_type": "code",
   "execution_count": 18,
   "metadata": {
    "scrolled": false
   },
   "outputs": [
    {
     "data": {
      "text/html": [
       "<div>\n",
       "<style scoped>\n",
       "    .dataframe tbody tr th:only-of-type {\n",
       "        vertical-align: middle;\n",
       "    }\n",
       "\n",
       "    .dataframe tbody tr th {\n",
       "        vertical-align: top;\n",
       "    }\n",
       "\n",
       "    .dataframe thead th {\n",
       "        text-align: right;\n",
       "    }\n",
       "</style>\n",
       "<table border=\"1\" class=\"dataframe\">\n",
       "  <thead>\n",
       "    <tr style=\"text-align: right;\">\n",
       "      <th></th>\n",
       "      <th>total_images</th>\n",
       "      <th>last_price</th>\n",
       "      <th>total_area</th>\n",
       "      <th>first_day_exposition</th>\n",
       "      <th>rooms</th>\n",
       "      <th>ceiling_height</th>\n",
       "      <th>floors_total</th>\n",
       "      <th>living_area</th>\n",
       "      <th>floor</th>\n",
       "      <th>is_apartment</th>\n",
       "      <th>studio</th>\n",
       "      <th>open_plan</th>\n",
       "      <th>kitchen_area</th>\n",
       "      <th>balcony</th>\n",
       "      <th>locality_name</th>\n",
       "      <th>airports_nearest</th>\n",
       "      <th>cityCenters_nearest</th>\n",
       "      <th>parks_around3000</th>\n",
       "      <th>parks_nearest</th>\n",
       "      <th>ponds_around3000</th>\n",
       "      <th>ponds_nearest</th>\n",
       "      <th>days_exposition</th>\n",
       "      <th>square_meter_price</th>\n",
       "      <th>first_day_exposition_day</th>\n",
       "      <th>first_day_exposition_month</th>\n",
       "      <th>first_day_exposition_year</th>\n",
       "    </tr>\n",
       "  </thead>\n",
       "  <tbody>\n",
       "    <tr>\n",
       "      <th>0</th>\n",
       "      <td>0.0</td>\n",
       "      <td>15000000.0</td>\n",
       "      <td>25.0</td>\n",
       "      <td>2018-07-25</td>\n",
       "      <td>1.0</td>\n",
       "      <td>10.0</td>\n",
       "      <td>5.0</td>\n",
       "      <td>14.0</td>\n",
       "      <td>5.0</td>\n",
       "      <td>True</td>\n",
       "      <td>False</td>\n",
       "      <td>False</td>\n",
       "      <td>11.0</td>\n",
       "      <td>5.0</td>\n",
       "      <td>Санкт-Петербург</td>\n",
       "      <td>34963.0</td>\n",
       "      <td>8283.0</td>\n",
       "      <td>1.0</td>\n",
       "      <td>223.0</td>\n",
       "      <td>3.0</td>\n",
       "      <td>30.0</td>\n",
       "      <td>19.0</td>\n",
       "      <td>600000.000000</td>\n",
       "      <td>2.0</td>\n",
       "      <td>7.0</td>\n",
       "      <td>2018.0</td>\n",
       "    </tr>\n",
       "    <tr>\n",
       "      <th>1</th>\n",
       "      <td>19.0</td>\n",
       "      <td>9999000.0</td>\n",
       "      <td>92.4</td>\n",
       "      <td>2019-04-05</td>\n",
       "      <td>2.0</td>\n",
       "      <td>3.2</td>\n",
       "      <td>6.0</td>\n",
       "      <td>55.5</td>\n",
       "      <td>5.0</td>\n",
       "      <td>False</td>\n",
       "      <td>False</td>\n",
       "      <td>False</td>\n",
       "      <td>16.5</td>\n",
       "      <td>4.0</td>\n",
       "      <td>Санкт-Петербург</td>\n",
       "      <td>18838.0</td>\n",
       "      <td>3506.0</td>\n",
       "      <td>0.0</td>\n",
       "      <td>NaN</td>\n",
       "      <td>3.0</td>\n",
       "      <td>511.0</td>\n",
       "      <td>NaN</td>\n",
       "      <td>108214.285714</td>\n",
       "      <td>4.0</td>\n",
       "      <td>4.0</td>\n",
       "      <td>2019.0</td>\n",
       "    </tr>\n",
       "    <tr>\n",
       "      <th>2</th>\n",
       "      <td>14.0</td>\n",
       "      <td>2900000.0</td>\n",
       "      <td>75.0</td>\n",
       "      <td>2018-11-12</td>\n",
       "      <td>3.0</td>\n",
       "      <td>3.2</td>\n",
       "      <td>3.0</td>\n",
       "      <td>53.0</td>\n",
       "      <td>2.0</td>\n",
       "      <td>False</td>\n",
       "      <td>False</td>\n",
       "      <td>False</td>\n",
       "      <td>8.0</td>\n",
       "      <td>0.0</td>\n",
       "      <td>Волхов</td>\n",
       "      <td>NaN</td>\n",
       "      <td>NaN</td>\n",
       "      <td>0.0</td>\n",
       "      <td>NaN</td>\n",
       "      <td>0.0</td>\n",
       "      <td>NaN</td>\n",
       "      <td>NaN</td>\n",
       "      <td>38666.666667</td>\n",
       "      <td>0.0</td>\n",
       "      <td>11.0</td>\n",
       "      <td>2018.0</td>\n",
       "    </tr>\n",
       "    <tr>\n",
       "      <th>3</th>\n",
       "      <td>1.0</td>\n",
       "      <td>3900000.0</td>\n",
       "      <td>56.0</td>\n",
       "      <td>2017-12-22</td>\n",
       "      <td>3.0</td>\n",
       "      <td>2.7</td>\n",
       "      <td>5.0</td>\n",
       "      <td>33.0</td>\n",
       "      <td>4.0</td>\n",
       "      <td>False</td>\n",
       "      <td>False</td>\n",
       "      <td>False</td>\n",
       "      <td>NaN</td>\n",
       "      <td>0.0</td>\n",
       "      <td>Санкт-Петербург</td>\n",
       "      <td>41030.0</td>\n",
       "      <td>15543.0</td>\n",
       "      <td>0.0</td>\n",
       "      <td>NaN</td>\n",
       "      <td>0.0</td>\n",
       "      <td>NaN</td>\n",
       "      <td>73.0</td>\n",
       "      <td>69642.857143</td>\n",
       "      <td>4.0</td>\n",
       "      <td>12.0</td>\n",
       "      <td>2017.0</td>\n",
       "    </tr>\n",
       "    <tr>\n",
       "      <th>4</th>\n",
       "      <td>17.0</td>\n",
       "      <td>8150000.0</td>\n",
       "      <td>80.0</td>\n",
       "      <td>2019-01-09</td>\n",
       "      <td>2.0</td>\n",
       "      <td>2.7</td>\n",
       "      <td>36.0</td>\n",
       "      <td>41.0</td>\n",
       "      <td>13.0</td>\n",
       "      <td>False</td>\n",
       "      <td>False</td>\n",
       "      <td>False</td>\n",
       "      <td>12.0</td>\n",
       "      <td>5.0</td>\n",
       "      <td>Санкт-Петербург</td>\n",
       "      <td>18732.0</td>\n",
       "      <td>20444.0</td>\n",
       "      <td>0.0</td>\n",
       "      <td>NaN</td>\n",
       "      <td>3.0</td>\n",
       "      <td>80.0</td>\n",
       "      <td>38.0</td>\n",
       "      <td>101875.000000</td>\n",
       "      <td>2.0</td>\n",
       "      <td>1.0</td>\n",
       "      <td>2019.0</td>\n",
       "    </tr>\n",
       "  </tbody>\n",
       "</table>\n",
       "</div>"
      ],
      "text/plain": [
       "   total_images  last_price  total_area first_day_exposition  rooms  \\\n",
       "0           0.0  15000000.0        25.0           2018-07-25    1.0   \n",
       "1          19.0   9999000.0        92.4           2019-04-05    2.0   \n",
       "2          14.0   2900000.0        75.0           2018-11-12    3.0   \n",
       "3           1.0   3900000.0        56.0           2017-12-22    3.0   \n",
       "4          17.0   8150000.0        80.0           2019-01-09    2.0   \n",
       "\n",
       "   ceiling_height  floors_total  living_area  floor is_apartment studio  \\\n",
       "0            10.0           5.0         14.0    5.0         True  False   \n",
       "1             3.2           6.0         55.5    5.0        False  False   \n",
       "2             3.2           3.0         53.0    2.0        False  False   \n",
       "3             2.7           5.0         33.0    4.0        False  False   \n",
       "4             2.7          36.0         41.0   13.0        False  False   \n",
       "\n",
       "  open_plan  kitchen_area  balcony    locality_name  airports_nearest  \\\n",
       "0     False          11.0      5.0  Санкт-Петербург           34963.0   \n",
       "1     False          16.5      4.0  Санкт-Петербург           18838.0   \n",
       "2     False           8.0      0.0           Волхов               NaN   \n",
       "3     False           NaN      0.0  Санкт-Петербург           41030.0   \n",
       "4     False          12.0      5.0  Санкт-Петербург           18732.0   \n",
       "\n",
       "   cityCenters_nearest  parks_around3000  parks_nearest  ponds_around3000  \\\n",
       "0               8283.0               1.0          223.0               3.0   \n",
       "1               3506.0               0.0            NaN               3.0   \n",
       "2                  NaN               0.0            NaN               0.0   \n",
       "3              15543.0               0.0            NaN               0.0   \n",
       "4              20444.0               0.0            NaN               3.0   \n",
       "\n",
       "   ponds_nearest  days_exposition  square_meter_price  \\\n",
       "0           30.0             19.0       600000.000000   \n",
       "1          511.0              NaN       108214.285714   \n",
       "2            NaN              NaN        38666.666667   \n",
       "3            NaN             73.0        69642.857143   \n",
       "4           80.0             38.0       101875.000000   \n",
       "\n",
       "   first_day_exposition_day  first_day_exposition_month  \\\n",
       "0                       2.0                         7.0   \n",
       "1                       4.0                         4.0   \n",
       "2                       0.0                        11.0   \n",
       "3                       4.0                        12.0   \n",
       "4                       2.0                         1.0   \n",
       "\n",
       "   first_day_exposition_year  \n",
       "0                     2018.0  \n",
       "1                     2019.0  \n",
       "2                     2018.0  \n",
       "3                     2017.0  \n",
       "4                     2019.0  "
      ]
     },
     "metadata": {},
     "output_type": "display_data"
    },
    {
     "name": "stdout",
     "output_type": "stream",
     "text": [
      "<class 'pandas.core.frame.DataFrame'>\n",
      "RangeIndex: 21813 entries, 0 to 21812\n",
      "Data columns (total 26 columns):\n",
      " #   Column                      Non-Null Count  Dtype         \n",
      "---  ------                      --------------  -----         \n",
      " 0   total_images                20036 non-null  float64       \n",
      " 1   last_price                  20036 non-null  float64       \n",
      " 2   total_area                  20036 non-null  float64       \n",
      " 3   first_day_exposition        20036 non-null  datetime64[ns]\n",
      " 4   rooms                       20036 non-null  float64       \n",
      " 5   ceiling_height              19947 non-null  float64       \n",
      " 6   floors_total                20036 non-null  float64       \n",
      " 7   living_area                 20036 non-null  float64       \n",
      " 8   floor                       20036 non-null  float64       \n",
      " 9   is_apartment                20036 non-null  object        \n",
      " 10  studio                      20036 non-null  object        \n",
      " 11  open_plan                   20036 non-null  object        \n",
      " 12  kitchen_area                19531 non-null  float64       \n",
      " 13  balcony                     20036 non-null  float64       \n",
      " 14  locality_name               20036 non-null  object        \n",
      " 15  airports_nearest            16954 non-null  float64       \n",
      " 16  cityCenters_nearest         16899 non-null  float64       \n",
      " 17  parks_around3000            20036 non-null  float64       \n",
      " 18  parks_nearest               7520 non-null   float64       \n",
      " 19  ponds_around3000            20036 non-null  float64       \n",
      " 20  ponds_nearest               8422 non-null   float64       \n",
      " 21  days_exposition             17205 non-null  float64       \n",
      " 22  square_meter_price          20036 non-null  float64       \n",
      " 23  first_day_exposition_day    20036 non-null  float64       \n",
      " 24  first_day_exposition_month  20036 non-null  float64       \n",
      " 25  first_day_exposition_year   20036 non-null  float64       \n",
      "dtypes: datetime64[ns](1), float64(21), object(4)\n",
      "memory usage: 4.3+ MB\n"
     ]
    }
   ],
   "source": [
    "#добавление дня, месяца и года публикации объявления\n",
    "data['first_day_exposition_day'] = pd.DatetimeIndex(data['first_day_exposition']).weekday\n",
    "data['first_day_exposition_month'] = pd.DatetimeIndex(data['first_day_exposition']).month\n",
    "data['first_day_exposition_year'] = pd.DatetimeIndex(data['first_day_exposition']).year\n",
    "\n",
    "display(data.head())\n",
    "\n",
    "data.info()"
   ]
  },
  {
   "cell_type": "code",
   "execution_count": 19,
   "metadata": {
    "scrolled": false
   },
   "outputs": [
    {
     "name": "stdout",
     "output_type": "stream",
     "text": [
      "<class 'pandas.core.frame.DataFrame'>\n",
      "RangeIndex: 21813 entries, 0 to 21812\n",
      "Data columns (total 27 columns):\n",
      " #   Column                      Non-Null Count  Dtype         \n",
      "---  ------                      --------------  -----         \n",
      " 0   total_images                20036 non-null  float64       \n",
      " 1   last_price                  20036 non-null  float64       \n",
      " 2   total_area                  20036 non-null  float64       \n",
      " 3   first_day_exposition        20036 non-null  datetime64[ns]\n",
      " 4   rooms                       20036 non-null  float64       \n",
      " 5   ceiling_height              19947 non-null  float64       \n",
      " 6   floors_total                20036 non-null  float64       \n",
      " 7   living_area                 20036 non-null  float64       \n",
      " 8   floor                       20036 non-null  float64       \n",
      " 9   is_apartment                20036 non-null  object        \n",
      " 10  studio                      20036 non-null  object        \n",
      " 11  open_plan                   20036 non-null  object        \n",
      " 12  kitchen_area                19531 non-null  float64       \n",
      " 13  balcony                     20036 non-null  float64       \n",
      " 14  locality_name               20036 non-null  object        \n",
      " 15  airports_nearest            16954 non-null  float64       \n",
      " 16  cityCenters_nearest         16899 non-null  float64       \n",
      " 17  parks_around3000            20036 non-null  float64       \n",
      " 18  parks_nearest               7520 non-null   float64       \n",
      " 19  ponds_around3000            20036 non-null  float64       \n",
      " 20  ponds_nearest               8422 non-null   float64       \n",
      " 21  days_exposition             17205 non-null  float64       \n",
      " 22  square_meter_price          20036 non-null  float64       \n",
      " 23  first_day_exposition_day    20036 non-null  float64       \n",
      " 24  first_day_exposition_month  20036 non-null  float64       \n",
      " 25  first_day_exposition_year   20036 non-null  float64       \n",
      " 26  floor_type                  21813 non-null  object        \n",
      "dtypes: datetime64[ns](1), float64(21), object(5)\n",
      "memory usage: 4.5+ MB\n"
     ]
    }
   ],
   "source": [
    "#добавление типа этажа квартиры\n",
    "def floor_analisator(row):\n",
    "    if row['floor'] == 1:\n",
    "        return 'первый'\n",
    "    elif row['floor'] == row['floors_total']:\n",
    "        return 'последний'\n",
    "    else:\n",
    "        return 'другой'\n",
    "\n",
    "data['floor_type'] = data.apply(floor_analisator, axis = 1)\n",
    "\n",
    "data.info()"
   ]
  },
  {
   "cell_type": "code",
   "execution_count": 20,
   "metadata": {
    "scrolled": false
   },
   "outputs": [
    {
     "data": {
      "text/html": [
       "<div>\n",
       "<style scoped>\n",
       "    .dataframe tbody tr th:only-of-type {\n",
       "        vertical-align: middle;\n",
       "    }\n",
       "\n",
       "    .dataframe tbody tr th {\n",
       "        vertical-align: top;\n",
       "    }\n",
       "\n",
       "    .dataframe thead th {\n",
       "        text-align: right;\n",
       "    }\n",
       "</style>\n",
       "<table border=\"1\" class=\"dataframe\">\n",
       "  <thead>\n",
       "    <tr style=\"text-align: right;\">\n",
       "      <th></th>\n",
       "      <th>total_images</th>\n",
       "      <th>last_price</th>\n",
       "      <th>total_area</th>\n",
       "      <th>first_day_exposition</th>\n",
       "      <th>rooms</th>\n",
       "      <th>ceiling_height</th>\n",
       "      <th>floors_total</th>\n",
       "      <th>living_area</th>\n",
       "      <th>floor</th>\n",
       "      <th>is_apartment</th>\n",
       "      <th>studio</th>\n",
       "      <th>open_plan</th>\n",
       "      <th>kitchen_area</th>\n",
       "      <th>balcony</th>\n",
       "      <th>locality_name</th>\n",
       "      <th>airports_nearest</th>\n",
       "      <th>cityCenters_nearest</th>\n",
       "      <th>parks_around3000</th>\n",
       "      <th>parks_nearest</th>\n",
       "      <th>ponds_around3000</th>\n",
       "      <th>ponds_nearest</th>\n",
       "      <th>days_exposition</th>\n",
       "      <th>square_meter_price</th>\n",
       "      <th>first_day_exposition_day</th>\n",
       "      <th>first_day_exposition_month</th>\n",
       "      <th>first_day_exposition_year</th>\n",
       "      <th>floor_type</th>\n",
       "      <th>cityCenters_nearest_km</th>\n",
       "    </tr>\n",
       "  </thead>\n",
       "  <tbody>\n",
       "    <tr>\n",
       "      <th>0</th>\n",
       "      <td>0.0</td>\n",
       "      <td>15000000.0</td>\n",
       "      <td>25.0</td>\n",
       "      <td>2018-07-25</td>\n",
       "      <td>1.0</td>\n",
       "      <td>10.0</td>\n",
       "      <td>5.0</td>\n",
       "      <td>14.0</td>\n",
       "      <td>5.0</td>\n",
       "      <td>True</td>\n",
       "      <td>False</td>\n",
       "      <td>False</td>\n",
       "      <td>11.0</td>\n",
       "      <td>5.0</td>\n",
       "      <td>Санкт-Петербург</td>\n",
       "      <td>34963.0</td>\n",
       "      <td>8283.0</td>\n",
       "      <td>1.0</td>\n",
       "      <td>223.0</td>\n",
       "      <td>3.0</td>\n",
       "      <td>30.0</td>\n",
       "      <td>19.0</td>\n",
       "      <td>600000.000000</td>\n",
       "      <td>2.0</td>\n",
       "      <td>7.0</td>\n",
       "      <td>2018.0</td>\n",
       "      <td>последний</td>\n",
       "      <td>8.0</td>\n",
       "    </tr>\n",
       "    <tr>\n",
       "      <th>1</th>\n",
       "      <td>19.0</td>\n",
       "      <td>9999000.0</td>\n",
       "      <td>92.4</td>\n",
       "      <td>2019-04-05</td>\n",
       "      <td>2.0</td>\n",
       "      <td>3.2</td>\n",
       "      <td>6.0</td>\n",
       "      <td>55.5</td>\n",
       "      <td>5.0</td>\n",
       "      <td>False</td>\n",
       "      <td>False</td>\n",
       "      <td>False</td>\n",
       "      <td>16.5</td>\n",
       "      <td>4.0</td>\n",
       "      <td>Санкт-Петербург</td>\n",
       "      <td>18838.0</td>\n",
       "      <td>3506.0</td>\n",
       "      <td>0.0</td>\n",
       "      <td>NaN</td>\n",
       "      <td>3.0</td>\n",
       "      <td>511.0</td>\n",
       "      <td>NaN</td>\n",
       "      <td>108214.285714</td>\n",
       "      <td>4.0</td>\n",
       "      <td>4.0</td>\n",
       "      <td>2019.0</td>\n",
       "      <td>другой</td>\n",
       "      <td>4.0</td>\n",
       "    </tr>\n",
       "    <tr>\n",
       "      <th>2</th>\n",
       "      <td>14.0</td>\n",
       "      <td>2900000.0</td>\n",
       "      <td>75.0</td>\n",
       "      <td>2018-11-12</td>\n",
       "      <td>3.0</td>\n",
       "      <td>3.2</td>\n",
       "      <td>3.0</td>\n",
       "      <td>53.0</td>\n",
       "      <td>2.0</td>\n",
       "      <td>False</td>\n",
       "      <td>False</td>\n",
       "      <td>False</td>\n",
       "      <td>8.0</td>\n",
       "      <td>0.0</td>\n",
       "      <td>Волхов</td>\n",
       "      <td>NaN</td>\n",
       "      <td>NaN</td>\n",
       "      <td>0.0</td>\n",
       "      <td>NaN</td>\n",
       "      <td>0.0</td>\n",
       "      <td>NaN</td>\n",
       "      <td>NaN</td>\n",
       "      <td>38666.666667</td>\n",
       "      <td>0.0</td>\n",
       "      <td>11.0</td>\n",
       "      <td>2018.0</td>\n",
       "      <td>другой</td>\n",
       "      <td>NaN</td>\n",
       "    </tr>\n",
       "    <tr>\n",
       "      <th>3</th>\n",
       "      <td>1.0</td>\n",
       "      <td>3900000.0</td>\n",
       "      <td>56.0</td>\n",
       "      <td>2017-12-22</td>\n",
       "      <td>3.0</td>\n",
       "      <td>2.7</td>\n",
       "      <td>5.0</td>\n",
       "      <td>33.0</td>\n",
       "      <td>4.0</td>\n",
       "      <td>False</td>\n",
       "      <td>False</td>\n",
       "      <td>False</td>\n",
       "      <td>NaN</td>\n",
       "      <td>0.0</td>\n",
       "      <td>Санкт-Петербург</td>\n",
       "      <td>41030.0</td>\n",
       "      <td>15543.0</td>\n",
       "      <td>0.0</td>\n",
       "      <td>NaN</td>\n",
       "      <td>0.0</td>\n",
       "      <td>NaN</td>\n",
       "      <td>73.0</td>\n",
       "      <td>69642.857143</td>\n",
       "      <td>4.0</td>\n",
       "      <td>12.0</td>\n",
       "      <td>2017.0</td>\n",
       "      <td>другой</td>\n",
       "      <td>16.0</td>\n",
       "    </tr>\n",
       "    <tr>\n",
       "      <th>4</th>\n",
       "      <td>17.0</td>\n",
       "      <td>8150000.0</td>\n",
       "      <td>80.0</td>\n",
       "      <td>2019-01-09</td>\n",
       "      <td>2.0</td>\n",
       "      <td>2.7</td>\n",
       "      <td>36.0</td>\n",
       "      <td>41.0</td>\n",
       "      <td>13.0</td>\n",
       "      <td>False</td>\n",
       "      <td>False</td>\n",
       "      <td>False</td>\n",
       "      <td>12.0</td>\n",
       "      <td>5.0</td>\n",
       "      <td>Санкт-Петербург</td>\n",
       "      <td>18732.0</td>\n",
       "      <td>20444.0</td>\n",
       "      <td>0.0</td>\n",
       "      <td>NaN</td>\n",
       "      <td>3.0</td>\n",
       "      <td>80.0</td>\n",
       "      <td>38.0</td>\n",
       "      <td>101875.000000</td>\n",
       "      <td>2.0</td>\n",
       "      <td>1.0</td>\n",
       "      <td>2019.0</td>\n",
       "      <td>другой</td>\n",
       "      <td>20.0</td>\n",
       "    </tr>\n",
       "  </tbody>\n",
       "</table>\n",
       "</div>"
      ],
      "text/plain": [
       "   total_images  last_price  total_area first_day_exposition  rooms  \\\n",
       "0           0.0  15000000.0        25.0           2018-07-25    1.0   \n",
       "1          19.0   9999000.0        92.4           2019-04-05    2.0   \n",
       "2          14.0   2900000.0        75.0           2018-11-12    3.0   \n",
       "3           1.0   3900000.0        56.0           2017-12-22    3.0   \n",
       "4          17.0   8150000.0        80.0           2019-01-09    2.0   \n",
       "\n",
       "   ceiling_height  floors_total  living_area  floor is_apartment studio  \\\n",
       "0            10.0           5.0         14.0    5.0         True  False   \n",
       "1             3.2           6.0         55.5    5.0        False  False   \n",
       "2             3.2           3.0         53.0    2.0        False  False   \n",
       "3             2.7           5.0         33.0    4.0        False  False   \n",
       "4             2.7          36.0         41.0   13.0        False  False   \n",
       "\n",
       "  open_plan  kitchen_area  balcony    locality_name  airports_nearest  \\\n",
       "0     False          11.0      5.0  Санкт-Петербург           34963.0   \n",
       "1     False          16.5      4.0  Санкт-Петербург           18838.0   \n",
       "2     False           8.0      0.0           Волхов               NaN   \n",
       "3     False           NaN      0.0  Санкт-Петербург           41030.0   \n",
       "4     False          12.0      5.0  Санкт-Петербург           18732.0   \n",
       "\n",
       "   cityCenters_nearest  parks_around3000  parks_nearest  ponds_around3000  \\\n",
       "0               8283.0               1.0          223.0               3.0   \n",
       "1               3506.0               0.0            NaN               3.0   \n",
       "2                  NaN               0.0            NaN               0.0   \n",
       "3              15543.0               0.0            NaN               0.0   \n",
       "4              20444.0               0.0            NaN               3.0   \n",
       "\n",
       "   ponds_nearest  days_exposition  square_meter_price  \\\n",
       "0           30.0             19.0       600000.000000   \n",
       "1          511.0              NaN       108214.285714   \n",
       "2            NaN              NaN        38666.666667   \n",
       "3            NaN             73.0        69642.857143   \n",
       "4           80.0             38.0       101875.000000   \n",
       "\n",
       "   first_day_exposition_day  first_day_exposition_month  \\\n",
       "0                       2.0                         7.0   \n",
       "1                       4.0                         4.0   \n",
       "2                       0.0                        11.0   \n",
       "3                       4.0                        12.0   \n",
       "4                       2.0                         1.0   \n",
       "\n",
       "   first_day_exposition_year floor_type  cityCenters_nearest_km  \n",
       "0                     2018.0  последний                     8.0  \n",
       "1                     2019.0     другой                     4.0  \n",
       "2                     2018.0     другой                     NaN  \n",
       "3                     2017.0     другой                    16.0  \n",
       "4                     2019.0     другой                    20.0  "
      ]
     },
     "metadata": {},
     "output_type": "display_data"
    },
    {
     "name": "stdout",
     "output_type": "stream",
     "text": [
      "<class 'pandas.core.frame.DataFrame'>\n",
      "RangeIndex: 21813 entries, 0 to 21812\n",
      "Data columns (total 28 columns):\n",
      " #   Column                      Non-Null Count  Dtype         \n",
      "---  ------                      --------------  -----         \n",
      " 0   total_images                20036 non-null  float64       \n",
      " 1   last_price                  20036 non-null  float64       \n",
      " 2   total_area                  20036 non-null  float64       \n",
      " 3   first_day_exposition        20036 non-null  datetime64[ns]\n",
      " 4   rooms                       20036 non-null  float64       \n",
      " 5   ceiling_height              19947 non-null  float64       \n",
      " 6   floors_total                20036 non-null  float64       \n",
      " 7   living_area                 20036 non-null  float64       \n",
      " 8   floor                       20036 non-null  float64       \n",
      " 9   is_apartment                20036 non-null  object        \n",
      " 10  studio                      20036 non-null  object        \n",
      " 11  open_plan                   20036 non-null  object        \n",
      " 12  kitchen_area                19531 non-null  float64       \n",
      " 13  balcony                     20036 non-null  float64       \n",
      " 14  locality_name               20036 non-null  object        \n",
      " 15  airports_nearest            16954 non-null  float64       \n",
      " 16  cityCenters_nearest         16899 non-null  float64       \n",
      " 17  parks_around3000            20036 non-null  float64       \n",
      " 18  parks_nearest               7520 non-null   float64       \n",
      " 19  ponds_around3000            20036 non-null  float64       \n",
      " 20  ponds_nearest               8422 non-null   float64       \n",
      " 21  days_exposition             17205 non-null  float64       \n",
      " 22  square_meter_price          20036 non-null  float64       \n",
      " 23  first_day_exposition_day    20036 non-null  float64       \n",
      " 24  first_day_exposition_month  20036 non-null  float64       \n",
      " 25  first_day_exposition_year   20036 non-null  float64       \n",
      " 26  floor_type                  21813 non-null  object        \n",
      " 27  cityCenters_nearest_km      16899 non-null  float64       \n",
      "dtypes: datetime64[ns](1), float64(22), object(5)\n",
      "memory usage: 4.7+ MB\n"
     ]
    }
   ],
   "source": [
    "#добавление расстояния до центра в км\n",
    "data['cityCenters_nearest_km'] = round(data['cityCenters_nearest']/1000)\n",
    "\n",
    "display(data.head())\n",
    "data.info()"
   ]
  },
  {
   "cell_type": "markdown",
   "metadata": {},
   "source": [
    "**Вывод по данному шагу:**\n",
    "В таблицу были добавлены столбцы со следующей информацией:\n",
    "* цена одного квадратного метра;\n",
    "* день недели публикации объявления;\n",
    "* месяц публикации объявления;\n",
    "* год публикации объявления;\n",
    "* расстояние до центра города в километрах."
   ]
  },
  {
   "cell_type": "markdown",
   "metadata": {},
   "source": [
    "### Проведите исследовательский анализ данных"
   ]
  },
  {
   "cell_type": "code",
   "execution_count": 21,
   "metadata": {
    "scrolled": false
   },
   "outputs": [
    {
     "data": {
      "image/png": "[encoded data removed]",
      "text/plain": [
       "<Figure size 360x360 with 1 Axes>"
      ]
     },
     "metadata": {
      "needs_background": "light"
     },
     "output_type": "display_data"
    },
    {
     "data": {
      "image/png": "[encoded data removed]",
      "text/plain": [
       "<Figure size 360x360 with 1 Axes>"
      ]
     },
     "metadata": {
      "needs_background": "light"
     },
     "output_type": "display_data"
    },
    {
     "data": {
      "image/png": "[encoded data removed]",
      "text/plain": [
       "<Figure size 360x360 with 1 Axes>"
      ]
     },
     "metadata": {
      "needs_background": "light"
     },
     "output_type": "display_data"
    },
    {
     "data": {
      "image/png": "[encoded data removed]",
      "text/plain": [
       "<Figure size 360x360 with 1 Axes>"
      ]
     },
     "metadata": {
      "needs_background": "light"
     },
     "output_type": "display_data"
    },
    {
     "data": {
      "image/png": "[encoded data removed]",
      "text/plain": [
       "<Figure size 360x360 with 1 Axes>"
      ]
     },
     "metadata": {
      "needs_background": "light"
     },
     "output_type": "display_data"
    },
    {
     "data": {
      "image/png": "[encoded data removed]",
      "text/plain": [
       "<Figure size 360x360 with 1 Axes>"
      ]
     },
     "metadata": {
      "needs_background": "light"
     },
     "output_type": "display_data"
    },
    {
     "data": {
      "image/png": "[encoded data removed]",
      "text/plain": [
       "<Figure size 360x360 with 1 Axes>"
      ]
     },
     "metadata": {
      "needs_background": "light"
     },
     "output_type": "display_data"
    },
    {
     "data": {
      "image/png": "[encoded data removed]",
      "text/plain": [
       "<Figure size 360x360 with 1 Axes>"
      ]
     },
     "metadata": {
      "needs_background": "light"
     },
     "output_type": "display_data"
    },
    {
     "data": {
      "image/png": "[encoded data removed]",
      "text/plain": [
       "<Figure size 360x360 with 1 Axes>"
      ]
     },
     "metadata": {
      "needs_background": "light"
     },
     "output_type": "display_data"
    },
    {
     "data": {
      "image/png": "[encoded data removed]",
      "text/plain": [
       "<Figure size 360x360 with 1 Axes>"
      ]
     },
     "metadata": {
      "needs_background": "light"
     },
     "output_type": "display_data"
    },
    {
     "data": {
      "image/png": "[encoded data removed]",
      "text/plain": [
       "<Figure size 360x360 with 1 Axes>"
      ]
     },
     "metadata": {
      "needs_background": "light"
     },
     "output_type": "display_data"
    },
    {
     "data": {
      "image/png": "[encoded data removed]",
      "text/plain": [
       "<Figure size 360x360 with 1 Axes>"
      ]
     },
     "metadata": {
      "needs_background": "light"
     },
     "output_type": "display_data"
    },
    {
     "data": {
      "image/png": "[encoded data removed]",
      "text/plain": [
       "<Figure size 360x360 with 1 Axes>"
      ]
     },
     "metadata": {
      "needs_background": "light"
     },
     "output_type": "display_data"
    },
    {
     "data": {
      "image/png": "[encoded data removed]",
      "text/plain": [
       "<Figure size 360x360 with 1 Axes>"
      ]
     },
     "metadata": {
      "needs_background": "light"
     },
     "output_type": "display_data"
    },
    {
     "data": {
      "image/png": "[encoded data removed]",
      "text/plain": [
       "<Figure size 360x360 with 1 Axes>"
      ]
     },
     "metadata": {
      "needs_background": "light"
     },
     "output_type": "display_data"
    },
    {
     "data": {
      "image/png": "[encoded data removed]",
      "text/plain": [
       "<Figure size 360x360 with 1 Axes>"
      ]
     },
     "metadata": {
      "needs_background": "light"
     },
     "output_type": "display_data"
    }
   ],
   "source": [
    "#гистограммы\n",
    "\n",
    "data['total_area'].hist(bins = 50, figsize = (5,5), legend = True)\n",
    "plt.show()\n",
    "\n",
    "data['living_area'].hist(bins = 50, figsize = (5,5), legend = True)\n",
    "plt.show()\n",
    "\n",
    "data['kitchen_area'].hist(bins = 50, figsize = (5,5), legend = True)\n",
    "plt.show()\n",
    "\n",
    "data['last_price'].hist(bins = 50, figsize = (5,5), legend = True)\n",
    "plt.show()\n",
    "\n",
    "data['last_price'].hist(bins = 50, figsize = (5,5), legend = True, range = (0, 20000000))\n",
    "plt.show()\n",
    "\n",
    "\n",
    "data['rooms'].hist(bins = 50, figsize = (5,5), legend = True)\n",
    "plt.show()\n",
    "\n",
    "data['ceiling_height'].hist(bins = 50, figsize = (5,5), legend = True)\n",
    "plt.show()\n",
    "\n",
    "data['ceiling_height'].hist(bins = 50, figsize = (5,5), legend = True, range = (2.5, 5))\n",
    "plt.show()\n",
    "\n",
    "data['floor'].hist(bins = 50, figsize = (5,5), legend = True)\n",
    "plt.show()\n",
    "\n",
    "data['floor_type'].hist(bins = 50, figsize = (5,5), legend = True)\n",
    "plt.show()\n",
    "\n",
    "data['floors_total'].hist(bins = 50, figsize = (5,5), legend = True)\n",
    "plt.show()\n",
    "\n",
    "data['cityCenters_nearest'].hist(bins = 50, figsize = (5,5), legend = True)\n",
    "plt.show()\n",
    "\n",
    "data['airports_nearest'].hist(bins = 50, figsize = (5,5), legend = True)\n",
    "plt.show()\n",
    "\n",
    "data['parks_nearest'].hist(bins = 50, figsize = (5,5), legend = True)\n",
    "plt.show()\n",
    "\n",
    "data['first_day_exposition_day'].hist(bins = 50, figsize = (5,5), legend = True)\n",
    "plt.show()\n",
    "\n",
    "data['first_day_exposition_month'].hist(bins = 50, figsize = (5,5), legend = True)\n",
    "plt.show()\n",
    "\n"
   ]
  },
  {
   "cell_type": "markdown",
   "metadata": {},
   "source": [
    "**Описание гистрограмм:** \n",
    "* Гистограмма общей, жилой площади и площади кухни напоминает несколько сдвинутое нормальное распределение, выбивающихся значений нет, есть отчетливый пик;\n",
    "* Гистограмма последней цены также имеет отчетливый пик около 4-5 млн рублей, построена дважды с разными настройками диапазона значений, так как в датасете были и крайне большие значения цены;\n",
    "* Гистограмма количества комнат также напоминает нормальное распределение, есть пик на 2 комнатах;\n",
    "* Гистограмма высоты потолков имеет явные несколько пиков, полагаю, связано это с трендами строительства и рекомендованными значениями высоты потолков;\n",
    "* Гистограмма этажа квартиры напоминает нормальное распределение, есть отчетливый пик, но также есть \"бреши\", значения, мало/никак не представленные в датасете;\n",
    "* Гистограмма типа этажа показывает явный пик группы этажей \"другой\", что вполне закономерно, так как в любом доме выше 4 этажей этажей типа \"другой\" будет больше чем первых и последних;\n",
    "* Общая этажность домов не похожа на нормальное распределение, есть явные несколько пиков, связываю я это с определенными трендами строительства (например, 5 этажек крайне много, а 4 этажные дома встречаются редко, 9 этажек очень много, 8 этажки встречаются редко и тд, по уму, чтобы объяснить данную гистограмму надо изучить поверхностно урбанистику, снипы и сп, бэкграунд утилитарной архитектуры 20го века);\n",
    "* гистограмма расстояния до центра имеет явные несколько пиков, полагаю, это связано с наличием на определенных расстояниях до центра более густонаселенных пунктов;\n",
    "* гистограмма расстояния до аэропорта имеет несколько резких пиков, но общий низходящий тренд, полагаю связано это также с тем, что на некоторых расстояниях до аэропорта находятся более густонаселенные районы;\n",
    "* гистограмма парков по-близости похожа на нормальное распределение с пиком около 500м;\n",
    "* гистограммы дня и месяца публикации показывают явную сезонность на рынке, весной и осенью (ближе к поздней осени) публикуют наибольшее кол-во объявлений.\n"
   ]
  },
  {
   "cell_type": "code",
   "execution_count": 22,
   "metadata": {
    "scrolled": false
   },
   "outputs": [
    {
     "data": {
      "image/png": "[encoded data removed]",
      "text/plain": [
       "<Figure size 360x360 with 1 Axes>"
      ]
     },
     "metadata": {
      "needs_background": "light"
     },
     "output_type": "display_data"
    },
    {
     "data": {
      "image/png": "[encoded data removed]",
      "text/plain": [
       "<Figure size 360x360 with 1 Axes>"
      ]
     },
     "metadata": {
      "needs_background": "light"
     },
     "output_type": "display_data"
    },
    {
     "name": "stdout",
     "output_type": "stream",
     "text": [
      "Среднее значение дней продажи: 186.29654170299332 \n",
      "\n",
      "Медианное значение дней продажи: 102.0 \n",
      "\n"
     ]
    },
    {
     "data": {
      "text/plain": [
       "count    17205.000000\n",
       "mean       186.296542\n",
       "std        222.986430\n",
       "min          1.000000\n",
       "25%         45.000000\n",
       "50%        102.000000\n",
       "75%        241.000000\n",
       "max       1572.000000\n",
       "Name: days_exposition, dtype: float64"
      ]
     },
     "execution_count": 22,
     "metadata": {},
     "output_type": "execute_result"
    }
   ],
   "source": [
    "data['days_exposition'].hist(bins = 50, figsize = (5, 5), legend = True)\n",
    "plt.show()\n",
    "data['days_exposition'].hist(bins = 150, figsize = (5, 5), range = (0, 150), legend = True)\n",
    "plt.show()\n",
    "\n",
    "print('Среднее значение дней продажи:', data['days_exposition'].mean(), '\\n')\n",
    "print('Медианное значение дней продажи:', data['days_exposition'].median(), '\\n')\n",
    "\n",
    "data['days_exposition'].describe()\n"
   ]
  },
  {
   "cell_type": "markdown",
   "metadata": {},
   "source": [
    "**Описание данных о времени продажи квартир.**\n",
    "\n",
    "Среднее время продажи квартир - 186 дней.\n",
    "Медианное время продажи квартир - 102 дня.\n",
    "\n",
    "Существенное отличие среднего от медианы объясняется тем, что довольно большое количество квартир продается долго, максимальное значение времени продажи - 1572 дня."
   ]
  },
  {
   "cell_type": "code",
   "execution_count": 23,
   "metadata": {
    "scrolled": false
   },
   "outputs": [
    {
     "data": {
      "image/png": "[encoded data removed]",
      "text/plain": [
       "<Figure size 432x288 with 1 Axes>"
      ]
     },
     "metadata": {
      "needs_background": "light"
     },
     "output_type": "display_data"
    },
    {
     "name": "stdout",
     "output_type": "stream",
     "text": [
      "Коэффициент корреляции Пирсона между общей площадью и ценой 0.6496742358337241 \n",
      "\n"
     ]
    },
    {
     "data": {
      "image/png": "[encoded data removed]",
      "text/plain": [
       "<Figure size 432x288 with 1 Axes>"
      ]
     },
     "metadata": {
      "needs_background": "light"
     },
     "output_type": "display_data"
    },
    {
     "name": "stdout",
     "output_type": "stream",
     "text": [
      "Коэффициент корреляции Пирсона между жилой площадью и ценой 0.5730987289990147 \n",
      "\n"
     ]
    },
    {
     "data": {
      "image/png": "[encoded data removed]",
      "text/plain": [
       "<Figure size 432x288 with 1 Axes>"
      ]
     },
     "metadata": {
      "needs_background": "light"
     },
     "output_type": "display_data"
    },
    {
     "name": "stdout",
     "output_type": "stream",
     "text": [
      "Коэффициент корреляции Пирсона между площадью кухни и ценой 0.5296656649964737 \n",
      "\n"
     ]
    },
    {
     "data": {
      "image/png": "[encoded data removed]",
      "text/plain": [
       "<Figure size 432x288 with 1 Axes>"
      ]
     },
     "metadata": {
      "needs_background": "light"
     },
     "output_type": "display_data"
    },
    {
     "name": "stdout",
     "output_type": "stream",
     "text": [
      "Коэффициент корреляции Пирсона между кол-вом комнат и ценой 0.36216841227026253 \n",
      "\n"
     ]
    },
    {
     "data": {
      "image/png": "[encoded data removed]",
      "text/plain": [
       "<Figure size 432x288 with 1 Axes>"
      ]
     },
     "metadata": {
      "needs_background": "light"
     },
     "output_type": "display_data"
    },
    {
     "data": {
      "image/png": "[encoded data removed]",
      "text/plain": [
       "<Figure size 432x288 with 1 Axes>"
      ]
     },
     "metadata": {
      "needs_background": "light"
     },
     "output_type": "display_data"
    },
    {
     "data": {
      "image/png": "[encoded data removed]",
      "text/plain": [
       "<Figure size 432x288 with 1 Axes>"
      ]
     },
     "metadata": {
      "needs_background": "light"
     },
     "output_type": "display_data"
    },
    {
     "data": {
      "image/png": "[encoded data removed]",
      "text/plain": [
       "<Figure size 432x288 with 1 Axes>"
      ]
     },
     "metadata": {
      "needs_background": "light"
     },
     "output_type": "display_data"
    }
   ],
   "source": [
    "data.plot(x = 'total_area', y = 'last_price', style = 'x', alpha = 0.25)\n",
    "plt.show()\n",
    "print('Коэффициент корреляции Пирсона между общей площадью и ценой', data['total_area']\\\n",
    "      .corr(data['last_price']), '\\n')\n",
    "\n",
    "data.plot(x = 'living_area', y = 'last_price', style = 'x', alpha = 0.25)\n",
    "plt.show()\n",
    "print('Коэффициент корреляции Пирсона между жилой площадью и ценой', data['living_area']\\\n",
    "      .corr(data['last_price']), '\\n')\n",
    "\n",
    "data.plot(x = 'kitchen_area', y = 'last_price', style = 'x', alpha = 0.25)\n",
    "plt.show()\n",
    "print('Коэффициент корреляции Пирсона между площадью кухни и ценой', data['kitchen_area']\\\n",
    "      .corr(data['last_price']), '\\n')\n",
    "\n",
    "data.plot(x = 'rooms', y = 'last_price', style = 'x', alpha = 0.25)\n",
    "plt.show()\n",
    "print('Коэффициент корреляции Пирсона между кол-вом комнат и ценой', data['rooms']\\\n",
    "      .corr(data['last_price']), '\\n')\n",
    "\n",
    "floor_type_pivot = data.pivot_table(index = 'floor_type', values = 'last_price', aggfunc = 'median')\n",
    "floor_type_pivot.reset_index().plot(x = 'floor_type', y = 'last_price', kind = 'bar')\n",
    "plt.show()\n",
    "\n",
    "first_day_exposition_day_pivot =\\\n",
    "data.pivot_table(index = 'first_day_exposition_day', values = 'last_price', aggfunc = 'median')\n",
    "first_day_exposition_day_pivot.reset_index()\\\n",
    ".plot(x = 'first_day_exposition_day', y = 'last_price', kind = 'bar')\n",
    "plt.show()\n",
    "\n",
    "first_day_exposition_month_pivot =\\\n",
    "data.pivot_table(index = 'first_day_exposition_month', values = 'last_price', aggfunc = 'median')\n",
    "first_day_exposition_month_pivot\\\n",
    ".reset_index().plot(x = 'first_day_exposition_month', y = 'last_price', kind = 'bar')\n",
    "plt.show()\n",
    "\n",
    "first_day_exposition_year_pivot =\\\n",
    "data.pivot_table(index = 'first_day_exposition_year', values = 'last_price', aggfunc = 'median')\n",
    "first_day_exposition_year_pivot.reset_index()\\\n",
    ".plot(x = 'first_day_exposition_year', y = 'last_price', kind = 'bar')\n",
    "plt.show()\n"
   ]
  },
  {
   "cell_type": "markdown",
   "metadata": {},
   "source": [
    "**Факторы, влияющие на полную стоимость объекта:**\n",
    "* Жилая, полная и площадь кухни существенно влияют на конечную стоимость, коэффициент корреляции Пирсона для этих параметров не ниже 0.53;\n",
    "* Корреляция между количеством комнат и ценой есть, но существенно менее выражена, чем корреляция цены и площади;\n",
    "* Квартиры на первом и последнем этаже стоят несколько дешевле, чем на \"других\";\n",
    "* Стоимость квартиры не зависит от даты размещения, но в 2015 году произошло резкое падение медианной стоимости недвижимости."
   ]
  },
  {
   "cell_type": "code",
   "execution_count": 24,
   "metadata": {
    "scrolled": false
   },
   "outputs": [
    {
     "data": {
      "text/html": [
       "<div>\n",
       "<style scoped>\n",
       "    .dataframe tbody tr th:only-of-type {\n",
       "        vertical-align: middle;\n",
       "    }\n",
       "\n",
       "    .dataframe tbody tr th {\n",
       "        vertical-align: top;\n",
       "    }\n",
       "\n",
       "    .dataframe thead th {\n",
       "        text-align: right;\n",
       "    }\n",
       "</style>\n",
       "<table border=\"1\" class=\"dataframe\">\n",
       "  <thead>\n",
       "    <tr style=\"text-align: right;\">\n",
       "      <th></th>\n",
       "      <th>locality_name</th>\n",
       "      <th>square_meter_price</th>\n",
       "    </tr>\n",
       "  </thead>\n",
       "  <tbody>\n",
       "    <tr>\n",
       "      <th>0</th>\n",
       "      <td>посёлок Репино</td>\n",
       "      <td>127678.571429</td>\n",
       "    </tr>\n",
       "    <tr>\n",
       "      <th>1</th>\n",
       "      <td>Зеленогорск</td>\n",
       "      <td>115122.799198</td>\n",
       "    </tr>\n",
       "    <tr>\n",
       "      <th>2</th>\n",
       "      <td>Санкт-Петербург</td>\n",
       "      <td>114442.701836</td>\n",
       "    </tr>\n",
       "    <tr>\n",
       "      <th>3</th>\n",
       "      <td>деревня Бор</td>\n",
       "      <td>105539.261570</td>\n",
       "    </tr>\n",
       "    <tr>\n",
       "      <th>4</th>\n",
       "      <td>Пушкин</td>\n",
       "      <td>103415.576759</td>\n",
       "    </tr>\n",
       "    <tr>\n",
       "      <th>5</th>\n",
       "      <td>Сестрорецк</td>\n",
       "      <td>101443.767465</td>\n",
       "    </tr>\n",
       "    <tr>\n",
       "      <th>6</th>\n",
       "      <td>поселок Лисий Нос</td>\n",
       "      <td>100660.814239</td>\n",
       "    </tr>\n",
       "    <tr>\n",
       "      <th>7</th>\n",
       "      <td>деревня Мистолово</td>\n",
       "      <td>93098.851931</td>\n",
       "    </tr>\n",
       "    <tr>\n",
       "      <th>8</th>\n",
       "      <td>посёлок Парголово</td>\n",
       "      <td>90465.483946</td>\n",
       "    </tr>\n",
       "    <tr>\n",
       "      <th>9</th>\n",
       "      <td>посёлок Стрельна</td>\n",
       "      <td>88267.456132</td>\n",
       "    </tr>\n",
       "  </tbody>\n",
       "</table>\n",
       "</div>"
      ],
      "text/plain": [
       "       locality_name  square_meter_price\n",
       "0     посёлок Репино       127678.571429\n",
       "1        Зеленогорск       115122.799198\n",
       "2    Санкт-Петербург       114442.701836\n",
       "3        деревня Бор       105539.261570\n",
       "4             Пушкин       103415.576759\n",
       "5         Сестрорецк       101443.767465\n",
       "6  поселок Лисий Нос       100660.814239\n",
       "7  деревня Мистолово        93098.851931\n",
       "8  посёлок Парголово        90465.483946\n",
       "9   посёлок Стрельна        88267.456132"
      ]
     },
     "metadata": {},
     "output_type": "display_data"
    },
    {
     "data": {
      "text/plain": [
       "'Населенный пункт с самой высокой стоимостью квадратного метра:'"
      ]
     },
     "metadata": {},
     "output_type": "display_data"
    },
    {
     "data": {
      "text/html": [
       "<div>\n",
       "<style scoped>\n",
       "    .dataframe tbody tr th:only-of-type {\n",
       "        vertical-align: middle;\n",
       "    }\n",
       "\n",
       "    .dataframe tbody tr th {\n",
       "        vertical-align: top;\n",
       "    }\n",
       "\n",
       "    .dataframe thead th {\n",
       "        text-align: right;\n",
       "    }\n",
       "</style>\n",
       "<table border=\"1\" class=\"dataframe\">\n",
       "  <thead>\n",
       "    <tr style=\"text-align: right;\">\n",
       "      <th></th>\n",
       "      <th>locality_name</th>\n",
       "      <th>square_meter_price</th>\n",
       "    </tr>\n",
       "  </thead>\n",
       "  <tbody>\n",
       "    <tr>\n",
       "      <th>0</th>\n",
       "      <td>посёлок Репино</td>\n",
       "      <td>127678.571429</td>\n",
       "    </tr>\n",
       "  </tbody>\n",
       "</table>\n",
       "</div>"
      ],
      "text/plain": [
       "    locality_name  square_meter_price\n",
       "0  посёлок Репино       127678.571429"
      ]
     },
     "metadata": {},
     "output_type": "display_data"
    },
    {
     "data": {
      "text/plain": [
       "'Населенный пункт с самой низкой стоимостью квадратного метра:'"
      ]
     },
     "metadata": {},
     "output_type": "display_data"
    },
    {
     "data": {
      "text/html": [
       "<div>\n",
       "<style scoped>\n",
       "    .dataframe tbody tr th:only-of-type {\n",
       "        vertical-align: middle;\n",
       "    }\n",
       "\n",
       "    .dataframe tbody tr th {\n",
       "        vertical-align: top;\n",
       "    }\n",
       "\n",
       "    .dataframe thead th {\n",
       "        text-align: right;\n",
       "    }\n",
       "</style>\n",
       "<table border=\"1\" class=\"dataframe\">\n",
       "  <thead>\n",
       "    <tr style=\"text-align: right;\">\n",
       "      <th></th>\n",
       "      <th>locality_name</th>\n",
       "      <th>square_meter_price</th>\n",
       "    </tr>\n",
       "  </thead>\n",
       "  <tbody>\n",
       "    <tr>\n",
       "      <th>297</th>\n",
       "      <td>деревня Старополье</td>\n",
       "      <td>10368.663594</td>\n",
       "    </tr>\n",
       "  </tbody>\n",
       "</table>\n",
       "</div>"
      ],
      "text/plain": [
       "          locality_name  square_meter_price\n",
       "297  деревня Старополье        10368.663594"
      ]
     },
     "metadata": {},
     "output_type": "display_data"
    },
    {
     "data": {
      "text/html": [
       "<div>\n",
       "<style scoped>\n",
       "    .dataframe tbody tr th:only-of-type {\n",
       "        vertical-align: middle;\n",
       "    }\n",
       "\n",
       "    .dataframe tbody tr th {\n",
       "        vertical-align: top;\n",
       "    }\n",
       "\n",
       "    .dataframe thead th {\n",
       "        text-align: right;\n",
       "    }\n",
       "</style>\n",
       "<table border=\"1\" class=\"dataframe\">\n",
       "  <thead>\n",
       "    <tr style=\"text-align: right;\">\n",
       "      <th></th>\n",
       "      <th>cityCenters_nearest_km</th>\n",
       "      <th>last_price</th>\n",
       "    </tr>\n",
       "  </thead>\n",
       "  <tbody>\n",
       "    <tr>\n",
       "      <th>0</th>\n",
       "      <td>0.0</td>\n",
       "      <td>3.235100e+07</td>\n",
       "    </tr>\n",
       "    <tr>\n",
       "      <th>1</th>\n",
       "      <td>1.0</td>\n",
       "      <td>2.164111e+07</td>\n",
       "    </tr>\n",
       "    <tr>\n",
       "      <th>2</th>\n",
       "      <td>2.0</td>\n",
       "      <td>1.820272e+07</td>\n",
       "    </tr>\n",
       "    <tr>\n",
       "      <th>3</th>\n",
       "      <td>3.0</td>\n",
       "      <td>1.110682e+07</td>\n",
       "    </tr>\n",
       "    <tr>\n",
       "      <th>4</th>\n",
       "      <td>4.0</td>\n",
       "      <td>1.316425e+07</td>\n",
       "    </tr>\n",
       "    <tr>\n",
       "      <th>5</th>\n",
       "      <td>5.0</td>\n",
       "      <td>1.438725e+07</td>\n",
       "    </tr>\n",
       "    <tr>\n",
       "      <th>6</th>\n",
       "      <td>6.0</td>\n",
       "      <td>1.494457e+07</td>\n",
       "    </tr>\n",
       "    <tr>\n",
       "      <th>7</th>\n",
       "      <td>7.0</td>\n",
       "      <td>1.448976e+07</td>\n",
       "    </tr>\n",
       "    <tr>\n",
       "      <th>8</th>\n",
       "      <td>8.0</td>\n",
       "      <td>1.013553e+07</td>\n",
       "    </tr>\n",
       "    <tr>\n",
       "      <th>9</th>\n",
       "      <td>9.0</td>\n",
       "      <td>7.022913e+06</td>\n",
       "    </tr>\n",
       "    <tr>\n",
       "      <th>10</th>\n",
       "      <td>10.0</td>\n",
       "      <td>6.468115e+06</td>\n",
       "    </tr>\n",
       "    <tr>\n",
       "      <th>11</th>\n",
       "      <td>11.0</td>\n",
       "      <td>6.274246e+06</td>\n",
       "    </tr>\n",
       "    <tr>\n",
       "      <th>12</th>\n",
       "      <td>12.0</td>\n",
       "      <td>5.882024e+06</td>\n",
       "    </tr>\n",
       "    <tr>\n",
       "      <th>13</th>\n",
       "      <td>13.0</td>\n",
       "      <td>6.104554e+06</td>\n",
       "    </tr>\n",
       "    <tr>\n",
       "      <th>14</th>\n",
       "      <td>14.0</td>\n",
       "      <td>5.642670e+06</td>\n",
       "    </tr>\n",
       "    <tr>\n",
       "      <th>15</th>\n",
       "      <td>15.0</td>\n",
       "      <td>5.916202e+06</td>\n",
       "    </tr>\n",
       "    <tr>\n",
       "      <th>16</th>\n",
       "      <td>16.0</td>\n",
       "      <td>5.395940e+06</td>\n",
       "    </tr>\n",
       "    <tr>\n",
       "      <th>17</th>\n",
       "      <td>17.0</td>\n",
       "      <td>5.307188e+06</td>\n",
       "    </tr>\n",
       "    <tr>\n",
       "      <th>18</th>\n",
       "      <td>18.0</td>\n",
       "      <td>4.906751e+06</td>\n",
       "    </tr>\n",
       "    <tr>\n",
       "      <th>19</th>\n",
       "      <td>19.0</td>\n",
       "      <td>4.684608e+06</td>\n",
       "    </tr>\n",
       "    <tr>\n",
       "      <th>20</th>\n",
       "      <td>20.0</td>\n",
       "      <td>5.266695e+06</td>\n",
       "    </tr>\n",
       "    <tr>\n",
       "      <th>21</th>\n",
       "      <td>21.0</td>\n",
       "      <td>4.871718e+06</td>\n",
       "    </tr>\n",
       "    <tr>\n",
       "      <th>22</th>\n",
       "      <td>22.0</td>\n",
       "      <td>5.270086e+06</td>\n",
       "    </tr>\n",
       "    <tr>\n",
       "      <th>23</th>\n",
       "      <td>23.0</td>\n",
       "      <td>4.826733e+06</td>\n",
       "    </tr>\n",
       "    <tr>\n",
       "      <th>24</th>\n",
       "      <td>24.0</td>\n",
       "      <td>4.254739e+06</td>\n",
       "    </tr>\n",
       "    <tr>\n",
       "      <th>25</th>\n",
       "      <td>25.0</td>\n",
       "      <td>4.755002e+06</td>\n",
       "    </tr>\n",
       "    <tr>\n",
       "      <th>26</th>\n",
       "      <td>26.0</td>\n",
       "      <td>5.042186e+06</td>\n",
       "    </tr>\n",
       "    <tr>\n",
       "      <th>27</th>\n",
       "      <td>27.0</td>\n",
       "      <td>6.079764e+06</td>\n",
       "    </tr>\n",
       "    <tr>\n",
       "      <th>28</th>\n",
       "      <td>28.0</td>\n",
       "      <td>4.813317e+06</td>\n",
       "    </tr>\n",
       "    <tr>\n",
       "      <th>29</th>\n",
       "      <td>29.0</td>\n",
       "      <td>4.642601e+06</td>\n",
       "    </tr>\n",
       "    <tr>\n",
       "      <th>30</th>\n",
       "      <td>30.0</td>\n",
       "      <td>4.459630e+06</td>\n",
       "    </tr>\n",
       "    <tr>\n",
       "      <th>31</th>\n",
       "      <td>31.0</td>\n",
       "      <td>4.728426e+06</td>\n",
       "    </tr>\n",
       "    <tr>\n",
       "      <th>32</th>\n",
       "      <td>32.0</td>\n",
       "      <td>4.316248e+06</td>\n",
       "    </tr>\n",
       "    <tr>\n",
       "      <th>33</th>\n",
       "      <td>33.0</td>\n",
       "      <td>4.428004e+06</td>\n",
       "    </tr>\n",
       "    <tr>\n",
       "      <th>34</th>\n",
       "      <td>34.0</td>\n",
       "      <td>5.295628e+06</td>\n",
       "    </tr>\n",
       "    <tr>\n",
       "      <th>35</th>\n",
       "      <td>35.0</td>\n",
       "      <td>5.928707e+06</td>\n",
       "    </tr>\n",
       "    <tr>\n",
       "      <th>36</th>\n",
       "      <td>36.0</td>\n",
       "      <td>4.499353e+06</td>\n",
       "    </tr>\n",
       "    <tr>\n",
       "      <th>37</th>\n",
       "      <td>37.0</td>\n",
       "      <td>4.086154e+06</td>\n",
       "    </tr>\n",
       "    <tr>\n",
       "      <th>38</th>\n",
       "      <td>39.0</td>\n",
       "      <td>3.100000e+06</td>\n",
       "    </tr>\n",
       "    <tr>\n",
       "      <th>39</th>\n",
       "      <td>40.0</td>\n",
       "      <td>4.325562e+06</td>\n",
       "    </tr>\n",
       "    <tr>\n",
       "      <th>40</th>\n",
       "      <td>41.0</td>\n",
       "      <td>3.494333e+06</td>\n",
       "    </tr>\n",
       "    <tr>\n",
       "      <th>41</th>\n",
       "      <td>42.0</td>\n",
       "      <td>3.058333e+06</td>\n",
       "    </tr>\n",
       "    <tr>\n",
       "      <th>42</th>\n",
       "      <td>43.0</td>\n",
       "      <td>1.164750e+07</td>\n",
       "    </tr>\n",
       "    <tr>\n",
       "      <th>43</th>\n",
       "      <td>47.0</td>\n",
       "      <td>3.942741e+06</td>\n",
       "    </tr>\n",
       "    <tr>\n",
       "      <th>44</th>\n",
       "      <td>48.0</td>\n",
       "      <td>5.367778e+06</td>\n",
       "    </tr>\n",
       "    <tr>\n",
       "      <th>45</th>\n",
       "      <td>49.0</td>\n",
       "      <td>4.315519e+06</td>\n",
       "    </tr>\n",
       "    <tr>\n",
       "      <th>46</th>\n",
       "      <td>50.0</td>\n",
       "      <td>3.624580e+06</td>\n",
       "    </tr>\n",
       "    <tr>\n",
       "      <th>47</th>\n",
       "      <td>51.0</td>\n",
       "      <td>4.946730e+06</td>\n",
       "    </tr>\n",
       "    <tr>\n",
       "      <th>48</th>\n",
       "      <td>52.0</td>\n",
       "      <td>3.462679e+06</td>\n",
       "    </tr>\n",
       "    <tr>\n",
       "      <th>49</th>\n",
       "      <td>53.0</td>\n",
       "      <td>4.197778e+06</td>\n",
       "    </tr>\n",
       "    <tr>\n",
       "      <th>50</th>\n",
       "      <td>54.0</td>\n",
       "      <td>6.273150e+06</td>\n",
       "    </tr>\n",
       "    <tr>\n",
       "      <th>51</th>\n",
       "      <td>55.0</td>\n",
       "      <td>9.000000e+06</td>\n",
       "    </tr>\n",
       "    <tr>\n",
       "      <th>52</th>\n",
       "      <td>57.0</td>\n",
       "      <td>3.015000e+06</td>\n",
       "    </tr>\n",
       "    <tr>\n",
       "      <th>53</th>\n",
       "      <td>59.0</td>\n",
       "      <td>4.250000e+06</td>\n",
       "    </tr>\n",
       "    <tr>\n",
       "      <th>54</th>\n",
       "      <td>60.0</td>\n",
       "      <td>2.050000e+06</td>\n",
       "    </tr>\n",
       "    <tr>\n",
       "      <th>55</th>\n",
       "      <td>61.0</td>\n",
       "      <td>3.200000e+06</td>\n",
       "    </tr>\n",
       "    <tr>\n",
       "      <th>56</th>\n",
       "      <td>62.0</td>\n",
       "      <td>3.200000e+06</td>\n",
       "    </tr>\n",
       "    <tr>\n",
       "      <th>57</th>\n",
       "      <td>63.0</td>\n",
       "      <td>3.600000e+06</td>\n",
       "    </tr>\n",
       "    <tr>\n",
       "      <th>58</th>\n",
       "      <td>65.0</td>\n",
       "      <td>3.475000e+06</td>\n",
       "    </tr>\n",
       "    <tr>\n",
       "      <th>59</th>\n",
       "      <td>66.0</td>\n",
       "      <td>3.933333e+06</td>\n",
       "    </tr>\n",
       "  </tbody>\n",
       "</table>\n",
       "</div>"
      ],
      "text/plain": [
       "    cityCenters_nearest_km    last_price\n",
       "0                      0.0  3.235100e+07\n",
       "1                      1.0  2.164111e+07\n",
       "2                      2.0  1.820272e+07\n",
       "3                      3.0  1.110682e+07\n",
       "4                      4.0  1.316425e+07\n",
       "5                      5.0  1.438725e+07\n",
       "6                      6.0  1.494457e+07\n",
       "7                      7.0  1.448976e+07\n",
       "8                      8.0  1.013553e+07\n",
       "9                      9.0  7.022913e+06\n",
       "10                    10.0  6.468115e+06\n",
       "11                    11.0  6.274246e+06\n",
       "12                    12.0  5.882024e+06\n",
       "13                    13.0  6.104554e+06\n",
       "14                    14.0  5.642670e+06\n",
       "15                    15.0  5.916202e+06\n",
       "16                    16.0  5.395940e+06\n",
       "17                    17.0  5.307188e+06\n",
       "18                    18.0  4.906751e+06\n",
       "19                    19.0  4.684608e+06\n",
       "20                    20.0  5.266695e+06\n",
       "21                    21.0  4.871718e+06\n",
       "22                    22.0  5.270086e+06\n",
       "23                    23.0  4.826733e+06\n",
       "24                    24.0  4.254739e+06\n",
       "25                    25.0  4.755002e+06\n",
       "26                    26.0  5.042186e+06\n",
       "27                    27.0  6.079764e+06\n",
       "28                    28.0  4.813317e+06\n",
       "29                    29.0  4.642601e+06\n",
       "30                    30.0  4.459630e+06\n",
       "31                    31.0  4.728426e+06\n",
       "32                    32.0  4.316248e+06\n",
       "33                    33.0  4.428004e+06\n",
       "34                    34.0  5.295628e+06\n",
       "35                    35.0  5.928707e+06\n",
       "36                    36.0  4.499353e+06\n",
       "37                    37.0  4.086154e+06\n",
       "38                    39.0  3.100000e+06\n",
       "39                    40.0  4.325562e+06\n",
       "40                    41.0  3.494333e+06\n",
       "41                    42.0  3.058333e+06\n",
       "42                    43.0  1.164750e+07\n",
       "43                    47.0  3.942741e+06\n",
       "44                    48.0  5.367778e+06\n",
       "45                    49.0  4.315519e+06\n",
       "46                    50.0  3.624580e+06\n",
       "47                    51.0  4.946730e+06\n",
       "48                    52.0  3.462679e+06\n",
       "49                    53.0  4.197778e+06\n",
       "50                    54.0  6.273150e+06\n",
       "51                    55.0  9.000000e+06\n",
       "52                    57.0  3.015000e+06\n",
       "53                    59.0  4.250000e+06\n",
       "54                    60.0  2.050000e+06\n",
       "55                    61.0  3.200000e+06\n",
       "56                    62.0  3.200000e+06\n",
       "57                    63.0  3.600000e+06\n",
       "58                    65.0  3.475000e+06\n",
       "59                    66.0  3.933333e+06"
      ]
     },
     "metadata": {},
     "output_type": "display_data"
    },
    {
     "data": {
      "text/plain": [
       "<AxesSubplot:xlabel='locality_name'>"
      ]
     },
     "execution_count": 24,
     "metadata": {},
     "output_type": "execute_result"
    },
    {
     "data": {
      "image/png": "[encoded data removed]",
      "text/plain": [
       "<Figure size 432x288 with 1 Axes>"
      ]
     },
     "metadata": {
      "needs_background": "light"
     },
     "output_type": "display_data"
    },
    {
     "data": {
      "image/png": "[encoded data removed]",
      "text/plain": [
       "<Figure size 432x288 with 1 Axes>"
      ]
     },
     "metadata": {
      "needs_background": "light"
     },
     "output_type": "display_data"
    }
   ],
   "source": [
    "locality_name_meter_price_pivot =\\\n",
    "data.pivot_table(index = 'locality_name', values = 'square_meter_price', aggfunc = 'mean')\\\n",
    ".sort_values('square_meter_price', ascending = False)\n",
    "\n",
    "locality_name_meter_price_pivot = locality_name_meter_price_pivot.reset_index()\n",
    "display(locality_name_meter_price_pivot.head(10))\n",
    "\n",
    "display('Населенный пункт с самой высокой стоимостью квадратного метра:', \n",
    "        locality_name_meter_price_pivot.head(1))\n",
    "display('Населенный пункт с самой низкой стоимостью квадратного метра:', \n",
    "        locality_name_meter_price_pivot.tail(1))\n",
    "\n",
    "city_centers_near_km_price_pivot = \\\n",
    "data.pivot_table(index = 'cityCenters_nearest_km', values = 'last_price', aggfunc = 'mean')\n",
    "city_centers_near_km_price_pivot = city_centers_near_km_price_pivot.reset_index()\n",
    "display(city_centers_near_km_price_pivot)\n",
    "\n",
    "city_centers_near_km_price_pivot.plot(y = 'last_price')\n",
    "\n",
    "locality_name_meter_price_pivot.head(10).plot(kind = 'bar', x = 'locality_name', y = 'square_meter_price')\n",
    "\n",
    "\n"
   ]
  },
  {
   "cell_type": "markdown",
   "metadata": {},
   "source": [
    "**Анализ стоимости метра квадратного по населенным пунктам:**\n",
    "* Самая высокая стоимость квадратного метра в поселке Репино - 127678.571429 р/м2;\n",
    "* Самая низкая стоимость квадратного метра в деревне Старополье - 10368.663594 р/м2;\n",
    "* Замыкает первую десятку населенных пунктов с самым дорогим квадратным метром поселок Стрельна - 88267.456132 р/м2.\n",
    "\n",
    "**Анализ изменения стоимости объекта в зависимости от расстояния до центра города:**\n",
    "В целом зависимость стоимости от расстояния имеет убывающий характер, но имеет несколько явных локальных пиков. Полагаю, объяснить их можно тем, что за городом могут быть относительно элитные поселки с высокой стоимостью жилья."
   ]
  },
  {
   "cell_type": "markdown",
   "metadata": {},
   "source": [
    "**Вывод по данному шагу:**\n",
    "* гистограммы исследуемых параметров квартир выглядят преимущественно похожими на нормальное распределение, выбросов и аномалий нет;\n",
    "* среднее время продажи квартиры - 186 дней;\n",
    "* медианное время продажи квартиры - 102 дня;\n",
    "* наблюдается корреляция площади квартиры и цены (чем больше квартира, тем дороже);\n",
    "* на рынке недвижимости выражена сезонность - весной и осенью выкладывают больше объявления;\n",
    "* самый дорогой квадратный метр в поселке Репино - 127678 рублей за квадратный метр;\n",
    "* самый недорогой квадратный метр в деревне Старополье - 10368 р за квадратный метр;\n",
    "* замыкает десятку наиболее дорогих населенных пунктов по стоимости квадратного метра поселок Стрельна - 88267 рублей за метр квадратный;\n",
    "* наблюдается уменьшение средней цены квадратного метра с удалением от центра города, пики объясняются наличием в дорогих пригородов/загородных поселений. "
   ]
  },
  {
   "cell_type": "markdown",
   "metadata": {},
   "source": [
    "### Общий вывод"
   ]
  },
  {
   "cell_type": "markdown",
   "metadata": {},
   "source": [
    "#### Предобработка данных.\n",
    "В датасете сохранены 84.54% (20036 объявлений из 23699 изначальных) исходной информации. Изменены типы данных для столбца \"first_day_exposition\" и \"floors_total\". Удалены неявные дубликаты \"locality_name\" с учетом контекста и проверкой по яндекс картам. Убраны некорректные значения из датасета, которые не прошли проверку по площадям (общая > жилая + кухня) и с  аномалиями по высоте потолка. По-возможности заполнены пропуски.  \n",
    "Колонки, в которых остались пропуски:\n",
    "* ceiling_height - не представляется возможным заполнить, пропусков в исходном датасете много, часть была заполнена медианой по населенному пункту. Есть аномальные населенные пункты.\n",
    "* kitchen_area - пропусков сравнительно немного, по возможности они были убраны на этапе предобработки, не сильно влияют на дальнейший анализ;\n",
    "* пропуски в расстоянии до центра города и аэропорта можно объяснить большим расстоянием до них;\n",
    "* пропуски в парках и прудах можно объяснить их отсутствием.  \n",
    "\n",
    "Из датасета удалены объявления в которых:\n",
    "* некорректные (по-моему мнению) значения потолков - 137 объявлений (около 0.578% исходного датасета);\n",
    "* не указан населенный пункт - 49 объявлений (около 0.206% исходного датасета);\n",
    "* не прошедшие проверку по площадям (площадь кухни + жилая площадь <= общая площадь, исключая квартиры-студии) - 1524 объявления (около 6.43%);\n",
    "* не указано кол-во всего этажей в доме (из-за невозмоности выполнения последующего анализа) - 52 объявления (около 0.219%);\n",
    "* некорректные с 0 комнат (гуглил/яндексил, не бывает квартир с 0 комнат) - 1901 объявление (около 8.021% исходного датасета).\n",
    "\n",
    "#### Добавление новых данных.\n",
    "В таблицу были добавлены столбцы со следующей информацией:\n",
    "* цена одного квадратного метра;\n",
    "* день недели публикации объявления;\n",
    "* месяц публикации объявления;\n",
    "* год публикации объявления;\n",
    "* расстояние до центра города в километрах.\n",
    "\n",
    "#### Исследовательский анализ данных.\n",
    "* гистограммы исследуемых параметров квартир выглядят хорошо, выбросов и аномалий нет;\n",
    "* среднее время продажи квартиры - 186 дней;\n",
    "* медианное время продажи квартиры - 102 дня;\n",
    "* наблюдается корреляция площади квартиры и цены (чем больше квартира, тем дороже);\n",
    "* корреляция между количеством комнат и ценой есть, но существенно менее выражена, чем корреляция цены и площади;\n",
    "* квартиры на первом и последнем этаже стоят несколько дешевле, чем на \"других\";\n",
    "* стоимость квартиры не зависит от даты размещения, но в 2015 году произошло резкое падение медианной стоимости недвижимости;\n",
    "* на рынке недвижимости выражена сезонность - весной и осенью выкладывают больше объявления;\n",
    "* самый дорогой квадратный метр в поселке Репино - 127678 рублей за квадратный метр;\n",
    "* самый недорогой квадратный метр в деревне Старополье - 10368 р за квадратный метр;\n",
    "* замыкает десятку наиболее дорогих населенных пунктов по стоимости квадратного метра поселок Стрельна - 88267 рублей за метр квадратный;\n",
    "* наблюдается уменьшение средней цены квадратного метра с удалением от центра города, пики объясняются наличием в дорогих пригородов/загородных поселеиний. \n"
   ]
  }
 ],
 "metadata": {
  "ExecuteTimeLog": [
   {
    "duration": 1231,
    "start_time": "2022-10-16T12:34:45.047Z"
   },
   {
    "duration": 19,
    "start_time": "2022-10-16T12:34:46.281Z"
   },
   {
    "duration": 2699,
    "start_time": "2022-10-16T12:34:46.302Z"
   },
   {
    "duration": 1799,
    "start_time": "2022-10-16T12:34:49.004Z"
   },
   {
    "duration": 30,
    "start_time": "2022-10-16T12:34:50.804Z"
   },
   {
    "duration": 289,
    "start_time": "2022-10-16T12:34:50.836Z"
   },
   {
    "duration": 19,
    "start_time": "2022-10-16T12:34:51.127Z"
   },
   {
    "duration": 20,
    "start_time": "2022-10-16T12:34:51.149Z"
   },
   {
    "duration": 24,
    "start_time": "2022-10-16T12:34:51.170Z"
   },
   {
    "duration": 15,
    "start_time": "2022-10-16T12:34:51.196Z"
   },
   {
    "duration": 20,
    "start_time": "2022-10-16T12:34:51.233Z"
   },
   {
    "duration": 2328,
    "start_time": "2022-10-16T12:34:51.254Z"
   },
   {
    "duration": 2551,
    "start_time": "2022-10-16T12:34:53.584Z"
   },
   {
    "duration": 1603,
    "start_time": "2022-10-16T12:34:56.137Z"
   },
   {
    "duration": 3418,
    "start_time": "2022-10-16T12:34:57.742Z"
   },
   {
    "duration": 969,
    "start_time": "2022-10-16T12:35:01.162Z"
   },
   {
    "duration": 58,
    "start_time": "2022-10-16T12:35:02.133Z"
   },
   {
    "duration": 314,
    "start_time": "2022-10-16T12:35:02.192Z"
   },
   {
    "duration": 43,
    "start_time": "2022-10-16T12:35:02.508Z"
   },
   {
    "duration": 3359,
    "start_time": "2022-10-16T12:35:02.552Z"
   },
   {
    "duration": 663,
    "start_time": "2022-10-16T12:35:05.913Z"
   },
   {
    "duration": 1389,
    "start_time": "2022-10-16T12:35:06.577Z"
   },
   {
    "duration": 340,
    "start_time": "2022-10-16T12:35:07.968Z"
   },
   {
    "duration": 832,
    "start_time": "2022-10-16T12:46:21.745Z"
   },
   {
    "duration": 15,
    "start_time": "2022-10-16T12:46:22.579Z"
   },
   {
    "duration": 2761,
    "start_time": "2022-10-16T12:46:22.596Z"
   },
   {
    "duration": 1962,
    "start_time": "2022-10-16T12:46:25.359Z"
   },
   {
    "duration": 27,
    "start_time": "2022-10-16T12:46:27.323Z"
   },
   {
    "duration": 485,
    "start_time": "2022-10-16T12:46:27.352Z"
   },
   {
    "duration": 26,
    "start_time": "2022-10-16T12:46:27.839Z"
   },
   {
    "duration": 87,
    "start_time": "2022-10-16T12:46:27.867Z"
   },
   {
    "duration": 84,
    "start_time": "2022-10-16T12:46:27.956Z"
   },
   {
    "duration": 22,
    "start_time": "2022-10-16T12:46:28.042Z"
   },
   {
    "duration": 85,
    "start_time": "2022-10-16T12:46:28.066Z"
   },
   {
    "duration": 2157,
    "start_time": "2022-10-16T12:46:28.152Z"
   },
   {
    "duration": 2758,
    "start_time": "2022-10-16T12:46:30.311Z"
   },
   {
    "duration": 1594,
    "start_time": "2022-10-16T12:46:33.070Z"
   },
   {
    "duration": 3715,
    "start_time": "2022-10-16T12:46:34.665Z"
   },
   {
    "duration": 986,
    "start_time": "2022-10-16T12:46:38.382Z"
   },
   {
    "duration": 43,
    "start_time": "2022-10-16T12:46:39.370Z"
   },
   {
    "duration": 330,
    "start_time": "2022-10-16T12:46:39.415Z"
   },
   {
    "duration": 42,
    "start_time": "2022-10-16T12:46:39.746Z"
   },
   {
    "duration": 3605,
    "start_time": "2022-10-16T12:46:39.790Z"
   },
   {
    "duration": 576,
    "start_time": "2022-10-16T12:46:43.397Z"
   },
   {
    "duration": 1421,
    "start_time": "2022-10-16T12:46:43.975Z"
   },
   {
    "duration": 376,
    "start_time": "2022-10-16T12:46:45.398Z"
   }
  ],
  "kernelspec": {
   "display_name": "Python 3 (ipykernel)",
   "language": "python",
   "name": "python3"
  },
  "language_info": {
   "codemirror_mode": {
    "name": "ipython",
    "version": 3
   },
   "file_extension": ".py",
   "mimetype": "text/x-python",
   "name": "python",
   "nbconvert_exporter": "python",
   "pygments_lexer": "ipython3",
   "version": "3.9.13"
  },
  "toc": {
   "base_numbering": 1,
   "nav_menu": {},
   "number_sections": true,
   "sideBar": true,
   "skip_h1_title": true,
   "title_cell": "Table of Contents",
   "title_sidebar": "Contents",
   "toc_cell": false,
   "toc_position": {},
   "toc_section_display": true,
   "toc_window_display": true
  }
 },
 "nbformat": 4,
 "nbformat_minor": 2
}
