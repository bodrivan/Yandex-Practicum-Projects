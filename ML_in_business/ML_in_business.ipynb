{
 "cells": [
  {
   "cell_type": "markdown",
   "metadata": {},
   "source": [
    "# Выбор локации для скважины"
   ]
  },
  {
   "cell_type": "markdown",
   "metadata": {},
   "source": [
    "Допустим, вы работаете в добывающей компании «ГлавРосГосНефть». Нужно решить, где бурить новую скважину.\n",
    "\n",
    "Вам предоставлены пробы нефти в трёх регионах: в каждом 10 000 месторождений, где измерили качество нефти и объём её запасов. Постройте модель машинного обучения, которая поможет определить регион, где добыча принесёт наибольшую прибыль. Проанализируйте возможную прибыль и риски техникой *Bootstrap.*\n",
    "\n",
    "Шаги для выбора локации:\n",
    "\n",
    "- В избранном регионе ищут месторождения, для каждого определяют значения признаков;\n",
    "- Строят модель и оценивают объём запасов;\n",
    "- Выбирают месторождения с самым высокими оценками значений. Количество месторождений зависит от бюджета компании и стоимости разработки одной скважины;\n",
    "- Прибыль равна суммарной прибыли отобранных месторождений."
   ]
  },
  {
   "cell_type": "markdown",
   "metadata": {},
   "source": [
    "## Описание данных\n",
    "Данные геологоразведки трёх регионов находятся в файлах:\n",
    "- /datasets/geo_data_0.csv.  \n",
    "- /datasets/geo_data_1.csv.  \n",
    "- /datasets/geo_data_2.csv.  \n",
    "- id — уникальный идентификатор скважины;\n",
    "- f0, f1, f2 — три признака точек (неважно, что они означают, но сами признаки значимы);\n",
    "- product — объём запасов в скважине (тыс. баррелей)."
   ]
  },
  {
   "cell_type": "markdown",
   "metadata": {},
   "source": [
    "## Условия задачи\n",
    "\n",
    "- Для обучения модели подходит только линейная регрессия (остальные — недостаточно предсказуемые).\n",
    "- При разведке региона исследуют 500 точек, из которых с помощью машинного обучения выбирают 200 лучших для разработки.\n",
    "- Бюджет на разработку скважин в регионе — 10 млрд рублей.\n",
    "- При нынешних ценах один баррель сырья приносит 450 рублей дохода. Доход с каждой единицы продукта составляет 450 тыс. рублей, поскольку объём указан в тысячах баррелей.\n",
    "- После оценки рисков нужно оставить лишь те регионы, в которых вероятность убытков меньше 2.5%. Среди них выбирают регион с наибольшей средней прибылью"
   ]
  },
  {
   "cell_type": "markdown",
   "metadata": {},
   "source": [
    "## Загрузка и подготовка данных"
   ]
  },
  {
   "cell_type": "markdown",
   "metadata": {},
   "source": [
    "### Подключение библиотек"
   ]
  },
  {
   "cell_type": "code",
   "execution_count": 1,
   "metadata": {},
   "outputs": [],
   "source": [
    "import pandas as pd\n",
    "import numpy as np\n",
    "import scipy.stats as st\n",
    "import os\n",
    "from sklearn.model_selection import train_test_split\n",
    "from sklearn.linear_model import LinearRegression\n",
    "from sklearn.metrics import mean_squared_error"
   ]
  },
  {
   "cell_type": "markdown",
   "metadata": {},
   "source": [
    "### Открытие первого файла с данными"
   ]
  },
  {
   "cell_type": "code",
   "execution_count": 2,
   "metadata": {},
   "outputs": [],
   "source": [
    "path_1 = '/Users/ivanbodrenkov/Yandex.Disk.localized/Яндекс Практикум/8. Машинное обучение в бизнесе/Проект/geo_data_0.csv'\n",
    "path_2 = 'https://code.s3.yandex.net/datasets/geo_data_0.csv'\n",
    "path_3 = 'C:/Users/bodrenkov_ia/Desktop/Project/geo_data_0.csv'\n",
    "path_4 = '/datasets/geo_data_0.csv'\n",
    "\n",
    "if os.path.exists(path_1):\n",
    "    data_0 = pd.read_csv(path_1, sep = ',')\n",
    "elif os.path.exists(path_2):\n",
    "    data_0 = pd.read_csv(path_2, sep = ',')\n",
    "elif os.path.exists(path_3):\n",
    "    data_0 = pd.read_csv(path_3, sep = ',')\n",
    "elif os.path.exists(path_4):\n",
    "    data_0 = pd.read_csv(path_4, sep = ',')\n",
    "else:\n",
    "    print('Что-то пошло не так!')"
   ]
  },
  {
   "cell_type": "markdown",
   "metadata": {},
   "source": [
    "### Открытие второго файла с данными"
   ]
  },
  {
   "cell_type": "code",
   "execution_count": 3,
   "metadata": {},
   "outputs": [],
   "source": [
    "path_1 = '/Users/ivanbodrenkov/Yandex.Disk.localized/Яндекс Практикум/8. Машинное обучение в бизнесе/Проект/geo_data_1.csv'\n",
    "path_2 = 'https://code.s3.yandex.net/datasets/geo_data_1.csv'\n",
    "path_3 = 'C:/Users/bodrenkov_ia/Desktop/Project/geo_data_1.csv'\n",
    "path_4 = '/datasets/geo_data_1.csv'\n",
    "\n",
    "if os.path.exists(path_1):\n",
    "    data_1 = pd.read_csv(path_1, sep = ',')\n",
    "elif os.path.exists(path_2):\n",
    "    data_1 = pd.read_csv(path_2, sep = ',')\n",
    "elif os.path.exists(path_3):\n",
    "    data_1 = pd.read_csv(path_3, sep = ',')\n",
    "elif os.path.exists(path_4):\n",
    "    data_1 = pd.read_csv(path_4, sep = ',')\n",
    "else:\n",
    "    print('Что-то пошло не так!')"
   ]
  },
  {
   "cell_type": "markdown",
   "metadata": {},
   "source": [
    "### Открытие третьего файла с данными"
   ]
  },
  {
   "cell_type": "code",
   "execution_count": 4,
   "metadata": {},
   "outputs": [],
   "source": [
    "path_1 = '/Users/ivanbodrenkov/Yandex.Disk.localized/Яндекс Практикум/8. Машинное обучение в бизнесе/Проект/geo_data_2.csv'\n",
    "path_2 = 'https://code.s3.yandex.net/datasets/geo_data_2.csv'\n",
    "path_3 = 'C:/Users/bodrenkov_ia/Desktop/Project/geo_data_2.csv'\n",
    "path_4 = '/datasets/geo_data_2.csv'\n",
    "\n",
    "if os.path.exists(path_1):\n",
    "    data_2 = pd.read_csv(path_1, sep = ',')\n",
    "elif os.path.exists(path_2):\n",
    "    data_2 = pd.read_csv(path_2, sep = ',')\n",
    "elif os.path.exists(path_3):\n",
    "    data_2 = pd.read_csv(path_3, sep = ',')\n",
    "elif os.path.exists(path_4):\n",
    "    data_2 = pd.read_csv(path_4, sep = ',')\n",
    "else:\n",
    "    print('Что-то пошло не так!')"
   ]
  },
  {
   "cell_type": "markdown",
   "metadata": {},
   "source": [
    "### Получение информации о данных"
   ]
  },
  {
   "cell_type": "code",
   "execution_count": 5,
   "metadata": {},
   "outputs": [
    {
     "name": "stdout",
     "output_type": "stream",
     "text": [
      "<class 'pandas.core.frame.DataFrame'>\n",
      "RangeIndex: 100000 entries, 0 to 99999\n",
      "Data columns (total 5 columns):\n",
      " #   Column   Non-Null Count   Dtype  \n",
      "---  ------   --------------   -----  \n",
      " 0   id       100000 non-null  object \n",
      " 1   f0       100000 non-null  float64\n",
      " 2   f1       100000 non-null  float64\n",
      " 3   f2       100000 non-null  float64\n",
      " 4   product  100000 non-null  float64\n",
      "dtypes: float64(4), object(1)\n",
      "memory usage: 3.8+ MB\n",
      "None\n"
     ]
    },
    {
     "data": {
      "text/html": [
       "<div>\n",
       "<style scoped>\n",
       "    .dataframe tbody tr th:only-of-type {\n",
       "        vertical-align: middle;\n",
       "    }\n",
       "\n",
       "    .dataframe tbody tr th {\n",
       "        vertical-align: top;\n",
       "    }\n",
       "\n",
       "    .dataframe thead th {\n",
       "        text-align: right;\n",
       "    }\n",
       "</style>\n",
       "<table border=\"1\" class=\"dataframe\">\n",
       "  <thead>\n",
       "    <tr style=\"text-align: right;\">\n",
       "      <th></th>\n",
       "      <th>id</th>\n",
       "      <th>f0</th>\n",
       "      <th>f1</th>\n",
       "      <th>f2</th>\n",
       "      <th>product</th>\n",
       "    </tr>\n",
       "  </thead>\n",
       "  <tbody>\n",
       "    <tr>\n",
       "      <th>0</th>\n",
       "      <td>txEyH</td>\n",
       "      <td>0.705745</td>\n",
       "      <td>-0.497823</td>\n",
       "      <td>1.221170</td>\n",
       "      <td>105.280062</td>\n",
       "    </tr>\n",
       "    <tr>\n",
       "      <th>1</th>\n",
       "      <td>2acmU</td>\n",
       "      <td>1.334711</td>\n",
       "      <td>-0.340164</td>\n",
       "      <td>4.365080</td>\n",
       "      <td>73.037750</td>\n",
       "    </tr>\n",
       "    <tr>\n",
       "      <th>2</th>\n",
       "      <td>409Wp</td>\n",
       "      <td>1.022732</td>\n",
       "      <td>0.151990</td>\n",
       "      <td>1.419926</td>\n",
       "      <td>85.265647</td>\n",
       "    </tr>\n",
       "    <tr>\n",
       "      <th>3</th>\n",
       "      <td>iJLyR</td>\n",
       "      <td>-0.032172</td>\n",
       "      <td>0.139033</td>\n",
       "      <td>2.978566</td>\n",
       "      <td>168.620776</td>\n",
       "    </tr>\n",
       "    <tr>\n",
       "      <th>4</th>\n",
       "      <td>Xdl7t</td>\n",
       "      <td>1.988431</td>\n",
       "      <td>0.155413</td>\n",
       "      <td>4.751769</td>\n",
       "      <td>154.036647</td>\n",
       "    </tr>\n",
       "  </tbody>\n",
       "</table>\n",
       "</div>"
      ],
      "text/plain": [
       "      id        f0        f1        f2     product\n",
       "0  txEyH  0.705745 -0.497823  1.221170  105.280062\n",
       "1  2acmU  1.334711 -0.340164  4.365080   73.037750\n",
       "2  409Wp  1.022732  0.151990  1.419926   85.265647\n",
       "3  iJLyR -0.032172  0.139033  2.978566  168.620776\n",
       "4  Xdl7t  1.988431  0.155413  4.751769  154.036647"
      ]
     },
     "metadata": {},
     "output_type": "display_data"
    },
    {
     "data": {
      "text/plain": [
       "array([[<AxesSubplot:title={'center':'f0'}>,\n",
       "        <AxesSubplot:title={'center':'f1'}>],\n",
       "       [<AxesSubplot:title={'center':'f2'}>,\n",
       "        <AxesSubplot:title={'center':'product'}>]], dtype=object)"
      ]
     },
     "execution_count": 5,
     "metadata": {},
     "output_type": "execute_result"
    },
    {
     "data": {
      "image/png": "[encoded data removed]",
      "text/plain": [
       "<Figure size 1000x1000 with 4 Axes>"
      ]
     },
     "metadata": {},
     "output_type": "display_data"
    }
   ],
   "source": [
    "print(data_0.info())\n",
    "display(data_0.head())\n",
    "data_0.hist(bins = 50, color = 'black', alpha = 0.75, figsize = (10, 10))"
   ]
  },
  {
   "cell_type": "code",
   "execution_count": 6,
   "metadata": {},
   "outputs": [
    {
     "name": "stdout",
     "output_type": "stream",
     "text": [
      "<class 'pandas.core.frame.DataFrame'>\n",
      "RangeIndex: 100000 entries, 0 to 99999\n",
      "Data columns (total 5 columns):\n",
      " #   Column   Non-Null Count   Dtype  \n",
      "---  ------   --------------   -----  \n",
      " 0   id       100000 non-null  object \n",
      " 1   f0       100000 non-null  float64\n",
      " 2   f1       100000 non-null  float64\n",
      " 3   f2       100000 non-null  float64\n",
      " 4   product  100000 non-null  float64\n",
      "dtypes: float64(4), object(1)\n",
      "memory usage: 3.8+ MB\n",
      "None\n"
     ]
    },
    {
     "data": {
      "text/html": [
       "<div>\n",
       "<style scoped>\n",
       "    .dataframe tbody tr th:only-of-type {\n",
       "        vertical-align: middle;\n",
       "    }\n",
       "\n",
       "    .dataframe tbody tr th {\n",
       "        vertical-align: top;\n",
       "    }\n",
       "\n",
       "    .dataframe thead th {\n",
       "        text-align: right;\n",
       "    }\n",
       "</style>\n",
       "<table border=\"1\" class=\"dataframe\">\n",
       "  <thead>\n",
       "    <tr style=\"text-align: right;\">\n",
       "      <th></th>\n",
       "      <th>id</th>\n",
       "      <th>f0</th>\n",
       "      <th>f1</th>\n",
       "      <th>f2</th>\n",
       "      <th>product</th>\n",
       "    </tr>\n",
       "  </thead>\n",
       "  <tbody>\n",
       "    <tr>\n",
       "      <th>0</th>\n",
       "      <td>kBEdx</td>\n",
       "      <td>-15.001348</td>\n",
       "      <td>-8.276000</td>\n",
       "      <td>-0.005876</td>\n",
       "      <td>3.179103</td>\n",
       "    </tr>\n",
       "    <tr>\n",
       "      <th>1</th>\n",
       "      <td>62mP7</td>\n",
       "      <td>14.272088</td>\n",
       "      <td>-3.475083</td>\n",
       "      <td>0.999183</td>\n",
       "      <td>26.953261</td>\n",
       "    </tr>\n",
       "    <tr>\n",
       "      <th>2</th>\n",
       "      <td>vyE1P</td>\n",
       "      <td>6.263187</td>\n",
       "      <td>-5.948386</td>\n",
       "      <td>5.001160</td>\n",
       "      <td>134.766305</td>\n",
       "    </tr>\n",
       "    <tr>\n",
       "      <th>3</th>\n",
       "      <td>KcrkZ</td>\n",
       "      <td>-13.081196</td>\n",
       "      <td>-11.506057</td>\n",
       "      <td>4.999415</td>\n",
       "      <td>137.945408</td>\n",
       "    </tr>\n",
       "    <tr>\n",
       "      <th>4</th>\n",
       "      <td>AHL4O</td>\n",
       "      <td>12.702195</td>\n",
       "      <td>-8.147433</td>\n",
       "      <td>5.004363</td>\n",
       "      <td>134.766305</td>\n",
       "    </tr>\n",
       "  </tbody>\n",
       "</table>\n",
       "</div>"
      ],
      "text/plain": [
       "      id         f0         f1        f2     product\n",
       "0  kBEdx -15.001348  -8.276000 -0.005876    3.179103\n",
       "1  62mP7  14.272088  -3.475083  0.999183   26.953261\n",
       "2  vyE1P   6.263187  -5.948386  5.001160  134.766305\n",
       "3  KcrkZ -13.081196 -11.506057  4.999415  137.945408\n",
       "4  AHL4O  12.702195  -8.147433  5.004363  134.766305"
      ]
     },
     "metadata": {},
     "output_type": "display_data"
    },
    {
     "data": {
      "text/plain": [
       "array([[<AxesSubplot:title={'center':'f0'}>,\n",
       "        <AxesSubplot:title={'center':'f1'}>],\n",
       "       [<AxesSubplot:title={'center':'f2'}>,\n",
       "        <AxesSubplot:title={'center':'product'}>]], dtype=object)"
      ]
     },
     "execution_count": 6,
     "metadata": {},
     "output_type": "execute_result"
    },
    {
     "data": {
      "image/png": "[encoded data removed]",
      "text/plain": [
       "<Figure size 1000x1000 with 4 Axes>"
      ]
     },
     "metadata": {},
     "output_type": "display_data"
    }
   ],
   "source": [
    "print(data_1.info())\n",
    "display(data_1.head())\n",
    "data_1.hist(bins = 50, color = 'black', alpha = 0.75, figsize = (10, 10))"
   ]
  },
  {
   "cell_type": "code",
   "execution_count": 7,
   "metadata": {
    "scrolled": false
   },
   "outputs": [
    {
     "name": "stdout",
     "output_type": "stream",
     "text": [
      "<class 'pandas.core.frame.DataFrame'>\n",
      "RangeIndex: 100000 entries, 0 to 99999\n",
      "Data columns (total 5 columns):\n",
      " #   Column   Non-Null Count   Dtype  \n",
      "---  ------   --------------   -----  \n",
      " 0   id       100000 non-null  object \n",
      " 1   f0       100000 non-null  float64\n",
      " 2   f1       100000 non-null  float64\n",
      " 3   f2       100000 non-null  float64\n",
      " 4   product  100000 non-null  float64\n",
      "dtypes: float64(4), object(1)\n",
      "memory usage: 3.8+ MB\n",
      "None\n"
     ]
    },
    {
     "data": {
      "text/html": [
       "<div>\n",
       "<style scoped>\n",
       "    .dataframe tbody tr th:only-of-type {\n",
       "        vertical-align: middle;\n",
       "    }\n",
       "\n",
       "    .dataframe tbody tr th {\n",
       "        vertical-align: top;\n",
       "    }\n",
       "\n",
       "    .dataframe thead th {\n",
       "        text-align: right;\n",
       "    }\n",
       "</style>\n",
       "<table border=\"1\" class=\"dataframe\">\n",
       "  <thead>\n",
       "    <tr style=\"text-align: right;\">\n",
       "      <th></th>\n",
       "      <th>id</th>\n",
       "      <th>f0</th>\n",
       "      <th>f1</th>\n",
       "      <th>f2</th>\n",
       "      <th>product</th>\n",
       "    </tr>\n",
       "  </thead>\n",
       "  <tbody>\n",
       "    <tr>\n",
       "      <th>0</th>\n",
       "      <td>fwXo0</td>\n",
       "      <td>-1.146987</td>\n",
       "      <td>0.963328</td>\n",
       "      <td>-0.828965</td>\n",
       "      <td>27.758673</td>\n",
       "    </tr>\n",
       "    <tr>\n",
       "      <th>1</th>\n",
       "      <td>WJtFt</td>\n",
       "      <td>0.262778</td>\n",
       "      <td>0.269839</td>\n",
       "      <td>-2.530187</td>\n",
       "      <td>56.069697</td>\n",
       "    </tr>\n",
       "    <tr>\n",
       "      <th>2</th>\n",
       "      <td>ovLUW</td>\n",
       "      <td>0.194587</td>\n",
       "      <td>0.289035</td>\n",
       "      <td>-5.586433</td>\n",
       "      <td>62.871910</td>\n",
       "    </tr>\n",
       "    <tr>\n",
       "      <th>3</th>\n",
       "      <td>q6cA6</td>\n",
       "      <td>2.236060</td>\n",
       "      <td>-0.553760</td>\n",
       "      <td>0.930038</td>\n",
       "      <td>114.572842</td>\n",
       "    </tr>\n",
       "    <tr>\n",
       "      <th>4</th>\n",
       "      <td>WPMUX</td>\n",
       "      <td>-0.515993</td>\n",
       "      <td>1.716266</td>\n",
       "      <td>5.899011</td>\n",
       "      <td>149.600746</td>\n",
       "    </tr>\n",
       "  </tbody>\n",
       "</table>\n",
       "</div>"
      ],
      "text/plain": [
       "      id        f0        f1        f2     product\n",
       "0  fwXo0 -1.146987  0.963328 -0.828965   27.758673\n",
       "1  WJtFt  0.262778  0.269839 -2.530187   56.069697\n",
       "2  ovLUW  0.194587  0.289035 -5.586433   62.871910\n",
       "3  q6cA6  2.236060 -0.553760  0.930038  114.572842\n",
       "4  WPMUX -0.515993  1.716266  5.899011  149.600746"
      ]
     },
     "metadata": {},
     "output_type": "display_data"
    },
    {
     "data": {
      "text/plain": [
       "array([[<AxesSubplot:title={'center':'f0'}>,\n",
       "        <AxesSubplot:title={'center':'f1'}>],\n",
       "       [<AxesSubplot:title={'center':'f2'}>,\n",
       "        <AxesSubplot:title={'center':'product'}>]], dtype=object)"
      ]
     },
     "execution_count": 7,
     "metadata": {},
     "output_type": "execute_result"
    },
    {
     "data": {
      "image/png": "[encoded data removed]",
      "text/plain": [
       "<Figure size 1000x1000 with 4 Axes>"
      ]
     },
     "metadata": {},
     "output_type": "display_data"
    }
   ],
   "source": [
    "print(data_2.info())\n",
    "display(data_2.head())\n",
    "data_2.hist(bins = 50, color = 'black', alpha = 0.75, figsize = (10, 10))"
   ]
  },
  {
   "cell_type": "code",
   "execution_count": 8,
   "metadata": {},
   "outputs": [
    {
     "name": "stdout",
     "output_type": "stream",
     "text": [
      "<class 'pandas.core.frame.DataFrame'>\n",
      "RangeIndex: 100000 entries, 0 to 99999\n",
      "Data columns (total 4 columns):\n",
      " #   Column   Non-Null Count   Dtype  \n",
      "---  ------   --------------   -----  \n",
      " 0   f0       100000 non-null  float64\n",
      " 1   f1       100000 non-null  float64\n",
      " 2   f2       100000 non-null  float64\n",
      " 3   product  100000 non-null  float64\n",
      "dtypes: float64(4)\n",
      "memory usage: 3.1 MB\n"
     ]
    }
   ],
   "source": [
    "data_0 = data_0.drop('id', axis = 1)\n",
    "data_0.info()"
   ]
  },
  {
   "cell_type": "code",
   "execution_count": 9,
   "metadata": {
    "scrolled": true
   },
   "outputs": [
    {
     "name": "stdout",
     "output_type": "stream",
     "text": [
      "<class 'pandas.core.frame.DataFrame'>\n",
      "RangeIndex: 100000 entries, 0 to 99999\n",
      "Data columns (total 4 columns):\n",
      " #   Column   Non-Null Count   Dtype  \n",
      "---  ------   --------------   -----  \n",
      " 0   f0       100000 non-null  float64\n",
      " 1   f1       100000 non-null  float64\n",
      " 2   f2       100000 non-null  float64\n",
      " 3   product  100000 non-null  float64\n",
      "dtypes: float64(4)\n",
      "memory usage: 3.1 MB\n"
     ]
    }
   ],
   "source": [
    "data_1 = data_1.drop('id', axis = 1)\n",
    "data_1.info()"
   ]
  },
  {
   "cell_type": "markdown",
   "metadata": {},
   "source": [
    "### Удаление лишних столбцов из данных"
   ]
  },
  {
   "cell_type": "code",
   "execution_count": 10,
   "metadata": {
    "scrolled": true
   },
   "outputs": [
    {
     "name": "stdout",
     "output_type": "stream",
     "text": [
      "<class 'pandas.core.frame.DataFrame'>\n",
      "RangeIndex: 100000 entries, 0 to 99999\n",
      "Data columns (total 4 columns):\n",
      " #   Column   Non-Null Count   Dtype  \n",
      "---  ------   --------------   -----  \n",
      " 0   f0       100000 non-null  float64\n",
      " 1   f1       100000 non-null  float64\n",
      " 2   f2       100000 non-null  float64\n",
      " 3   product  100000 non-null  float64\n",
      "dtypes: float64(4)\n",
      "memory usage: 3.1 MB\n"
     ]
    }
   ],
   "source": [
    "data_2 = data_2.drop('id', axis = 1)\n",
    "data_2.info()"
   ]
  },
  {
   "cell_type": "markdown",
   "metadata": {},
   "source": [
    "### Разделение данных на выборки"
   ]
  },
  {
   "cell_type": "code",
   "execution_count": 11,
   "metadata": {},
   "outputs": [
    {
     "name": "stdout",
     "output_type": "stream",
     "text": [
      "Размер обучающей выборки для geo_data_0: 75000\n",
      "Размер валидационной выборки для geo_data_0: 25000\n",
      "\n",
      "Размер обучающей выборки для geo_data_1: 75000\n",
      "Размер валидационной выборки для geo_data_1: 25000\n",
      "\n",
      "Размер обучающей выборки для geo_data_2: 75000\n",
      "Размер валидационной выборки для geo_data_2: 25000\n"
     ]
    }
   ],
   "source": [
    "data_0_train, data_0_valid = train_test_split(data_0, test_size=0.25, random_state=12345)\n",
    "data_1_train, data_1_valid = train_test_split(data_1, test_size=0.25, random_state=12345)\n",
    "data_2_train, data_2_valid = train_test_split(data_2, test_size=0.25, random_state=12345)\n",
    "\n",
    "print('Размер обучающей выборки для geo_data_0:', data_0_train.shape[0])\n",
    "print('Размер валидационной выборки для geo_data_0:', data_0_valid.shape[0])\n",
    "print()\n",
    "print('Размер обучающей выборки для geo_data_1:', data_1_train.shape[0])\n",
    "print('Размер валидационной выборки для geo_data_1:', data_1_valid.shape[0])\n",
    "print()\n",
    "print('Размер обучающей выборки для geo_data_2:', data_1_train.shape[0])\n",
    "print('Размер валидационной выборки для geo_data_2:', data_2_valid.shape[0])"
   ]
  },
  {
   "cell_type": "code",
   "execution_count": 12,
   "metadata": {},
   "outputs": [],
   "source": [
    "data_0_train_features = data_0_train.drop('product', axis = 1)\n",
    "data_0_train_target = data_0_train['product']\n",
    "data_0_valid_features = data_0_valid.drop('product', axis = 1)\n",
    "data_0_valid_target = data_0_valid['product']\n",
    "\n",
    "data_1_train_features = data_1_train.drop('product', axis = 1)\n",
    "data_1_train_target = data_1_train['product']\n",
    "data_1_valid_features = data_1_valid.drop('product', axis = 1)\n",
    "data_1_valid_target = data_1_valid['product']\n",
    "\n",
    "data_2_train_features = data_2_train.drop('product', axis = 1)\n",
    "data_2_train_target = data_2_train['product']\n",
    "data_2_valid_features = data_2_valid.drop('product', axis = 1)\n",
    "data_2_valid_target = data_2_valid['product']\n",
    "\n",
    "data_0_valid_target = data_0_valid_target.reset_index(drop = True)\n",
    "data_1_valid_target = data_1_valid_target.reset_index(drop = True)\n",
    "data_2_valid_target = data_2_valid_target.reset_index(drop = True)"
   ]
  },
  {
   "cell_type": "markdown",
   "metadata": {},
   "source": [
    "### Промежуточный вывод"
   ]
  },
  {
   "cell_type": "markdown",
   "metadata": {},
   "source": [
    "Получены данные о характеристиках скважин в трех регионах. Получена основная информация об исходных данных, построены гистограммы (не более чем для визуализации), рассмотрен общий вид данных. \n",
    "\n",
    "Пропусков и выбросов в данных нет."
   ]
  },
  {
   "cell_type": "markdown",
   "metadata": {},
   "source": [
    "## Обучение и проверка модели"
   ]
  },
  {
   "cell_type": "markdown",
   "metadata": {},
   "source": [
    "### Функция для расчета RMSE"
   ]
  },
  {
   "cell_type": "code",
   "execution_count": 13,
   "metadata": {},
   "outputs": [],
   "source": [
    "def rmse(answers, predictions):\n",
    "    from sklearn.metrics import mean_squared_error \n",
    "    mse = mean_squared_error(answers, predictions)\n",
    "    \n",
    "    return mse ** 0.5"
   ]
  },
  {
   "cell_type": "markdown",
   "metadata": {},
   "source": [
    "### Обучение модели для первого региона, подсчет среднего запаса сырья (в тыс. баррелей), расчет RMSE  "
   ]
  },
  {
   "cell_type": "code",
   "execution_count": 14,
   "metadata": {},
   "outputs": [
    {
     "name": "stdout",
     "output_type": "stream",
     "text": [
      "RMSE модели для 1-го региона: 37.5794217150813\n",
      "Средний запас предсказанного сырья в 1-м регионе: 92.59256778438035\n"
     ]
    }
   ],
   "source": [
    "model = LinearRegression()\n",
    "model.fit(data_0_train_features, data_0_train_target)\n",
    "data_0_predictions = model.predict(data_0_valid_features)\n",
    "\n",
    "region_1_rmse_predict = rmse(data_0_valid_target, data_0_predictions)\n",
    "region_1_mean_product_predict = data_0_predictions.mean()\n",
    "data_0_predictions = pd.Series(data_0_predictions)\n",
    "\n",
    "print('RMSE модели для 1-го региона:',region_1_rmse_predict)\n",
    "print('Средний запас предсказанного сырья в 1-м регионе:', region_1_mean_product_predict)"
   ]
  },
  {
   "cell_type": "markdown",
   "metadata": {},
   "source": [
    "### Обучение модели для второго региона, подсчет среднего запаса сырья (в тыс. баррелей), расчет RMSE  "
   ]
  },
  {
   "cell_type": "code",
   "execution_count": 15,
   "metadata": {},
   "outputs": [
    {
     "name": "stdout",
     "output_type": "stream",
     "text": [
      "RMSE модели для 2-го региона: 0.8930992867756182\n",
      "Средний запас предсказанного сырья в 2-м регионе: 68.728546895446\n"
     ]
    }
   ],
   "source": [
    "model = LinearRegression()\n",
    "model.fit(data_1_train_features, data_1_train_target)\n",
    "data_1_predictions = model.predict(data_1_valid_features)\n",
    "\n",
    "region_2_rmse_predict = rmse(data_1_valid_target, data_1_predictions)\n",
    "region_2_mean_product_predict = data_1_predictions.mean()\n",
    "data_1_predictions = pd.Series(data_1_predictions)\n",
    "\n",
    "print('RMSE модели для 2-го региона:', region_2_rmse_predict)\n",
    "print('Средний запас предсказанного сырья в 2-м регионе:', region_2_mean_product_predict)\n"
   ]
  },
  {
   "cell_type": "markdown",
   "metadata": {},
   "source": [
    "### Обучение модели для третьего региона, подсчет среднего запаса сырья (в тыс. баррелей), расчет RMSE  "
   ]
  },
  {
   "cell_type": "code",
   "execution_count": 16,
   "metadata": {},
   "outputs": [
    {
     "name": "stdout",
     "output_type": "stream",
     "text": [
      "RMSE модели для 3-го региона: 40.02970873393434\n",
      "Средний запас предсказанного сырья в 3-м регионе: 94.96504596800489\n"
     ]
    }
   ],
   "source": [
    "model = LinearRegression()\n",
    "model.fit(data_2_train_features, data_2_train_target)\n",
    "data_2_predictions = model.predict(data_2_valid_features)\n",
    "\n",
    "region_3_rmse_predict = rmse(data_2_valid_target, data_2_predictions)\n",
    "region_3_mean_product_predict = data_2_predictions.mean()\n",
    "data_2_predictions = pd.Series(data_2_predictions)\n",
    "\n",
    "print('RMSE модели для 3-го региона:', region_3_rmse_predict)\n",
    "print('Средний запас предсказанного сырья в 3-м регионе:', region_3_mean_product_predict)\n"
   ]
  },
  {
   "cell_type": "markdown",
   "metadata": {},
   "source": [
    "### Промежуточный вывод"
   ]
  },
  {
   "cell_type": "markdown",
   "metadata": {},
   "source": [
    "Обучены модели линейной регрессии для каждого региона. Рассчитан средний запас предсказанного сырья в каждом регионе, рассчитано RMSE модели для каждого региона. "
   ]
  },
  {
   "cell_type": "markdown",
   "metadata": {},
   "source": [
    "## Подготовка к расчёту прибыли"
   ]
  },
  {
   "cell_type": "markdown",
   "metadata": {},
   "source": [
    "### Необходимые для расчетов значения"
   ]
  },
  {
   "cell_type": "code",
   "execution_count": 17,
   "metadata": {},
   "outputs": [],
   "source": [
    "well_budget = 10**10                # бюджет на разработку скважины\n",
    "income_per_barrel = 450             # доход с одной баррели\n",
    "income_per_product = 450 * 10**3    # доход с единицы продукта (так как объем указан в тысячах баррелей)\n",
    "best_wells = 200"
   ]
  },
  {
   "cell_type": "code",
   "execution_count": 18,
   "metadata": {},
   "outputs": [
    {
     "name": "stdout",
     "output_type": "stream",
     "text": [
      "Минимальный объем запасов для безубыточной разработки скважины: 22222.222 тысяч баррелей\n"
     ]
    }
   ],
   "source": [
    "break_even = well_budget / income_per_product\n",
    "print('Минимальный объем запасов для безубыточной разработки скважины:', round(break_even, 3), 'тысяч баррелей')"
   ]
  },
  {
   "cell_type": "code",
   "execution_count": 19,
   "metadata": {},
   "outputs": [
    {
     "name": "stdout",
     "output_type": "stream",
     "text": [
      "Объем нефти в скважине для безубыточного функционирования: 111.111 тысяч баррелей\n"
     ]
    }
   ],
   "source": [
    "region_product_break_even = break_even / best_wells\n",
    "print('Объем нефти в скважине для безубыточного функционирования:', round(region_product_break_even, 3), 'тысяч баррелей')"
   ]
  },
  {
   "cell_type": "code",
   "execution_count": 20,
   "metadata": {},
   "outputs": [
    {
     "name": "stdout",
     "output_type": "stream",
     "text": [
      "Средний запас предсказанного сырья в 1-м регионе меньше объема для безубыточной разработки!\n",
      "Средний запас предсказанного сырья в 2-м регионе меньше объема для безубыточной разработки!\n",
      "Средний запас предсказанного сырья в 3-м регионе меньше объема для безубыточной разработки!\n"
     ]
    }
   ],
   "source": [
    "if region_product_break_even > region_1_mean_product_predict:\n",
    "    print('Средний запас предсказанного сырья в 1-м регионе меньше объема для безубыточной разработки!')\n",
    "else:\n",
    "    print('Средний запас предсказанного сырья в 1-м регионе больше или равен объему для безубыточной разработки.')\n",
    "\n",
    "if region_product_break_even > region_2_mean_product_predict:\n",
    "    print('Средний запас предсказанного сырья в 2-м регионе меньше объема для безубыточной разработки!')\n",
    "else:\n",
    "    print('Средний запас предсказанного сырья в 2-м регионе больше или равен объему для безубыточной разработки.')\n",
    "\n",
    "if region_product_break_even > region_3_mean_product_predict:\n",
    "    print('Средний запас предсказанного сырья в 3-м регионе меньше объема для безубыточной разработки!')\n",
    "else:\n",
    "    print('Средний запас предсказанного сырья в 3-м регионе больше или равен объему для безубыточной разработки.')"
   ]
  },
  {
   "cell_type": "markdown",
   "metadata": {},
   "source": [
    "### Промежуточный вывод"
   ]
  },
  {
   "cell_type": "markdown",
   "metadata": {},
   "source": [
    "Все необходимые данные из условия задачи сохранены в отдельные переменные. Рассчитана точка безубыточности. Средний запас предсказанного сырья в каждом регионе меньше, чем необходимо для безубыточной разработки месторождений."
   ]
  },
  {
   "cell_type": "markdown",
   "metadata": {},
   "source": [
    "## Расчёт прибыли и рисков "
   ]
  },
  {
   "cell_type": "markdown",
   "metadata": {},
   "source": [
    "### Функция подсчета прибыли"
   ]
  },
  {
   "cell_type": "code",
   "execution_count": 21,
   "metadata": {},
   "outputs": [],
   "source": [
    "def profit(predictions, target):\n",
    "    best_predictions = predictions.sort_values(ascending = False)\n",
    "    best_targets = target[best_predictions.index].head(200)\n",
    "    revenue = best_targets.sum() * income_per_product\n",
    "\n",
    "    return revenue - well_budget"
   ]
  },
  {
   "cell_type": "code",
   "execution_count": 22,
   "metadata": {},
   "outputs": [],
   "source": [
    "state = np.random.RandomState(12345)"
   ]
  },
  {
   "cell_type": "markdown",
   "metadata": {},
   "source": [
    "### Функция подсчета рисков"
   ]
  },
  {
   "cell_type": "code",
   "execution_count": 23,
   "metadata": {},
   "outputs": [],
   "source": [
    "def calculate_risk(profits):\n",
    "    profit_minus = profits.loc[profits <= 0]\n",
    "\n",
    "    return len(profit_minus) / len(profits) * 100"
   ]
  },
  {
   "cell_type": "markdown",
   "metadata": {},
   "source": [
    "### Bootstrap"
   ]
  },
  {
   "cell_type": "code",
   "execution_count": 24,
   "metadata": {
    "scrolled": true
   },
   "outputs": [
    {
     "name": "stdout",
     "output_type": "stream",
     "text": [
      "Регион 1 :\n",
      "Средняя прибыль: 425938526.911 руб.\n",
      "95% доверительный интервал: (-102090094.838, 947976353.358)\n",
      "Риск: 6.0 %\n",
      "\n",
      "Регион 2 :\n",
      "Средняя прибыль: 518259493.697 руб.\n",
      "95% доверительный интервал: (128123231.433, 953612982.067)\n",
      "Риск: 0.3 %\n",
      "\n",
      "Регион 3 :\n",
      "Средняя прибыль: 420194005.344 руб.\n",
      "95% доверительный интервал: (-115852609.16, 989629939.845)\n",
      "Риск: 6.2 %\n",
      "\n"
     ]
    }
   ],
   "source": [
    "region = 1\n",
    "\n",
    "for predictions, targets in zip([data_0_predictions, data_1_predictions, data_2_predictions], \n",
    "                                [data_0_valid_target, data_1_valid_target, data_2_valid_target]):\n",
    "    profits = []\n",
    "\n",
    "    for j in range(1000):\n",
    "        target_sample = targets.sample(500, replace = True, random_state = state)\n",
    "        predictions_sample = predictions[target_sample.index]\n",
    "        profits.append(profit(predictions_sample, target_sample))\n",
    "\n",
    "    profits = pd.Series(profits)\n",
    "    interval_low = round(profits.quantile(0.025), 3)\n",
    "    interval_high = round(profits.quantile(0.975), 3)\n",
    "    mean_profit = round(profits.mean(), 3)\n",
    "    risk = calculate_risk(profits)\n",
    "    \n",
    "    print('Регион', region, ':')\n",
    "    print('Средняя прибыль:', mean_profit, 'руб.')\n",
    "    print('95% доверительный интервал:', (interval_low, interval_high))\n",
    "    print('Риск:', risk, '%')\n",
    "    print()\n",
    "\n",
    "    region += 1"
   ]
  },
  {
   "cell_type": "markdown",
   "metadata": {},
   "source": [
    "### Промежуточный вывод"
   ]
  },
  {
   "cell_type": "markdown",
   "metadata": {},
   "source": [
    "Для каждого региона с помощью bootstrap определен 95-и процентный доверительный интервал, оценена средняя прибыль и риск разработки в регионе. Наименьшие риски имеет разработка месторождений во 2-м регионе. "
   ]
  },
  {
   "cell_type": "markdown",
   "metadata": {},
   "source": [
    "## Выводы"
   ]
  },
  {
   "cell_type": "markdown",
   "metadata": {},
   "source": [
    "Проведен небольшой исследовательский анализ данных, особая предобработка данных не потребовалась. Обучены модели линейной регрессии, получены средние значения предсказанного объема сырья и рассчитано RMSE моделей. Средний запас сырья для каждого региона меньше, чем необходимо для безубыточной разработки месторождений. Для каждого региона проведена процедура bootstrap, рассчитан доверительный интервал и оценены риски разработки, также оценена средняя прибыль разработки в регионе.\n",
    "\n",
    "Наилучшие показатели рисков и средней прибыли показывает **2-й регион**:\n",
    "- риск разработки - 0.3%;\n",
    "- средняя прибыль - 51,825,949 руб;\n",
    "- 95% доверительный интервал содержит только положительные значения прибыли."
   ]
  }
 ],
 "metadata": {
  "kernelspec": {
   "display_name": "Python 3 (ipykernel)",
   "language": "python",
   "name": "python3"
  },
  "language_info": {
   "codemirror_mode": {
    "name": "ipython",
    "version": 3
   },
   "file_extension": ".py",
   "mimetype": "text/x-python",
   "name": "python",
   "nbconvert_exporter": "python",
   "pygments_lexer": "ipython3",
   "version": "3.9.13"
  },
  "toc": {
   "base_numbering": 1,
   "nav_menu": {},
   "number_sections": true,
   "sideBar": true,
   "skip_h1_title": true,
   "title_cell": "Table of Contents",
   "title_sidebar": "Contents",
   "toc_cell": false,
   "toc_position": {},
   "toc_section_display": true,
   "toc_window_display": false
  },
  "vscode": {
   "interpreter": {
    "hash": "d4b41e3bf0d1523bebf4bd002cfd5bf8eb9f887c2cc1bee7578a7f1faa2796c8"
   }
  }
 },
 "nbformat": 4,
 "nbformat_minor": 2
}
