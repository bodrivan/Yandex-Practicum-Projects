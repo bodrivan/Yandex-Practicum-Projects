{
 "cells": [
  {
   "cell_type": "markdown",
   "metadata": {},
   "source": [
    "# Определение стоимости автомобилей"
   ]
  },
  {
   "cell_type": "markdown",
   "metadata": {},
   "source": [
    "Сервис по продаже автомобилей с пробегом «Не бит, не крашен» разрабатывает приложение для привлечения новых клиентов. В нём можно быстро узнать рыночную стоимость своего автомобиля. В вашем распоряжении исторические данные: технические характеристики, комплектации и цены автомобилей. Вам нужно построить модель для определения стоимости. \n",
    "\n",
    "Заказчику важны:\n",
    "\n",
    "- качество предсказания;\n",
    "- скорость предсказания;\n",
    "- время обучения."
   ]
  },
  {
   "cell_type": "markdown",
   "metadata": {},
   "source": [
    "## Подготовка данных"
   ]
  },
  {
   "cell_type": "code",
   "execution_count": 1,
   "metadata": {
    "scrolled": true
   },
   "outputs": [],
   "source": [
    "import pandas as pd\n",
    "import os\n",
    "import matplotlib.pyplot as plt\n",
    "from sklearn.impute import KNNImputer\n",
    "from sklearn.experimental import enable_iterative_imputer\n",
    "from sklearn.impute import IterativeImputer\n",
    "from sklearn.preprocessing import OrdinalEncoder\n",
    "from sklearn.model_selection import train_test_split\n",
    "from catboost import CatBoostRegressor\n",
    "from sklearn.metrics import mean_squared_error\n",
    "import math\n",
    "from sklearn.ensemble import RandomForestRegressor\n",
    "import lightgbm\n",
    "from sklearn.model_selection import GridSearchCV\n",
    "from sklearn.metrics import make_scorer"
   ]
  },
  {
   "cell_type": "markdown",
   "metadata": {},
   "source": [
    "### Вспомогательные функции"
   ]
  },
  {
   "cell_type": "code",
   "execution_count": 2,
   "metadata": {
    "scrolled": true
   },
   "outputs": [],
   "source": [
    "def boxplot_plotter(data):\n",
    "    fig = plt.figure(figsize = (15, 15))\n",
    "    ax1 = fig.add_subplot(231)\n",
    "    ax2 = fig.add_subplot(232)\n",
    "    ax3 = fig.add_subplot(234)\n",
    "    ax4 = fig.add_subplot(235)\n",
    "    ax5 = fig.add_subplot(233)\n",
    "    ax6 = fig.add_subplot(236)\n",
    "\n",
    "\n",
    "    ax1.boxplot(data['RegistrationYear'])\n",
    "    ax1.set_title('Год регистрации')\n",
    "\n",
    "    ax2.boxplot(data['Power'])\n",
    "    ax2.set_title('Мощность')\n",
    "\n",
    "    ax3.boxplot(data['RegistrationYear'])\n",
    "    ax3.set_ylim((1950, 2025))\n",
    "    ax3.set_title('Год регистрации (увел.)')\n",
    "\n",
    "    ax4.boxplot(data['Power'])\n",
    "    ax4.set_ylim((-50, 400))\n",
    "    ax4.set_title('Мощность (увел.)')\n",
    "    \n",
    "    ax5.boxplot(data['Price'])\n",
    "    ax5.set_title('Цена')\n",
    "    \n",
    "    ax6.boxplot(data['Price'])\n",
    "    ax6.set_ylim((14000, 20000))\n",
    "    ax6.set_title('Цена (увел.)')\n",
    "\n",
    "    plt.show()"
   ]
  },
  {
   "cell_type": "code",
   "execution_count": 3,
   "metadata": {
    "scrolled": true
   },
   "outputs": [],
   "source": [
    "def data_plotter(data):\n",
    "    fig = plt.figure(figsize = (20, 20))\n",
    "    ax1 = fig.add_subplot(431)\n",
    "    ax2 = fig.add_subplot(432)\n",
    "    ax3 = fig.add_subplot(433)\n",
    "    ax4 = fig.add_subplot(434)\n",
    "    ax5 = fig.add_subplot(435)\n",
    "    ax6 = fig.add_subplot(436)\n",
    "    ax7 = fig.add_subplot(437)\n",
    "    ax8 = fig.add_subplot(438)\n",
    "    ax9 = fig.add_subplot(439)\n",
    "    ax10 = fig.add_subplot(4, 3, 10)\n",
    "    ax11 = fig.add_subplot(4, 3, 11)\n",
    "\n",
    "\n",
    "    ax1.set_title('Дата скачивания анкеты')\n",
    "    ax1.hist(data['DateCrawled'], bins = 50, color = 'black', alpha = 0.75)\n",
    "    ax1.xaxis.set_major_locator(plt.MaxNLocator(6))\n",
    "\n",
    "    ax2.set_title('Цена')\n",
    "    ax2.hist(data['Price'], bins = 50, color = 'black', alpha = 0.75)\n",
    "\n",
    "    vehicle_types_pivot = pd.pivot_table(data = data, index = 'VehicleType', values = 'DateCrawled', aggfunc = 'count').reset_index()\n",
    "    ax3.set_title('Тип кузова')\n",
    "    ax3.pie(vehicle_types_pivot['DateCrawled'])\n",
    "    ax3.legend(labels = vehicle_types_pivot['VehicleType'], loc = 'best')\n",
    "    del vehicle_types_pivot\n",
    "\n",
    "    ax4.set_title('Год регистрации')\n",
    "    ax4.hist(data['RegistrationYear'], color = 'black', alpha = 0.75, range = (1980, 2020))\n",
    "\n",
    "    gearbox_pivot = pd.pivot_table(data = data, index = 'Gearbox', values = 'DateCrawled', aggfunc = 'count').reset_index()\n",
    "    ax5.set_title('Тип КПП')\n",
    "    ax5.pie(gearbox_pivot['DateCrawled'], labels = gearbox_pivot['Gearbox'], autopct='%.1f%%')\n",
    "    del gearbox_pivot\n",
    "\n",
    "    ax6.set_title('Мощность')\n",
    "    ax6.hist(data['Power'], bins = 100, color = 'black', alpha = 0.75, range = (0, 600))\n",
    "\n",
    "    ax7.set_title('Пробег')\n",
    "    ax7.hist(data['Kilometer'], bins = 20, color = 'black', alpha = 0.75)\n",
    "\n",
    "    reg_month_pivot = pd.pivot_table(data = data, index = 'RegistrationMonth', values = 'DateCrawled', aggfunc = 'count').reset_index()\n",
    "    ax8.set_title('Месяц регистрации')\n",
    "    ax8.bar(reg_month_pivot['RegistrationMonth'], height = reg_month_pivot['DateCrawled'], color = 'black', alpha = 0.75)\n",
    "    del reg_month_pivot\n",
    "\n",
    "    fuel_type_pivot = pd.pivot_table(data = data, index = 'FuelType', values = 'DateCrawled', aggfunc = 'count').reset_index()\n",
    "    ax9.set_title('Тип топлива')\n",
    "    ax9.bar(fuel_type_pivot['FuelType'], fuel_type_pivot['DateCrawled'], color = 'black', alpha = 0.75)\n",
    "    del fuel_type_pivot\n",
    "\n",
    "    repaired_pivot = pd.pivot_table(data = data, index = 'Repaired', values = 'DateCrawled', aggfunc = 'count').reset_index()\n",
    "    ax10.set_title('Ремонт')\n",
    "    ax10.pie(repaired_pivot['DateCrawled'], labels = repaired_pivot['Repaired'], autopct='%.1f%%')\n",
    "    del repaired_pivot\n",
    "\n",
    "    ax11.set_title('Количество фото')\n",
    "    ax11.hist(data['NumberOfPictures'], color = 'black', alpha = 0.75, range = (0, 10))\n",
    "\n",
    "    plt.show()"
   ]
  },
  {
   "cell_type": "code",
   "execution_count": 4,
   "metadata": {
    "scrolled": true
   },
   "outputs": [],
   "source": [
    "def iqr_filter(df:pd.DataFrame, column:str):\n",
    "    q1 = df[column].quantile(0.25)\n",
    "    q3 = df[column].quantile(0.75)\n",
    "    iqr = q3 - q1\n",
    "    return df[(df[column] >= q1 - 1.5 * iqr ) & (df[column] <= q3 + 1.5 * iqr)]"
   ]
  },
  {
   "cell_type": "code",
   "execution_count": 5,
   "metadata": {},
   "outputs": [],
   "source": [
    "def RMSE(target, predict):\n",
    "    rmse = math.sqrt(mean_squared_error(target, predict))\n",
    "    #print ('RMSE:', rmse)\n",
    "    return rmse"
   ]
  },
  {
   "cell_type": "code",
   "execution_count": 6,
   "metadata": {},
   "outputs": [],
   "source": [
    "def power_modder(df, trs1, trs2):\n",
    "    df_copy = df.copy()\n",
    "    df_copy['Power'].loc[(df['Power'] > trs1) & (df['Power'] < trs2)] = \\\n",
    "    df.loc[(df['Power'] > trs1) & (df['Power'] < trs2)]['Power'] / 10\n",
    "    \n",
    "    df_copy['Power'].loc[(df['Power'] > trs2)] = \\\n",
    "    df.loc[(df['Power'] > trs2)]['Power'] / 100\n",
    "    \n",
    "    return df_copy"
   ]
  },
  {
   "cell_type": "code",
   "execution_count": 7,
   "metadata": {},
   "outputs": [],
   "source": [
    "def power_pivot_maker(df, trs):\n",
    "    pd.set_option('display.max_rows', 100)\n",
    "\n",
    "    power_treshold = trs\n",
    "    data_power_treshold = df.loc[df['Power'] >= power_treshold]\n",
    "    print('Автомобилей мощностью выше', power_treshold, 'в датасете:', data_power_treshold.shape[0])\n",
    "    power_treshold_pivot = pd.pivot_table(data = data_power_treshold, index = 'Model', values = 'Power', aggfunc = 'max')\n",
    "    display(power_treshold_pivot.sort_values('Power', ascending = True))"
   ]
  },
  {
   "cell_type": "code",
   "execution_count": 8,
   "metadata": {},
   "outputs": [],
   "source": [
    "def registration_year_cutter(df, trs):\n",
    "    df_copy = df.copy()\n",
    "    df_copy = df.loc[df['RegistrationYear'] <= trs]\n",
    "    return df_copy"
   ]
  },
  {
   "cell_type": "code",
   "execution_count": 9,
   "metadata": {},
   "outputs": [],
   "source": [
    "def price_pivot_maker(df, trs):\n",
    "    pd.set_option('display.max_rows', 500)\n",
    "\n",
    "    price_treshold = trs\n",
    "    data_price_treshold = df.loc[(df['Price'] <= price_treshold) & (df['Price'] >= 0)]\n",
    "    price_treshold_pivot = pd.pivot_table(data = data_price_treshold, \n",
    "                                          index = 'Model', \n",
    "                                          values = ['Price'], \n",
    "                                          aggfunc = ['min','max', 'count'])\n",
    "    return price_treshold_pivot"
   ]
  },
  {
   "cell_type": "code",
   "execution_count": 10,
   "metadata": {},
   "outputs": [],
   "source": [
    "def price_cutter(df, trs):\n",
    "    df_copy = df.copy()\n",
    "    df_copy = df.loc[df['Price'] >= trs]\n",
    "    return df_copy"
   ]
  },
  {
   "cell_type": "markdown",
   "metadata": {},
   "source": [
    "### Загрузка файла с данными"
   ]
  },
  {
   "cell_type": "code",
   "execution_count": 11,
   "metadata": {
    "scrolled": true
   },
   "outputs": [],
   "source": [
    "path_1 = '/Users/ivanbodrenkov/Yandex.Disk.localized/Яндекс Практикум/11. Численные методы/Проект/autos.csv'\n",
    "path_2 = 'https://code.s3.yandex.net/datasets/autos.csv'\n",
    "path_3 = 'C:/Users/bodrenkov_ia/Desktop/Project/autos.csv'\n",
    "path_4 = '/datasets/autos.csv'\n",
    "\n",
    "if os.path.exists(path_1):\n",
    "    data = pd.read_csv(path_1, sep = ',')\n",
    "elif os.path.exists(path_2):\n",
    "    data = pd.read_csv(path_2, sep = ',')\n",
    "elif os.path.exists(path_3):\n",
    "    data = pd.read_csv(path_3, sep = ',')\n",
    "elif os.path.exists(path_4):\n",
    "    data = pd.read_csv(path_4, sep = ',')\n",
    "else:\n",
    "    print('Что-то пошло не так!')"
   ]
  },
  {
   "cell_type": "code",
   "execution_count": 12,
   "metadata": {
    "scrolled": false
   },
   "outputs": [
    {
     "name": "stdout",
     "output_type": "stream",
     "text": [
      "<class 'pandas.core.frame.DataFrame'>\n",
      "RangeIndex: 354369 entries, 0 to 354368\n",
      "Data columns (total 16 columns):\n",
      " #   Column             Non-Null Count   Dtype \n",
      "---  ------             --------------   ----- \n",
      " 0   DateCrawled        354369 non-null  object\n",
      " 1   Price              354369 non-null  int64 \n",
      " 2   VehicleType        316879 non-null  object\n",
      " 3   RegistrationYear   354369 non-null  int64 \n",
      " 4   Gearbox            334536 non-null  object\n",
      " 5   Power              354369 non-null  int64 \n",
      " 6   Model              334664 non-null  object\n",
      " 7   Kilometer          354369 non-null  int64 \n",
      " 8   RegistrationMonth  354369 non-null  int64 \n",
      " 9   FuelType           321474 non-null  object\n",
      " 10  Brand              354369 non-null  object\n",
      " 11  Repaired           283215 non-null  object\n",
      " 12  DateCreated        354369 non-null  object\n",
      " 13  NumberOfPictures   354369 non-null  int64 \n",
      " 14  PostalCode         354369 non-null  int64 \n",
      " 15  LastSeen           354369 non-null  object\n",
      "dtypes: int64(7), object(9)\n",
      "memory usage: 43.3+ MB\n"
     ]
    }
   ],
   "source": [
    "data.info()"
   ]
  },
  {
   "cell_type": "code",
   "execution_count": 13,
   "metadata": {
    "scrolled": false
   },
   "outputs": [
    {
     "data": {
      "text/html": [
       "<div>\n",
       "<style scoped>\n",
       "    .dataframe tbody tr th:only-of-type {\n",
       "        vertical-align: middle;\n",
       "    }\n",
       "\n",
       "    .dataframe tbody tr th {\n",
       "        vertical-align: top;\n",
       "    }\n",
       "\n",
       "    .dataframe thead th {\n",
       "        text-align: right;\n",
       "    }\n",
       "</style>\n",
       "<table border=\"1\" class=\"dataframe\">\n",
       "  <thead>\n",
       "    <tr style=\"text-align: right;\">\n",
       "      <th></th>\n",
       "      <th>DateCrawled</th>\n",
       "      <th>Price</th>\n",
       "      <th>VehicleType</th>\n",
       "      <th>RegistrationYear</th>\n",
       "      <th>Gearbox</th>\n",
       "      <th>Power</th>\n",
       "      <th>Model</th>\n",
       "      <th>Kilometer</th>\n",
       "      <th>RegistrationMonth</th>\n",
       "      <th>FuelType</th>\n",
       "      <th>Brand</th>\n",
       "      <th>Repaired</th>\n",
       "      <th>DateCreated</th>\n",
       "      <th>NumberOfPictures</th>\n",
       "      <th>PostalCode</th>\n",
       "      <th>LastSeen</th>\n",
       "    </tr>\n",
       "  </thead>\n",
       "  <tbody>\n",
       "    <tr>\n",
       "      <th>0</th>\n",
       "      <td>2016-03-24 11:52:17</td>\n",
       "      <td>480</td>\n",
       "      <td>NaN</td>\n",
       "      <td>1993</td>\n",
       "      <td>manual</td>\n",
       "      <td>0</td>\n",
       "      <td>golf</td>\n",
       "      <td>150000</td>\n",
       "      <td>0</td>\n",
       "      <td>petrol</td>\n",
       "      <td>volkswagen</td>\n",
       "      <td>NaN</td>\n",
       "      <td>2016-03-24 00:00:00</td>\n",
       "      <td>0</td>\n",
       "      <td>70435</td>\n",
       "      <td>2016-04-07 03:16:57</td>\n",
       "    </tr>\n",
       "    <tr>\n",
       "      <th>1</th>\n",
       "      <td>2016-03-24 10:58:45</td>\n",
       "      <td>18300</td>\n",
       "      <td>coupe</td>\n",
       "      <td>2011</td>\n",
       "      <td>manual</td>\n",
       "      <td>190</td>\n",
       "      <td>NaN</td>\n",
       "      <td>125000</td>\n",
       "      <td>5</td>\n",
       "      <td>gasoline</td>\n",
       "      <td>audi</td>\n",
       "      <td>yes</td>\n",
       "      <td>2016-03-24 00:00:00</td>\n",
       "      <td>0</td>\n",
       "      <td>66954</td>\n",
       "      <td>2016-04-07 01:46:50</td>\n",
       "    </tr>\n",
       "    <tr>\n",
       "      <th>2</th>\n",
       "      <td>2016-03-14 12:52:21</td>\n",
       "      <td>9800</td>\n",
       "      <td>suv</td>\n",
       "      <td>2004</td>\n",
       "      <td>auto</td>\n",
       "      <td>163</td>\n",
       "      <td>grand</td>\n",
       "      <td>125000</td>\n",
       "      <td>8</td>\n",
       "      <td>gasoline</td>\n",
       "      <td>jeep</td>\n",
       "      <td>NaN</td>\n",
       "      <td>2016-03-14 00:00:00</td>\n",
       "      <td>0</td>\n",
       "      <td>90480</td>\n",
       "      <td>2016-04-05 12:47:46</td>\n",
       "    </tr>\n",
       "    <tr>\n",
       "      <th>3</th>\n",
       "      <td>2016-03-17 16:54:04</td>\n",
       "      <td>1500</td>\n",
       "      <td>small</td>\n",
       "      <td>2001</td>\n",
       "      <td>manual</td>\n",
       "      <td>75</td>\n",
       "      <td>golf</td>\n",
       "      <td>150000</td>\n",
       "      <td>6</td>\n",
       "      <td>petrol</td>\n",
       "      <td>volkswagen</td>\n",
       "      <td>no</td>\n",
       "      <td>2016-03-17 00:00:00</td>\n",
       "      <td>0</td>\n",
       "      <td>91074</td>\n",
       "      <td>2016-03-17 17:40:17</td>\n",
       "    </tr>\n",
       "    <tr>\n",
       "      <th>4</th>\n",
       "      <td>2016-03-31 17:25:20</td>\n",
       "      <td>3600</td>\n",
       "      <td>small</td>\n",
       "      <td>2008</td>\n",
       "      <td>manual</td>\n",
       "      <td>69</td>\n",
       "      <td>fabia</td>\n",
       "      <td>90000</td>\n",
       "      <td>7</td>\n",
       "      <td>gasoline</td>\n",
       "      <td>skoda</td>\n",
       "      <td>no</td>\n",
       "      <td>2016-03-31 00:00:00</td>\n",
       "      <td>0</td>\n",
       "      <td>60437</td>\n",
       "      <td>2016-04-06 10:17:21</td>\n",
       "    </tr>\n",
       "  </tbody>\n",
       "</table>\n",
       "</div>"
      ],
      "text/plain": [
       "           DateCrawled  Price VehicleType  RegistrationYear Gearbox  Power  \\\n",
       "0  2016-03-24 11:52:17    480         NaN              1993  manual      0   \n",
       "1  2016-03-24 10:58:45  18300       coupe              2011  manual    190   \n",
       "2  2016-03-14 12:52:21   9800         suv              2004    auto    163   \n",
       "3  2016-03-17 16:54:04   1500       small              2001  manual     75   \n",
       "4  2016-03-31 17:25:20   3600       small              2008  manual     69   \n",
       "\n",
       "   Model  Kilometer  RegistrationMonth  FuelType       Brand Repaired  \\\n",
       "0   golf     150000                  0    petrol  volkswagen      NaN   \n",
       "1    NaN     125000                  5  gasoline        audi      yes   \n",
       "2  grand     125000                  8  gasoline        jeep      NaN   \n",
       "3   golf     150000                  6    petrol  volkswagen       no   \n",
       "4  fabia      90000                  7  gasoline       skoda       no   \n",
       "\n",
       "           DateCreated  NumberOfPictures  PostalCode             LastSeen  \n",
       "0  2016-03-24 00:00:00                 0       70435  2016-04-07 03:16:57  \n",
       "1  2016-03-24 00:00:00                 0       66954  2016-04-07 01:46:50  \n",
       "2  2016-03-14 00:00:00                 0       90480  2016-04-05 12:47:46  \n",
       "3  2016-03-17 00:00:00                 0       91074  2016-03-17 17:40:17  \n",
       "4  2016-03-31 00:00:00                 0       60437  2016-04-06 10:17:21  "
      ]
     },
     "execution_count": 13,
     "metadata": {},
     "output_type": "execute_result"
    }
   ],
   "source": [
    "data.head()"
   ]
  },
  {
   "cell_type": "markdown",
   "metadata": {},
   "source": [
    "### Изменение типов значений"
   ]
  },
  {
   "cell_type": "code",
   "execution_count": 14,
   "metadata": {
    "scrolled": true
   },
   "outputs": [],
   "source": [
    "data['DateCrawled'] = pd.to_datetime(data['DateCrawled'], format = '%Y-%m-%d %H:%M:%S')\n",
    "data['DateCreated'] = pd.to_datetime(data['DateCreated'], format = '%Y-%m-%d %H:%M:%S')\n",
    "data['LastSeen'] = pd.to_datetime(data['LastSeen'], format = '%Y-%m-%d %H:%M:%S')"
   ]
  },
  {
   "cell_type": "markdown",
   "metadata": {},
   "source": [
    "### Анализ данных"
   ]
  },
  {
   "cell_type": "code",
   "execution_count": 15,
   "metadata": {
    "scrolled": true
   },
   "outputs": [
    {
     "data": {
      "text/html": [
       "<div>\n",
       "<style scoped>\n",
       "    .dataframe tbody tr th:only-of-type {\n",
       "        vertical-align: middle;\n",
       "    }\n",
       "\n",
       "    .dataframe tbody tr th {\n",
       "        vertical-align: top;\n",
       "    }\n",
       "\n",
       "    .dataframe thead th {\n",
       "        text-align: right;\n",
       "    }\n",
       "</style>\n",
       "<table border=\"1\" class=\"dataframe\">\n",
       "  <thead>\n",
       "    <tr style=\"text-align: right;\">\n",
       "      <th></th>\n",
       "      <th>Price</th>\n",
       "      <th>RegistrationYear</th>\n",
       "      <th>Power</th>\n",
       "      <th>Kilometer</th>\n",
       "      <th>RegistrationMonth</th>\n",
       "      <th>NumberOfPictures</th>\n",
       "      <th>PostalCode</th>\n",
       "    </tr>\n",
       "  </thead>\n",
       "  <tbody>\n",
       "    <tr>\n",
       "      <th>count</th>\n",
       "      <td>354369.000000</td>\n",
       "      <td>354369.000000</td>\n",
       "      <td>354369.000000</td>\n",
       "      <td>354369.000000</td>\n",
       "      <td>354369.000000</td>\n",
       "      <td>354369.0</td>\n",
       "      <td>354369.000000</td>\n",
       "    </tr>\n",
       "    <tr>\n",
       "      <th>mean</th>\n",
       "      <td>4416.656776</td>\n",
       "      <td>2004.234448</td>\n",
       "      <td>110.094337</td>\n",
       "      <td>128211.172535</td>\n",
       "      <td>5.714645</td>\n",
       "      <td>0.0</td>\n",
       "      <td>50508.689087</td>\n",
       "    </tr>\n",
       "    <tr>\n",
       "      <th>std</th>\n",
       "      <td>4514.158514</td>\n",
       "      <td>90.227958</td>\n",
       "      <td>189.850405</td>\n",
       "      <td>37905.341530</td>\n",
       "      <td>3.726421</td>\n",
       "      <td>0.0</td>\n",
       "      <td>25783.096248</td>\n",
       "    </tr>\n",
       "    <tr>\n",
       "      <th>min</th>\n",
       "      <td>0.000000</td>\n",
       "      <td>1000.000000</td>\n",
       "      <td>0.000000</td>\n",
       "      <td>5000.000000</td>\n",
       "      <td>0.000000</td>\n",
       "      <td>0.0</td>\n",
       "      <td>1067.000000</td>\n",
       "    </tr>\n",
       "    <tr>\n",
       "      <th>25%</th>\n",
       "      <td>1050.000000</td>\n",
       "      <td>1999.000000</td>\n",
       "      <td>69.000000</td>\n",
       "      <td>125000.000000</td>\n",
       "      <td>3.000000</td>\n",
       "      <td>0.0</td>\n",
       "      <td>30165.000000</td>\n",
       "    </tr>\n",
       "    <tr>\n",
       "      <th>50%</th>\n",
       "      <td>2700.000000</td>\n",
       "      <td>2003.000000</td>\n",
       "      <td>105.000000</td>\n",
       "      <td>150000.000000</td>\n",
       "      <td>6.000000</td>\n",
       "      <td>0.0</td>\n",
       "      <td>49413.000000</td>\n",
       "    </tr>\n",
       "    <tr>\n",
       "      <th>75%</th>\n",
       "      <td>6400.000000</td>\n",
       "      <td>2008.000000</td>\n",
       "      <td>143.000000</td>\n",
       "      <td>150000.000000</td>\n",
       "      <td>9.000000</td>\n",
       "      <td>0.0</td>\n",
       "      <td>71083.000000</td>\n",
       "    </tr>\n",
       "    <tr>\n",
       "      <th>max</th>\n",
       "      <td>20000.000000</td>\n",
       "      <td>9999.000000</td>\n",
       "      <td>20000.000000</td>\n",
       "      <td>150000.000000</td>\n",
       "      <td>12.000000</td>\n",
       "      <td>0.0</td>\n",
       "      <td>99998.000000</td>\n",
       "    </tr>\n",
       "  </tbody>\n",
       "</table>\n",
       "</div>"
      ],
      "text/plain": [
       "               Price  RegistrationYear          Power      Kilometer  \\\n",
       "count  354369.000000     354369.000000  354369.000000  354369.000000   \n",
       "mean     4416.656776       2004.234448     110.094337  128211.172535   \n",
       "std      4514.158514         90.227958     189.850405   37905.341530   \n",
       "min         0.000000       1000.000000       0.000000    5000.000000   \n",
       "25%      1050.000000       1999.000000      69.000000  125000.000000   \n",
       "50%      2700.000000       2003.000000     105.000000  150000.000000   \n",
       "75%      6400.000000       2008.000000     143.000000  150000.000000   \n",
       "max     20000.000000       9999.000000   20000.000000  150000.000000   \n",
       "\n",
       "       RegistrationMonth  NumberOfPictures     PostalCode  \n",
       "count      354369.000000          354369.0  354369.000000  \n",
       "mean            5.714645               0.0   50508.689087  \n",
       "std             3.726421               0.0   25783.096248  \n",
       "min             0.000000               0.0    1067.000000  \n",
       "25%             3.000000               0.0   30165.000000  \n",
       "50%             6.000000               0.0   49413.000000  \n",
       "75%             9.000000               0.0   71083.000000  \n",
       "max            12.000000               0.0   99998.000000  "
      ]
     },
     "execution_count": 15,
     "metadata": {},
     "output_type": "execute_result"
    }
   ],
   "source": [
    "data.describe()"
   ]
  },
  {
   "cell_type": "code",
   "execution_count": 16,
   "metadata": {
    "scrolled": false
   },
   "outputs": [
    {
     "data": {
      "image/png": "[encoded data removed]",
      "text/plain": [
       "<Figure size 1080x1080 with 6 Axes>"
      ]
     },
     "metadata": {
      "needs_background": "light"
     },
     "output_type": "display_data"
    }
   ],
   "source": [
    "boxplot_plotter(data)"
   ]
  },
  {
   "cell_type": "code",
   "execution_count": 17,
   "metadata": {
    "scrolled": false
   },
   "outputs": [
    {
     "data": {
      "image/png": "[encoded data removed]",
      "text/plain": [
       "<Figure size 1440x1440 with 11 Axes>"
      ]
     },
     "metadata": {
      "needs_background": "light"
     },
     "output_type": "display_data"
    }
   ],
   "source": [
    "data_plotter(data)"
   ]
  },
  {
   "cell_type": "markdown",
   "metadata": {},
   "source": [
    "\n",
    "<div class=\"alert alert-block alert-success\">\n",
    "<b>Успех:</b> Хороший осмотр данных"
   ]
  },
  {
   "cell_type": "markdown",
   "metadata": {},
   "source": [
    "\n",
    "<div class=\"alert alert-block alert-danger\">\n",
    "<b>Ошибка:</b> Не хватает выводов, каждое действие должно быть подкреплено аргументами.\n",
    "</div>\n"
   ]
  },
  {
   "cell_type": "markdown",
   "metadata": {},
   "source": [
    "<div class=\"alert alert-block alert-warning\">\n",
    "<b>Изменения:</b> Все расписал в выводах по предобработке.\n",
    "</div>"
   ]
  },
  {
   "cell_type": "markdown",
   "metadata": {},
   "source": [
    "<div class=\"alert alert-block alert-success\">\n",
    "    \n",
    "<b>Успех[2]:</b> 👍\n",
    "</div>\n",
    "\n"
   ]
  },
  {
   "cell_type": "markdown",
   "metadata": {},
   "source": [
    "<div class=\"alert alert-block alert-info\">\n",
    "<b>Совет:</b>  Советую обратить внимание на библиотеки sweetviz и pandas_profiling помогут в проведении более тщательного EDA анализа. Исследовательский анализ можно делать и с помощью ручного вызова функций дефолтных библиотек. Данные библиотеки хороши для максимизации комфорта презентации результатов анализа бизнес-пользователям. \n",
    "    \n",
    "Очень просты в использоовании, на вход кладется датафрейм: pandas_profiling.ProfileReport(df) \n",
    "</div>\n",
    "\n"
   ]
  },
  {
   "cell_type": "markdown",
   "metadata": {},
   "source": [
    "### Удаление лишних столбцов"
   ]
  },
  {
   "cell_type": "code",
   "execution_count": 18,
   "metadata": {
    "scrolled": true
   },
   "outputs": [],
   "source": [
    "data = data.drop(\n",
    "    ['PostalCode', 'NumberOfPictures', 'DateCrawled', 'RegistrationMonth', 'DateCreated', 'LastSeen'], \n",
    "    axis = 1)"
   ]
  },
  {
   "cell_type": "markdown",
   "metadata": {},
   "source": [
    "### Заполнение пропусков"
   ]
  },
  {
   "cell_type": "code",
   "execution_count": 19,
   "metadata": {
    "scrolled": true
   },
   "outputs": [],
   "source": [
    "data['Repaired'] = data['Repaired'].fillna('no')\n",
    "data = data.fillna('unknown')"
   ]
  },
  {
   "cell_type": "code",
   "execution_count": 20,
   "metadata": {
    "scrolled": false
   },
   "outputs": [
    {
     "name": "stdout",
     "output_type": "stream",
     "text": [
      "<class 'pandas.core.frame.DataFrame'>\n",
      "RangeIndex: 354369 entries, 0 to 354368\n",
      "Data columns (total 10 columns):\n",
      " #   Column            Non-Null Count   Dtype \n",
      "---  ------            --------------   ----- \n",
      " 0   Price             354369 non-null  int64 \n",
      " 1   VehicleType       354369 non-null  object\n",
      " 2   RegistrationYear  354369 non-null  int64 \n",
      " 3   Gearbox           354369 non-null  object\n",
      " 4   Power             354369 non-null  int64 \n",
      " 5   Model             354369 non-null  object\n",
      " 6   Kilometer         354369 non-null  int64 \n",
      " 7   FuelType          354369 non-null  object\n",
      " 8   Brand             354369 non-null  object\n",
      " 9   Repaired          354369 non-null  object\n",
      "dtypes: int64(4), object(6)\n",
      "memory usage: 27.0+ MB\n"
     ]
    }
   ],
   "source": [
    "data.info()"
   ]
  },
  {
   "cell_type": "markdown",
   "metadata": {},
   "source": [
    "### Разделение на выборки"
   ]
  },
  {
   "cell_type": "code",
   "execution_count": 22,
   "metadata": {
    "scrolled": true
   },
   "outputs": [],
   "source": [
    "data_train, data_valid_and_test = train_test_split(data, test_size=0.4, random_state=12345)\n",
    "data_valid, data_test = train_test_split(data_valid_and_test, test_size=0.5, random_state=12345)"
   ]
  },
  {
   "cell_type": "code",
   "execution_count": 23,
   "metadata": {},
   "outputs": [
    {
     "name": "stdout",
     "output_type": "stream",
     "text": [
      "Размер обучающей выборки: 212621\n",
      "Размер валидационной выборки: 70874\n",
      "Размер тестовой выборки: 70874\n"
     ]
    }
   ],
   "source": [
    "print('Размер обучающей выборки:', data_train.shape[0])\n",
    "print('Размер валидационной выборки:', data_valid.shape[0])\n",
    "print('Размер тестовой выборки:', data_test.shape[0])"
   ]
  },
  {
   "cell_type": "markdown",
   "metadata": {},
   "source": [
    "### Создание кодированных датасетов"
   ]
  },
  {
   "cell_type": "code",
   "execution_count": 24,
   "metadata": {
    "scrolled": false
   },
   "outputs": [
    {
     "name": "stdout",
     "output_type": "stream",
     "text": [
      "<class 'pandas.core.frame.DataFrame'>\n",
      "RangeIndex: 212621 entries, 0 to 212620\n",
      "Data columns (total 10 columns):\n",
      " #   Column            Non-Null Count   Dtype  \n",
      "---  ------            --------------   -----  \n",
      " 0   VehicleType       212621 non-null  float64\n",
      " 1   Gearbox           212621 non-null  float64\n",
      " 2   Model             212621 non-null  float64\n",
      " 3   FuelType          212621 non-null  float64\n",
      " 4   Brand             212621 non-null  float64\n",
      " 5   Repaired          212621 non-null  float64\n",
      " 6   Price             212621 non-null  int64  \n",
      " 7   RegistrationYear  212621 non-null  int64  \n",
      " 8   Power             212621 non-null  int64  \n",
      " 9   Kilometer         212621 non-null  int64  \n",
      "dtypes: float64(6), int64(4)\n",
      "memory usage: 16.2 MB\n",
      "<class 'pandas.core.frame.DataFrame'>\n",
      "RangeIndex: 70874 entries, 0 to 70873\n",
      "Data columns (total 10 columns):\n",
      " #   Column            Non-Null Count  Dtype  \n",
      "---  ------            --------------  -----  \n",
      " 0   VehicleType       70874 non-null  float64\n",
      " 1   Gearbox           70874 non-null  float64\n",
      " 2   Model             70874 non-null  float64\n",
      " 3   FuelType          70874 non-null  float64\n",
      " 4   Brand             70874 non-null  float64\n",
      " 5   Repaired          70874 non-null  float64\n",
      " 6   Price             70874 non-null  int64  \n",
      " 7   RegistrationYear  70874 non-null  int64  \n",
      " 8   Power             70874 non-null  int64  \n",
      " 9   Kilometer         70874 non-null  int64  \n",
      "dtypes: float64(6), int64(4)\n",
      "memory usage: 5.4 MB\n",
      "<class 'pandas.core.frame.DataFrame'>\n",
      "RangeIndex: 70874 entries, 0 to 70873\n",
      "Data columns (total 10 columns):\n",
      " #   Column            Non-Null Count  Dtype  \n",
      "---  ------            --------------  -----  \n",
      " 0   VehicleType       70874 non-null  float64\n",
      " 1   Gearbox           70874 non-null  float64\n",
      " 2   Model             70874 non-null  float64\n",
      " 3   FuelType          70874 non-null  float64\n",
      " 4   Brand             70874 non-null  float64\n",
      " 5   Repaired          70874 non-null  float64\n",
      " 6   Price             70874 non-null  int64  \n",
      " 7   RegistrationYear  70874 non-null  int64  \n",
      " 8   Power             70874 non-null  int64  \n",
      " 9   Kilometer         70874 non-null  int64  \n",
      "dtypes: float64(6), int64(4)\n",
      "memory usage: 5.4 MB\n"
     ]
    }
   ],
   "source": [
    "columns = ['VehicleType', \n",
    "           'Gearbox', 'Model', 'FuelType', 'Brand', 'Repaired']\n",
    "\n",
    "encoder = OrdinalEncoder(handle_unknown = 'ignore')\n",
    "encoder.fit(data_train[columns])\n",
    "\n",
    "data_ordinal_train = encoder.transform(data_train[columns])\n",
    "data_ordinal_valid = encoder.transform(data_valid[columns])\n",
    "data_ordinal_test = encoder.transform(data_test[columns])\n",
    "\n",
    "data_ordinal_train = pd.DataFrame(data_ordinal_train, columns = data_train[columns].columns)\n",
    "data_ordinal_valid = pd.DataFrame(data_ordinal_valid, columns = data_valid[columns].columns)\n",
    "data_ordinal_test = pd.DataFrame(data_ordinal_test, columns = data_test[columns].columns)\n",
    "\n",
    "data_ordinal_train = data_ordinal_train.join(data_train.reset_index(drop = True).drop(columns, axis = 1))\n",
    "data_ordinal_valid = data_ordinal_valid.join(data_valid.reset_index(drop = True).drop(columns, axis = 1))\n",
    "data_ordinal_test = data_ordinal_test.join(data_test.reset_index(drop = True).drop(columns, axis = 1))\n",
    "\n",
    "data_ordinal_train.info()\n",
    "data_ordinal_valid.info()\n",
    "data_ordinal_test.info()"
   ]
  },
  {
   "cell_type": "markdown",
   "metadata": {},
   "source": [
    "### Фильтрация"
   ]
  },
  {
   "cell_type": "code",
   "execution_count": 25,
   "metadata": {
    "scrolled": true
   },
   "outputs": [
    {
     "name": "stdout",
     "output_type": "stream",
     "text": [
      "Автомобилей мощностью выше 600 в датасете: 241\n"
     ]
    },
    {
     "data": {
      "text/html": [
       "<div>\n",
       "<style scoped>\n",
       "    .dataframe tbody tr th:only-of-type {\n",
       "        vertical-align: middle;\n",
       "    }\n",
       "\n",
       "    .dataframe tbody tr th {\n",
       "        vertical-align: top;\n",
       "    }\n",
       "\n",
       "    .dataframe thead th {\n",
       "        text-align: right;\n",
       "    }\n",
       "</style>\n",
       "<table border=\"1\" class=\"dataframe\">\n",
       "  <thead>\n",
       "    <tr style=\"text-align: right;\">\n",
       "      <th></th>\n",
       "      <th>Power</th>\n",
       "    </tr>\n",
       "    <tr>\n",
       "      <th>Model</th>\n",
       "      <th></th>\n",
       "    </tr>\n",
       "  </thead>\n",
       "  <tbody>\n",
       "    <tr>\n",
       "      <th>s_type</th>\n",
       "      <td>600</td>\n",
       "    </tr>\n",
       "    <tr>\n",
       "      <th>ypsilon</th>\n",
       "      <td>620</td>\n",
       "    </tr>\n",
       "    <tr>\n",
       "      <th>c2</th>\n",
       "      <td>650</td>\n",
       "    </tr>\n",
       "    <tr>\n",
       "      <th>matiz</th>\n",
       "      <td>671</td>\n",
       "    </tr>\n",
       "    <tr>\n",
       "      <th>fabia</th>\n",
       "      <td>696</td>\n",
       "    </tr>\n",
       "    <tr>\n",
       "      <th>500</th>\n",
       "      <td>703</td>\n",
       "    </tr>\n",
       "    <tr>\n",
       "      <th>cordoba</th>\n",
       "      <td>751</td>\n",
       "    </tr>\n",
       "    <tr>\n",
       "      <th>sandero</th>\n",
       "      <td>800</td>\n",
       "    </tr>\n",
       "    <tr>\n",
       "      <th>civic</th>\n",
       "      <td>903</td>\n",
       "    </tr>\n",
       "    <tr>\n",
       "      <th>colt</th>\n",
       "      <td>953</td>\n",
       "    </tr>\n",
       "    <tr>\n",
       "      <th>lupo</th>\n",
       "      <td>1000</td>\n",
       "    </tr>\n",
       "    <tr>\n",
       "      <th>a_klasse</th>\n",
       "      <td>1001</td>\n",
       "    </tr>\n",
       "    <tr>\n",
       "      <th>ka</th>\n",
       "      <td>1003</td>\n",
       "    </tr>\n",
       "    <tr>\n",
       "      <th>leon</th>\n",
       "      <td>1024</td>\n",
       "    </tr>\n",
       "    <tr>\n",
       "      <th>v40</th>\n",
       "      <td>1056</td>\n",
       "    </tr>\n",
       "    <tr>\n",
       "      <th>2_reihe</th>\n",
       "      <td>1082</td>\n",
       "    </tr>\n",
       "    <tr>\n",
       "      <th>ibiza</th>\n",
       "      <td>1111</td>\n",
       "    </tr>\n",
       "    <tr>\n",
       "      <th>6_reihe</th>\n",
       "      <td>1115</td>\n",
       "    </tr>\n",
       "    <tr>\n",
       "      <th>galaxy</th>\n",
       "      <td>1164</td>\n",
       "    </tr>\n",
       "    <tr>\n",
       "      <th>scenic</th>\n",
       "      <td>1202</td>\n",
       "    </tr>\n",
       "    <tr>\n",
       "      <th>1er</th>\n",
       "      <td>1223</td>\n",
       "    </tr>\n",
       "    <tr>\n",
       "      <th>micra</th>\n",
       "      <td>1240</td>\n",
       "    </tr>\n",
       "    <tr>\n",
       "      <th>3_reihe</th>\n",
       "      <td>1363</td>\n",
       "    </tr>\n",
       "    <tr>\n",
       "      <th>outlander</th>\n",
       "      <td>1363</td>\n",
       "    </tr>\n",
       "    <tr>\n",
       "      <th>c4</th>\n",
       "      <td>1394</td>\n",
       "    </tr>\n",
       "    <tr>\n",
       "      <th>corolla</th>\n",
       "      <td>1398</td>\n",
       "    </tr>\n",
       "    <tr>\n",
       "      <th>rio</th>\n",
       "      <td>1399</td>\n",
       "    </tr>\n",
       "    <tr>\n",
       "      <th>espace</th>\n",
       "      <td>1401</td>\n",
       "    </tr>\n",
       "    <tr>\n",
       "      <th>rav</th>\n",
       "      <td>1521</td>\n",
       "    </tr>\n",
       "    <tr>\n",
       "      <th>nubira</th>\n",
       "      <td>1598</td>\n",
       "    </tr>\n",
       "    <tr>\n",
       "      <th>mondeo</th>\n",
       "      <td>1600</td>\n",
       "    </tr>\n",
       "    <tr>\n",
       "      <th>touran</th>\n",
       "      <td>1700</td>\n",
       "    </tr>\n",
       "    <tr>\n",
       "      <th>berlingo</th>\n",
       "      <td>1780</td>\n",
       "    </tr>\n",
       "    <tr>\n",
       "      <th>laguna</th>\n",
       "      <td>1783</td>\n",
       "    </tr>\n",
       "    <tr>\n",
       "      <th>tt</th>\n",
       "      <td>1793</td>\n",
       "    </tr>\n",
       "    <tr>\n",
       "      <th>vectra</th>\n",
       "      <td>1800</td>\n",
       "    </tr>\n",
       "    <tr>\n",
       "      <th>toledo</th>\n",
       "      <td>1800</td>\n",
       "    </tr>\n",
       "    <tr>\n",
       "      <th>stilo</th>\n",
       "      <td>1900</td>\n",
       "    </tr>\n",
       "    <tr>\n",
       "      <th>c5</th>\n",
       "      <td>1900</td>\n",
       "    </tr>\n",
       "    <tr>\n",
       "      <th>touareg</th>\n",
       "      <td>1992</td>\n",
       "    </tr>\n",
       "    <tr>\n",
       "      <th>sprinter</th>\n",
       "      <td>2005</td>\n",
       "    </tr>\n",
       "    <tr>\n",
       "      <th>punto</th>\n",
       "      <td>2017</td>\n",
       "    </tr>\n",
       "    <tr>\n",
       "      <th>clio</th>\n",
       "      <td>2018</td>\n",
       "    </tr>\n",
       "    <tr>\n",
       "      <th>a6</th>\n",
       "      <td>2598</td>\n",
       "    </tr>\n",
       "    <tr>\n",
       "      <th>s_klasse</th>\n",
       "      <td>2789</td>\n",
       "    </tr>\n",
       "    <tr>\n",
       "      <th>c_klasse</th>\n",
       "      <td>2799</td>\n",
       "    </tr>\n",
       "    <tr>\n",
       "      <th>twingo</th>\n",
       "      <td>5815</td>\n",
       "    </tr>\n",
       "    <tr>\n",
       "      <th>agila</th>\n",
       "      <td>6010</td>\n",
       "    </tr>\n",
       "    <tr>\n",
       "      <th>cooper</th>\n",
       "      <td>6018</td>\n",
       "    </tr>\n",
       "    <tr>\n",
       "      <th>up</th>\n",
       "      <td>6062</td>\n",
       "    </tr>\n",
       "    <tr>\n",
       "      <th>aygo</th>\n",
       "      <td>6920</td>\n",
       "    </tr>\n",
       "    <tr>\n",
       "      <th>astra</th>\n",
       "      <td>7508</td>\n",
       "    </tr>\n",
       "    <tr>\n",
       "      <th>kangoo</th>\n",
       "      <td>7511</td>\n",
       "    </tr>\n",
       "    <tr>\n",
       "      <th>clk</th>\n",
       "      <td>9000</td>\n",
       "    </tr>\n",
       "    <tr>\n",
       "      <th>c_max</th>\n",
       "      <td>9007</td>\n",
       "    </tr>\n",
       "    <tr>\n",
       "      <th>golf</th>\n",
       "      <td>9012</td>\n",
       "    </tr>\n",
       "    <tr>\n",
       "      <th>e_klasse</th>\n",
       "      <td>9710</td>\n",
       "    </tr>\n",
       "    <tr>\n",
       "      <th>focus</th>\n",
       "      <td>10110</td>\n",
       "    </tr>\n",
       "    <tr>\n",
       "      <th>fortwo</th>\n",
       "      <td>10218</td>\n",
       "    </tr>\n",
       "    <tr>\n",
       "      <th>transporter</th>\n",
       "      <td>10522</td>\n",
       "    </tr>\n",
       "    <tr>\n",
       "      <th>megane</th>\n",
       "      <td>10710</td>\n",
       "    </tr>\n",
       "    <tr>\n",
       "      <th>passat</th>\n",
       "      <td>11025</td>\n",
       "    </tr>\n",
       "    <tr>\n",
       "      <th>corsa</th>\n",
       "      <td>11111</td>\n",
       "    </tr>\n",
       "    <tr>\n",
       "      <th>polo</th>\n",
       "      <td>12012</td>\n",
       "    </tr>\n",
       "    <tr>\n",
       "      <th>zafira</th>\n",
       "      <td>12512</td>\n",
       "    </tr>\n",
       "    <tr>\n",
       "      <th>fiesta</th>\n",
       "      <td>15001</td>\n",
       "    </tr>\n",
       "    <tr>\n",
       "      <th>ptcruiser</th>\n",
       "      <td>15016</td>\n",
       "    </tr>\n",
       "    <tr>\n",
       "      <th>147</th>\n",
       "      <td>15020</td>\n",
       "    </tr>\n",
       "    <tr>\n",
       "      <th>other</th>\n",
       "      <td>15033</td>\n",
       "    </tr>\n",
       "    <tr>\n",
       "      <th>octavia</th>\n",
       "      <td>16011</td>\n",
       "    </tr>\n",
       "    <tr>\n",
       "      <th>unknown</th>\n",
       "      <td>16051</td>\n",
       "    </tr>\n",
       "    <tr>\n",
       "      <th>a4</th>\n",
       "      <td>16312</td>\n",
       "    </tr>\n",
       "    <tr>\n",
       "      <th>a3</th>\n",
       "      <td>17011</td>\n",
       "    </tr>\n",
       "    <tr>\n",
       "      <th>3er</th>\n",
       "      <td>17019</td>\n",
       "    </tr>\n",
       "    <tr>\n",
       "      <th>80</th>\n",
       "      <td>17410</td>\n",
       "    </tr>\n",
       "    <tr>\n",
       "      <th>omega</th>\n",
       "      <td>17932</td>\n",
       "    </tr>\n",
       "    <tr>\n",
       "      <th>5er</th>\n",
       "      <td>19312</td>\n",
       "    </tr>\n",
       "  </tbody>\n",
       "</table>\n",
       "</div>"
      ],
      "text/plain": [
       "             Power\n",
       "Model             \n",
       "s_type         600\n",
       "ypsilon        620\n",
       "c2             650\n",
       "matiz          671\n",
       "fabia          696\n",
       "500            703\n",
       "cordoba        751\n",
       "sandero        800\n",
       "civic          903\n",
       "colt           953\n",
       "lupo          1000\n",
       "a_klasse      1001\n",
       "ka            1003\n",
       "leon          1024\n",
       "v40           1056\n",
       "2_reihe       1082\n",
       "ibiza         1111\n",
       "6_reihe       1115\n",
       "galaxy        1164\n",
       "scenic        1202\n",
       "1er           1223\n",
       "micra         1240\n",
       "3_reihe       1363\n",
       "outlander     1363\n",
       "c4            1394\n",
       "corolla       1398\n",
       "rio           1399\n",
       "espace        1401\n",
       "rav           1521\n",
       "nubira        1598\n",
       "mondeo        1600\n",
       "touran        1700\n",
       "berlingo      1780\n",
       "laguna        1783\n",
       "tt            1793\n",
       "vectra        1800\n",
       "toledo        1800\n",
       "stilo         1900\n",
       "c5            1900\n",
       "touareg       1992\n",
       "sprinter      2005\n",
       "punto         2017\n",
       "clio          2018\n",
       "a6            2598\n",
       "s_klasse      2789\n",
       "c_klasse      2799\n",
       "twingo        5815\n",
       "agila         6010\n",
       "cooper        6018\n",
       "up            6062\n",
       "aygo          6920\n",
       "astra         7508\n",
       "kangoo        7511\n",
       "clk           9000\n",
       "c_max         9007\n",
       "golf          9012\n",
       "e_klasse      9710\n",
       "focus        10110\n",
       "fortwo       10218\n",
       "transporter  10522\n",
       "megane       10710\n",
       "passat       11025\n",
       "corsa        11111\n",
       "polo         12012\n",
       "zafira       12512\n",
       "fiesta       15001\n",
       "ptcruiser    15016\n",
       "147          15020\n",
       "other        15033\n",
       "octavia      16011\n",
       "unknown      16051\n",
       "a4           16312\n",
       "a3           17011\n",
       "3er          17019\n",
       "80           17410\n",
       "omega        17932\n",
       "5er          19312"
      ]
     },
     "metadata": {},
     "output_type": "display_data"
    }
   ],
   "source": [
    "power_pivot_maker(data_train, 600)"
   ]
  },
  {
   "cell_type": "code",
   "execution_count": 26,
   "metadata": {},
   "outputs": [
    {
     "data": {
      "text/html": [
       "<div>\n",
       "<style scoped>\n",
       "    .dataframe tbody tr th:only-of-type {\n",
       "        vertical-align: middle;\n",
       "    }\n",
       "\n",
       "    .dataframe tbody tr th {\n",
       "        vertical-align: top;\n",
       "    }\n",
       "\n",
       "    .dataframe thead tr th {\n",
       "        text-align: left;\n",
       "    }\n",
       "\n",
       "    .dataframe thead tr:last-of-type th {\n",
       "        text-align: right;\n",
       "    }\n",
       "</style>\n",
       "<table border=\"1\" class=\"dataframe\">\n",
       "  <thead>\n",
       "    <tr>\n",
       "      <th></th>\n",
       "      <th>min</th>\n",
       "      <th>max</th>\n",
       "      <th>count</th>\n",
       "    </tr>\n",
       "    <tr>\n",
       "      <th></th>\n",
       "      <th>Price</th>\n",
       "      <th>Price</th>\n",
       "      <th>Price</th>\n",
       "    </tr>\n",
       "    <tr>\n",
       "      <th>Model</th>\n",
       "      <th></th>\n",
       "      <th></th>\n",
       "      <th></th>\n",
       "    </tr>\n",
       "  </thead>\n",
       "  <tbody>\n",
       "    <tr>\n",
       "      <th>elefantino</th>\n",
       "      <td>80</td>\n",
       "      <td>820</td>\n",
       "      <td>6</td>\n",
       "    </tr>\n",
       "    <tr>\n",
       "      <th>lanos</th>\n",
       "      <td>0</td>\n",
       "      <td>1400</td>\n",
       "      <td>55</td>\n",
       "    </tr>\n",
       "  </tbody>\n",
       "</table>\n",
       "</div>"
      ],
      "text/plain": [
       "             min   max count\n",
       "           Price Price Price\n",
       "Model                       \n",
       "elefantino    80   820     6\n",
       "lanos          0  1400    55"
      ]
     },
     "metadata": {},
     "output_type": "display_data"
    },
    {
     "name": "stdout",
     "output_type": "stream",
     "text": [
      "При удалении автомобилей с ценой ниже 200 сохраняется 95.097 % данных\n"
     ]
    }
   ],
   "source": [
    "pivot = price_pivot_maker(data_train, data_train['Price'].max())\n",
    "display(pivot.loc[pivot['max', 'Price'] <= 1500])\n",
    "price_trs = 200\n",
    "print('При удалении автомобилей с ценой ниже', price_trs, 'сохраняется', \n",
    "      round(100 * data_train.loc[data_train['Price'] >= price_trs].shape[0] / data_train.shape[0], 3), '% данных')"
   ]
  },
  {
   "cell_type": "markdown",
   "metadata": {},
   "source": [
    "#### Не кодированный датасет"
   ]
  },
  {
   "cell_type": "code",
   "execution_count": 27,
   "metadata": {
    "scrolled": false
   },
   "outputs": [
    {
     "name": "stdout",
     "output_type": "stream",
     "text": [
      "До фильтрации:\n"
     ]
    },
    {
     "data": {
      "text/html": [
       "<div>\n",
       "<style scoped>\n",
       "    .dataframe tbody tr th:only-of-type {\n",
       "        vertical-align: middle;\n",
       "    }\n",
       "\n",
       "    .dataframe tbody tr th {\n",
       "        vertical-align: top;\n",
       "    }\n",
       "\n",
       "    .dataframe thead th {\n",
       "        text-align: right;\n",
       "    }\n",
       "</style>\n",
       "<table border=\"1\" class=\"dataframe\">\n",
       "  <thead>\n",
       "    <tr style=\"text-align: right;\">\n",
       "      <th></th>\n",
       "      <th>Price</th>\n",
       "      <th>RegistrationYear</th>\n",
       "      <th>Power</th>\n",
       "      <th>Kilometer</th>\n",
       "    </tr>\n",
       "  </thead>\n",
       "  <tbody>\n",
       "    <tr>\n",
       "      <th>count</th>\n",
       "      <td>212621.000000</td>\n",
       "      <td>212621.000000</td>\n",
       "      <td>212621.000000</td>\n",
       "      <td>212621.000000</td>\n",
       "    </tr>\n",
       "    <tr>\n",
       "      <th>mean</th>\n",
       "      <td>4414.475419</td>\n",
       "      <td>2004.132945</td>\n",
       "      <td>110.190061</td>\n",
       "      <td>128187.479130</td>\n",
       "    </tr>\n",
       "    <tr>\n",
       "      <th>std</th>\n",
       "      <td>4512.338209</td>\n",
       "      <td>85.087369</td>\n",
       "      <td>194.820380</td>\n",
       "      <td>37922.023471</td>\n",
       "    </tr>\n",
       "    <tr>\n",
       "      <th>min</th>\n",
       "      <td>0.000000</td>\n",
       "      <td>1000.000000</td>\n",
       "      <td>0.000000</td>\n",
       "      <td>5000.000000</td>\n",
       "    </tr>\n",
       "    <tr>\n",
       "      <th>25%</th>\n",
       "      <td>1080.000000</td>\n",
       "      <td>1999.000000</td>\n",
       "      <td>69.000000</td>\n",
       "      <td>125000.000000</td>\n",
       "    </tr>\n",
       "    <tr>\n",
       "      <th>50%</th>\n",
       "      <td>2700.000000</td>\n",
       "      <td>2003.000000</td>\n",
       "      <td>105.000000</td>\n",
       "      <td>150000.000000</td>\n",
       "    </tr>\n",
       "    <tr>\n",
       "      <th>75%</th>\n",
       "      <td>6399.000000</td>\n",
       "      <td>2008.000000</td>\n",
       "      <td>141.000000</td>\n",
       "      <td>150000.000000</td>\n",
       "    </tr>\n",
       "    <tr>\n",
       "      <th>max</th>\n",
       "      <td>20000.000000</td>\n",
       "      <td>9999.000000</td>\n",
       "      <td>19312.000000</td>\n",
       "      <td>150000.000000</td>\n",
       "    </tr>\n",
       "  </tbody>\n",
       "</table>\n",
       "</div>"
      ],
      "text/plain": [
       "               Price  RegistrationYear          Power      Kilometer\n",
       "count  212621.000000     212621.000000  212621.000000  212621.000000\n",
       "mean     4414.475419       2004.132945     110.190061  128187.479130\n",
       "std      4512.338209         85.087369     194.820380   37922.023471\n",
       "min         0.000000       1000.000000       0.000000    5000.000000\n",
       "25%      1080.000000       1999.000000      69.000000  125000.000000\n",
       "50%      2700.000000       2003.000000     105.000000  150000.000000\n",
       "75%      6399.000000       2008.000000     141.000000  150000.000000\n",
       "max     20000.000000       9999.000000   19312.000000  150000.000000"
      ]
     },
     "metadata": {},
     "output_type": "display_data"
    },
    {
     "name": "stdout",
     "output_type": "stream",
     "text": [
      "После фильтрации:\n"
     ]
    },
    {
     "name": "stderr",
     "output_type": "stream",
     "text": [
      "/opt/conda/lib/python3.9/site-packages/pandas/core/indexing.py:1637: SettingWithCopyWarning: \n",
      "A value is trying to be set on a copy of a slice from a DataFrame\n",
      "\n",
      "See the caveats in the documentation: https://pandas.pydata.org/pandas-docs/stable/user_guide/indexing.html#returning-a-view-versus-a-copy\n",
      "  self._setitem_single_block(indexer, value, name)\n",
      "/opt/conda/lib/python3.9/site-packages/pandas/core/indexing.py:1637: SettingWithCopyWarning: \n",
      "A value is trying to be set on a copy of a slice from a DataFrame\n",
      "\n",
      "See the caveats in the documentation: https://pandas.pydata.org/pandas-docs/stable/user_guide/indexing.html#returning-a-view-versus-a-copy\n",
      "  self._setitem_single_block(indexer, value, name)\n"
     ]
    },
    {
     "data": {
      "text/html": [
       "<div>\n",
       "<style scoped>\n",
       "    .dataframe tbody tr th:only-of-type {\n",
       "        vertical-align: middle;\n",
       "    }\n",
       "\n",
       "    .dataframe tbody tr th {\n",
       "        vertical-align: top;\n",
       "    }\n",
       "\n",
       "    .dataframe thead th {\n",
       "        text-align: right;\n",
       "    }\n",
       "</style>\n",
       "<table border=\"1\" class=\"dataframe\">\n",
       "  <thead>\n",
       "    <tr style=\"text-align: right;\">\n",
       "      <th></th>\n",
       "      <th>Price</th>\n",
       "      <th>RegistrationYear</th>\n",
       "      <th>Power</th>\n",
       "      <th>Kilometer</th>\n",
       "    </tr>\n",
       "  </thead>\n",
       "  <tbody>\n",
       "    <tr>\n",
       "      <th>count</th>\n",
       "      <td>190790.000000</td>\n",
       "      <td>190790.000000</td>\n",
       "      <td>190790.000000</td>\n",
       "      <td>190790.000000</td>\n",
       "    </tr>\n",
       "    <tr>\n",
       "      <th>mean</th>\n",
       "      <td>4664.560066</td>\n",
       "      <td>2003.142691</td>\n",
       "      <td>110.284923</td>\n",
       "      <td>128826.274962</td>\n",
       "    </tr>\n",
       "    <tr>\n",
       "      <th>std</th>\n",
       "      <td>4528.490509</td>\n",
       "      <td>5.741345</td>\n",
       "      <td>61.924831</td>\n",
       "      <td>36703.148319</td>\n",
       "    </tr>\n",
       "    <tr>\n",
       "      <th>min</th>\n",
       "      <td>200.000000</td>\n",
       "      <td>1986.000000</td>\n",
       "      <td>0.000000</td>\n",
       "      <td>5000.000000</td>\n",
       "    </tr>\n",
       "    <tr>\n",
       "      <th>25%</th>\n",
       "      <td>1250.000000</td>\n",
       "      <td>1999.000000</td>\n",
       "      <td>75.000000</td>\n",
       "      <td>125000.000000</td>\n",
       "    </tr>\n",
       "    <tr>\n",
       "      <th>50%</th>\n",
       "      <td>2990.000000</td>\n",
       "      <td>2003.000000</td>\n",
       "      <td>105.000000</td>\n",
       "      <td>150000.000000</td>\n",
       "    </tr>\n",
       "    <tr>\n",
       "      <th>75%</th>\n",
       "      <td>6700.000000</td>\n",
       "      <td>2007.000000</td>\n",
       "      <td>143.000000</td>\n",
       "      <td>150000.000000</td>\n",
       "    </tr>\n",
       "    <tr>\n",
       "      <th>max</th>\n",
       "      <td>20000.000000</td>\n",
       "      <td>2016.000000</td>\n",
       "      <td>600.000000</td>\n",
       "      <td>150000.000000</td>\n",
       "    </tr>\n",
       "  </tbody>\n",
       "</table>\n",
       "</div>"
      ],
      "text/plain": [
       "               Price  RegistrationYear          Power      Kilometer\n",
       "count  190790.000000     190790.000000  190790.000000  190790.000000\n",
       "mean     4664.560066       2003.142691     110.284923  128826.274962\n",
       "std      4528.490509          5.741345      61.924831   36703.148319\n",
       "min       200.000000       1986.000000       0.000000    5000.000000\n",
       "25%      1250.000000       1999.000000      75.000000  125000.000000\n",
       "50%      2990.000000       2003.000000     105.000000  150000.000000\n",
       "75%      6700.000000       2007.000000     143.000000  150000.000000\n",
       "max     20000.000000       2016.000000     600.000000  150000.000000"
      ]
     },
     "metadata": {},
     "output_type": "display_data"
    },
    {
     "name": "stdout",
     "output_type": "stream",
     "text": [
      "Автомобилей мощностью выше 600 в датасете: 6\n"
     ]
    },
    {
     "data": {
      "text/html": [
       "<div>\n",
       "<style scoped>\n",
       "    .dataframe tbody tr th:only-of-type {\n",
       "        vertical-align: middle;\n",
       "    }\n",
       "\n",
       "    .dataframe tbody tr th {\n",
       "        vertical-align: top;\n",
       "    }\n",
       "\n",
       "    .dataframe thead th {\n",
       "        text-align: right;\n",
       "    }\n",
       "</style>\n",
       "<table border=\"1\" class=\"dataframe\">\n",
       "  <thead>\n",
       "    <tr style=\"text-align: right;\">\n",
       "      <th></th>\n",
       "      <th>Power</th>\n",
       "    </tr>\n",
       "    <tr>\n",
       "      <th>Model</th>\n",
       "      <th></th>\n",
       "    </tr>\n",
       "  </thead>\n",
       "  <tbody>\n",
       "    <tr>\n",
       "      <th>a6</th>\n",
       "      <td>600.0</td>\n",
       "    </tr>\n",
       "    <tr>\n",
       "      <th>other</th>\n",
       "      <td>600.0</td>\n",
       "    </tr>\n",
       "    <tr>\n",
       "      <th>s_type</th>\n",
       "      <td>600.0</td>\n",
       "    </tr>\n",
       "    <tr>\n",
       "      <th>unknown</th>\n",
       "      <td>600.0</td>\n",
       "    </tr>\n",
       "  </tbody>\n",
       "</table>\n",
       "</div>"
      ],
      "text/plain": [
       "         Power\n",
       "Model         \n",
       "a6       600.0\n",
       "other    600.0\n",
       "s_type   600.0\n",
       "unknown  600.0"
      ]
     },
     "metadata": {},
     "output_type": "display_data"
    },
    {
     "name": "stdout",
     "output_type": "stream",
     "text": [
      "После удаления выбросов сохранено 89.73 % исходного датасета\n"
     ]
    }
   ],
   "source": [
    "print('До фильтрации:')\n",
    "display(data_train.describe())\n",
    "\n",
    "data_train_filtered = power_modder(data_train, 600, 5001)\n",
    "data_train_filtered = iqr_filter(data_train_filtered, 'RegistrationYear')\n",
    "data_train_filtered = registration_year_cutter(data_train_filtered, 2016)\n",
    "data_train_filtered = price_cutter(data_train_filtered, 200)\n",
    "\n",
    "print('После фильтрации:')\n",
    "display(data_train_filtered.describe())\n",
    "power_pivot_maker(data_train_filtered, 600)\n",
    "\n",
    "print('После удаления выбросов сохранено', \n",
    "      round(100 * data_train_filtered.shape[0]/data_train.shape[0], 2), '% исходного датасета')\n",
    "\n",
    "data_train = data_train_filtered\n",
    "del data_train_filtered"
   ]
  },
  {
   "cell_type": "markdown",
   "metadata": {},
   "source": [
    "#### Кодированный датасет"
   ]
  },
  {
   "cell_type": "code",
   "execution_count": 28,
   "metadata": {
    "scrolled": false
   },
   "outputs": [
    {
     "name": "stdout",
     "output_type": "stream",
     "text": [
      "До фильтрации:\n"
     ]
    },
    {
     "data": {
      "text/html": [
       "<div>\n",
       "<style scoped>\n",
       "    .dataframe tbody tr th:only-of-type {\n",
       "        vertical-align: middle;\n",
       "    }\n",
       "\n",
       "    .dataframe tbody tr th {\n",
       "        vertical-align: top;\n",
       "    }\n",
       "\n",
       "    .dataframe thead th {\n",
       "        text-align: right;\n",
       "    }\n",
       "</style>\n",
       "<table border=\"1\" class=\"dataframe\">\n",
       "  <thead>\n",
       "    <tr style=\"text-align: right;\">\n",
       "      <th></th>\n",
       "      <th>VehicleType</th>\n",
       "      <th>Gearbox</th>\n",
       "      <th>Model</th>\n",
       "      <th>FuelType</th>\n",
       "      <th>Brand</th>\n",
       "      <th>Repaired</th>\n",
       "      <th>Price</th>\n",
       "      <th>RegistrationYear</th>\n",
       "      <th>Power</th>\n",
       "      <th>Kilometer</th>\n",
       "    </tr>\n",
       "  </thead>\n",
       "  <tbody>\n",
       "    <tr>\n",
       "      <th>count</th>\n",
       "      <td>212621.000000</td>\n",
       "      <td>212621.000000</td>\n",
       "      <td>212621.000000</td>\n",
       "      <td>212621.000000</td>\n",
       "      <td>212621.000000</td>\n",
       "      <td>212621.000000</td>\n",
       "      <td>212621.000000</td>\n",
       "      <td>212621.000000</td>\n",
       "      <td>212621.000000</td>\n",
       "      <td>212621.000000</td>\n",
       "    </tr>\n",
       "    <tr>\n",
       "      <th>mean</th>\n",
       "      <td>4.752325</td>\n",
       "      <td>0.868296</td>\n",
       "      <td>115.772511</td>\n",
       "      <td>4.936422</td>\n",
       "      <td>20.920727</td>\n",
       "      <td>0.101599</td>\n",
       "      <td>4414.475419</td>\n",
       "      <td>2004.132945</td>\n",
       "      <td>110.190061</td>\n",
       "      <td>128187.479130</td>\n",
       "    </tr>\n",
       "    <tr>\n",
       "      <th>std</th>\n",
       "      <td>2.384580</td>\n",
       "      <td>0.475705</td>\n",
       "      <td>73.899399</td>\n",
       "      <td>1.882551</td>\n",
       "      <td>13.294964</td>\n",
       "      <td>0.302120</td>\n",
       "      <td>4512.338209</td>\n",
       "      <td>85.087369</td>\n",
       "      <td>194.820380</td>\n",
       "      <td>37922.023471</td>\n",
       "    </tr>\n",
       "    <tr>\n",
       "      <th>min</th>\n",
       "      <td>0.000000</td>\n",
       "      <td>0.000000</td>\n",
       "      <td>0.000000</td>\n",
       "      <td>0.000000</td>\n",
       "      <td>0.000000</td>\n",
       "      <td>0.000000</td>\n",
       "      <td>0.000000</td>\n",
       "      <td>1000.000000</td>\n",
       "      <td>0.000000</td>\n",
       "      <td>5000.000000</td>\n",
       "    </tr>\n",
       "    <tr>\n",
       "      <th>25%</th>\n",
       "      <td>4.000000</td>\n",
       "      <td>1.000000</td>\n",
       "      <td>42.000000</td>\n",
       "      <td>2.000000</td>\n",
       "      <td>9.000000</td>\n",
       "      <td>0.000000</td>\n",
       "      <td>1080.000000</td>\n",
       "      <td>1999.000000</td>\n",
       "      <td>69.000000</td>\n",
       "      <td>125000.000000</td>\n",
       "    </tr>\n",
       "    <tr>\n",
       "      <th>50%</th>\n",
       "      <td>5.000000</td>\n",
       "      <td>1.000000</td>\n",
       "      <td>116.000000</td>\n",
       "      <td>6.000000</td>\n",
       "      <td>24.000000</td>\n",
       "      <td>0.000000</td>\n",
       "      <td>2700.000000</td>\n",
       "      <td>2003.000000</td>\n",
       "      <td>105.000000</td>\n",
       "      <td>150000.000000</td>\n",
       "    </tr>\n",
       "    <tr>\n",
       "      <th>75%</th>\n",
       "      <td>7.000000</td>\n",
       "      <td>1.000000</td>\n",
       "      <td>170.000000</td>\n",
       "      <td>6.000000</td>\n",
       "      <td>33.000000</td>\n",
       "      <td>0.000000</td>\n",
       "      <td>6399.000000</td>\n",
       "      <td>2008.000000</td>\n",
       "      <td>141.000000</td>\n",
       "      <td>150000.000000</td>\n",
       "    </tr>\n",
       "    <tr>\n",
       "      <th>max</th>\n",
       "      <td>8.000000</td>\n",
       "      <td>2.000000</td>\n",
       "      <td>250.000000</td>\n",
       "      <td>7.000000</td>\n",
       "      <td>39.000000</td>\n",
       "      <td>1.000000</td>\n",
       "      <td>20000.000000</td>\n",
       "      <td>9999.000000</td>\n",
       "      <td>19312.000000</td>\n",
       "      <td>150000.000000</td>\n",
       "    </tr>\n",
       "  </tbody>\n",
       "</table>\n",
       "</div>"
      ],
      "text/plain": [
       "         VehicleType        Gearbox          Model       FuelType  \\\n",
       "count  212621.000000  212621.000000  212621.000000  212621.000000   \n",
       "mean        4.752325       0.868296     115.772511       4.936422   \n",
       "std         2.384580       0.475705      73.899399       1.882551   \n",
       "min         0.000000       0.000000       0.000000       0.000000   \n",
       "25%         4.000000       1.000000      42.000000       2.000000   \n",
       "50%         5.000000       1.000000     116.000000       6.000000   \n",
       "75%         7.000000       1.000000     170.000000       6.000000   \n",
       "max         8.000000       2.000000     250.000000       7.000000   \n",
       "\n",
       "               Brand       Repaired          Price  RegistrationYear  \\\n",
       "count  212621.000000  212621.000000  212621.000000     212621.000000   \n",
       "mean       20.920727       0.101599    4414.475419       2004.132945   \n",
       "std        13.294964       0.302120    4512.338209         85.087369   \n",
       "min         0.000000       0.000000       0.000000       1000.000000   \n",
       "25%         9.000000       0.000000    1080.000000       1999.000000   \n",
       "50%        24.000000       0.000000    2700.000000       2003.000000   \n",
       "75%        33.000000       0.000000    6399.000000       2008.000000   \n",
       "max        39.000000       1.000000   20000.000000       9999.000000   \n",
       "\n",
       "               Power      Kilometer  \n",
       "count  212621.000000  212621.000000  \n",
       "mean      110.190061  128187.479130  \n",
       "std       194.820380   37922.023471  \n",
       "min         0.000000    5000.000000  \n",
       "25%        69.000000  125000.000000  \n",
       "50%       105.000000  150000.000000  \n",
       "75%       141.000000  150000.000000  \n",
       "max     19312.000000  150000.000000  "
      ]
     },
     "metadata": {},
     "output_type": "display_data"
    },
    {
     "name": "stdout",
     "output_type": "stream",
     "text": [
      "После фильтрации:\n"
     ]
    },
    {
     "name": "stderr",
     "output_type": "stream",
     "text": [
      "/opt/conda/lib/python3.9/site-packages/pandas/core/indexing.py:1637: SettingWithCopyWarning: \n",
      "A value is trying to be set on a copy of a slice from a DataFrame\n",
      "\n",
      "See the caveats in the documentation: https://pandas.pydata.org/pandas-docs/stable/user_guide/indexing.html#returning-a-view-versus-a-copy\n",
      "  self._setitem_single_block(indexer, value, name)\n",
      "/opt/conda/lib/python3.9/site-packages/pandas/core/indexing.py:1637: SettingWithCopyWarning: \n",
      "A value is trying to be set on a copy of a slice from a DataFrame\n",
      "\n",
      "See the caveats in the documentation: https://pandas.pydata.org/pandas-docs/stable/user_guide/indexing.html#returning-a-view-versus-a-copy\n",
      "  self._setitem_single_block(indexer, value, name)\n"
     ]
    },
    {
     "data": {
      "text/html": [
       "<div>\n",
       "<style scoped>\n",
       "    .dataframe tbody tr th:only-of-type {\n",
       "        vertical-align: middle;\n",
       "    }\n",
       "\n",
       "    .dataframe tbody tr th {\n",
       "        vertical-align: top;\n",
       "    }\n",
       "\n",
       "    .dataframe thead th {\n",
       "        text-align: right;\n",
       "    }\n",
       "</style>\n",
       "<table border=\"1\" class=\"dataframe\">\n",
       "  <thead>\n",
       "    <tr style=\"text-align: right;\">\n",
       "      <th></th>\n",
       "      <th>VehicleType</th>\n",
       "      <th>Gearbox</th>\n",
       "      <th>Model</th>\n",
       "      <th>FuelType</th>\n",
       "      <th>Brand</th>\n",
       "      <th>Repaired</th>\n",
       "      <th>Price</th>\n",
       "      <th>RegistrationYear</th>\n",
       "      <th>Power</th>\n",
       "      <th>Kilometer</th>\n",
       "    </tr>\n",
       "  </thead>\n",
       "  <tbody>\n",
       "    <tr>\n",
       "      <th>count</th>\n",
       "      <td>190790.000000</td>\n",
       "      <td>190790.000000</td>\n",
       "      <td>190790.000000</td>\n",
       "      <td>190790.00000</td>\n",
       "      <td>190790.000000</td>\n",
       "      <td>190790.000000</td>\n",
       "      <td>190790.000000</td>\n",
       "      <td>190790.000000</td>\n",
       "      <td>190790.000000</td>\n",
       "      <td>190790.000000</td>\n",
       "    </tr>\n",
       "    <tr>\n",
       "      <th>mean</th>\n",
       "      <td>4.633152</td>\n",
       "      <td>0.846811</td>\n",
       "      <td>113.422873</td>\n",
       "      <td>4.83844</td>\n",
       "      <td>20.749012</td>\n",
       "      <td>0.095671</td>\n",
       "      <td>4664.560066</td>\n",
       "      <td>2003.142691</td>\n",
       "      <td>110.284923</td>\n",
       "      <td>128826.274962</td>\n",
       "    </tr>\n",
       "    <tr>\n",
       "      <th>std</th>\n",
       "      <td>2.401099</td>\n",
       "      <td>0.460358</td>\n",
       "      <td>73.603684</td>\n",
       "      <td>1.89350</td>\n",
       "      <td>13.326185</td>\n",
       "      <td>0.294140</td>\n",
       "      <td>4528.490509</td>\n",
       "      <td>5.741345</td>\n",
       "      <td>61.924831</td>\n",
       "      <td>36703.148319</td>\n",
       "    </tr>\n",
       "    <tr>\n",
       "      <th>min</th>\n",
       "      <td>0.000000</td>\n",
       "      <td>0.000000</td>\n",
       "      <td>0.000000</td>\n",
       "      <td>0.00000</td>\n",
       "      <td>0.000000</td>\n",
       "      <td>0.000000</td>\n",
       "      <td>200.000000</td>\n",
       "      <td>1986.000000</td>\n",
       "      <td>0.000000</td>\n",
       "      <td>5000.000000</td>\n",
       "    </tr>\n",
       "    <tr>\n",
       "      <th>25%</th>\n",
       "      <td>4.000000</td>\n",
       "      <td>1.000000</td>\n",
       "      <td>42.000000</td>\n",
       "      <td>2.00000</td>\n",
       "      <td>9.000000</td>\n",
       "      <td>0.000000</td>\n",
       "      <td>1250.000000</td>\n",
       "      <td>1999.000000</td>\n",
       "      <td>75.000000</td>\n",
       "      <td>125000.000000</td>\n",
       "    </tr>\n",
       "    <tr>\n",
       "      <th>50%</th>\n",
       "      <td>5.000000</td>\n",
       "      <td>1.000000</td>\n",
       "      <td>116.000000</td>\n",
       "      <td>6.00000</td>\n",
       "      <td>24.000000</td>\n",
       "      <td>0.000000</td>\n",
       "      <td>2990.000000</td>\n",
       "      <td>2003.000000</td>\n",
       "      <td>105.000000</td>\n",
       "      <td>150000.000000</td>\n",
       "    </tr>\n",
       "    <tr>\n",
       "      <th>75%</th>\n",
       "      <td>7.000000</td>\n",
       "      <td>1.000000</td>\n",
       "      <td>170.000000</td>\n",
       "      <td>6.00000</td>\n",
       "      <td>33.000000</td>\n",
       "      <td>0.000000</td>\n",
       "      <td>6700.000000</td>\n",
       "      <td>2007.000000</td>\n",
       "      <td>143.000000</td>\n",
       "      <td>150000.000000</td>\n",
       "    </tr>\n",
       "    <tr>\n",
       "      <th>max</th>\n",
       "      <td>8.000000</td>\n",
       "      <td>2.000000</td>\n",
       "      <td>250.000000</td>\n",
       "      <td>7.00000</td>\n",
       "      <td>39.000000</td>\n",
       "      <td>1.000000</td>\n",
       "      <td>20000.000000</td>\n",
       "      <td>2016.000000</td>\n",
       "      <td>600.000000</td>\n",
       "      <td>150000.000000</td>\n",
       "    </tr>\n",
       "  </tbody>\n",
       "</table>\n",
       "</div>"
      ],
      "text/plain": [
       "         VehicleType        Gearbox          Model      FuelType  \\\n",
       "count  190790.000000  190790.000000  190790.000000  190790.00000   \n",
       "mean        4.633152       0.846811     113.422873       4.83844   \n",
       "std         2.401099       0.460358      73.603684       1.89350   \n",
       "min         0.000000       0.000000       0.000000       0.00000   \n",
       "25%         4.000000       1.000000      42.000000       2.00000   \n",
       "50%         5.000000       1.000000     116.000000       6.00000   \n",
       "75%         7.000000       1.000000     170.000000       6.00000   \n",
       "max         8.000000       2.000000     250.000000       7.00000   \n",
       "\n",
       "               Brand       Repaired          Price  RegistrationYear  \\\n",
       "count  190790.000000  190790.000000  190790.000000     190790.000000   \n",
       "mean       20.749012       0.095671    4664.560066       2003.142691   \n",
       "std        13.326185       0.294140    4528.490509          5.741345   \n",
       "min         0.000000       0.000000     200.000000       1986.000000   \n",
       "25%         9.000000       0.000000    1250.000000       1999.000000   \n",
       "50%        24.000000       0.000000    2990.000000       2003.000000   \n",
       "75%        33.000000       0.000000    6700.000000       2007.000000   \n",
       "max        39.000000       1.000000   20000.000000       2016.000000   \n",
       "\n",
       "               Power      Kilometer  \n",
       "count  190790.000000  190790.000000  \n",
       "mean      110.284923  128826.274962  \n",
       "std        61.924831   36703.148319  \n",
       "min         0.000000    5000.000000  \n",
       "25%        75.000000  125000.000000  \n",
       "50%       105.000000  150000.000000  \n",
       "75%       143.000000  150000.000000  \n",
       "max       600.000000  150000.000000  "
      ]
     },
     "metadata": {},
     "output_type": "display_data"
    },
    {
     "name": "stdout",
     "output_type": "stream",
     "text": [
      "Автомобилей мощностью выше 600 в датасете: 6\n"
     ]
    },
    {
     "data": {
      "text/html": [
       "<div>\n",
       "<style scoped>\n",
       "    .dataframe tbody tr th:only-of-type {\n",
       "        vertical-align: middle;\n",
       "    }\n",
       "\n",
       "    .dataframe tbody tr th {\n",
       "        vertical-align: top;\n",
       "    }\n",
       "\n",
       "    .dataframe thead th {\n",
       "        text-align: right;\n",
       "    }\n",
       "</style>\n",
       "<table border=\"1\" class=\"dataframe\">\n",
       "  <thead>\n",
       "    <tr style=\"text-align: right;\">\n",
       "      <th></th>\n",
       "      <th>Power</th>\n",
       "    </tr>\n",
       "    <tr>\n",
       "      <th>Model</th>\n",
       "      <th></th>\n",
       "    </tr>\n",
       "  </thead>\n",
       "  <tbody>\n",
       "    <tr>\n",
       "      <th>31.0</th>\n",
       "      <td>600.0</td>\n",
       "    </tr>\n",
       "    <tr>\n",
       "      <th>166.0</th>\n",
       "      <td>600.0</td>\n",
       "    </tr>\n",
       "    <tr>\n",
       "      <th>194.0</th>\n",
       "      <td>600.0</td>\n",
       "    </tr>\n",
       "    <tr>\n",
       "      <th>228.0</th>\n",
       "      <td>600.0</td>\n",
       "    </tr>\n",
       "  </tbody>\n",
       "</table>\n",
       "</div>"
      ],
      "text/plain": [
       "       Power\n",
       "Model       \n",
       "31.0   600.0\n",
       "166.0  600.0\n",
       "194.0  600.0\n",
       "228.0  600.0"
      ]
     },
     "metadata": {},
     "output_type": "display_data"
    },
    {
     "name": "stdout",
     "output_type": "stream",
     "text": [
      "После удаления выбросов сохранено 89.73 % исходного датасета\n"
     ]
    }
   ],
   "source": [
    "print('До фильтрации:')\n",
    "display(data_ordinal_train.describe())\n",
    "\n",
    "data_ordinal_train_filtered = power_modder(data_ordinal_train, 600, 5001)\n",
    "data_ordinal_train_filtered = iqr_filter(data_ordinal_train_filtered, 'RegistrationYear')\n",
    "data_ordinal_train_filtered = registration_year_cutter(data_ordinal_train_filtered, 2016)\n",
    "data_ordinal_train_filtered = price_cutter(data_ordinal_train_filtered, 200)\n",
    "\n",
    "print('После фильтрации:')\n",
    "display(data_ordinal_train_filtered.describe())\n",
    "power_pivot_maker(data_ordinal_train_filtered, 600)\n",
    "\n",
    "print('После удаления выбросов сохранено', \n",
    "      round(100 * data_ordinal_train_filtered.shape[0]/data_ordinal_train.shape[0], 2), '% исходного датасета')\n",
    "\n",
    "data_ordinal_train = data_ordinal_train_filtered\n",
    "del data_ordinal_train_filtered"
   ]
  },
  {
   "cell_type": "markdown",
   "metadata": {},
   "source": [
    "### Разделение на features и target"
   ]
  },
  {
   "cell_type": "code",
   "execution_count": 29,
   "metadata": {
    "scrolled": true
   },
   "outputs": [],
   "source": [
    "cat_features = ['VehicleType', 'Gearbox', 'Model', 'FuelType', 'Brand', 'Repaired']"
   ]
  },
  {
   "cell_type": "markdown",
   "metadata": {},
   "source": [
    "#### Не кодированный датасет"
   ]
  },
  {
   "cell_type": "code",
   "execution_count": 30,
   "metadata": {
    "scrolled": true
   },
   "outputs": [],
   "source": [
    "data_train_features = data_train.drop('Price', axis = 1)\n",
    "data_train_target = data_train['Price']\n",
    "data_valid_features = data_valid.drop('Price', axis = 1)\n",
    "data_valid_target = data_valid['Price']\n",
    "data_test_features = data_test.drop('Price', axis = 1)\n",
    "data_test_target = data_test['Price']"
   ]
  },
  {
   "cell_type": "markdown",
   "metadata": {},
   "source": [
    "#### Кодированный датасет"
   ]
  },
  {
   "cell_type": "code",
   "execution_count": 31,
   "metadata": {
    "scrolled": true
   },
   "outputs": [],
   "source": [
    "data_ordinal_train_features = data_ordinal_train.drop('Price', axis = 1)\n",
    "data_ordinal_train_target = data_ordinal_train['Price']\n",
    "data_ordinal_valid_features = data_ordinal_valid.drop('Price', axis = 1)\n",
    "data_ordinal_valid_target = data_ordinal_valid['Price']\n",
    "data_ordinal_test_features = data_ordinal_test.drop('Price', axis = 1)\n",
    "data_ordinal_test_target = data_ordinal_test['Price']"
   ]
  },
  {
   "cell_type": "markdown",
   "metadata": {},
   "source": [
    "### Выводы по предобработке данных"
   ]
  },
  {
   "cell_type": "markdown",
   "metadata": {},
   "source": [
    "Построены круговые диаграммы, гистограммы и диаграммы размаха для признаков датасета. Удалены признаки с количеством фото (в нем ошибка, там только 0), даты публицации и последнего просмотра, месяц регистрации.\n",
    "\n",
    "В ходе предобработки данных были изучены аномалии признаков года регистрации и мощности. Года регистрации были сначала отфильрованы iqr-фильтром сверху и снизу, затем добавлена отсечка до 2016 года сверху. \n",
    "\n",
    "С мощностью была замечена зависимость, что после 600 сил и до 5000 сил значения преимущественно похожи на значения с ошибкой в 10 раз (пропущена десятичная запятая), поэтому их удалять я не стал, а разделил на 10. С 5000 сил зависимость та же, но на 2 знака (в 100 раз). Таким образом ни одна строка датасета не потеряна в ходе работы с признаком мощности. Более тонко можно обработать аномалии (как мне кажется) только введя таблицу соответствия модель-мощность (что крайне проблематично для 250 моделей авто). Таким образом, если выбросы будут встречаться внутри одной модели до 600 сил, их количество будет мало в общей массе (например матиз на 1500 сил). Гиперкаров в выборке не замечено, поэтому ошибки в диапазоне мощности от 1000 сил маловероятны.\n",
    "\n",
    "Пропуски в графе ремонтов были заполнены значением \"no\" (ремонта не было). \n",
    "\n",
    "Построена сводная таблица минимальной и максимальной цены по моделям в датасете срезанная до 1500 евро. Получается, что если убрать из обучающего датасета все автомобили с ценой ниже 820 евро, ни одна модель автомобиля не будет полностью исключена из обучающего датасета, уйдут в основном аномалии целевого признака и в некоторой мере автомобили с ценой сильно ниже рыночной. Правда это приводит к потере почти 19% объема обучающей выборки.\n",
    "\n",
    "В целом, для корректной фильтрации выбросов целевого признака, как мне кажется, недостаточно данных. \n",
    "\n",
    "Во-первых бывают случаи неуказанной цены или неактуально указанной цены для манипулирования сортировкой в выдаче результатов поиска на торговой площадке (продавец ставит цену 1 евро, чтобы при сортировке по цене быть в числе первых в выдаче). \n",
    "\n",
    "Во-вторых бывают цены существенно ниже рыночных для юридически не чистых транспортных средств (особенно аткуально для мотоциклов, но для автомобилей такое тоже случается, из личного опыта). Сервисы по продаже автомобилей не застрахованы от такого рода объявлений, за исключением аукционов (и то не в полной мере, но аукционам в данных вопросах помогает серьезная процедура проверки автомобилей при продаже). \n",
    "\n",
    "В-третьих бывает неадекватно низкая цена выставлена в объявлении просто потому что собственник транспортного средства просто хочет от него избавиться (налоговое бремя, отсутствие необходимости и/или сложности в эксплуатации) или собственнику просто неважно за сколько будет продано транспортное средство (также из личного опыта).\n",
    "\n",
    "В связи с вышеизложенным мною было принято решение максимально примитивно бороться с аномалиями целевого признака, а именно, сделать отсечку снизу в 200 евро, что уберет большУю часть аномалий (как минимум нулевые цены, хотя в диапазоне до 200 евро встречаются самые разнообразные цены)."
   ]
  },
  {
   "cell_type": "markdown",
   "metadata": {},
   "source": [
    "## Обучение моделей"
   ]
  },
  {
   "cell_type": "markdown",
   "metadata": {},
   "source": [
    "### Catboost"
   ]
  },
  {
   "cell_type": "code",
   "execution_count": 32,
   "metadata": {
    "scrolled": true
   },
   "outputs": [
    {
     "name": "stdout",
     "output_type": "stream",
     "text": [
      "Learning rate set to 0.5\n",
      "0:\tlearn: 3535.4878688\ttotal: 76.9ms\tremaining: 307ms\n",
      "1:\tlearn: 3117.5159987\ttotal: 117ms\tremaining: 175ms\n",
      "2:\tlearn: 2828.8673293\ttotal: 156ms\tremaining: 104ms\n",
      "3:\tlearn: 2638.6705074\ttotal: 186ms\tremaining: 46.5ms\n",
      "4:\tlearn: 2510.9749991\ttotal: 204ms\tremaining: 0us\n",
      "Learning rate set to 0.5\n",
      "0:\tlearn: 3550.9725102\ttotal: 35.5ms\tremaining: 142ms\n",
      "1:\tlearn: 3167.8249044\ttotal: 59.5ms\tremaining: 89.2ms\n",
      "2:\tlearn: 2869.7979763\ttotal: 83.7ms\tremaining: 55.8ms\n",
      "3:\tlearn: 2655.6844302\ttotal: 102ms\tremaining: 25.5ms\n",
      "4:\tlearn: 2541.3871698\ttotal: 121ms\tremaining: 0us\n",
      "Learning rate set to 0.5\n",
      "0:\tlearn: 3535.4878688\ttotal: 24ms\tremaining: 216ms\n",
      "1:\tlearn: 3117.5159987\ttotal: 50.2ms\tremaining: 201ms\n",
      "2:\tlearn: 2828.8673293\ttotal: 74.9ms\tremaining: 175ms\n",
      "3:\tlearn: 2638.6705074\ttotal: 94.3ms\tremaining: 141ms\n",
      "4:\tlearn: 2510.9749991\ttotal: 112ms\tremaining: 112ms\n",
      "5:\tlearn: 2398.7662089\ttotal: 130ms\tremaining: 86.8ms\n",
      "6:\tlearn: 2348.8317806\ttotal: 148ms\tremaining: 63.5ms\n",
      "7:\tlearn: 2285.4606911\ttotal: 167ms\tremaining: 41.6ms\n",
      "8:\tlearn: 2236.7932663\ttotal: 185ms\tremaining: 20.5ms\n",
      "9:\tlearn: 2214.3293405\ttotal: 201ms\tremaining: 0us\n",
      "Learning rate set to 0.5\n",
      "0:\tlearn: 3550.9725102\ttotal: 23.5ms\tremaining: 212ms\n",
      "1:\tlearn: 3167.8249044\ttotal: 47ms\tremaining: 188ms\n",
      "2:\tlearn: 2869.7979763\ttotal: 70.1ms\tremaining: 164ms\n",
      "3:\tlearn: 2655.6844302\ttotal: 87.7ms\tremaining: 132ms\n",
      "4:\tlearn: 2541.3871698\ttotal: 106ms\tremaining: 106ms\n",
      "5:\tlearn: 2429.1770607\ttotal: 126ms\tremaining: 84.1ms\n",
      "6:\tlearn: 2376.8313685\ttotal: 144ms\tremaining: 61.7ms\n",
      "7:\tlearn: 2306.3753579\ttotal: 162ms\tremaining: 40.4ms\n",
      "8:\tlearn: 2274.9566526\ttotal: 180ms\tremaining: 19.9ms\n",
      "9:\tlearn: 2240.5977483\ttotal: 198ms\tremaining: 0us\n",
      "Learning rate set to 0.5\n",
      "0:\tlearn: 3535.4878688\ttotal: 27.9ms\tremaining: 391ms\n",
      "1:\tlearn: 3117.5159987\ttotal: 62.3ms\tremaining: 405ms\n",
      "2:\tlearn: 2828.8673293\ttotal: 94.3ms\tremaining: 377ms\n",
      "3:\tlearn: 2638.6705074\ttotal: 120ms\tremaining: 331ms\n",
      "4:\tlearn: 2510.9749991\ttotal: 144ms\tremaining: 289ms\n",
      "5:\tlearn: 2398.7662089\ttotal: 169ms\tremaining: 254ms\n",
      "6:\tlearn: 2348.8317806\ttotal: 195ms\tremaining: 223ms\n",
      "7:\tlearn: 2285.4606911\ttotal: 221ms\tremaining: 193ms\n",
      "8:\tlearn: 2236.7932663\ttotal: 246ms\tremaining: 164ms\n",
      "9:\tlearn: 2214.3293405\ttotal: 269ms\tremaining: 135ms\n",
      "10:\tlearn: 2178.4513574\ttotal: 297ms\tremaining: 108ms\n",
      "11:\tlearn: 2147.3887832\ttotal: 324ms\tremaining: 80.9ms\n",
      "12:\tlearn: 2133.2817194\ttotal: 351ms\tremaining: 54ms\n",
      "13:\tlearn: 2119.8055257\ttotal: 375ms\tremaining: 26.8ms\n",
      "14:\tlearn: 2104.2993306\ttotal: 397ms\tremaining: 0us\n",
      "Learning rate set to 0.5\n",
      "0:\tlearn: 3550.9725102\ttotal: 41.2ms\tremaining: 576ms\n",
      "1:\tlearn: 3167.8249044\ttotal: 80.8ms\tremaining: 525ms\n",
      "2:\tlearn: 2869.7979763\ttotal: 122ms\tremaining: 488ms\n",
      "3:\tlearn: 2655.6844302\ttotal: 151ms\tremaining: 415ms\n",
      "4:\tlearn: 2541.3871698\ttotal: 169ms\tremaining: 339ms\n",
      "5:\tlearn: 2429.1770607\ttotal: 190ms\tremaining: 285ms\n",
      "6:\tlearn: 2376.8313685\ttotal: 209ms\tremaining: 239ms\n",
      "7:\tlearn: 2306.3753579\ttotal: 227ms\tremaining: 199ms\n",
      "8:\tlearn: 2274.9566526\ttotal: 248ms\tremaining: 165ms\n",
      "9:\tlearn: 2240.5977483\ttotal: 266ms\tremaining: 133ms\n",
      "10:\tlearn: 2211.0237463\ttotal: 289ms\tremaining: 105ms\n",
      "11:\tlearn: 2179.5937111\ttotal: 312ms\tremaining: 78.1ms\n",
      "12:\tlearn: 2165.2030856\ttotal: 332ms\tremaining: 51.1ms\n",
      "13:\tlearn: 2151.1176478\ttotal: 351ms\tremaining: 25.1ms\n",
      "14:\tlearn: 2125.2845970\ttotal: 370ms\tremaining: 0us\n",
      "Learning rate set to 0.5\n",
      "0:\tlearn: 3535.4878688\ttotal: 27.5ms\tremaining: 522ms\n",
      "1:\tlearn: 3117.5159987\ttotal: 66.2ms\tremaining: 596ms\n",
      "2:\tlearn: 2828.8673293\ttotal: 94.4ms\tremaining: 535ms\n",
      "3:\tlearn: 2638.6705074\ttotal: 115ms\tremaining: 458ms\n",
      "4:\tlearn: 2510.9749991\ttotal: 133ms\tremaining: 400ms\n",
      "5:\tlearn: 2398.7662089\ttotal: 154ms\tremaining: 359ms\n",
      "6:\tlearn: 2348.8317806\ttotal: 181ms\tremaining: 337ms\n",
      "7:\tlearn: 2285.4606911\ttotal: 212ms\tremaining: 317ms\n",
      "8:\tlearn: 2236.7932663\ttotal: 240ms\tremaining: 294ms\n",
      "9:\tlearn: 2214.3293405\ttotal: 266ms\tremaining: 266ms\n",
      "10:\tlearn: 2178.4513574\ttotal: 285ms\tremaining: 233ms\n",
      "11:\tlearn: 2147.3887832\ttotal: 303ms\tremaining: 202ms\n",
      "12:\tlearn: 2133.2817194\ttotal: 322ms\tremaining: 174ms\n",
      "13:\tlearn: 2119.8055257\ttotal: 341ms\tremaining: 146ms\n",
      "14:\tlearn: 2104.2993306\ttotal: 359ms\tremaining: 120ms\n",
      "15:\tlearn: 2082.4783289\ttotal: 377ms\tremaining: 94.3ms\n",
      "16:\tlearn: 2070.3291813\ttotal: 396ms\tremaining: 69.8ms\n",
      "17:\tlearn: 2062.0889222\ttotal: 415ms\tremaining: 46.1ms\n",
      "18:\tlearn: 2047.7431812\ttotal: 434ms\tremaining: 22.8ms\n",
      "19:\tlearn: 2033.2763303\ttotal: 452ms\tremaining: 0us\n",
      "Learning rate set to 0.5\n",
      "0:\tlearn: 3550.9725102\ttotal: 25.1ms\tremaining: 476ms\n",
      "1:\tlearn: 3167.8249044\ttotal: 49.6ms\tremaining: 446ms\n",
      "2:\tlearn: 2869.7979763\ttotal: 74.5ms\tremaining: 422ms\n",
      "3:\tlearn: 2655.6844302\ttotal: 93ms\tremaining: 372ms\n",
      "4:\tlearn: 2541.3871698\ttotal: 111ms\tremaining: 334ms\n",
      "5:\tlearn: 2429.1770607\ttotal: 132ms\tremaining: 307ms\n",
      "6:\tlearn: 2376.8313685\ttotal: 150ms\tremaining: 279ms\n",
      "7:\tlearn: 2306.3753579\ttotal: 169ms\tremaining: 253ms\n",
      "8:\tlearn: 2274.9566526\ttotal: 189ms\tremaining: 231ms\n",
      "9:\tlearn: 2240.5977483\ttotal: 208ms\tremaining: 208ms\n",
      "10:\tlearn: 2211.0237463\ttotal: 228ms\tremaining: 186ms\n",
      "11:\tlearn: 2179.5937111\ttotal: 246ms\tremaining: 164ms\n",
      "12:\tlearn: 2165.2030856\ttotal: 263ms\tremaining: 142ms\n",
      "13:\tlearn: 2151.1176478\ttotal: 282ms\tremaining: 121ms\n",
      "14:\tlearn: 2125.2845970\ttotal: 300ms\tremaining: 100ms\n",
      "15:\tlearn: 2111.8540340\ttotal: 321ms\tremaining: 80.2ms\n",
      "16:\tlearn: 2097.0836850\ttotal: 342ms\tremaining: 60.3ms\n",
      "17:\tlearn: 2077.7710701\ttotal: 360ms\tremaining: 40ms\n",
      "18:\tlearn: 2062.4171998\ttotal: 379ms\tremaining: 20ms\n",
      "19:\tlearn: 2048.5994140\ttotal: 397ms\tremaining: 0us\n",
      "Learning rate set to 0.5\n",
      "0:\tlearn: 3327.4895295\ttotal: 57.5ms\tremaining: 230ms\n",
      "1:\tlearn: 2733.3439172\ttotal: 110ms\tremaining: 164ms\n",
      "2:\tlearn: 2437.7739658\ttotal: 140ms\tremaining: 93.5ms\n",
      "3:\tlearn: 2240.3975101\ttotal: 175ms\tremaining: 43.8ms\n",
      "4:\tlearn: 2144.5633503\ttotal: 226ms\tremaining: 0us\n",
      "Learning rate set to 0.5\n",
      "0:\tlearn: 3357.7381449\ttotal: 38.7ms\tremaining: 155ms\n",
      "1:\tlearn: 2727.9277925\ttotal: 70.4ms\tremaining: 106ms\n",
      "2:\tlearn: 2462.7009075\ttotal: 97.8ms\tremaining: 65.2ms\n",
      "3:\tlearn: 2277.3157583\ttotal: 126ms\tremaining: 31.6ms\n",
      "4:\tlearn: 2190.6604475\ttotal: 157ms\tremaining: 0us\n",
      "Learning rate set to 0.5\n",
      "0:\tlearn: 3327.4895295\ttotal: 32.1ms\tremaining: 288ms\n",
      "1:\tlearn: 2733.3439172\ttotal: 63ms\tremaining: 252ms\n",
      "2:\tlearn: 2437.7739658\ttotal: 90.5ms\tremaining: 211ms\n",
      "3:\tlearn: 2240.3975101\ttotal: 118ms\tremaining: 177ms\n",
      "4:\tlearn: 2144.5633503\ttotal: 148ms\tremaining: 148ms\n",
      "5:\tlearn: 2077.2053695\ttotal: 174ms\tremaining: 116ms\n",
      "6:\tlearn: 2036.5547047\ttotal: 201ms\tremaining: 86ms\n",
      "7:\tlearn: 2016.4077719\ttotal: 226ms\tremaining: 56.5ms\n",
      "8:\tlearn: 1992.0927742\ttotal: 254ms\tremaining: 28.3ms\n",
      "9:\tlearn: 1959.8077822\ttotal: 280ms\tremaining: 0us\n",
      "Learning rate set to 0.5\n",
      "0:\tlearn: 3357.7381449\ttotal: 37.4ms\tremaining: 336ms\n",
      "1:\tlearn: 2727.9277925\ttotal: 76.4ms\tremaining: 306ms\n",
      "2:\tlearn: 2462.7009075\ttotal: 107ms\tremaining: 249ms\n",
      "3:\tlearn: 2277.3157583\ttotal: 142ms\tremaining: 213ms\n",
      "4:\tlearn: 2190.6604475\ttotal: 189ms\tremaining: 189ms\n",
      "5:\tlearn: 2131.1939287\ttotal: 231ms\tremaining: 154ms\n",
      "6:\tlearn: 2080.1364326\ttotal: 272ms\tremaining: 116ms\n",
      "7:\tlearn: 2047.7514695\ttotal: 301ms\tremaining: 75.3ms\n",
      "8:\tlearn: 2019.9003193\ttotal: 332ms\tremaining: 36.9ms\n",
      "9:\tlearn: 1989.4637998\ttotal: 359ms\tremaining: 0us\n",
      "Learning rate set to 0.5\n",
      "0:\tlearn: 3327.4895295\ttotal: 50.3ms\tremaining: 704ms\n",
      "1:\tlearn: 2733.3439172\ttotal: 91.4ms\tremaining: 594ms\n",
      "2:\tlearn: 2437.7739658\ttotal: 136ms\tremaining: 544ms\n",
      "3:\tlearn: 2240.3975101\ttotal: 174ms\tremaining: 478ms\n",
      "4:\tlearn: 2144.5633503\ttotal: 217ms\tremaining: 434ms\n",
      "5:\tlearn: 2077.2053695\ttotal: 252ms\tremaining: 378ms\n",
      "6:\tlearn: 2036.5547047\ttotal: 281ms\tremaining: 321ms\n",
      "7:\tlearn: 2016.4077719\ttotal: 307ms\tremaining: 268ms\n",
      "8:\tlearn: 1992.0927742\ttotal: 331ms\tremaining: 221ms\n",
      "9:\tlearn: 1959.8077822\ttotal: 358ms\tremaining: 179ms\n",
      "10:\tlearn: 1946.6927507\ttotal: 386ms\tremaining: 141ms\n",
      "11:\tlearn: 1934.2704393\ttotal: 416ms\tremaining: 104ms\n",
      "12:\tlearn: 1917.8592049\ttotal: 443ms\tremaining: 68.2ms\n",
      "13:\tlearn: 1903.5226248\ttotal: 472ms\tremaining: 33.7ms\n",
      "14:\tlearn: 1892.7134965\ttotal: 498ms\tremaining: 0us\n",
      "Learning rate set to 0.5\n",
      "0:\tlearn: 3357.7381449\ttotal: 33.3ms\tremaining: 466ms\n",
      "1:\tlearn: 2727.9277925\ttotal: 64ms\tremaining: 416ms\n",
      "2:\tlearn: 2462.7009075\ttotal: 92.1ms\tremaining: 368ms\n",
      "3:\tlearn: 2277.3157583\ttotal: 123ms\tremaining: 337ms\n",
      "4:\tlearn: 2190.6604475\ttotal: 155ms\tremaining: 311ms\n",
      "5:\tlearn: 2131.1939287\ttotal: 188ms\tremaining: 281ms\n",
      "6:\tlearn: 2080.1364326\ttotal: 214ms\tremaining: 245ms\n",
      "7:\tlearn: 2047.7514695\ttotal: 242ms\tremaining: 212ms\n",
      "8:\tlearn: 2019.9003193\ttotal: 269ms\tremaining: 179ms\n",
      "9:\tlearn: 1989.4637998\ttotal: 295ms\tremaining: 148ms\n",
      "10:\tlearn: 1972.6076466\ttotal: 323ms\tremaining: 118ms\n",
      "11:\tlearn: 1954.9245388\ttotal: 350ms\tremaining: 87.4ms\n",
      "12:\tlearn: 1940.4309366\ttotal: 376ms\tremaining: 57.9ms\n",
      "13:\tlearn: 1933.6190538\ttotal: 402ms\tremaining: 28.7ms\n",
      "14:\tlearn: 1920.2649130\ttotal: 430ms\tremaining: 0us\n",
      "Learning rate set to 0.5\n",
      "0:\tlearn: 3327.4895295\ttotal: 38.5ms\tremaining: 731ms\n",
      "1:\tlearn: 2733.3439172\ttotal: 71ms\tremaining: 639ms\n",
      "2:\tlearn: 2437.7739658\ttotal: 100ms\tremaining: 569ms\n",
      "3:\tlearn: 2240.3975101\ttotal: 129ms\tremaining: 517ms\n",
      "4:\tlearn: 2144.5633503\ttotal: 158ms\tremaining: 475ms\n",
      "5:\tlearn: 2077.2053695\ttotal: 185ms\tremaining: 432ms\n",
      "6:\tlearn: 2036.5547047\ttotal: 212ms\tremaining: 393ms\n",
      "7:\tlearn: 2016.4077719\ttotal: 238ms\tremaining: 358ms\n",
      "8:\tlearn: 1992.0927742\ttotal: 263ms\tremaining: 322ms\n",
      "9:\tlearn: 1959.8077822\ttotal: 288ms\tremaining: 288ms\n",
      "10:\tlearn: 1946.6927507\ttotal: 315ms\tremaining: 258ms\n",
      "11:\tlearn: 1934.2704393\ttotal: 345ms\tremaining: 230ms\n",
      "12:\tlearn: 1917.8592049\ttotal: 376ms\tremaining: 203ms\n",
      "13:\tlearn: 1903.5226248\ttotal: 414ms\tremaining: 177ms\n",
      "14:\tlearn: 1892.7134965\ttotal: 449ms\tremaining: 150ms\n",
      "15:\tlearn: 1883.2125416\ttotal: 478ms\tremaining: 120ms\n",
      "16:\tlearn: 1875.4857197\ttotal: 513ms\tremaining: 90.5ms\n",
      "17:\tlearn: 1861.7171688\ttotal: 537ms\tremaining: 59.7ms\n",
      "18:\tlearn: 1853.4741503\ttotal: 563ms\tremaining: 29.7ms\n",
      "19:\tlearn: 1843.5317507\ttotal: 589ms\tremaining: 0us\n",
      "Learning rate set to 0.5\n",
      "0:\tlearn: 3357.7381449\ttotal: 31.6ms\tremaining: 601ms\n",
      "1:\tlearn: 2727.9277925\ttotal: 63.5ms\tremaining: 571ms\n",
      "2:\tlearn: 2462.7009075\ttotal: 91.8ms\tremaining: 520ms\n",
      "3:\tlearn: 2277.3157583\ttotal: 120ms\tremaining: 479ms\n",
      "4:\tlearn: 2190.6604475\ttotal: 152ms\tremaining: 457ms\n",
      "5:\tlearn: 2131.1939287\ttotal: 182ms\tremaining: 424ms\n",
      "6:\tlearn: 2080.1364326\ttotal: 207ms\tremaining: 385ms\n",
      "7:\tlearn: 2047.7514695\ttotal: 234ms\tremaining: 352ms\n",
      "8:\tlearn: 2019.9003193\ttotal: 261ms\tremaining: 320ms\n",
      "9:\tlearn: 1989.4637998\ttotal: 287ms\tremaining: 287ms\n",
      "10:\tlearn: 1972.6076466\ttotal: 316ms\tremaining: 259ms\n",
      "11:\tlearn: 1954.9245388\ttotal: 344ms\tremaining: 230ms\n",
      "12:\tlearn: 1940.4309366\ttotal: 385ms\tremaining: 207ms\n",
      "13:\tlearn: 1933.6190538\ttotal: 410ms\tremaining: 176ms\n",
      "14:\tlearn: 1920.2649130\ttotal: 436ms\tremaining: 145ms\n",
      "15:\tlearn: 1911.8633844\ttotal: 463ms\tremaining: 116ms\n",
      "16:\tlearn: 1905.2738127\ttotal: 492ms\tremaining: 86.9ms\n",
      "17:\tlearn: 1893.7082597\ttotal: 519ms\tremaining: 57.7ms\n",
      "18:\tlearn: 1885.6217174\ttotal: 545ms\tremaining: 28.7ms\n",
      "19:\tlearn: 1879.6069612\ttotal: 570ms\tremaining: 0us\n",
      "Learning rate set to 0.5\n",
      "0:\tlearn: 3216.9124926\ttotal: 60.7ms\tremaining: 243ms\n",
      "1:\tlearn: 2571.0826353\ttotal: 120ms\tremaining: 179ms\n",
      "2:\tlearn: 2238.8353015\ttotal: 183ms\tremaining: 122ms\n",
      "3:\tlearn: 2081.8428881\ttotal: 238ms\tremaining: 59.5ms\n",
      "4:\tlearn: 1999.9203187\ttotal: 287ms\tremaining: 0us\n",
      "Learning rate set to 0.5\n",
      "0:\tlearn: 3206.9991686\ttotal: 44.6ms\tremaining: 179ms\n",
      "1:\tlearn: 2553.3753549\ttotal: 83ms\tremaining: 124ms\n",
      "2:\tlearn: 2245.0921383\ttotal: 132ms\tremaining: 88ms\n",
      "3:\tlearn: 2112.1327614\ttotal: 174ms\tremaining: 43.6ms\n",
      "4:\tlearn: 2021.6543220\ttotal: 207ms\tremaining: 0us\n",
      "Learning rate set to 0.5\n",
      "0:\tlearn: 3216.9124926\ttotal: 42.1ms\tremaining: 379ms\n",
      "1:\tlearn: 2571.0826353\ttotal: 77.8ms\tremaining: 311ms\n",
      "2:\tlearn: 2238.8353015\ttotal: 116ms\tremaining: 271ms\n",
      "3:\tlearn: 2081.8428881\ttotal: 149ms\tremaining: 224ms\n",
      "4:\tlearn: 1999.9203187\ttotal: 182ms\tremaining: 182ms\n",
      "5:\tlearn: 1948.8971397\ttotal: 223ms\tremaining: 149ms\n",
      "6:\tlearn: 1920.4045657\ttotal: 258ms\tremaining: 111ms\n",
      "7:\tlearn: 1895.6688208\ttotal: 290ms\tremaining: 72.6ms\n",
      "8:\tlearn: 1879.2006991\ttotal: 325ms\tremaining: 36.1ms\n",
      "9:\tlearn: 1858.5886591\ttotal: 366ms\tremaining: 0us\n",
      "Learning rate set to 0.5\n",
      "0:\tlearn: 3206.9991686\ttotal: 39.7ms\tremaining: 358ms\n",
      "1:\tlearn: 2553.3753549\ttotal: 75.7ms\tremaining: 303ms\n",
      "2:\tlearn: 2245.0921383\ttotal: 117ms\tremaining: 273ms\n",
      "3:\tlearn: 2112.1327614\ttotal: 153ms\tremaining: 229ms\n",
      "4:\tlearn: 2021.6543220\ttotal: 189ms\tremaining: 189ms\n",
      "5:\tlearn: 1977.4180029\ttotal: 233ms\tremaining: 155ms\n",
      "6:\tlearn: 1946.4441572\ttotal: 268ms\tremaining: 115ms\n",
      "7:\tlearn: 1920.8849605\ttotal: 301ms\tremaining: 75.3ms\n",
      "8:\tlearn: 1889.6840188\ttotal: 336ms\tremaining: 37.4ms\n",
      "9:\tlearn: 1877.0053961\ttotal: 370ms\tremaining: 0us\n",
      "Learning rate set to 0.5\n",
      "0:\tlearn: 3216.9124926\ttotal: 39.7ms\tremaining: 555ms\n",
      "1:\tlearn: 2571.0826353\ttotal: 75.8ms\tremaining: 493ms\n",
      "2:\tlearn: 2238.8353015\ttotal: 116ms\tremaining: 464ms\n",
      "3:\tlearn: 2081.8428881\ttotal: 149ms\tremaining: 409ms\n",
      "4:\tlearn: 1999.9203187\ttotal: 188ms\tremaining: 376ms\n",
      "5:\tlearn: 1948.8971397\ttotal: 237ms\tremaining: 355ms\n",
      "6:\tlearn: 1920.4045657\ttotal: 291ms\tremaining: 332ms\n",
      "7:\tlearn: 1895.6688208\ttotal: 336ms\tremaining: 294ms\n",
      "8:\tlearn: 1879.2006991\ttotal: 380ms\tremaining: 253ms\n",
      "9:\tlearn: 1858.5886591\ttotal: 416ms\tremaining: 208ms\n",
      "10:\tlearn: 1840.2990525\ttotal: 451ms\tremaining: 164ms\n",
      "11:\tlearn: 1827.3714964\ttotal: 492ms\tremaining: 123ms\n",
      "12:\tlearn: 1817.2641321\ttotal: 534ms\tremaining: 82.2ms\n",
      "13:\tlearn: 1807.6949981\ttotal: 574ms\tremaining: 41ms\n",
      "14:\tlearn: 1798.5219746\ttotal: 611ms\tremaining: 0us\n",
      "Learning rate set to 0.5\n",
      "0:\tlearn: 3206.9991686\ttotal: 40.5ms\tremaining: 567ms\n",
      "1:\tlearn: 2553.3753549\ttotal: 76ms\tremaining: 494ms\n",
      "2:\tlearn: 2245.0921383\ttotal: 129ms\tremaining: 518ms\n",
      "3:\tlearn: 2112.1327614\ttotal: 166ms\tremaining: 456ms\n",
      "4:\tlearn: 2021.6543220\ttotal: 199ms\tremaining: 398ms\n",
      "5:\tlearn: 1977.4180029\ttotal: 234ms\tremaining: 351ms\n",
      "6:\tlearn: 1946.4441572\ttotal: 283ms\tremaining: 323ms\n",
      "7:\tlearn: 1920.8849605\ttotal: 332ms\tremaining: 291ms\n",
      "8:\tlearn: 1889.6840188\ttotal: 389ms\tremaining: 259ms\n",
      "9:\tlearn: 1877.0053961\ttotal: 429ms\tremaining: 215ms\n",
      "10:\tlearn: 1855.4883240\ttotal: 464ms\tremaining: 169ms\n",
      "11:\tlearn: 1843.0532388\ttotal: 499ms\tremaining: 125ms\n",
      "12:\tlearn: 1833.2245653\ttotal: 535ms\tremaining: 82.3ms\n",
      "13:\tlearn: 1825.1562041\ttotal: 572ms\tremaining: 40.9ms\n",
      "14:\tlearn: 1813.8362962\ttotal: 622ms\tremaining: 0us\n",
      "Learning rate set to 0.5\n",
      "0:\tlearn: 3216.9124926\ttotal: 65.6ms\tremaining: 1.25s\n",
      "1:\tlearn: 2571.0826353\ttotal: 104ms\tremaining: 933ms\n",
      "2:\tlearn: 2238.8353015\ttotal: 147ms\tremaining: 832ms\n",
      "3:\tlearn: 2081.8428881\ttotal: 206ms\tremaining: 825ms\n",
      "4:\tlearn: 1999.9203187\ttotal: 241ms\tremaining: 722ms\n",
      "5:\tlearn: 1948.8971397\ttotal: 287ms\tremaining: 670ms\n",
      "6:\tlearn: 1920.4045657\ttotal: 332ms\tremaining: 616ms\n",
      "7:\tlearn: 1895.6688208\ttotal: 369ms\tremaining: 554ms\n",
      "8:\tlearn: 1879.2006991\ttotal: 406ms\tremaining: 496ms\n",
      "9:\tlearn: 1858.5886591\ttotal: 442ms\tremaining: 442ms\n",
      "10:\tlearn: 1840.2990525\ttotal: 483ms\tremaining: 395ms\n",
      "11:\tlearn: 1827.3714964\ttotal: 520ms\tremaining: 347ms\n",
      "12:\tlearn: 1817.2641321\ttotal: 556ms\tremaining: 299ms\n",
      "13:\tlearn: 1807.6949981\ttotal: 591ms\tremaining: 253ms\n",
      "14:\tlearn: 1798.5219746\ttotal: 626ms\tremaining: 209ms\n",
      "15:\tlearn: 1784.4554257\ttotal: 670ms\tremaining: 168ms\n",
      "16:\tlearn: 1775.6278216\ttotal: 711ms\tremaining: 125ms\n",
      "17:\tlearn: 1762.8524137\ttotal: 749ms\tremaining: 83.2ms\n",
      "18:\tlearn: 1757.1242543\ttotal: 783ms\tremaining: 41.2ms\n",
      "19:\tlearn: 1751.2179126\ttotal: 821ms\tremaining: 0us\n",
      "Learning rate set to 0.5\n",
      "0:\tlearn: 3206.9991686\ttotal: 68.1ms\tremaining: 1.29s\n",
      "1:\tlearn: 2553.3753549\ttotal: 133ms\tremaining: 1.2s\n",
      "2:\tlearn: 2245.0921383\ttotal: 199ms\tremaining: 1.13s\n",
      "3:\tlearn: 2112.1327614\ttotal: 259ms\tremaining: 1.03s\n",
      "4:\tlearn: 2021.6543220\ttotal: 317ms\tremaining: 952ms\n",
      "5:\tlearn: 1977.4180029\ttotal: 378ms\tremaining: 882ms\n",
      "6:\tlearn: 1946.4441572\ttotal: 415ms\tremaining: 770ms\n",
      "7:\tlearn: 1920.8849605\ttotal: 447ms\tremaining: 670ms\n",
      "8:\tlearn: 1889.6840188\ttotal: 482ms\tremaining: 589ms\n",
      "9:\tlearn: 1877.0053961\ttotal: 516ms\tremaining: 516ms\n",
      "10:\tlearn: 1855.4883240\ttotal: 549ms\tremaining: 449ms\n",
      "11:\tlearn: 1843.0532388\ttotal: 585ms\tremaining: 390ms\n",
      "12:\tlearn: 1833.2245653\ttotal: 620ms\tremaining: 334ms\n",
      "13:\tlearn: 1825.1562041\ttotal: 653ms\tremaining: 280ms\n",
      "14:\tlearn: 1813.8362962\ttotal: 695ms\tremaining: 232ms\n",
      "15:\tlearn: 1800.9734517\ttotal: 738ms\tremaining: 185ms\n",
      "16:\tlearn: 1794.6541865\ttotal: 772ms\tremaining: 136ms\n",
      "17:\tlearn: 1787.7908756\ttotal: 806ms\tremaining: 89.6ms\n",
      "18:\tlearn: 1781.8418227\ttotal: 837ms\tremaining: 44.1ms\n",
      "19:\tlearn: 1775.2383890\ttotal: 870ms\tremaining: 0us\n",
      "Learning rate set to 0.5\n",
      "0:\tlearn: 3099.1394740\ttotal: 54.1ms\tremaining: 217ms\n",
      "1:\tlearn: 2460.6476526\ttotal: 119ms\tremaining: 179ms\n",
      "2:\tlearn: 2150.7714684\ttotal: 176ms\tremaining: 117ms\n",
      "3:\tlearn: 1974.5636939\ttotal: 235ms\tremaining: 58.8ms\n",
      "4:\tlearn: 1905.6236697\ttotal: 284ms\tremaining: 0us\n",
      "Learning rate set to 0.5\n",
      "0:\tlearn: 3098.3882070\ttotal: 65.6ms\tremaining: 262ms\n",
      "1:\tlearn: 2473.1774061\ttotal: 117ms\tremaining: 175ms\n",
      "2:\tlearn: 2175.2075403\ttotal: 164ms\tremaining: 109ms\n",
      "3:\tlearn: 2023.1930710\ttotal: 211ms\tremaining: 52.6ms\n",
      "4:\tlearn: 1952.7706158\ttotal: 256ms\tremaining: 0us\n",
      "Learning rate set to 0.5\n",
      "0:\tlearn: 3099.1394740\ttotal: 49.1ms\tremaining: 442ms\n",
      "1:\tlearn: 2460.6476526\ttotal: 102ms\tremaining: 409ms\n",
      "2:\tlearn: 2150.7714684\ttotal: 145ms\tremaining: 339ms\n",
      "3:\tlearn: 1974.5636939\ttotal: 190ms\tremaining: 285ms\n",
      "4:\tlearn: 1905.6236697\ttotal: 247ms\tremaining: 247ms\n",
      "5:\tlearn: 1863.1779965\ttotal: 296ms\tremaining: 198ms\n",
      "6:\tlearn: 1823.7820691\ttotal: 341ms\tremaining: 146ms\n",
      "7:\tlearn: 1804.5822540\ttotal: 403ms\tremaining: 101ms\n",
      "8:\tlearn: 1788.6266904\ttotal: 447ms\tremaining: 49.6ms\n",
      "9:\tlearn: 1771.3124903\ttotal: 491ms\tremaining: 0us\n",
      "Learning rate set to 0.5\n",
      "0:\tlearn: 3098.3882070\ttotal: 47.7ms\tremaining: 429ms\n",
      "1:\tlearn: 2473.1774061\ttotal: 95.7ms\tremaining: 383ms\n",
      "2:\tlearn: 2175.2075403\ttotal: 139ms\tremaining: 325ms\n",
      "3:\tlearn: 2023.1930710\ttotal: 185ms\tremaining: 278ms\n",
      "4:\tlearn: 1952.7706158\ttotal: 229ms\tremaining: 229ms\n",
      "5:\tlearn: 1901.3229313\ttotal: 287ms\tremaining: 191ms\n",
      "6:\tlearn: 1871.9113005\ttotal: 333ms\tremaining: 143ms\n",
      "7:\tlearn: 1853.2716344\ttotal: 375ms\tremaining: 93.8ms\n",
      "8:\tlearn: 1833.9452549\ttotal: 419ms\tremaining: 46.5ms\n",
      "9:\tlearn: 1813.9886525\ttotal: 462ms\tremaining: 0us\n",
      "Learning rate set to 0.5\n",
      "0:\tlearn: 3099.1394740\ttotal: 49.4ms\tremaining: 691ms\n",
      "1:\tlearn: 2460.6476526\ttotal: 109ms\tremaining: 707ms\n",
      "2:\tlearn: 2150.7714684\ttotal: 152ms\tremaining: 610ms\n",
      "3:\tlearn: 1974.5636939\ttotal: 198ms\tremaining: 544ms\n",
      "4:\tlearn: 1905.6236697\ttotal: 239ms\tremaining: 478ms\n",
      "5:\tlearn: 1863.1779965\ttotal: 290ms\tremaining: 435ms\n",
      "6:\tlearn: 1823.7820691\ttotal: 346ms\tremaining: 396ms\n",
      "7:\tlearn: 1804.5822540\ttotal: 406ms\tremaining: 356ms\n",
      "8:\tlearn: 1788.6266904\ttotal: 469ms\tremaining: 313ms\n",
      "9:\tlearn: 1771.3124903\ttotal: 510ms\tremaining: 255ms\n",
      "10:\tlearn: 1757.9390697\ttotal: 554ms\tremaining: 202ms\n",
      "11:\tlearn: 1745.0643007\ttotal: 597ms\tremaining: 149ms\n",
      "12:\tlearn: 1735.6561661\ttotal: 640ms\tremaining: 98.5ms\n",
      "13:\tlearn: 1719.6488716\ttotal: 682ms\tremaining: 48.7ms\n",
      "14:\tlearn: 1708.7741666\ttotal: 722ms\tremaining: 0us\n",
      "Learning rate set to 0.5\n",
      "0:\tlearn: 3098.3882070\ttotal: 61.6ms\tremaining: 863ms\n",
      "1:\tlearn: 2473.1774061\ttotal: 115ms\tremaining: 747ms\n",
      "2:\tlearn: 2175.2075403\ttotal: 160ms\tremaining: 640ms\n",
      "3:\tlearn: 2023.1930710\ttotal: 206ms\tremaining: 567ms\n",
      "4:\tlearn: 1952.7706158\ttotal: 253ms\tremaining: 507ms\n",
      "5:\tlearn: 1901.3229313\ttotal: 300ms\tremaining: 450ms\n",
      "6:\tlearn: 1871.9113005\ttotal: 348ms\tremaining: 398ms\n",
      "7:\tlearn: 1853.2716344\ttotal: 394ms\tremaining: 345ms\n",
      "8:\tlearn: 1833.9452549\ttotal: 440ms\tremaining: 293ms\n",
      "9:\tlearn: 1813.9886525\ttotal: 510ms\tremaining: 255ms\n",
      "10:\tlearn: 1801.0864912\ttotal: 553ms\tremaining: 201ms\n",
      "11:\tlearn: 1785.6159567\ttotal: 599ms\tremaining: 150ms\n",
      "12:\tlearn: 1778.4810710\ttotal: 642ms\tremaining: 98.7ms\n",
      "13:\tlearn: 1767.9153447\ttotal: 684ms\tremaining: 48.8ms\n",
      "14:\tlearn: 1749.0976163\ttotal: 729ms\tremaining: 0us\n",
      "Learning rate set to 0.5\n",
      "0:\tlearn: 3099.1394740\ttotal: 49ms\tremaining: 931ms\n",
      "1:\tlearn: 2460.6476526\ttotal: 102ms\tremaining: 922ms\n",
      "2:\tlearn: 2150.7714684\ttotal: 146ms\tremaining: 825ms\n",
      "3:\tlearn: 1974.5636939\ttotal: 191ms\tremaining: 763ms\n",
      "4:\tlearn: 1905.6236697\ttotal: 231ms\tremaining: 693ms\n",
      "5:\tlearn: 1863.1779965\ttotal: 279ms\tremaining: 650ms\n",
      "6:\tlearn: 1823.7820691\ttotal: 331ms\tremaining: 614ms\n",
      "7:\tlearn: 1804.5822540\ttotal: 387ms\tremaining: 580ms\n",
      "8:\tlearn: 1788.6266904\ttotal: 430ms\tremaining: 525ms\n",
      "9:\tlearn: 1771.3124903\ttotal: 474ms\tremaining: 474ms\n",
      "10:\tlearn: 1757.9390697\ttotal: 521ms\tremaining: 426ms\n",
      "11:\tlearn: 1745.0643007\ttotal: 563ms\tremaining: 375ms\n",
      "12:\tlearn: 1735.6561661\ttotal: 613ms\tremaining: 330ms\n",
      "13:\tlearn: 1719.6488716\ttotal: 656ms\tremaining: 281ms\n",
      "14:\tlearn: 1708.7741666\ttotal: 699ms\tremaining: 233ms\n",
      "15:\tlearn: 1701.1510325\ttotal: 740ms\tremaining: 185ms\n",
      "16:\tlearn: 1694.8493659\ttotal: 783ms\tremaining: 138ms\n",
      "17:\tlearn: 1686.6655307\ttotal: 849ms\tremaining: 94.3ms\n",
      "18:\tlearn: 1675.1181980\ttotal: 893ms\tremaining: 47ms\n",
      "19:\tlearn: 1670.6342968\ttotal: 936ms\tremaining: 0us\n",
      "Learning rate set to 0.5\n",
      "0:\tlearn: 3098.3882070\ttotal: 53.1ms\tremaining: 1.01s\n",
      "1:\tlearn: 2473.1774061\ttotal: 111ms\tremaining: 998ms\n",
      "2:\tlearn: 2175.2075403\ttotal: 158ms\tremaining: 894ms\n",
      "3:\tlearn: 2023.1930710\ttotal: 205ms\tremaining: 822ms\n",
      "4:\tlearn: 1952.7706158\ttotal: 251ms\tremaining: 752ms\n",
      "5:\tlearn: 1901.3229313\ttotal: 295ms\tremaining: 689ms\n",
      "6:\tlearn: 1871.9113005\ttotal: 343ms\tremaining: 638ms\n",
      "7:\tlearn: 1853.2716344\ttotal: 387ms\tremaining: 580ms\n",
      "8:\tlearn: 1833.9452549\ttotal: 435ms\tremaining: 531ms\n",
      "9:\tlearn: 1813.9886525\ttotal: 515ms\tremaining: 515ms\n",
      "10:\tlearn: 1801.0864912\ttotal: 570ms\tremaining: 466ms\n",
      "11:\tlearn: 1785.6159567\ttotal: 619ms\tremaining: 413ms\n",
      "12:\tlearn: 1778.4810710\ttotal: 664ms\tremaining: 357ms\n",
      "13:\tlearn: 1767.9153447\ttotal: 709ms\tremaining: 304ms\n",
      "14:\tlearn: 1749.0976163\ttotal: 757ms\tremaining: 252ms\n",
      "15:\tlearn: 1732.3890585\ttotal: 800ms\tremaining: 200ms\n",
      "16:\tlearn: 1715.6589533\ttotal: 844ms\tremaining: 149ms\n",
      "17:\tlearn: 1709.8053039\ttotal: 885ms\tremaining: 98.4ms\n",
      "18:\tlearn: 1703.4543043\ttotal: 932ms\tremaining: 49.1ms\n",
      "19:\tlearn: 1698.5640878\ttotal: 986ms\tremaining: 0us\n",
      "Learning rate set to 0.5\n",
      "0:\tlearn: 3039.8438290\ttotal: 68.6ms\tremaining: 274ms\n",
      "1:\tlearn: 2389.3067915\ttotal: 136ms\tremaining: 205ms\n",
      "2:\tlearn: 2072.0911024\ttotal: 202ms\tremaining: 135ms\n",
      "3:\tlearn: 1905.6349782\ttotal: 260ms\tremaining: 65ms\n",
      "4:\tlearn: 1819.8826295\ttotal: 317ms\tremaining: 0us\n",
      "Learning rate set to 0.5\n",
      "0:\tlearn: 3060.5400714\ttotal: 65.9ms\tremaining: 264ms\n",
      "1:\tlearn: 2414.0168944\ttotal: 132ms\tremaining: 199ms\n",
      "2:\tlearn: 2087.3271074\ttotal: 200ms\tremaining: 133ms\n",
      "3:\tlearn: 1932.3637722\ttotal: 273ms\tremaining: 68.3ms\n",
      "4:\tlearn: 1858.9743212\ttotal: 344ms\tremaining: 0us\n",
      "Learning rate set to 0.5\n",
      "0:\tlearn: 3039.8438290\ttotal: 68.2ms\tremaining: 614ms\n",
      "1:\tlearn: 2389.3067915\ttotal: 154ms\tremaining: 618ms\n",
      "2:\tlearn: 2072.0911024\ttotal: 237ms\tremaining: 553ms\n",
      "3:\tlearn: 1905.6349782\ttotal: 337ms\tremaining: 506ms\n",
      "4:\tlearn: 1819.8826295\ttotal: 403ms\tremaining: 403ms\n",
      "5:\tlearn: 1775.2669549\ttotal: 462ms\tremaining: 308ms\n",
      "6:\tlearn: 1746.7753000\ttotal: 521ms\tremaining: 223ms\n",
      "7:\tlearn: 1732.3045737\ttotal: 596ms\tremaining: 149ms\n",
      "8:\tlearn: 1708.0141805\ttotal: 668ms\tremaining: 74.2ms\n",
      "9:\tlearn: 1694.6911927\ttotal: 723ms\tremaining: 0us\n",
      "Learning rate set to 0.5\n",
      "0:\tlearn: 3060.5400714\ttotal: 81.9ms\tremaining: 737ms\n",
      "1:\tlearn: 2414.0168944\ttotal: 149ms\tremaining: 597ms\n",
      "2:\tlearn: 2087.3271074\ttotal: 216ms\tremaining: 504ms\n",
      "3:\tlearn: 1932.3637722\ttotal: 274ms\tremaining: 410ms\n",
      "4:\tlearn: 1858.9743212\ttotal: 333ms\tremaining: 333ms\n",
      "5:\tlearn: 1817.2241678\ttotal: 391ms\tremaining: 260ms\n",
      "6:\tlearn: 1789.8985399\ttotal: 454ms\tremaining: 194ms\n",
      "7:\tlearn: 1757.3679902\ttotal: 511ms\tremaining: 128ms\n",
      "8:\tlearn: 1743.5395790\ttotal: 572ms\tremaining: 63.6ms\n",
      "9:\tlearn: 1724.5975144\ttotal: 636ms\tremaining: 0us\n",
      "Learning rate set to 0.5\n",
      "0:\tlearn: 3039.8438290\ttotal: 78.2ms\tremaining: 1.09s\n",
      "1:\tlearn: 2389.3067915\ttotal: 153ms\tremaining: 994ms\n",
      "2:\tlearn: 2072.0911024\ttotal: 217ms\tremaining: 869ms\n",
      "3:\tlearn: 1905.6349782\ttotal: 277ms\tremaining: 763ms\n",
      "4:\tlearn: 1819.8826295\ttotal: 340ms\tremaining: 681ms\n",
      "5:\tlearn: 1775.2669549\ttotal: 400ms\tremaining: 600ms\n",
      "6:\tlearn: 1746.7753000\ttotal: 459ms\tremaining: 525ms\n",
      "7:\tlearn: 1732.3045737\ttotal: 519ms\tremaining: 454ms\n",
      "8:\tlearn: 1708.0141805\ttotal: 575ms\tremaining: 383ms\n",
      "9:\tlearn: 1694.6911927\ttotal: 631ms\tremaining: 315ms\n",
      "10:\tlearn: 1683.1700630\ttotal: 686ms\tremaining: 250ms\n",
      "11:\tlearn: 1668.4264364\ttotal: 740ms\tremaining: 185ms\n",
      "12:\tlearn: 1662.0037649\ttotal: 801ms\tremaining: 123ms\n",
      "13:\tlearn: 1648.3592672\ttotal: 857ms\tremaining: 61.2ms\n",
      "14:\tlearn: 1633.8044588\ttotal: 920ms\tremaining: 0us\n",
      "Learning rate set to 0.5\n",
      "0:\tlearn: 3060.5400714\ttotal: 71.7ms\tremaining: 1s\n",
      "1:\tlearn: 2414.0168944\ttotal: 149ms\tremaining: 971ms\n",
      "2:\tlearn: 2087.3271074\ttotal: 222ms\tremaining: 889ms\n",
      "3:\tlearn: 1932.3637722\ttotal: 286ms\tremaining: 786ms\n",
      "4:\tlearn: 1858.9743212\ttotal: 346ms\tremaining: 691ms\n",
      "5:\tlearn: 1817.2241678\ttotal: 403ms\tremaining: 604ms\n",
      "6:\tlearn: 1789.8985399\ttotal: 466ms\tremaining: 532ms\n",
      "7:\tlearn: 1757.3679902\ttotal: 524ms\tremaining: 458ms\n",
      "8:\tlearn: 1743.5395790\ttotal: 586ms\tremaining: 391ms\n",
      "9:\tlearn: 1724.5975144\ttotal: 651ms\tremaining: 326ms\n",
      "10:\tlearn: 1708.7102015\ttotal: 710ms\tremaining: 258ms\n",
      "11:\tlearn: 1687.9886364\ttotal: 768ms\tremaining: 192ms\n",
      "12:\tlearn: 1678.1146815\ttotal: 825ms\tremaining: 127ms\n",
      "13:\tlearn: 1663.8112872\ttotal: 883ms\tremaining: 63.1ms\n",
      "14:\tlearn: 1654.0843709\ttotal: 938ms\tremaining: 0us\n",
      "Learning rate set to 0.5\n",
      "0:\tlearn: 3039.8438290\ttotal: 111ms\tremaining: 2.12s\n",
      "1:\tlearn: 2389.3067915\ttotal: 216ms\tremaining: 1.94s\n",
      "2:\tlearn: 2072.0911024\ttotal: 283ms\tremaining: 1.6s\n",
      "3:\tlearn: 1905.6349782\ttotal: 343ms\tremaining: 1.37s\n",
      "4:\tlearn: 1819.8826295\ttotal: 405ms\tremaining: 1.21s\n",
      "5:\tlearn: 1775.2669549\ttotal: 462ms\tremaining: 1.08s\n",
      "6:\tlearn: 1746.7753000\ttotal: 536ms\tremaining: 996ms\n",
      "7:\tlearn: 1732.3045737\ttotal: 604ms\tremaining: 906ms\n",
      "8:\tlearn: 1708.0141805\ttotal: 666ms\tremaining: 814ms\n",
      "9:\tlearn: 1694.6911927\ttotal: 743ms\tremaining: 743ms\n",
      "10:\tlearn: 1683.1700630\ttotal: 818ms\tremaining: 669ms\n",
      "11:\tlearn: 1668.4264364\ttotal: 875ms\tremaining: 583ms\n",
      "12:\tlearn: 1662.0037649\ttotal: 939ms\tremaining: 506ms\n",
      "13:\tlearn: 1648.3592672\ttotal: 997ms\tremaining: 427ms\n",
      "14:\tlearn: 1633.8044588\ttotal: 1.05s\tremaining: 351ms\n",
      "15:\tlearn: 1622.7856271\ttotal: 1.11s\tremaining: 279ms\n",
      "16:\tlearn: 1612.6057256\ttotal: 1.17s\tremaining: 207ms\n",
      "17:\tlearn: 1600.8722178\ttotal: 1.26s\tremaining: 140ms\n",
      "18:\tlearn: 1588.7472944\ttotal: 1.35s\tremaining: 71.1ms\n",
      "19:\tlearn: 1582.9703327\ttotal: 1.41s\tremaining: 0us\n",
      "Learning rate set to 0.5\n",
      "0:\tlearn: 3060.5400714\ttotal: 66.6ms\tremaining: 1.26s\n",
      "1:\tlearn: 2414.0168944\ttotal: 131ms\tremaining: 1.18s\n",
      "2:\tlearn: 2087.3271074\ttotal: 196ms\tremaining: 1.11s\n",
      "3:\tlearn: 1932.3637722\ttotal: 251ms\tremaining: 1s\n",
      "4:\tlearn: 1858.9743212\ttotal: 310ms\tremaining: 929ms\n",
      "5:\tlearn: 1817.2241678\ttotal: 370ms\tremaining: 864ms\n",
      "6:\tlearn: 1789.8985399\ttotal: 430ms\tremaining: 798ms\n",
      "7:\tlearn: 1757.3679902\ttotal: 487ms\tremaining: 730ms\n",
      "8:\tlearn: 1743.5395790\ttotal: 569ms\tremaining: 696ms\n",
      "9:\tlearn: 1724.5975144\ttotal: 644ms\tremaining: 644ms\n",
      "10:\tlearn: 1708.7102015\ttotal: 705ms\tremaining: 577ms\n",
      "11:\tlearn: 1687.9886364\ttotal: 764ms\tremaining: 509ms\n",
      "12:\tlearn: 1678.1146815\ttotal: 822ms\tremaining: 443ms\n",
      "13:\tlearn: 1663.8112872\ttotal: 885ms\tremaining: 379ms\n",
      "14:\tlearn: 1654.0843709\ttotal: 943ms\tremaining: 314ms\n",
      "15:\tlearn: 1641.8626005\ttotal: 1s\tremaining: 251ms\n",
      "16:\tlearn: 1635.7058184\ttotal: 1.06s\tremaining: 188ms\n",
      "17:\tlearn: 1628.7276639\ttotal: 1.12s\tremaining: 125ms\n",
      "18:\tlearn: 1611.0971298\ttotal: 1.18s\tremaining: 62.2ms\n",
      "19:\tlearn: 1601.8033581\ttotal: 1.25s\tremaining: 0us\n",
      "Learning rate set to 0.5\n",
      "0:\tlearn: 3036.5929523\ttotal: 137ms\tremaining: 2.6s\n",
      "1:\tlearn: 2400.5506780\ttotal: 261ms\tremaining: 2.35s\n",
      "2:\tlearn: 2071.0123892\ttotal: 404ms\tremaining: 2.29s\n",
      "3:\tlearn: 1924.3651724\ttotal: 526ms\tremaining: 2.1s\n",
      "4:\tlearn: 1836.0520939\ttotal: 642ms\tremaining: 1.93s\n",
      "5:\tlearn: 1790.3594093\ttotal: 855ms\tremaining: 2s\n",
      "6:\tlearn: 1764.3579346\ttotal: 1.03s\tremaining: 1.92s\n",
      "7:\tlearn: 1742.7120511\ttotal: 1.16s\tremaining: 1.74s\n",
      "8:\tlearn: 1727.6932250\ttotal: 1.28s\tremaining: 1.57s\n",
      "9:\tlearn: 1714.1733544\ttotal: 1.4s\tremaining: 1.4s\n",
      "10:\tlearn: 1696.8963146\ttotal: 1.52s\tremaining: 1.24s\n",
      "11:\tlearn: 1680.5556309\ttotal: 1.71s\tremaining: 1.14s\n",
      "12:\tlearn: 1670.4931478\ttotal: 1.87s\tremaining: 1.01s\n",
      "13:\tlearn: 1654.6329642\ttotal: 1.98s\tremaining: 850ms\n",
      "14:\tlearn: 1642.0519483\ttotal: 2.11s\tremaining: 704ms\n",
      "15:\tlearn: 1632.6068065\ttotal: 2.22s\tremaining: 556ms\n",
      "16:\tlearn: 1626.1155600\ttotal: 2.33s\tremaining: 412ms\n",
      "17:\tlearn: 1620.7859133\ttotal: 2.44s\tremaining: 271ms\n",
      "18:\tlearn: 1615.5965537\ttotal: 2.56s\tremaining: 135ms\n",
      "19:\tlearn: 1609.9776101\ttotal: 2.66s\tremaining: 0us\n",
      "Лучшие гиперпараметры: {'depth': 10, 'iterations': 20}\n",
      "Лучшая оценка: 1677.893022061594\n",
      "CPU times: user 36.1 s, sys: 483 ms, total: 36.6 s\n",
      "Wall time: 59 s\n"
     ]
    }
   ],
   "source": [
    "%%time\n",
    "catboost_grid_space = {'depth' : [2, 4, 6, 8, 10], \n",
    "                       'iterations' : [5, 10, 15, 20] \n",
    "                      }\n",
    "\n",
    "model = CatBoostRegressor()\n",
    "\n",
    "RMSE_score = make_scorer(RMSE, greater_is_better = False)\n",
    "\n",
    "grid = GridSearchCV(estimator = model, param_grid = catboost_grid_space, cv = 2, scoring = RMSE_score)\n",
    "model_grid = grid.fit(data_train_features, data_train_target, cat_features = cat_features, verbose = None)\n",
    "\n",
    "print('Лучшие гиперпараметры:', model_grid.best_params_)\n",
    "print('Лучшая оценка:', abs(model_grid.best_score_))"
   ]
  },
  {
   "cell_type": "code",
   "execution_count": 33,
   "metadata": {
    "scrolled": true
   },
   "outputs": [
    {
     "name": "stdout",
     "output_type": "stream",
     "text": [
      "Learning rate set to 0.5\n",
      "0:\tlearn: 3036.5929523\ttotal: 130ms\tremaining: 2.46s\n",
      "1:\tlearn: 2400.5506780\ttotal: 278ms\tremaining: 2.5s\n",
      "2:\tlearn: 2071.0123892\ttotal: 399ms\tremaining: 2.26s\n",
      "3:\tlearn: 1924.3651724\ttotal: 506ms\tremaining: 2.02s\n",
      "4:\tlearn: 1836.0520939\ttotal: 621ms\tremaining: 1.86s\n",
      "5:\tlearn: 1790.3594093\ttotal: 731ms\tremaining: 1.71s\n",
      "6:\tlearn: 1764.3579346\ttotal: 838ms\tremaining: 1.56s\n",
      "7:\tlearn: 1742.7120511\ttotal: 960ms\tremaining: 1.44s\n",
      "8:\tlearn: 1727.6932250\ttotal: 1.07s\tremaining: 1.3s\n",
      "9:\tlearn: 1714.1733544\ttotal: 1.2s\tremaining: 1.2s\n",
      "10:\tlearn: 1696.8963146\ttotal: 1.3s\tremaining: 1.07s\n",
      "11:\tlearn: 1680.5556309\ttotal: 1.42s\tremaining: 945ms\n",
      "12:\tlearn: 1670.4931478\ttotal: 1.53s\tremaining: 822ms\n",
      "13:\tlearn: 1654.6329642\ttotal: 1.65s\tremaining: 705ms\n",
      "14:\tlearn: 1642.0519483\ttotal: 1.78s\tremaining: 593ms\n",
      "15:\tlearn: 1632.6068065\ttotal: 1.89s\tremaining: 473ms\n",
      "16:\tlearn: 1626.1155600\ttotal: 2s\tremaining: 354ms\n",
      "17:\tlearn: 1620.7859133\ttotal: 2.11s\tremaining: 235ms\n",
      "18:\tlearn: 1615.5965537\ttotal: 2.22s\tremaining: 117ms\n",
      "19:\tlearn: 1609.9776101\ttotal: 2.33s\tremaining: 0us\n",
      "CPU times: user 2.64 s, sys: 43.4 ms, total: 2.68 s\n",
      "Wall time: 3.52 s\n"
     ]
    },
    {
     "data": {
      "text/plain": [
       "<catboost.core.CatBoostRegressor at 0x7fea074c4a00>"
      ]
     },
     "execution_count": 33,
     "metadata": {},
     "output_type": "execute_result"
    }
   ],
   "source": [
    "%%time\n",
    "\n",
    "model_1 = CatBoostRegressor(\n",
    "    iterations = int(model_grid.best_params_['iterations']), \n",
    "    depth = int(model_grid.best_params_['depth']), \n",
    "    learning_rate = None)\n",
    "model_1.fit(data_train_features, data_train_target, cat_features = cat_features)"
   ]
  },
  {
   "cell_type": "code",
   "execution_count": 34,
   "metadata": {},
   "outputs": [
    {
     "name": "stdout",
     "output_type": "stream",
     "text": [
      "CPU times: user 3 µs, sys: 0 ns, total: 3 µs\n",
      "Wall time: 6.68 µs\n",
      "Метрики наилучшей модели из исследованных:\n",
      "\n",
      "RMSE =  1914.798\n"
     ]
    }
   ],
   "source": [
    "%time\n",
    "data_valid_predict = model_1.predict(data_valid_features)\n",
    "\n",
    "print('Метрики наилучшей модели из исследованных:')                        \n",
    "print('\\nRMSE = ', round(RMSE(data_valid_target, data_valid_predict), 3))"
   ]
  },
  {
   "cell_type": "markdown",
   "metadata": {},
   "source": [
    "### RandomForestRegressor"
   ]
  },
  {
   "cell_type": "code",
   "execution_count": 35,
   "metadata": {},
   "outputs": [
    {
     "name": "stdout",
     "output_type": "stream",
     "text": [
      "Лучшие гиперпараметры: {'max_depth': 10, 'min_samples_split': 10}\n",
      "Лучшая оценка: 1837.300256364043\n",
      "CPU times: user 4min 50s, sys: 705 ms, total: 4min 51s\n",
      "Wall time: 4min 51s\n"
     ]
    }
   ],
   "source": [
    "%%time\n",
    "random_forest_grid_space = {'max_depth' : [2, 5, 8, 10], \n",
    "                            'min_samples_split' : [5, 10, 15, 20] \n",
    "                           }\n",
    "\n",
    "model = RandomForestRegressor()\n",
    "\n",
    "RMSE_score = make_scorer(RMSE, greater_is_better = False)\n",
    "\n",
    "grid = GridSearchCV(estimator = model, param_grid = random_forest_grid_space, cv = 2, scoring = RMSE_score)\n",
    "model_grid = grid.fit(data_ordinal_train_features, data_ordinal_train_target)\n",
    "\n",
    "print('Лучшие гиперпараметры:', model_grid.best_params_)\n",
    "print('Лучшая оценка:', abs(model_grid.best_score_))"
   ]
  },
  {
   "cell_type": "code",
   "execution_count": 36,
   "metadata": {},
   "outputs": [
    {
     "name": "stdout",
     "output_type": "stream",
     "text": [
      "CPU times: user 26.4 s, sys: 39.9 ms, total: 26.4 s\n",
      "Wall time: 26.5 s\n"
     ]
    },
    {
     "data": {
      "text/plain": [
       "RandomForestRegressor(max_depth=10, min_samples_split=10, random_state=12345)"
      ]
     },
     "execution_count": 36,
     "metadata": {},
     "output_type": "execute_result"
    }
   ],
   "source": [
    "%%time\n",
    "\n",
    "model_2 = RandomForestRegressor(max_depth = int(model_grid.best_params_['max_depth']), \n",
    "                                min_samples_split = int(model_grid.best_params_['min_samples_split']), \n",
    "                                random_state = 12345)\n",
    "model_2.fit(data_ordinal_train_features, data_ordinal_train_target)\n"
   ]
  },
  {
   "cell_type": "code",
   "execution_count": 37,
   "metadata": {},
   "outputs": [
    {
     "name": "stdout",
     "output_type": "stream",
     "text": [
      "CPU times: user 4 µs, sys: 0 ns, total: 4 µs\n",
      "Wall time: 8.34 µs\n",
      "Метрики наилучшей модели из исследованных:\n",
      "\n",
      "RMSE =  2084.628\n"
     ]
    }
   ],
   "source": [
    "%time\n",
    "data_ordinal_valid_predict = model_2.predict(data_ordinal_valid_features)\n",
    "\n",
    "print('Метрики наилучшей модели из исследованных:')                        \n",
    "print('\\nRMSE = ', round(RMSE(data_ordinal_valid_target, data_ordinal_valid_predict), 3))"
   ]
  },
  {
   "cell_type": "markdown",
   "metadata": {},
   "source": [
    "### LightGBM"
   ]
  },
  {
   "cell_type": "code",
   "execution_count": 38,
   "metadata": {},
   "outputs": [
    {
     "name": "stdout",
     "output_type": "stream",
     "text": [
      "Лучшие гиперпараметры: {'max_depth': 3, 'num_leaves': 8}\n",
      "Лучшая оценка: 1883.341095901697\n",
      "CPU times: user 8min 36s, sys: 7.32 s, total: 8min 44s\n",
      "Wall time: 8min 48s\n"
     ]
    }
   ],
   "source": [
    "%%time\n",
    "\n",
    "lightgbm_grid_space = {'max_depth' : [2, 3], \n",
    "                       'num_leaves' : [4, 8],\n",
    "                      }\n",
    "\n",
    "model = lightgbm.LGBMRegressor()\n",
    "\n",
    "RMSE_score = make_scorer(RMSE, greater_is_better = False)\n",
    "\n",
    "grid = GridSearchCV(estimator = model, param_grid = lightgbm_grid_space, cv = 2, scoring = RMSE_score)\n",
    "model_grid = grid.fit(data_ordinal_train_features, data_ordinal_train_target)\n",
    "\n",
    "print('Лучшие гиперпараметры:', model_grid.best_params_)\n",
    "print('Лучшая оценка:', abs(model_grid.best_score_))"
   ]
  },
  {
   "cell_type": "code",
   "execution_count": 39,
   "metadata": {},
   "outputs": [
    {
     "name": "stdout",
     "output_type": "stream",
     "text": [
      "CPU times: user 1min 13s, sys: 1.14 s, total: 1min 14s\n",
      "Wall time: 1min 15s\n"
     ]
    },
    {
     "data": {
      "text/plain": [
       "LGBMRegressor(max_depth=3, num_leaves=8)"
      ]
     },
     "execution_count": 39,
     "metadata": {},
     "output_type": "execute_result"
    }
   ],
   "source": [
    "%%time\n",
    "\n",
    "model_3 = lightgbm.LGBMRegressor(max_depth = int(model_grid.best_params_['max_depth']), \n",
    "                                 num_leaves = int(model_grid.best_params_['num_leaves']), )\n",
    "model_3.fit(data_ordinal_train_features, data_ordinal_train_target)"
   ]
  },
  {
   "cell_type": "code",
   "execution_count": 40,
   "metadata": {},
   "outputs": [
    {
     "name": "stdout",
     "output_type": "stream",
     "text": [
      "CPU times: user 5 µs, sys: 0 ns, total: 5 µs\n",
      "Wall time: 8.34 µs\n",
      "Метрики наилучшей модели из исследованных:\n",
      "\n",
      "RMSE =  2117.446\n"
     ]
    }
   ],
   "source": [
    "%time\n",
    "data_ordinal_valid_predict = model_3.predict(data_ordinal_valid_features)\n",
    "\n",
    "print('Метрики наилучшей модели из исследованных:')                        \n",
    "print('\\nRMSE = ', round(RMSE(data_ordinal_valid_target, data_ordinal_valid_predict), 3))"
   ]
  },
  {
   "cell_type": "markdown",
   "metadata": {},
   "source": [
    "### Тестирование наилучшей модели"
   ]
  },
  {
   "cell_type": "code",
   "execution_count": 41,
   "metadata": {
    "scrolled": true
   },
   "outputs": [
    {
     "name": "stdout",
     "output_type": "stream",
     "text": [
      "Метрики наилучшей модели из исследованных:\n",
      "\n",
      "RMSE =  1924.146\n",
      "CPU times: user 99 ms, sys: 3.73 ms, total: 103 ms\n",
      "Wall time: 173 ms\n"
     ]
    }
   ],
   "source": [
    "%%time\n",
    "data_test_predict = model_1.predict(data_test_features)\n",
    "\n",
    "print('Метрики наилучшей модели из исследованных:')                        \n",
    "print('\\nRMSE = ', round(RMSE(data_test_target, data_test_predict), 3))"
   ]
  },
  {
   "cell_type": "markdown",
   "metadata": {},
   "source": [
    "## Анализ моделей"
   ]
  },
  {
   "cell_type": "markdown",
   "metadata": {},
   "source": [
    "В процессе работы над проектом было изучено 3 модели обучения:\n",
    "- градиентный бустинг с помощью библиотеки \"catboost\";\n",
    "- градиентный бустинг с помощью библиотеки \"LightGBM\";\n",
    "- регрессия случайным лесом.\n",
    "\n",
    "Время выполнения и значения RMSE лучших моделей указаны в таблице ниже.\n",
    "\n",
    "|  |Catboost|LightGBM|RandommForestRegressor| \n",
    "|:-|:-:|:-:|:-:|\n",
    "|RMSE|1914.798|2117.720.446|2084.628|\n",
    "|Время обучения модели|3.52 сек|1 мин 15 сек|26.5 сек|\n",
    "|Время предсказания модели|6.68 микросек|8.34 микросек|8.34 микросек|\n",
    "|Время поиска гиперпараметров|59 сек|8 мин 48 сек|4 мин 51 сек|"
   ]
  },
  {
   "cell_type": "markdown",
   "metadata": {},
   "source": [
    "## Выводы"
   ]
  },
  {
   "cell_type": "markdown",
   "metadata": {},
   "source": [
    "### Предобработка данных"
   ]
  },
  {
   "cell_type": "markdown",
   "metadata": {},
   "source": [
    "В процессе работы был изучен датасет с данными о проданных автомобилях. Был произведен графический анализ данных. Категориальные пропуски были заполнены преимущественно новой категорией \"undefined\" (не определен). Пропуски в графе \"repaired\" были заполнены значением \"no\", предполагается, что отсутствие указанного факта ремонта значит, что ремонта не было. Графы с датами приведены к типу datetime.\n",
    "\n",
    "Создан дублирующий датасет, в котором только категориальные признаки были подвергнуты кодированию с помощью ordinary encode. Заполнение пропусков дублирующего датасета производилась в точности также как и в основном. Оба датасета разбиты на тренировочную и валидационную выборки. В тренировочных датасетах удалены строки датасета с выбросами в графе \"registration year\", фильтрации подвергнулись данные, значения признака в которых не входили в интервал [q1 - 1.5 * iqr, q3 + 1.5 * iqr], затем произведена отсечка по 2016 году. Ошибки в графе \"power\" были исправлены исходя из допущения, что от 600 сил до 5000 сил ошибка была в 10 раз, выше 5000 в 100 раз. Исследована мощность посредством построения сводной таблицы максимальных мощностей по модели и сопоставлению реальных показателей для модели с имеющимися в датасети. Убраны строки тренировочного датасета с ценой менее 200 евро.\n",
    "\n",
    "Таким образом были получены два тренировочных два валидационных датасета и два тестовых. Из валидационного и тестового не производилось удаления каких-либо строк (в отличие от тренировочного), разница комплектов датасетов заключается лишь в том, что один комплект был закодирован числовыми значениями признаков для моделей обучения, которые не могут работать с не числовыми признаками."
   ]
  },
  {
   "cell_type": "markdown",
   "metadata": {},
   "source": [
    "### Обучение моделей"
   ]
  },
  {
   "cell_type": "markdown",
   "metadata": {},
   "source": [
    "Произведено обучение трех типов моделей: catboost, random forest regressor и lightgbm. Для всех моделей был произведен поиск оптимальных гиперпараметров по критерию минимизации RMSE. Для наилучших моделей каждого типа рассчитано время обучения."
   ]
  },
  {
   "cell_type": "markdown",
   "metadata": {},
   "source": [
    "### Анализ моделей"
   ]
  },
  {
   "cell_type": "markdown",
   "metadata": {},
   "source": [
    "Гиперпараметры наилучшей модели catboost:\n",
    "- depth = 10;\n",
    "- iterations = 20.\n",
    "\n",
    "Гиперпараметры наилучшей модели random forest regressor:\n",
    "- max_depth = 10;\n",
    "- min_samples_split = 5.\n",
    "\n",
    "Гиперпараметры наилучшей модели lightgbm:\n",
    "- max_depth = 3;\n",
    "- num_leaves = 8.\n",
    "\n",
    "Время выполнения и значения RMSE моделей на валидационной выборке указаны в таблице ниже.\n",
    "\n",
    "|  |Catboost|LightGBM|RandommForestRegressor| \n",
    "|:-|:-:|:-:|:-:|\n",
    "|RMSE|1914.798|2117.720.446|2084.628|\n",
    "|Время обучения модели|3.52 сек|1 мин 15 сек|26.5 сек|\n",
    "|Время предсказания модели|6.68 микросек|8.34 микросек|8.34 микросек|\n",
    "|Время поиска гиперпараметров|59 сек|8 мин 48 сек|4 мин 51 сек|"
   ]
  },
  {
   "cell_type": "markdown",
   "metadata": {},
   "source": [
    "### Итог"
   ]
  },
  {
   "cell_type": "markdown",
   "metadata": {},
   "source": [
    "Наилучшая модель - catboost с гиперпараметрами: depth = 10, iterations = 20. RMSE модели на тестовой выборке - 1924.146, время обучения модели - 3.52 сек, время предсказания модели - 173 милисек. "
   ]
  }
 ],
 "metadata": {
  "ExecuteTimeLog": [
   {
    "duration": 1662,
    "start_time": "2023-02-05T17:05:45.392Z"
   },
   {
    "duration": 1390,
    "start_time": "2023-02-05T17:07:56.773Z"
   },
   {
    "duration": 1119,
    "start_time": "2023-02-05T17:07:58.164Z"
   },
   {
    "duration": 129,
    "start_time": "2023-02-05T17:07:59.285Z"
   },
   {
    "duration": 291,
    "start_time": "2023-02-05T17:07:59.416Z"
   },
   {
    "duration": 87,
    "start_time": "2023-02-05T17:07:59.709Z"
   },
   {
    "duration": 30,
    "start_time": "2023-02-05T17:07:59.798Z"
   },
   {
    "duration": 103,
    "start_time": "2023-02-05T17:07:59.830Z"
   },
   {
    "duration": 471,
    "start_time": "2023-02-05T17:07:59.935Z"
   },
   {
    "duration": 19,
    "start_time": "2023-02-05T17:08:00.408Z"
   },
   {
    "duration": 2182,
    "start_time": "2023-02-05T17:08:00.429Z"
   },
   {
    "duration": 5,
    "start_time": "2023-02-05T17:08:02.613Z"
   },
   {
    "duration": 254,
    "start_time": "2023-02-05T17:08:02.620Z"
   },
   {
    "duration": 224,
    "start_time": "2023-02-05T17:08:02.876Z"
   },
   {
    "duration": 2049,
    "start_time": "2023-02-05T17:08:03.103Z"
   },
   {
    "duration": 98,
    "start_time": "2023-02-05T17:08:05.154Z"
   },
   {
    "duration": 148,
    "start_time": "2023-02-05T17:13:42.184Z"
   },
   {
    "duration": 108,
    "start_time": "2023-02-05T17:17:28.331Z"
   },
   {
    "duration": 1385,
    "start_time": "2023-02-05T17:18:06.985Z"
   },
   {
    "duration": 852,
    "start_time": "2023-02-05T17:18:08.373Z"
   },
   {
    "duration": 121,
    "start_time": "2023-02-05T17:18:09.227Z"
   },
   {
    "duration": 295,
    "start_time": "2023-02-05T17:18:09.349Z"
   },
   {
    "duration": 82,
    "start_time": "2023-02-05T17:18:09.646Z"
   },
   {
    "duration": 15,
    "start_time": "2023-02-05T17:18:09.730Z"
   },
   {
    "duration": 111,
    "start_time": "2023-02-05T17:18:09.747Z"
   },
   {
    "duration": 433,
    "start_time": "2023-02-05T17:18:09.860Z"
   },
   {
    "duration": 12,
    "start_time": "2023-02-05T17:18:10.295Z"
   },
   {
    "duration": 2198,
    "start_time": "2023-02-05T17:18:10.309Z"
   },
   {
    "duration": 4,
    "start_time": "2023-02-05T17:18:12.509Z"
   },
   {
    "duration": 262,
    "start_time": "2023-02-05T17:18:12.515Z"
   },
   {
    "duration": 218,
    "start_time": "2023-02-05T17:18:12.778Z"
   },
   {
    "duration": 2118,
    "start_time": "2023-02-05T17:18:12.999Z"
   },
   {
    "duration": 93,
    "start_time": "2023-02-05T17:18:15.119Z"
   },
   {
    "duration": 100,
    "start_time": "2023-02-05T17:18:15.214Z"
   },
   {
    "duration": 1930,
    "start_time": "2023-02-05T17:19:08.282Z"
   },
   {
    "duration": 1794,
    "start_time": "2023-02-05T17:20:57.484Z"
   },
   {
    "duration": 1245,
    "start_time": "2023-02-05T17:20:59.281Z"
   },
   {
    "duration": 215,
    "start_time": "2023-02-05T17:21:00.529Z"
   },
   {
    "duration": 308,
    "start_time": "2023-02-05T17:21:00.747Z"
   },
   {
    "duration": 84,
    "start_time": "2023-02-05T17:21:01.056Z"
   },
   {
    "duration": 23,
    "start_time": "2023-02-05T17:21:01.141Z"
   },
   {
    "duration": 125,
    "start_time": "2023-02-05T17:21:01.166Z"
   },
   {
    "duration": 445,
    "start_time": "2023-02-05T17:21:01.292Z"
   },
   {
    "duration": 15,
    "start_time": "2023-02-05T17:21:01.740Z"
   },
   {
    "duration": 2189,
    "start_time": "2023-02-05T17:21:01.758Z"
   },
   {
    "duration": 5,
    "start_time": "2023-02-05T17:21:03.950Z"
   },
   {
    "duration": 280,
    "start_time": "2023-02-05T17:21:03.957Z"
   },
   {
    "duration": 225,
    "start_time": "2023-02-05T17:21:04.239Z"
   },
   {
    "duration": 2151,
    "start_time": "2023-02-05T17:21:04.466Z"
   },
   {
    "duration": 119,
    "start_time": "2023-02-05T17:21:06.619Z"
   },
   {
    "duration": 98,
    "start_time": "2023-02-05T17:21:06.740Z"
   },
   {
    "duration": 48,
    "start_time": "2023-02-05T17:22:19.090Z"
   },
   {
    "duration": 1650,
    "start_time": "2023-02-05T17:22:25.895Z"
   },
   {
    "duration": 1171,
    "start_time": "2023-02-05T17:22:27.547Z"
   },
   {
    "duration": 121,
    "start_time": "2023-02-05T17:22:28.720Z"
   },
   {
    "duration": 299,
    "start_time": "2023-02-05T17:22:28.843Z"
   },
   {
    "duration": 86,
    "start_time": "2023-02-05T17:22:29.144Z"
   },
   {
    "duration": 17,
    "start_time": "2023-02-05T17:22:29.232Z"
   },
   {
    "duration": 114,
    "start_time": "2023-02-05T17:22:29.250Z"
   },
   {
    "duration": 450,
    "start_time": "2023-02-05T17:22:29.366Z"
   },
   {
    "duration": 20,
    "start_time": "2023-02-05T17:22:29.819Z"
   },
   {
    "duration": 2270,
    "start_time": "2023-02-05T17:22:29.841Z"
   },
   {
    "duration": 3,
    "start_time": "2023-02-05T17:22:32.113Z"
   },
   {
    "duration": 270,
    "start_time": "2023-02-05T17:22:32.118Z"
   },
   {
    "duration": 212,
    "start_time": "2023-02-05T17:22:32.390Z"
   },
   {
    "duration": 2083,
    "start_time": "2023-02-05T17:22:32.606Z"
   },
   {
    "duration": 95,
    "start_time": "2023-02-05T17:22:34.691Z"
   },
   {
    "duration": 105,
    "start_time": "2023-02-05T17:22:34.788Z"
   },
   {
    "duration": 68,
    "start_time": "2023-02-05T17:25:37.930Z"
   },
   {
    "duration": 1600,
    "start_time": "2023-02-05T17:25:44.687Z"
   },
   {
    "duration": 1191,
    "start_time": "2023-02-05T17:25:46.289Z"
   },
   {
    "duration": 142,
    "start_time": "2023-02-05T17:25:47.483Z"
   },
   {
    "duration": 307,
    "start_time": "2023-02-05T17:25:47.627Z"
   },
   {
    "duration": 91,
    "start_time": "2023-02-05T17:25:47.936Z"
   },
   {
    "duration": 23,
    "start_time": "2023-02-05T17:25:48.029Z"
   },
   {
    "duration": 112,
    "start_time": "2023-02-05T17:25:48.054Z"
   },
   {
    "duration": 418,
    "start_time": "2023-02-05T17:25:48.167Z"
   },
   {
    "duration": 10,
    "start_time": "2023-02-05T17:25:48.587Z"
   },
   {
    "duration": 2232,
    "start_time": "2023-02-05T17:25:48.599Z"
   },
   {
    "duration": 4,
    "start_time": "2023-02-05T17:25:50.834Z"
   },
   {
    "duration": 311,
    "start_time": "2023-02-05T17:25:50.840Z"
   },
   {
    "duration": 244,
    "start_time": "2023-02-05T17:25:51.154Z"
   },
   {
    "duration": 2146,
    "start_time": "2023-02-05T17:25:51.401Z"
   },
   {
    "duration": 87,
    "start_time": "2023-02-05T17:25:53.549Z"
   },
   {
    "duration": 107,
    "start_time": "2023-02-05T17:25:53.638Z"
   },
   {
    "duration": 1532,
    "start_time": "2023-02-05T17:28:57.395Z"
   },
   {
    "duration": 1117,
    "start_time": "2023-02-05T17:28:58.929Z"
   },
   {
    "duration": 124,
    "start_time": "2023-02-05T17:29:00.048Z"
   },
   {
    "duration": 361,
    "start_time": "2023-02-05T17:29:00.174Z"
   },
   {
    "duration": 93,
    "start_time": "2023-02-05T17:29:00.538Z"
   },
   {
    "duration": 23,
    "start_time": "2023-02-05T17:29:00.633Z"
   },
   {
    "duration": 127,
    "start_time": "2023-02-05T17:29:00.658Z"
   },
   {
    "duration": 430,
    "start_time": "2023-02-05T17:29:00.787Z"
   },
   {
    "duration": 20,
    "start_time": "2023-02-05T17:29:01.220Z"
   },
   {
    "duration": 2117,
    "start_time": "2023-02-05T17:29:01.242Z"
   },
   {
    "duration": 4,
    "start_time": "2023-02-05T17:29:03.361Z"
   },
   {
    "duration": 263,
    "start_time": "2023-02-05T17:29:03.367Z"
   },
   {
    "duration": 213,
    "start_time": "2023-02-05T17:29:03.632Z"
   },
   {
    "duration": 2118,
    "start_time": "2023-02-05T17:29:03.847Z"
   },
   {
    "duration": 100,
    "start_time": "2023-02-05T17:29:05.967Z"
   },
   {
    "duration": 105,
    "start_time": "2023-02-05T17:29:06.068Z"
   },
   {
    "duration": 128,
    "start_time": "2023-02-05T17:29:17.644Z"
   },
   {
    "duration": 115,
    "start_time": "2023-02-05T17:29:26.371Z"
   },
   {
    "duration": 113,
    "start_time": "2023-02-05T17:29:33.825Z"
   },
   {
    "duration": 96,
    "start_time": "2023-02-05T17:29:37.394Z"
   },
   {
    "duration": 90,
    "start_time": "2023-02-05T17:29:41.725Z"
   },
   {
    "duration": 142,
    "start_time": "2023-02-05T19:11:10.748Z"
   },
   {
    "duration": 1571,
    "start_time": "2023-02-05T19:11:17.520Z"
   },
   {
    "duration": 1024,
    "start_time": "2023-02-05T19:11:19.094Z"
   },
   {
    "duration": 132,
    "start_time": "2023-02-05T19:11:20.120Z"
   },
   {
    "duration": 409,
    "start_time": "2023-02-05T19:11:20.254Z"
   },
   {
    "duration": 128,
    "start_time": "2023-02-05T19:11:20.667Z"
   },
   {
    "duration": 26,
    "start_time": "2023-02-05T19:11:20.798Z"
   },
   {
    "duration": 165,
    "start_time": "2023-02-05T19:11:20.827Z"
   },
   {
    "duration": 555,
    "start_time": "2023-02-05T19:11:20.994Z"
   },
   {
    "duration": 12,
    "start_time": "2023-02-05T19:11:21.553Z"
   },
   {
    "duration": 2479,
    "start_time": "2023-02-05T19:11:21.567Z"
   },
   {
    "duration": 6,
    "start_time": "2023-02-05T19:11:24.048Z"
   },
   {
    "duration": 418,
    "start_time": "2023-02-05T19:11:24.056Z"
   },
   {
    "duration": 259,
    "start_time": "2023-02-05T19:11:24.476Z"
   },
   {
    "duration": 2510,
    "start_time": "2023-02-05T19:11:24.738Z"
   },
   {
    "duration": 100,
    "start_time": "2023-02-05T19:11:27.249Z"
   },
   {
    "duration": 106,
    "start_time": "2023-02-05T19:11:27.352Z"
   },
   {
    "duration": 136,
    "start_time": "2023-02-05T19:11:27.460Z"
   },
   {
    "duration": 16,
    "start_time": "2023-02-05T19:11:36.682Z"
   },
   {
    "duration": 6,
    "start_time": "2023-02-05T19:11:41.623Z"
   },
   {
    "duration": 22,
    "start_time": "2023-02-05T19:11:44.901Z"
   },
   {
    "duration": 2507,
    "start_time": "2023-02-05T19:13:04.596Z"
   },
   {
    "duration": 1540,
    "start_time": "2023-02-05T19:13:42.479Z"
   },
   {
    "duration": 1640,
    "start_time": "2023-02-05T19:13:53.904Z"
   },
   {
    "duration": 1787,
    "start_time": "2023-02-05T19:14:08.170Z"
   },
   {
    "duration": 2211,
    "start_time": "2023-02-05T19:14:17.084Z"
   },
   {
    "duration": 1827,
    "start_time": "2023-02-05T19:14:46.120Z"
   },
   {
    "duration": 1788,
    "start_time": "2023-02-05T19:14:56.408Z"
   },
   {
    "duration": 709,
    "start_time": "2023-02-06T05:04:40.248Z"
   },
   {
    "duration": 1241,
    "start_time": "2023-02-06T05:05:04.294Z"
   },
   {
    "duration": 1058,
    "start_time": "2023-02-06T05:05:05.537Z"
   },
   {
    "duration": 98,
    "start_time": "2023-02-06T05:05:06.597Z"
   },
   {
    "duration": 261,
    "start_time": "2023-02-06T05:05:06.697Z"
   },
   {
    "duration": 84,
    "start_time": "2023-02-06T05:05:06.960Z"
   },
   {
    "duration": 16,
    "start_time": "2023-02-06T05:05:07.045Z"
   },
   {
    "duration": 106,
    "start_time": "2023-02-06T05:05:07.063Z"
   },
   {
    "duration": 386,
    "start_time": "2023-02-06T05:05:07.170Z"
   },
   {
    "duration": 9,
    "start_time": "2023-02-06T05:05:07.557Z"
   },
   {
    "duration": 1891,
    "start_time": "2023-02-06T05:05:07.568Z"
   },
   {
    "duration": 4,
    "start_time": "2023-02-06T05:05:09.461Z"
   },
   {
    "duration": 231,
    "start_time": "2023-02-06T05:05:09.467Z"
   },
   {
    "duration": 196,
    "start_time": "2023-02-06T05:05:09.699Z"
   },
   {
    "duration": 1855,
    "start_time": "2023-02-06T05:05:09.897Z"
   },
   {
    "duration": 87,
    "start_time": "2023-02-06T05:05:11.754Z"
   },
   {
    "duration": 86,
    "start_time": "2023-02-06T05:05:11.843Z"
   },
   {
    "duration": 1736,
    "start_time": "2023-02-06T05:05:11.937Z"
   },
   {
    "duration": 1516,
    "start_time": "2023-02-06T05:05:35.299Z"
   },
   {
    "duration": 1528,
    "start_time": "2023-02-06T05:06:03.919Z"
   },
   {
    "duration": 1984,
    "start_time": "2023-02-06T05:06:14.016Z"
   },
   {
    "duration": 3208,
    "start_time": "2023-02-06T05:06:21.663Z"
   },
   {
    "duration": 1150,
    "start_time": "2023-02-06T05:06:40.056Z"
   },
   {
    "duration": 23990,
    "start_time": "2023-02-06T05:06:49.833Z"
   },
   {
    "duration": 4,
    "start_time": "2023-02-06T05:10:34.911Z"
   },
   {
    "duration": 4358,
    "start_time": "2023-02-06T05:11:13.063Z"
   },
   {
    "duration": 4,
    "start_time": "2023-02-06T05:12:20.632Z"
   },
   {
    "duration": 4264,
    "start_time": "2023-02-06T05:12:35.873Z"
   },
   {
    "duration": 5906,
    "start_time": "2023-02-06T05:17:13.197Z"
   },
   {
    "duration": 6103,
    "start_time": "2023-02-06T05:27:35.295Z"
   },
   {
    "duration": 5937,
    "start_time": "2023-02-06T05:28:34.482Z"
   },
   {
    "duration": 6533,
    "start_time": "2023-02-06T05:29:23.073Z"
   },
   {
    "duration": 6845,
    "start_time": "2023-02-06T05:30:19.441Z"
   },
   {
    "duration": 6151,
    "start_time": "2023-02-06T05:30:31.763Z"
   },
   {
    "duration": 6092,
    "start_time": "2023-02-06T05:30:52.039Z"
   },
   {
    "duration": 10,
    "start_time": "2023-02-08T11:55:29.097Z"
   },
   {
    "duration": 11,
    "start_time": "2023-02-08T11:55:29.114Z"
   },
   {
    "duration": 82,
    "start_time": "2023-02-08T11:55:29.126Z"
   },
   {
    "duration": 0,
    "start_time": "2023-02-08T11:55:29.210Z"
   },
   {
    "duration": 0,
    "start_time": "2023-02-08T11:55:29.212Z"
   },
   {
    "duration": 0,
    "start_time": "2023-02-08T11:55:29.213Z"
   },
   {
    "duration": 0,
    "start_time": "2023-02-08T11:55:29.214Z"
   },
   {
    "duration": 0,
    "start_time": "2023-02-08T11:55:29.215Z"
   },
   {
    "duration": 0,
    "start_time": "2023-02-08T11:55:29.216Z"
   },
   {
    "duration": 0,
    "start_time": "2023-02-08T11:55:29.217Z"
   },
   {
    "duration": 0,
    "start_time": "2023-02-08T11:55:29.219Z"
   },
   {
    "duration": 0,
    "start_time": "2023-02-08T11:55:29.220Z"
   },
   {
    "duration": 0,
    "start_time": "2023-02-08T11:55:29.221Z"
   },
   {
    "duration": 0,
    "start_time": "2023-02-08T11:55:29.222Z"
   },
   {
    "duration": 0,
    "start_time": "2023-02-08T11:55:29.224Z"
   },
   {
    "duration": 0,
    "start_time": "2023-02-08T11:55:29.225Z"
   },
   {
    "duration": 0,
    "start_time": "2023-02-08T11:55:29.226Z"
   },
   {
    "duration": 0,
    "start_time": "2023-02-08T11:55:29.227Z"
   },
   {
    "duration": 0,
    "start_time": "2023-02-08T11:55:29.229Z"
   },
   {
    "duration": 0,
    "start_time": "2023-02-08T11:55:29.230Z"
   },
   {
    "duration": 0,
    "start_time": "2023-02-08T11:55:29.232Z"
   },
   {
    "duration": 0,
    "start_time": "2023-02-08T11:55:29.233Z"
   },
   {
    "duration": 0,
    "start_time": "2023-02-08T11:55:29.234Z"
   },
   {
    "duration": 0,
    "start_time": "2023-02-08T11:55:29.235Z"
   },
   {
    "duration": 1694,
    "start_time": "2023-02-08T11:55:53.358Z"
   },
   {
    "duration": 5,
    "start_time": "2023-02-08T11:55:55.055Z"
   },
   {
    "duration": 12,
    "start_time": "2023-02-08T11:55:55.061Z"
   },
   {
    "duration": 14,
    "start_time": "2023-02-08T11:55:55.075Z"
   },
   {
    "duration": 1190,
    "start_time": "2023-02-08T11:55:55.091Z"
   },
   {
    "duration": 114,
    "start_time": "2023-02-08T11:55:56.283Z"
   },
   {
    "duration": 288,
    "start_time": "2023-02-08T11:55:56.402Z"
   },
   {
    "duration": 85,
    "start_time": "2023-02-08T11:55:56.692Z"
   },
   {
    "duration": 34,
    "start_time": "2023-02-08T11:55:56.780Z"
   },
   {
    "duration": 105,
    "start_time": "2023-02-08T11:55:56.815Z"
   },
   {
    "duration": 467,
    "start_time": "2023-02-08T11:55:56.922Z"
   },
   {
    "duration": 2159,
    "start_time": "2023-02-08T11:55:57.390Z"
   },
   {
    "duration": 100,
    "start_time": "2023-02-08T11:55:59.551Z"
   },
   {
    "duration": 209,
    "start_time": "2023-02-08T11:55:59.654Z"
   },
   {
    "duration": 108,
    "start_time": "2023-02-08T11:55:59.865Z"
   },
   {
    "duration": 305,
    "start_time": "2023-02-08T11:55:59.975Z"
   },
   {
    "duration": 32,
    "start_time": "2023-02-08T11:56:00.282Z"
   },
   {
    "duration": 1663,
    "start_time": "2023-02-08T11:56:00.316Z"
   },
   {
    "duration": 58964,
    "start_time": "2023-02-08T11:56:01.980Z"
   },
   {
    "duration": 19,
    "start_time": "2023-02-08T11:57:00.946Z"
   },
   {
    "duration": 5359,
    "start_time": "2023-02-08T11:57:00.967Z"
   },
   {
    "duration": 1524,
    "start_time": "2023-02-08T12:32:02.856Z"
   },
   {
    "duration": 5,
    "start_time": "2023-02-08T12:32:04.382Z"
   },
   {
    "duration": 31,
    "start_time": "2023-02-08T12:32:04.389Z"
   },
   {
    "duration": 11,
    "start_time": "2023-02-08T12:32:04.421Z"
   },
   {
    "duration": 911,
    "start_time": "2023-02-08T12:32:04.435Z"
   },
   {
    "duration": 126,
    "start_time": "2023-02-08T12:32:05.348Z"
   },
   {
    "duration": 295,
    "start_time": "2023-02-08T12:32:05.476Z"
   },
   {
    "duration": 89,
    "start_time": "2023-02-08T12:32:05.773Z"
   },
   {
    "duration": 18,
    "start_time": "2023-02-08T12:32:05.863Z"
   },
   {
    "duration": 122,
    "start_time": "2023-02-08T12:32:05.883Z"
   },
   {
    "duration": 461,
    "start_time": "2023-02-08T12:32:06.006Z"
   },
   {
    "duration": 2212,
    "start_time": "2023-02-08T12:32:06.469Z"
   },
   {
    "duration": 115,
    "start_time": "2023-02-08T12:32:08.682Z"
   },
   {
    "duration": 208,
    "start_time": "2023-02-08T12:32:08.800Z"
   },
   {
    "duration": 121,
    "start_time": "2023-02-08T12:32:09.010Z"
   },
   {
    "duration": 309,
    "start_time": "2023-02-08T12:32:09.133Z"
   },
   {
    "duration": 22,
    "start_time": "2023-02-08T12:32:09.444Z"
   },
   {
    "duration": 1655,
    "start_time": "2023-02-08T12:32:09.468Z"
   },
   {
    "duration": 58621,
    "start_time": "2023-02-08T12:32:11.124Z"
   },
   {
    "duration": 18,
    "start_time": "2023-02-08T12:33:09.747Z"
   },
   {
    "duration": 4980,
    "start_time": "2023-02-08T12:33:09.767Z"
   },
   {
    "duration": 27079,
    "start_time": "2023-02-08T12:33:14.749Z"
   },
   {
    "duration": 17,
    "start_time": "2023-02-08T12:33:41.830Z"
   },
   {
    "duration": 25693,
    "start_time": "2023-02-08T12:33:41.849Z"
   },
   {
    "duration": 67,
    "start_time": "2023-02-08T12:34:07.544Z"
   },
   {
    "duration": 1438,
    "start_time": "2023-02-08T13:04:25.226Z"
   },
   {
    "duration": 3,
    "start_time": "2023-02-08T13:04:44.365Z"
   },
   {
    "duration": 11,
    "start_time": "2023-02-08T13:04:44.370Z"
   },
   {
    "duration": 12,
    "start_time": "2023-02-08T13:04:44.383Z"
   },
   {
    "duration": 10,
    "start_time": "2023-02-08T13:04:44.397Z"
   },
   {
    "duration": 958,
    "start_time": "2023-02-08T13:04:44.410Z"
   },
   {
    "duration": 128,
    "start_time": "2023-02-08T13:04:45.370Z"
   },
   {
    "duration": 304,
    "start_time": "2023-02-08T13:04:45.502Z"
   },
   {
    "duration": 81,
    "start_time": "2023-02-08T13:04:45.808Z"
   },
   {
    "duration": 19,
    "start_time": "2023-02-08T13:04:45.904Z"
   },
   {
    "duration": 126,
    "start_time": "2023-02-08T13:04:45.925Z"
   },
   {
    "duration": 465,
    "start_time": "2023-02-08T13:04:46.052Z"
   },
   {
    "duration": 2210,
    "start_time": "2023-02-08T13:04:46.519Z"
   },
   {
    "duration": 110,
    "start_time": "2023-02-08T13:04:48.732Z"
   },
   {
    "duration": 212,
    "start_time": "2023-02-08T13:04:48.844Z"
   },
   {
    "duration": 107,
    "start_time": "2023-02-08T13:04:49.058Z"
   },
   {
    "duration": 309,
    "start_time": "2023-02-08T13:04:49.167Z"
   },
   {
    "duration": 33,
    "start_time": "2023-02-08T13:04:49.478Z"
   },
   {
    "duration": 1617,
    "start_time": "2023-02-08T13:04:49.513Z"
   },
   {
    "duration": 4,
    "start_time": "2023-02-08T13:07:30.568Z"
   },
   {
    "duration": 37,
    "start_time": "2023-02-08T13:07:30.574Z"
   },
   {
    "duration": 31,
    "start_time": "2023-02-08T13:07:30.613Z"
   },
   {
    "duration": 68,
    "start_time": "2023-02-08T13:07:30.646Z"
   },
   {
    "duration": 903,
    "start_time": "2023-02-08T13:07:30.716Z"
   },
   {
    "duration": 114,
    "start_time": "2023-02-08T13:07:31.621Z"
   },
   {
    "duration": 233,
    "start_time": "2023-02-08T13:07:31.736Z"
   },
   {
    "duration": 84,
    "start_time": "2023-02-08T13:07:31.971Z"
   },
   {
    "duration": 15,
    "start_time": "2023-02-08T13:07:32.056Z"
   },
   {
    "duration": 118,
    "start_time": "2023-02-08T13:07:32.073Z"
   },
   {
    "duration": 432,
    "start_time": "2023-02-08T13:07:32.193Z"
   },
   {
    "duration": 2178,
    "start_time": "2023-02-08T13:07:32.627Z"
   },
   {
    "duration": 104,
    "start_time": "2023-02-08T13:07:34.807Z"
   },
   {
    "duration": 178,
    "start_time": "2023-02-08T13:07:34.914Z"
   },
   {
    "duration": 121,
    "start_time": "2023-02-08T13:07:35.095Z"
   },
   {
    "duration": 296,
    "start_time": "2023-02-08T13:07:35.219Z"
   },
   {
    "duration": 21,
    "start_time": "2023-02-08T13:07:35.517Z"
   },
   {
    "duration": 1625,
    "start_time": "2023-02-08T13:07:35.540Z"
   },
   {
    "duration": 174,
    "start_time": "2023-02-08T13:08:38.196Z"
   },
   {
    "duration": 1461,
    "start_time": "2023-02-08T13:13:27.631Z"
   },
   {
    "duration": 5,
    "start_time": "2023-02-08T13:13:29.093Z"
   },
   {
    "duration": 12,
    "start_time": "2023-02-08T13:13:29.102Z"
   },
   {
    "duration": 7,
    "start_time": "2023-02-08T13:13:29.116Z"
   },
   {
    "duration": 881,
    "start_time": "2023-02-08T13:13:29.125Z"
   },
   {
    "duration": 124,
    "start_time": "2023-02-08T13:13:30.008Z"
   },
   {
    "duration": 304,
    "start_time": "2023-02-08T13:13:30.134Z"
   },
   {
    "duration": 82,
    "start_time": "2023-02-08T13:13:30.440Z"
   },
   {
    "duration": 32,
    "start_time": "2023-02-08T13:13:30.523Z"
   },
   {
    "duration": 117,
    "start_time": "2023-02-08T13:13:30.557Z"
   },
   {
    "duration": 449,
    "start_time": "2023-02-08T13:13:30.676Z"
   },
   {
    "duration": 2173,
    "start_time": "2023-02-08T13:13:31.127Z"
   },
   {
    "duration": 110,
    "start_time": "2023-02-08T13:13:33.302Z"
   },
   {
    "duration": 209,
    "start_time": "2023-02-08T13:13:33.414Z"
   },
   {
    "duration": 110,
    "start_time": "2023-02-08T13:13:33.624Z"
   },
   {
    "duration": 305,
    "start_time": "2023-02-08T13:13:33.735Z"
   },
   {
    "duration": 20,
    "start_time": "2023-02-08T13:13:34.042Z"
   },
   {
    "duration": 1652,
    "start_time": "2023-02-08T13:13:34.064Z"
   },
   {
    "duration": 375408,
    "start_time": "2023-02-08T13:13:41.216Z"
   },
   {
    "duration": 367174,
    "start_time": "2023-02-08T13:21:12.937Z"
   },
   {
    "duration": 108,
    "start_time": "2023-02-08T13:29:02.986Z"
   },
   {
    "duration": 1815,
    "start_time": "2023-02-08T14:25:45.074Z"
   },
   {
    "duration": 5,
    "start_time": "2023-02-08T14:25:46.890Z"
   },
   {
    "duration": 14,
    "start_time": "2023-02-08T14:25:53.515Z"
   },
   {
    "duration": 7,
    "start_time": "2023-02-08T14:25:54.082Z"
   },
   {
    "duration": 1043,
    "start_time": "2023-02-08T14:25:55.325Z"
   },
   {
    "duration": 135,
    "start_time": "2023-02-08T14:25:57.114Z"
   },
   {
    "duration": 300,
    "start_time": "2023-02-08T14:25:58.294Z"
   },
   {
    "duration": 110,
    "start_time": "2023-02-08T14:25:58.874Z"
   },
   {
    "duration": 17,
    "start_time": "2023-02-08T14:25:59.366Z"
   },
   {
    "duration": 111,
    "start_time": "2023-02-08T14:26:00.372Z"
   },
   {
    "duration": 4,
    "start_time": "2023-02-08T20:10:24.337Z"
   },
   {
    "duration": 1682,
    "start_time": "2023-02-08T20:29:15.345Z"
   },
   {
    "duration": 5,
    "start_time": "2023-02-08T20:29:17.029Z"
   },
   {
    "duration": 13,
    "start_time": "2023-02-08T20:29:17.036Z"
   },
   {
    "duration": 9,
    "start_time": "2023-02-08T20:29:17.050Z"
   },
   {
    "duration": 3111,
    "start_time": "2023-02-08T20:29:17.062Z"
   },
   {
    "duration": 133,
    "start_time": "2023-02-08T20:29:20.175Z"
   },
   {
    "duration": 23,
    "start_time": "2023-02-08T20:29:20.311Z"
   },
   {
    "duration": 353,
    "start_time": "2023-02-08T20:29:20.336Z"
   },
   {
    "duration": 108,
    "start_time": "2023-02-08T20:29:20.690Z"
   },
   {
    "duration": 438,
    "start_time": "2023-02-08T20:29:20.800Z"
   },
   {
    "duration": 2168,
    "start_time": "2023-02-08T20:29:21.241Z"
   },
   {
    "duration": 28,
    "start_time": "2023-02-08T20:29:23.410Z"
   },
   {
    "duration": 132,
    "start_time": "2023-02-08T20:29:23.441Z"
   },
   {
    "duration": 86,
    "start_time": "2023-02-08T20:29:23.576Z"
   },
   {
    "duration": 337,
    "start_time": "2023-02-08T20:29:23.664Z"
   },
   {
    "duration": 0,
    "start_time": "2023-02-08T20:29:24.003Z"
   },
   {
    "duration": 0,
    "start_time": "2023-02-08T20:29:24.005Z"
   },
   {
    "duration": 0,
    "start_time": "2023-02-08T20:29:24.006Z"
   },
   {
    "duration": 0,
    "start_time": "2023-02-08T20:29:24.008Z"
   },
   {
    "duration": 0,
    "start_time": "2023-02-08T20:29:24.010Z"
   },
   {
    "duration": 0,
    "start_time": "2023-02-08T20:29:24.011Z"
   },
   {
    "duration": 0,
    "start_time": "2023-02-08T20:29:24.013Z"
   },
   {
    "duration": 0,
    "start_time": "2023-02-08T20:29:24.014Z"
   },
   {
    "duration": 0,
    "start_time": "2023-02-08T20:29:24.015Z"
   },
   {
    "duration": 0,
    "start_time": "2023-02-08T20:29:24.017Z"
   },
   {
    "duration": 0,
    "start_time": "2023-02-08T20:29:24.018Z"
   },
   {
    "duration": 0,
    "start_time": "2023-02-08T20:29:24.019Z"
   },
   {
    "duration": 0,
    "start_time": "2023-02-08T20:29:24.020Z"
   },
   {
    "duration": 0,
    "start_time": "2023-02-08T20:29:24.021Z"
   },
   {
    "duration": 0,
    "start_time": "2023-02-08T20:29:24.022Z"
   },
   {
    "duration": 1924,
    "start_time": "2023-02-08T20:29:52.882Z"
   },
   {
    "duration": 26,
    "start_time": "2023-02-08T20:29:56.344Z"
   },
   {
    "duration": 25,
    "start_time": "2023-02-08T20:30:09.635Z"
   },
   {
    "duration": 610,
    "start_time": "2023-02-08T20:31:54.650Z"
   },
   {
    "duration": 1415,
    "start_time": "2023-02-08T20:32:42.328Z"
   },
   {
    "duration": 6,
    "start_time": "2023-02-08T20:32:43.746Z"
   },
   {
    "duration": 13,
    "start_time": "2023-02-08T20:32:43.755Z"
   },
   {
    "duration": 13,
    "start_time": "2023-02-08T20:32:43.771Z"
   },
   {
    "duration": 942,
    "start_time": "2023-02-08T20:32:43.787Z"
   },
   {
    "duration": 126,
    "start_time": "2023-02-08T20:32:44.731Z"
   },
   {
    "duration": 38,
    "start_time": "2023-02-08T20:32:44.859Z"
   },
   {
    "duration": 369,
    "start_time": "2023-02-08T20:32:44.899Z"
   },
   {
    "duration": 134,
    "start_time": "2023-02-08T20:32:45.270Z"
   },
   {
    "duration": 443,
    "start_time": "2023-02-08T20:32:45.409Z"
   },
   {
    "duration": 2451,
    "start_time": "2023-02-08T20:32:45.854Z"
   },
   {
    "duration": 30,
    "start_time": "2023-02-08T20:32:48.306Z"
   },
   {
    "duration": 129,
    "start_time": "2023-02-08T20:32:48.338Z"
   },
   {
    "duration": 90,
    "start_time": "2023-02-08T20:32:48.469Z"
   },
   {
    "duration": 329,
    "start_time": "2023-02-08T20:32:51.936Z"
   },
   {
    "duration": 1572,
    "start_time": "2023-02-08T20:33:19.538Z"
   },
   {
    "duration": 1536,
    "start_time": "2023-02-08T20:34:01.272Z"
   },
   {
    "duration": 20,
    "start_time": "2023-02-08T20:34:06.630Z"
   },
   {
    "duration": 31,
    "start_time": "2023-02-08T20:36:36.079Z"
   },
   {
    "duration": 303,
    "start_time": "2023-02-08T20:36:42.136Z"
   },
   {
    "duration": 52,
    "start_time": "2023-02-08T20:37:06.137Z"
   },
   {
    "duration": 9,
    "start_time": "2023-02-08T20:37:30.176Z"
   },
   {
    "duration": 11,
    "start_time": "2023-02-08T20:37:37.352Z"
   },
   {
    "duration": 46,
    "start_time": "2023-02-08T20:39:28.352Z"
   },
   {
    "duration": 28,
    "start_time": "2023-02-08T20:39:52.165Z"
   },
   {
    "duration": 11,
    "start_time": "2023-02-08T20:40:05.381Z"
   },
   {
    "duration": 34,
    "start_time": "2023-02-08T20:40:07.774Z"
   },
   {
    "duration": 17,
    "start_time": "2023-02-08T20:40:09.433Z"
   },
   {
    "duration": 1498,
    "start_time": "2023-02-08T20:42:00.024Z"
   },
   {
    "duration": 5,
    "start_time": "2023-02-08T20:42:01.524Z"
   },
   {
    "duration": 34,
    "start_time": "2023-02-08T20:42:01.531Z"
   },
   {
    "duration": 20,
    "start_time": "2023-02-08T20:42:01.568Z"
   },
   {
    "duration": 917,
    "start_time": "2023-02-08T20:42:01.590Z"
   },
   {
    "duration": 118,
    "start_time": "2023-02-08T20:42:02.508Z"
   },
   {
    "duration": 21,
    "start_time": "2023-02-08T20:42:02.627Z"
   },
   {
    "duration": 319,
    "start_time": "2023-02-08T20:42:02.649Z"
   },
   {
    "duration": 99,
    "start_time": "2023-02-08T20:42:02.970Z"
   },
   {
    "duration": 458,
    "start_time": "2023-02-08T20:42:03.070Z"
   },
   {
    "duration": 2347,
    "start_time": "2023-02-08T20:42:03.530Z"
   },
   {
    "duration": 39,
    "start_time": "2023-02-08T20:42:05.878Z"
   },
   {
    "duration": 181,
    "start_time": "2023-02-08T20:42:05.919Z"
   },
   {
    "duration": 97,
    "start_time": "2023-02-08T20:42:06.106Z"
   },
   {
    "duration": 52,
    "start_time": "2023-02-08T20:42:06.206Z"
   },
   {
    "duration": 0,
    "start_time": "2023-02-08T20:42:06.260Z"
   },
   {
    "duration": 0,
    "start_time": "2023-02-08T20:42:06.263Z"
   },
   {
    "duration": 0,
    "start_time": "2023-02-08T20:42:06.265Z"
   },
   {
    "duration": 1501,
    "start_time": "2023-02-08T20:42:23.506Z"
   },
   {
    "duration": 7,
    "start_time": "2023-02-08T20:42:25.013Z"
   },
   {
    "duration": 16,
    "start_time": "2023-02-08T20:42:25.022Z"
   },
   {
    "duration": 27,
    "start_time": "2023-02-08T20:42:25.040Z"
   },
   {
    "duration": 1034,
    "start_time": "2023-02-08T20:42:25.069Z"
   },
   {
    "duration": 137,
    "start_time": "2023-02-08T20:42:26.105Z"
   },
   {
    "duration": 25,
    "start_time": "2023-02-08T20:42:26.246Z"
   },
   {
    "duration": 390,
    "start_time": "2023-02-08T20:42:26.282Z"
   },
   {
    "duration": 103,
    "start_time": "2023-02-08T20:42:26.673Z"
   },
   {
    "duration": 470,
    "start_time": "2023-02-08T20:42:26.781Z"
   },
   {
    "duration": 2224,
    "start_time": "2023-02-08T20:42:27.253Z"
   },
   {
    "duration": 35,
    "start_time": "2023-02-08T20:42:29.479Z"
   },
   {
    "duration": 146,
    "start_time": "2023-02-08T20:42:29.517Z"
   },
   {
    "duration": 97,
    "start_time": "2023-02-08T20:42:29.666Z"
   },
   {
    "duration": 1670,
    "start_time": "2023-02-08T20:42:34.204Z"
   },
   {
    "duration": 17,
    "start_time": "2023-02-08T20:42:37.164Z"
   },
   {
    "duration": 29,
    "start_time": "2023-02-08T20:42:42.297Z"
   },
   {
    "duration": 26,
    "start_time": "2023-02-08T20:42:46.164Z"
   },
   {
    "duration": 215,
    "start_time": "2023-02-08T20:42:48.619Z"
   },
   {
    "duration": 94,
    "start_time": "2023-02-08T20:43:03.232Z"
   },
   {
    "duration": 80,
    "start_time": "2023-02-08T20:43:04.580Z"
   },
   {
    "duration": 200,
    "start_time": "2023-02-08T20:43:10.656Z"
   },
   {
    "duration": 177,
    "start_time": "2023-02-08T20:43:20.603Z"
   },
   {
    "duration": 389,
    "start_time": "2023-02-08T20:43:26.933Z"
   },
   {
    "duration": 1388,
    "start_time": "2023-02-08T20:44:27.124Z"
   },
   {
    "duration": 4,
    "start_time": "2023-02-08T20:44:28.515Z"
   },
   {
    "duration": 15,
    "start_time": "2023-02-08T20:44:28.521Z"
   },
   {
    "duration": 26,
    "start_time": "2023-02-08T20:44:28.537Z"
   },
   {
    "duration": 904,
    "start_time": "2023-02-08T20:44:28.566Z"
   },
   {
    "duration": 139,
    "start_time": "2023-02-08T20:44:29.472Z"
   },
   {
    "duration": 19,
    "start_time": "2023-02-08T20:44:29.612Z"
   },
   {
    "duration": 311,
    "start_time": "2023-02-08T20:44:29.632Z"
   },
   {
    "duration": 119,
    "start_time": "2023-02-08T20:44:29.944Z"
   },
   {
    "duration": 464,
    "start_time": "2023-02-08T20:44:30.065Z"
   },
   {
    "duration": 2174,
    "start_time": "2023-02-08T20:44:30.531Z"
   },
   {
    "duration": 31,
    "start_time": "2023-02-08T20:44:32.707Z"
   },
   {
    "duration": 132,
    "start_time": "2023-02-08T20:44:32.740Z"
   },
   {
    "duration": 86,
    "start_time": "2023-02-08T20:44:32.875Z"
   },
   {
    "duration": 1623,
    "start_time": "2023-02-08T20:44:32.963Z"
   },
   {
    "duration": 19,
    "start_time": "2023-02-08T20:44:34.591Z"
   },
   {
    "duration": 20,
    "start_time": "2023-02-08T20:44:34.611Z"
   },
   {
    "duration": 237,
    "start_time": "2023-02-08T20:44:34.633Z"
   },
   {
    "duration": 85,
    "start_time": "2023-02-08T20:44:34.872Z"
   },
   {
    "duration": 83,
    "start_time": "2023-02-08T20:44:34.959Z"
   },
   {
    "duration": 203,
    "start_time": "2023-02-08T20:44:35.044Z"
   },
   {
    "duration": 409,
    "start_time": "2023-02-08T20:44:35.248Z"
   },
   {
    "duration": 3,
    "start_time": "2023-02-08T20:44:35.659Z"
   },
   {
    "duration": 42,
    "start_time": "2023-02-08T20:44:35.664Z"
   },
   {
    "duration": 13,
    "start_time": "2023-02-08T20:44:35.707Z"
   },
   {
    "duration": 57075,
    "start_time": "2023-02-08T20:45:04.383Z"
   },
   {
    "duration": 27,
    "start_time": "2023-02-08T20:46:01.460Z"
   },
   {
    "duration": 5198,
    "start_time": "2023-02-08T20:46:01.493Z"
   },
   {
    "duration": 19989,
    "start_time": "2023-02-08T20:46:13.672Z"
   },
   {
    "duration": 28,
    "start_time": "2023-02-08T20:46:33.663Z"
   },
   {
    "duration": 19675,
    "start_time": "2023-02-08T20:46:33.693Z"
   },
   {
    "duration": 172,
    "start_time": "2023-02-08T20:49:47.982Z"
   },
   {
    "duration": 480170,
    "start_time": "2023-02-08T20:50:44.924Z"
   },
   {
    "duration": 1457,
    "start_time": "2023-02-09T11:29:13.846Z"
   },
   {
    "duration": 4,
    "start_time": "2023-02-09T11:29:15.305Z"
   },
   {
    "duration": 11,
    "start_time": "2023-02-09T11:29:15.311Z"
   },
   {
    "duration": 8,
    "start_time": "2023-02-09T11:29:15.324Z"
   },
   {
    "duration": 2876,
    "start_time": "2023-02-09T11:29:15.334Z"
   },
   {
    "duration": 120,
    "start_time": "2023-02-09T11:29:18.211Z"
   },
   {
    "duration": 20,
    "start_time": "2023-02-09T11:29:18.332Z"
   },
   {
    "duration": 251,
    "start_time": "2023-02-09T11:29:18.354Z"
   },
   {
    "duration": 96,
    "start_time": "2023-02-09T11:29:18.606Z"
   },
   {
    "duration": 382,
    "start_time": "2023-02-09T11:29:18.704Z"
   },
   {
    "duration": 1888,
    "start_time": "2023-02-09T11:29:19.087Z"
   },
   {
    "duration": 26,
    "start_time": "2023-02-09T11:29:20.976Z"
   },
   {
    "duration": 124,
    "start_time": "2023-02-09T11:29:21.004Z"
   },
   {
    "duration": 84,
    "start_time": "2023-02-09T11:29:21.129Z"
   },
   {
    "duration": 1433,
    "start_time": "2023-02-09T11:29:21.215Z"
   },
   {
    "duration": 13,
    "start_time": "2023-02-09T11:29:22.650Z"
   },
   {
    "duration": 42,
    "start_time": "2023-02-09T11:29:22.665Z"
   },
   {
    "duration": 269,
    "start_time": "2023-02-09T11:29:22.708Z"
   },
   {
    "duration": 80,
    "start_time": "2023-02-09T11:29:22.978Z"
   },
   {
    "duration": 65,
    "start_time": "2023-02-09T11:29:23.060Z"
   },
   {
    "duration": 179,
    "start_time": "2023-02-09T11:29:23.127Z"
   },
   {
    "duration": 344,
    "start_time": "2023-02-09T11:29:23.307Z"
   },
   {
    "duration": 3,
    "start_time": "2023-02-09T11:29:23.652Z"
   },
   {
    "duration": 36,
    "start_time": "2023-02-09T11:29:23.656Z"
   },
   {
    "duration": 37,
    "start_time": "2023-02-09T11:29:23.694Z"
   },
   {
    "duration": 1270,
    "start_time": "2023-02-09T11:43:51.502Z"
   },
   {
    "duration": 4,
    "start_time": "2023-02-09T11:43:52.774Z"
   },
   {
    "duration": 10,
    "start_time": "2023-02-09T11:43:52.780Z"
   },
   {
    "duration": 9,
    "start_time": "2023-02-09T11:43:52.792Z"
   },
   {
    "duration": 781,
    "start_time": "2023-02-09T11:43:52.803Z"
   },
   {
    "duration": 130,
    "start_time": "2023-02-09T11:43:53.586Z"
   },
   {
    "duration": 16,
    "start_time": "2023-02-09T11:43:53.718Z"
   },
   {
    "duration": 282,
    "start_time": "2023-02-09T11:43:53.735Z"
   },
   {
    "duration": 104,
    "start_time": "2023-02-09T11:43:54.019Z"
   },
   {
    "duration": 424,
    "start_time": "2023-02-09T11:43:54.125Z"
   },
   {
    "duration": 1912,
    "start_time": "2023-02-09T11:43:54.551Z"
   },
   {
    "duration": 27,
    "start_time": "2023-02-09T11:43:56.465Z"
   },
   {
    "duration": 125,
    "start_time": "2023-02-09T11:43:56.494Z"
   },
   {
    "duration": 82,
    "start_time": "2023-02-09T11:43:56.622Z"
   },
   {
    "duration": 1449,
    "start_time": "2023-02-09T11:43:56.706Z"
   },
   {
    "duration": 14,
    "start_time": "2023-02-09T11:43:58.157Z"
   },
   {
    "duration": 23,
    "start_time": "2023-02-09T11:43:58.172Z"
   },
   {
    "duration": 194,
    "start_time": "2023-02-09T11:43:58.197Z"
   },
   {
    "duration": 78,
    "start_time": "2023-02-09T11:43:58.393Z"
   },
   {
    "duration": 62,
    "start_time": "2023-02-09T11:43:58.473Z"
   },
   {
    "duration": 173,
    "start_time": "2023-02-09T11:43:58.537Z"
   },
   {
    "duration": 349,
    "start_time": "2023-02-09T11:43:58.712Z"
   },
   {
    "duration": 3,
    "start_time": "2023-02-09T11:43:59.062Z"
   },
   {
    "duration": 20,
    "start_time": "2023-02-09T11:43:59.066Z"
   },
   {
    "duration": 13,
    "start_time": "2023-02-09T11:43:59.088Z"
   },
   {
    "duration": 3,
    "start_time": "2023-02-09T12:02:12.212Z"
   },
   {
    "duration": 3,
    "start_time": "2023-02-09T12:02:13.444Z"
   },
   {
    "duration": 104,
    "start_time": "2023-02-09T12:02:14.952Z"
   },
   {
    "duration": 15,
    "start_time": "2023-02-09T12:02:33.166Z"
   },
   {
    "duration": 217739,
    "start_time": "2023-02-09T12:04:24.809Z"
   },
   {
    "duration": 4,
    "start_time": "2023-02-09T12:08:10.856Z"
   },
   {
    "duration": 4,
    "start_time": "2023-02-09T12:09:11.561Z"
   },
   {
    "duration": 3,
    "start_time": "2023-02-09T12:09:12.790Z"
   },
   {
    "duration": 16,
    "start_time": "2023-02-09T12:09:13.664Z"
   },
   {
    "duration": 15,
    "start_time": "2023-02-09T12:27:14.679Z"
   },
   {
    "duration": 9754,
    "start_time": "2023-02-09T12:27:24.394Z"
   },
   {
    "duration": 0,
    "start_time": "2023-02-09T12:27:34.150Z"
   },
   {
    "duration": 0,
    "start_time": "2023-02-09T12:27:34.151Z"
   },
   {
    "duration": 3,
    "start_time": "2023-02-09T12:27:35.156Z"
   },
   {
    "duration": 3,
    "start_time": "2023-02-09T12:27:35.936Z"
   },
   {
    "duration": 80849,
    "start_time": "2023-02-09T12:27:36.460Z"
   },
   {
    "duration": 4,
    "start_time": "2023-02-09T12:28:57.310Z"
   },
   {
    "duration": 3,
    "start_time": "2023-02-09T12:30:19.299Z"
   },
   {
    "duration": 3,
    "start_time": "2023-02-09T12:30:20.794Z"
   },
   {
    "duration": 32471,
    "start_time": "2023-02-09T12:30:21.247Z"
   },
   {
    "duration": 4,
    "start_time": "2023-02-09T12:30:53.720Z"
   },
   {
    "duration": 6975,
    "start_time": "2023-02-09T12:32:33.094Z"
   },
   {
    "duration": 14,
    "start_time": "2023-02-09T12:32:44.076Z"
   },
   {
    "duration": 2015,
    "start_time": "2023-02-09T12:33:10.271Z"
   },
   {
    "duration": 2,
    "start_time": "2023-02-09T12:37:53.208Z"
   },
   {
    "duration": 3,
    "start_time": "2023-02-09T12:37:53.912Z"
   },
   {
    "duration": 54,
    "start_time": "2023-02-09T12:37:54.552Z"
   },
   {
    "duration": 57,
    "start_time": "2023-02-09T12:38:09.827Z"
   },
   {
    "duration": 14,
    "start_time": "2023-02-09T12:38:38.063Z"
   },
   {
    "duration": 4,
    "start_time": "2023-02-09T12:39:29.825Z"
   },
   {
    "duration": 65,
    "start_time": "2023-02-09T12:39:58.510Z"
   },
   {
    "duration": 10,
    "start_time": "2023-02-09T12:40:07.475Z"
   },
   {
    "duration": 33604,
    "start_time": "2023-02-09T13:00:08.603Z"
   },
   {
    "duration": 4,
    "start_time": "2023-02-09T13:00:45.331Z"
   },
   {
    "duration": 4,
    "start_time": "2023-02-09T13:01:25.228Z"
   },
   {
    "duration": 32926,
    "start_time": "2023-02-09T13:01:52.561Z"
   },
   {
    "duration": 8418,
    "start_time": "2023-02-09T13:02:27.526Z"
   },
   {
    "duration": 16,
    "start_time": "2023-02-09T13:02:35.946Z"
   },
   {
    "duration": 1986,
    "start_time": "2023-02-09T13:02:35.964Z"
   },
   {
    "duration": 4,
    "start_time": "2023-02-09T13:03:08.420Z"
   },
   {
    "duration": 3,
    "start_time": "2023-02-09T13:03:09.483Z"
   },
   {
    "duration": 32746,
    "start_time": "2023-02-09T13:03:10.854Z"
   },
   {
    "duration": 5,
    "start_time": "2023-02-09T13:03:43.603Z"
   },
   {
    "duration": 3,
    "start_time": "2023-02-09T13:05:10.454Z"
   },
   {
    "duration": 8,
    "start_time": "2023-02-09T13:06:28.285Z"
   },
   {
    "duration": 3,
    "start_time": "2023-02-09T13:06:35.702Z"
   },
   {
    "duration": 5,
    "start_time": "2023-02-09T13:06:39.367Z"
   },
   {
    "duration": 13,
    "start_time": "2023-02-09T13:06:52.211Z"
   },
   {
    "duration": 11,
    "start_time": "2023-02-09T13:06:58.858Z"
   },
   {
    "duration": 5,
    "start_time": "2023-02-09T13:07:02.036Z"
   },
   {
    "duration": 3,
    "start_time": "2023-02-09T13:07:15.188Z"
   },
   {
    "duration": 6777,
    "start_time": "2023-02-09T13:07:52.367Z"
   },
   {
    "duration": 32655,
    "start_time": "2023-02-09T13:10:42.659Z"
   },
   {
    "duration": 3,
    "start_time": "2023-02-09T13:11:18.000Z"
   },
   {
    "duration": 3,
    "start_time": "2023-02-09T13:11:19.099Z"
   },
   {
    "duration": 3,
    "start_time": "2023-02-09T13:11:19.256Z"
   },
   {
    "duration": 3,
    "start_time": "2023-02-09T13:11:19.401Z"
   },
   {
    "duration": 3,
    "start_time": "2023-02-09T13:11:19.516Z"
   },
   {
    "duration": 3,
    "start_time": "2023-02-09T13:11:19.636Z"
   },
   {
    "duration": 3,
    "start_time": "2023-02-09T13:11:19.770Z"
   },
   {
    "duration": 4,
    "start_time": "2023-02-09T13:11:19.903Z"
   },
   {
    "duration": 4,
    "start_time": "2023-02-09T13:11:44.425Z"
   },
   {
    "duration": 4,
    "start_time": "2023-02-09T13:12:00.328Z"
   },
   {
    "duration": 2,
    "start_time": "2023-02-09T13:13:38.335Z"
   },
   {
    "duration": 3,
    "start_time": "2023-02-09T13:13:39.430Z"
   },
   {
    "duration": 32547,
    "start_time": "2023-02-09T13:13:40.029Z"
   },
   {
    "duration": 4,
    "start_time": "2023-02-09T13:14:44.732Z"
   },
   {
    "duration": 1354,
    "start_time": "2023-02-09T13:14:58.144Z"
   },
   {
    "duration": 4,
    "start_time": "2023-02-09T13:14:59.500Z"
   },
   {
    "duration": 22,
    "start_time": "2023-02-09T13:14:59.506Z"
   },
   {
    "duration": 7,
    "start_time": "2023-02-09T13:14:59.530Z"
   },
   {
    "duration": 831,
    "start_time": "2023-02-09T13:14:59.538Z"
   },
   {
    "duration": 140,
    "start_time": "2023-02-09T13:15:00.371Z"
   },
   {
    "duration": 18,
    "start_time": "2023-02-09T13:15:00.513Z"
   },
   {
    "duration": 278,
    "start_time": "2023-02-09T13:15:00.532Z"
   },
   {
    "duration": 99,
    "start_time": "2023-02-09T13:15:00.812Z"
   },
   {
    "duration": 498,
    "start_time": "2023-02-09T13:15:00.914Z"
   },
   {
    "duration": 2021,
    "start_time": "2023-02-09T13:15:01.414Z"
   },
   {
    "duration": 25,
    "start_time": "2023-02-09T13:15:03.436Z"
   },
   {
    "duration": 134,
    "start_time": "2023-02-09T13:15:03.463Z"
   },
   {
    "duration": 92,
    "start_time": "2023-02-09T13:15:03.599Z"
   },
   {
    "duration": 1496,
    "start_time": "2023-02-09T13:15:03.692Z"
   },
   {
    "duration": 14,
    "start_time": "2023-02-09T13:15:05.190Z"
   },
   {
    "duration": 33,
    "start_time": "2023-02-09T13:15:05.206Z"
   },
   {
    "duration": 217,
    "start_time": "2023-02-09T13:15:05.241Z"
   },
   {
    "duration": 104,
    "start_time": "2023-02-09T13:15:05.460Z"
   },
   {
    "duration": 85,
    "start_time": "2023-02-09T13:15:05.567Z"
   },
   {
    "duration": 176,
    "start_time": "2023-02-09T13:15:05.654Z"
   },
   {
    "duration": 338,
    "start_time": "2023-02-09T13:15:05.832Z"
   },
   {
    "duration": 2,
    "start_time": "2023-02-09T13:15:06.172Z"
   },
   {
    "duration": 26,
    "start_time": "2023-02-09T13:15:06.175Z"
   },
   {
    "duration": 11,
    "start_time": "2023-02-09T13:15:06.203Z"
   },
   {
    "duration": 8307,
    "start_time": "2023-02-09T13:15:06.216Z"
   },
   {
    "duration": 24,
    "start_time": "2023-02-09T13:15:14.525Z"
   },
   {
    "duration": 2033,
    "start_time": "2023-02-09T13:15:14.551Z"
   },
   {
    "duration": 2,
    "start_time": "2023-02-09T13:15:16.586Z"
   },
   {
    "duration": 7,
    "start_time": "2023-02-09T13:15:16.590Z"
   },
   {
    "duration": 33209,
    "start_time": "2023-02-09T13:15:16.598Z"
   },
   {
    "duration": 4,
    "start_time": "2023-02-09T13:15:49.808Z"
   },
   {
    "duration": 2,
    "start_time": "2023-02-09T13:16:09.774Z"
   },
   {
    "duration": 2,
    "start_time": "2023-02-09T13:16:10.598Z"
   },
   {
    "duration": 32551,
    "start_time": "2023-02-09T13:16:11.277Z"
   },
   {
    "duration": 4,
    "start_time": "2023-02-09T13:16:54.082Z"
   },
   {
    "duration": 108,
    "start_time": "2023-02-09T13:20:11.851Z"
   },
   {
    "duration": 5,
    "start_time": "2023-02-09T13:20:31.639Z"
   },
   {
    "duration": 3,
    "start_time": "2023-02-09T13:20:42.196Z"
   },
   {
    "duration": 11529,
    "start_time": "2023-02-09T13:20:58.531Z"
   },
   {
    "duration": 16,
    "start_time": "2023-02-09T13:21:10.063Z"
   },
   {
    "duration": 2280,
    "start_time": "2023-02-09T13:21:10.080Z"
   },
   {
    "duration": 3,
    "start_time": "2023-02-09T13:21:17.086Z"
   },
   {
    "duration": 3,
    "start_time": "2023-02-09T13:21:17.926Z"
   },
   {
    "duration": 49683,
    "start_time": "2023-02-09T13:21:18.558Z"
   },
   {
    "duration": 4,
    "start_time": "2023-02-09T13:22:08.242Z"
   },
   {
    "duration": 48605,
    "start_time": "2023-02-09T13:23:04.908Z"
   },
   {
    "duration": 3,
    "start_time": "2023-02-09T13:23:58.469Z"
   },
   {
    "duration": 3,
    "start_time": "2023-02-09T13:24:02.758Z"
   },
   {
    "duration": 48552,
    "start_time": "2023-02-09T13:24:11.773Z"
   },
   {
    "duration": 3,
    "start_time": "2023-02-09T13:25:00.327Z"
   },
   {
    "duration": 18,
    "start_time": "2023-02-09T13:25:25.611Z"
   },
   {
    "duration": 48683,
    "start_time": "2023-02-09T13:27:43.189Z"
   },
   {
    "duration": 3,
    "start_time": "2023-02-09T13:28:31.874Z"
   },
   {
    "duration": 15235,
    "start_time": "2023-02-09T13:31:29.215Z"
   },
   {
    "duration": 3,
    "start_time": "2023-02-09T13:31:52.205Z"
   },
   {
    "duration": 15215,
    "start_time": "2023-02-09T13:32:41.766Z"
   },
   {
    "duration": 3,
    "start_time": "2023-02-09T13:32:57.996Z"
   },
   {
    "duration": 10916,
    "start_time": "2023-02-09T13:33:11.999Z"
   },
   {
    "duration": 15,
    "start_time": "2023-02-09T13:33:22.916Z"
   },
   {
    "duration": 2247,
    "start_time": "2023-02-09T13:33:22.933Z"
   },
   {
    "duration": 18,
    "start_time": "2023-02-09T13:44:38.792Z"
   },
   {
    "duration": 20471,
    "start_time": "2023-02-09T13:44:47.890Z"
   },
   {
    "duration": 3,
    "start_time": "2023-02-09T13:45:17.658Z"
   },
   {
    "duration": 9,
    "start_time": "2023-02-09T13:46:40.140Z"
   },
   {
    "duration": 9,
    "start_time": "2023-02-09T13:46:44.856Z"
   },
   {
    "duration": 9,
    "start_time": "2023-02-09T13:46:57.959Z"
   },
   {
    "duration": 10,
    "start_time": "2023-02-09T13:47:17.383Z"
   },
   {
    "duration": 41,
    "start_time": "2023-02-09T13:47:40.183Z"
   },
   {
    "duration": 41,
    "start_time": "2023-02-09T13:47:47.440Z"
   },
   {
    "duration": 60,
    "start_time": "2023-02-09T13:48:10.868Z"
   },
   {
    "duration": 10,
    "start_time": "2023-02-09T13:48:16.573Z"
   },
   {
    "duration": 63,
    "start_time": "2023-02-09T13:48:26.208Z"
   },
   {
    "duration": 11,
    "start_time": "2023-02-09T13:48:35.292Z"
   },
   {
    "duration": 42,
    "start_time": "2023-02-09T13:49:51.745Z"
   },
   {
    "duration": 20283,
    "start_time": "2023-02-09T13:50:05.081Z"
   },
   {
    "duration": 1,
    "start_time": "2023-02-09T13:50:25.365Z"
   },
   {
    "duration": 4,
    "start_time": "2023-02-09T13:50:44.455Z"
   },
   {
    "duration": 3,
    "start_time": "2023-02-09T13:53:53.398Z"
   },
   {
    "duration": 4,
    "start_time": "2023-02-09T13:54:12.559Z"
   },
   {
    "duration": 3,
    "start_time": "2023-02-09T13:54:45.995Z"
   },
   {
    "duration": 3,
    "start_time": "2023-02-09T13:54:46.872Z"
   },
   {
    "duration": 19698,
    "start_time": "2023-02-09T13:54:47.703Z"
   },
   {
    "duration": 44,
    "start_time": "2023-02-09T13:55:07.407Z"
   },
   {
    "duration": 3,
    "start_time": "2023-02-09T13:55:08.909Z"
   },
   {
    "duration": 4,
    "start_time": "2023-02-09T13:58:20.858Z"
   },
   {
    "duration": 2291,
    "start_time": "2023-02-09T13:58:43.819Z"
   },
   {
    "duration": 2072,
    "start_time": "2023-02-09T13:59:39.501Z"
   },
   {
    "duration": 2132,
    "start_time": "2023-02-09T14:00:05.566Z"
   },
   {
    "duration": 2186,
    "start_time": "2023-02-09T14:01:06.014Z"
   },
   {
    "duration": 2255,
    "start_time": "2023-02-09T14:01:49.893Z"
   },
   {
    "duration": 1289,
    "start_time": "2023-02-09T14:02:47.198Z"
   },
   {
    "duration": 5,
    "start_time": "2023-02-09T14:02:48.488Z"
   },
   {
    "duration": 18,
    "start_time": "2023-02-09T14:02:48.494Z"
   },
   {
    "duration": 9,
    "start_time": "2023-02-09T14:02:48.513Z"
   },
   {
    "duration": 829,
    "start_time": "2023-02-09T14:02:48.524Z"
   },
   {
    "duration": 135,
    "start_time": "2023-02-09T14:02:49.354Z"
   },
   {
    "duration": 14,
    "start_time": "2023-02-09T14:02:49.491Z"
   },
   {
    "duration": 272,
    "start_time": "2023-02-09T14:02:49.506Z"
   },
   {
    "duration": 95,
    "start_time": "2023-02-09T14:02:49.780Z"
   },
   {
    "duration": 375,
    "start_time": "2023-02-09T14:02:49.877Z"
   },
   {
    "duration": 1858,
    "start_time": "2023-02-09T14:02:50.254Z"
   },
   {
    "duration": 30,
    "start_time": "2023-02-09T14:02:52.114Z"
   },
   {
    "duration": 138,
    "start_time": "2023-02-09T14:02:52.146Z"
   },
   {
    "duration": 89,
    "start_time": "2023-02-09T14:02:52.287Z"
   },
   {
    "duration": 1455,
    "start_time": "2023-02-09T14:02:52.377Z"
   },
   {
    "duration": 16,
    "start_time": "2023-02-09T14:02:53.834Z"
   },
   {
    "duration": 52,
    "start_time": "2023-02-09T14:02:53.851Z"
   },
   {
    "duration": 202,
    "start_time": "2023-02-09T14:02:53.904Z"
   },
   {
    "duration": 88,
    "start_time": "2023-02-09T14:02:54.108Z"
   },
   {
    "duration": 72,
    "start_time": "2023-02-09T14:02:54.198Z"
   },
   {
    "duration": 171,
    "start_time": "2023-02-09T14:02:54.272Z"
   },
   {
    "duration": 324,
    "start_time": "2023-02-09T14:02:54.448Z"
   },
   {
    "duration": 2,
    "start_time": "2023-02-09T14:02:54.774Z"
   },
   {
    "duration": 30,
    "start_time": "2023-02-09T14:02:54.778Z"
   },
   {
    "duration": 24,
    "start_time": "2023-02-09T14:02:54.810Z"
   },
   {
    "duration": 17,
    "start_time": "2023-02-09T14:02:54.836Z"
   },
   {
    "duration": 30,
    "start_time": "2023-02-09T14:02:54.854Z"
   },
   {
    "duration": 29,
    "start_time": "2023-02-09T14:02:54.885Z"
   },
   {
    "duration": 62260,
    "start_time": "2023-02-09T14:02:54.916Z"
   },
   {
    "duration": 0,
    "start_time": "2023-02-09T14:03:57.178Z"
   },
   {
    "duration": 0,
    "start_time": "2023-02-09T14:03:57.179Z"
   },
   {
    "duration": 1348,
    "start_time": "2023-02-09T14:04:41.634Z"
   },
   {
    "duration": 4,
    "start_time": "2023-02-09T14:04:42.984Z"
   },
   {
    "duration": 15,
    "start_time": "2023-02-09T14:04:42.992Z"
   },
   {
    "duration": 9,
    "start_time": "2023-02-09T14:04:43.008Z"
   },
   {
    "duration": 813,
    "start_time": "2023-02-09T14:04:43.018Z"
   },
   {
    "duration": 139,
    "start_time": "2023-02-09T14:04:43.832Z"
   },
   {
    "duration": 18,
    "start_time": "2023-02-09T14:04:43.973Z"
   },
   {
    "duration": 286,
    "start_time": "2023-02-09T14:04:43.992Z"
   },
   {
    "duration": 94,
    "start_time": "2023-02-09T14:04:44.281Z"
   },
   {
    "duration": 383,
    "start_time": "2023-02-09T14:04:44.377Z"
   },
   {
    "duration": 1966,
    "start_time": "2023-02-09T14:04:44.761Z"
   },
   {
    "duration": 27,
    "start_time": "2023-02-09T14:04:46.728Z"
   },
   {
    "duration": 130,
    "start_time": "2023-02-09T14:04:46.757Z"
   },
   {
    "duration": 88,
    "start_time": "2023-02-09T14:04:46.889Z"
   },
   {
    "duration": 1526,
    "start_time": "2023-02-09T14:04:46.979Z"
   },
   {
    "duration": 16,
    "start_time": "2023-02-09T14:04:48.507Z"
   },
   {
    "duration": 30,
    "start_time": "2023-02-09T14:04:48.524Z"
   },
   {
    "duration": 211,
    "start_time": "2023-02-09T14:04:48.555Z"
   },
   {
    "duration": 71,
    "start_time": "2023-02-09T14:04:48.768Z"
   },
   {
    "duration": 62,
    "start_time": "2023-02-09T14:04:48.848Z"
   },
   {
    "duration": 184,
    "start_time": "2023-02-09T14:04:48.912Z"
   },
   {
    "duration": 336,
    "start_time": "2023-02-09T14:04:49.098Z"
   },
   {
    "duration": 3,
    "start_time": "2023-02-09T14:04:49.435Z"
   },
   {
    "duration": 19,
    "start_time": "2023-02-09T14:04:49.447Z"
   },
   {
    "duration": 10,
    "start_time": "2023-02-09T14:04:49.468Z"
   },
   {
    "duration": 5,
    "start_time": "2023-02-09T14:04:49.480Z"
   },
   {
    "duration": 74258,
    "start_time": "2023-02-09T14:04:49.487Z"
   },
   {
    "duration": 4491,
    "start_time": "2023-02-09T14:06:03.746Z"
   },
   {
    "duration": 223,
    "start_time": "2023-02-09T14:09:57.420Z"
   },
   {
    "duration": 134318,
    "start_time": "2023-02-09T14:10:50.154Z"
   },
   {
    "duration": 34332,
    "start_time": "2023-02-09T14:13:04.474Z"
   },
   {
    "duration": 832484,
    "start_time": "2023-02-09T14:14:34.229Z"
   },
   {
    "duration": 77568,
    "start_time": "2023-02-09T14:28:26.715Z"
   },
   {
    "duration": 26806,
    "start_time": "2023-02-09T14:30:50.249Z"
   },
   {
    "duration": 159346,
    "start_time": "2023-02-09T14:31:17.057Z"
   },
   {
    "duration": 141272,
    "start_time": "2023-02-09T14:41:34.902Z"
   },
   {
    "duration": 132383,
    "start_time": "2023-02-09T14:45:15.666Z"
   },
   {
    "duration": 1291,
    "start_time": "2023-02-09T14:51:51.383Z"
   },
   {
    "duration": 4,
    "start_time": "2023-02-09T14:51:52.675Z"
   },
   {
    "duration": 10,
    "start_time": "2023-02-09T14:51:52.681Z"
   },
   {
    "duration": 7,
    "start_time": "2023-02-09T14:51:52.693Z"
   },
   {
    "duration": 5,
    "start_time": "2023-02-09T14:51:52.702Z"
   },
   {
    "duration": 823,
    "start_time": "2023-02-09T14:51:52.708Z"
   },
   {
    "duration": 137,
    "start_time": "2023-02-09T14:51:53.532Z"
   },
   {
    "duration": 14,
    "start_time": "2023-02-09T14:51:53.671Z"
   },
   {
    "duration": 293,
    "start_time": "2023-02-09T14:51:53.687Z"
   },
   {
    "duration": 98,
    "start_time": "2023-02-09T14:51:53.982Z"
   },
   {
    "duration": 404,
    "start_time": "2023-02-09T14:51:54.081Z"
   },
   {
    "duration": 2008,
    "start_time": "2023-02-09T14:51:54.487Z"
   },
   {
    "duration": 27,
    "start_time": "2023-02-09T14:51:56.496Z"
   },
   {
    "duration": 131,
    "start_time": "2023-02-09T14:51:56.525Z"
   },
   {
    "duration": 90,
    "start_time": "2023-02-09T14:51:56.658Z"
   },
   {
    "duration": 1490,
    "start_time": "2023-02-09T14:51:56.750Z"
   },
   {
    "duration": 17,
    "start_time": "2023-02-09T14:51:58.242Z"
   },
   {
    "duration": 20,
    "start_time": "2023-02-09T14:51:58.260Z"
   },
   {
    "duration": 210,
    "start_time": "2023-02-09T14:51:58.281Z"
   },
   {
    "duration": 85,
    "start_time": "2023-02-09T14:51:58.493Z"
   },
   {
    "duration": 79,
    "start_time": "2023-02-09T14:51:58.580Z"
   },
   {
    "duration": 202,
    "start_time": "2023-02-09T14:51:58.661Z"
   },
   {
    "duration": 390,
    "start_time": "2023-02-09T14:51:58.864Z"
   },
   {
    "duration": 3,
    "start_time": "2023-02-09T14:51:59.255Z"
   },
   {
    "duration": 19,
    "start_time": "2023-02-09T14:51:59.259Z"
   },
   {
    "duration": 11,
    "start_time": "2023-02-09T14:51:59.280Z"
   },
   {
    "duration": 74187,
    "start_time": "2023-02-09T14:51:59.292Z"
   },
   {
    "duration": 4491,
    "start_time": "2023-02-09T14:53:13.483Z"
   },
   {
    "duration": 841909,
    "start_time": "2023-02-09T14:53:17.975Z"
   },
   {
    "duration": 77957,
    "start_time": "2023-02-09T15:07:19.886Z"
   },
   {
    "duration": 885117,
    "start_time": "2023-02-09T15:08:37.845Z"
   },
   {
    "duration": 12096,
    "start_time": "2023-02-09T15:23:22.964Z"
   },
   {
    "duration": 49,
    "start_time": "2023-02-12T07:13:45.829Z"
   },
   {
    "duration": 1628,
    "start_time": "2023-02-12T07:14:03.964Z"
   },
   {
    "duration": 5,
    "start_time": "2023-02-12T07:14:05.594Z"
   },
   {
    "duration": 24,
    "start_time": "2023-02-12T07:14:05.600Z"
   },
   {
    "duration": 11,
    "start_time": "2023-02-12T07:14:05.626Z"
   },
   {
    "duration": 5,
    "start_time": "2023-02-12T07:14:05.638Z"
   },
   {
    "duration": 1083,
    "start_time": "2023-02-12T07:14:05.645Z"
   },
   {
    "duration": 111,
    "start_time": "2023-02-12T07:14:06.730Z"
   },
   {
    "duration": 15,
    "start_time": "2023-02-12T07:14:06.842Z"
   },
   {
    "duration": 278,
    "start_time": "2023-02-12T07:14:06.858Z"
   },
   {
    "duration": 104,
    "start_time": "2023-02-12T07:14:07.139Z"
   },
   {
    "duration": 415,
    "start_time": "2023-02-12T07:14:07.244Z"
   },
   {
    "duration": 1887,
    "start_time": "2023-02-12T07:14:07.661Z"
   },
   {
    "duration": 27,
    "start_time": "2023-02-12T07:14:09.550Z"
   },
   {
    "duration": 120,
    "start_time": "2023-02-12T07:14:09.578Z"
   },
   {
    "duration": 78,
    "start_time": "2023-02-12T07:14:09.700Z"
   },
   {
    "duration": 4,
    "start_time": "2023-02-12T07:14:09.779Z"
   },
   {
    "duration": 110,
    "start_time": "2023-02-12T07:14:15.211Z"
   },
   {
    "duration": 4,
    "start_time": "2023-02-12T07:15:19.103Z"
   },
   {
    "duration": 1530,
    "start_time": "2023-02-12T10:30:36.489Z"
   },
   {
    "duration": 4,
    "start_time": "2023-02-12T10:30:38.021Z"
   },
   {
    "duration": 10,
    "start_time": "2023-02-12T10:30:38.027Z"
   },
   {
    "duration": 4,
    "start_time": "2023-02-12T10:30:38.220Z"
   },
   {
    "duration": 3,
    "start_time": "2023-02-12T10:30:38.515Z"
   },
   {
    "duration": 3146,
    "start_time": "2023-02-12T10:30:40.003Z"
   },
   {
    "duration": 134,
    "start_time": "2023-02-12T10:30:43.151Z"
   },
   {
    "duration": 16,
    "start_time": "2023-02-12T10:30:43.287Z"
   },
   {
    "duration": 20,
    "start_time": "2023-02-12T10:31:01.986Z"
   },
   {
    "duration": 845,
    "start_time": "2023-02-12T10:31:18.717Z"
   },
   {
    "duration": 18,
    "start_time": "2023-02-12T10:31:34.277Z"
   },
   {
    "duration": 4,
    "start_time": "2023-02-12T10:32:39.080Z"
   },
   {
    "duration": 15,
    "start_time": "2023-02-12T10:32:43.784Z"
   },
   {
    "duration": 35,
    "start_time": "2023-02-12T10:32:54.636Z"
   },
   {
    "duration": 16,
    "start_time": "2023-02-12T10:33:06.479Z"
   },
   {
    "duration": 23,
    "start_time": "2023-02-12T10:33:10.868Z"
   },
   {
    "duration": 68,
    "start_time": "2023-02-12T10:33:14.831Z"
   },
   {
    "duration": 29,
    "start_time": "2023-02-12T10:33:17.563Z"
   },
   {
    "duration": 1425,
    "start_time": "2023-02-12T10:35:42.561Z"
   },
   {
    "duration": 5,
    "start_time": "2023-02-12T10:35:43.988Z"
   },
   {
    "duration": 11,
    "start_time": "2023-02-12T10:35:43.995Z"
   },
   {
    "duration": 9,
    "start_time": "2023-02-12T10:35:44.008Z"
   },
   {
    "duration": 14,
    "start_time": "2023-02-12T10:35:44.019Z"
   },
   {
    "duration": 793,
    "start_time": "2023-02-12T10:35:44.034Z"
   },
   {
    "duration": 138,
    "start_time": "2023-02-12T10:35:44.831Z"
   },
   {
    "duration": 15,
    "start_time": "2023-02-12T10:35:44.971Z"
   },
   {
    "duration": 333,
    "start_time": "2023-02-12T10:35:44.987Z"
   },
   {
    "duration": 92,
    "start_time": "2023-02-12T10:35:45.321Z"
   },
   {
    "duration": 389,
    "start_time": "2023-02-12T10:35:45.415Z"
   },
   {
    "duration": 1958,
    "start_time": "2023-02-12T10:35:45.806Z"
   },
   {
    "duration": 26,
    "start_time": "2023-02-12T10:35:47.765Z"
   },
   {
    "duration": 149,
    "start_time": "2023-02-12T10:35:47.793Z"
   },
   {
    "duration": 89,
    "start_time": "2023-02-12T10:35:47.944Z"
   },
   {
    "duration": 4,
    "start_time": "2023-02-12T10:35:48.035Z"
   },
   {
    "duration": 145,
    "start_time": "2023-02-12T10:35:48.041Z"
   },
   {
    "duration": 5,
    "start_time": "2023-02-12T10:35:48.188Z"
   },
   {
    "duration": 1182,
    "start_time": "2023-02-12T11:04:27.155Z"
   },
   {
    "duration": 940,
    "start_time": "2023-02-12T11:04:57.476Z"
   },
   {
    "duration": 909,
    "start_time": "2023-02-12T11:05:13.124Z"
   },
   {
    "duration": 949,
    "start_time": "2023-02-12T11:05:52.824Z"
   },
   {
    "duration": 942,
    "start_time": "2023-02-12T11:06:05.344Z"
   },
   {
    "duration": 921,
    "start_time": "2023-02-12T11:06:29.406Z"
   },
   {
    "duration": 1123,
    "start_time": "2023-02-12T11:08:04.796Z"
   },
   {
    "duration": 1014,
    "start_time": "2023-02-12T11:08:28.943Z"
   },
   {
    "duration": 550,
    "start_time": "2023-02-12T11:10:32.883Z"
   },
   {
    "duration": 1119,
    "start_time": "2023-02-12T11:10:46.651Z"
   },
   {
    "duration": 669,
    "start_time": "2023-02-12T11:11:12.827Z"
   },
   {
    "duration": 536,
    "start_time": "2023-02-12T11:11:28.775Z"
   },
   {
    "duration": 628,
    "start_time": "2023-02-12T11:11:46.403Z"
   },
   {
    "duration": 589,
    "start_time": "2023-02-12T11:12:29.492Z"
   },
   {
    "duration": 1368,
    "start_time": "2023-02-12T11:14:11.624Z"
   },
   {
    "duration": 9,
    "start_time": "2023-02-12T11:14:12.995Z"
   },
   {
    "duration": 15,
    "start_time": "2023-02-12T11:14:13.006Z"
   },
   {
    "duration": 8,
    "start_time": "2023-02-12T11:14:13.022Z"
   },
   {
    "duration": 4,
    "start_time": "2023-02-12T11:14:13.032Z"
   },
   {
    "duration": 894,
    "start_time": "2023-02-12T11:14:13.038Z"
   },
   {
    "duration": 159,
    "start_time": "2023-02-12T11:14:13.934Z"
   },
   {
    "duration": 15,
    "start_time": "2023-02-12T11:14:14.094Z"
   },
   {
    "duration": 281,
    "start_time": "2023-02-12T11:14:14.110Z"
   },
   {
    "duration": 101,
    "start_time": "2023-02-12T11:14:14.394Z"
   },
   {
    "duration": 450,
    "start_time": "2023-02-12T11:14:14.497Z"
   },
   {
    "duration": 2099,
    "start_time": "2023-02-12T11:14:14.949Z"
   },
   {
    "duration": 26,
    "start_time": "2023-02-12T11:14:17.050Z"
   },
   {
    "duration": 145,
    "start_time": "2023-02-12T11:14:17.079Z"
   },
   {
    "duration": 109,
    "start_time": "2023-02-12T11:14:17.225Z"
   },
   {
    "duration": 4,
    "start_time": "2023-02-12T11:14:17.336Z"
   },
   {
    "duration": 136,
    "start_time": "2023-02-12T11:14:17.341Z"
   },
   {
    "duration": 6,
    "start_time": "2023-02-12T11:14:17.480Z"
   },
   {
    "duration": 625,
    "start_time": "2023-02-12T11:14:20.593Z"
   },
   {
    "duration": 634,
    "start_time": "2023-02-12T11:14:41.074Z"
   },
   {
    "duration": 17,
    "start_time": "2023-02-12T11:17:34.273Z"
   },
   {
    "duration": 41,
    "start_time": "2023-02-12T11:17:54.859Z"
   },
   {
    "duration": 36,
    "start_time": "2023-02-12T11:18:02.502Z"
   },
   {
    "duration": 594,
    "start_time": "2023-02-12T11:18:54.596Z"
   },
   {
    "duration": 736,
    "start_time": "2023-02-12T11:20:27.943Z"
   },
   {
    "duration": 18,
    "start_time": "2023-02-12T11:29:56.432Z"
   },
   {
    "duration": 11,
    "start_time": "2023-02-12T11:31:11.655Z"
   },
   {
    "duration": 11,
    "start_time": "2023-02-12T11:31:32.573Z"
   },
   {
    "duration": 12,
    "start_time": "2023-02-12T11:32:03.025Z"
   },
   {
    "duration": 19,
    "start_time": "2023-02-12T11:32:18.891Z"
   },
   {
    "duration": 637,
    "start_time": "2023-02-12T11:32:59.864Z"
   },
   {
    "duration": 654,
    "start_time": "2023-02-12T11:33:10.057Z"
   },
   {
    "duration": 742,
    "start_time": "2023-02-12T11:33:24.233Z"
   },
   {
    "duration": 795,
    "start_time": "2023-02-12T11:34:10.055Z"
   },
   {
    "duration": 907,
    "start_time": "2023-02-12T11:34:28.593Z"
   },
   {
    "duration": 12,
    "start_time": "2023-02-12T11:37:02.998Z"
   },
   {
    "duration": 66,
    "start_time": "2023-02-12T11:37:42.182Z"
   },
   {
    "duration": 58,
    "start_time": "2023-02-12T11:38:00.372Z"
   },
   {
    "duration": 63,
    "start_time": "2023-02-12T11:38:04.475Z"
   },
   {
    "duration": 69,
    "start_time": "2023-02-12T11:38:22.689Z"
   },
   {
    "duration": 42,
    "start_time": "2023-02-12T11:39:04.643Z"
   },
   {
    "duration": 21,
    "start_time": "2023-02-12T11:39:10.721Z"
   },
   {
    "duration": 8,
    "start_time": "2023-02-12T11:39:16.564Z"
   },
   {
    "duration": 40,
    "start_time": "2023-02-12T11:39:21.533Z"
   },
   {
    "duration": 7,
    "start_time": "2023-02-12T11:39:24.242Z"
   },
   {
    "duration": 10,
    "start_time": "2023-02-12T11:39:40.991Z"
   },
   {
    "duration": 10,
    "start_time": "2023-02-12T11:40:10.766Z"
   },
   {
    "duration": 8,
    "start_time": "2023-02-12T11:40:17.053Z"
   },
   {
    "duration": 9,
    "start_time": "2023-02-12T11:40:20.972Z"
   },
   {
    "duration": 8,
    "start_time": "2023-02-12T11:40:28.818Z"
   },
   {
    "duration": 8,
    "start_time": "2023-02-12T11:41:28.681Z"
   },
   {
    "duration": 10,
    "start_time": "2023-02-12T11:41:35.133Z"
   },
   {
    "duration": 8,
    "start_time": "2023-02-12T11:41:37.752Z"
   },
   {
    "duration": 8,
    "start_time": "2023-02-12T11:41:40.365Z"
   },
   {
    "duration": 8,
    "start_time": "2023-02-12T11:41:43.682Z"
   },
   {
    "duration": 9,
    "start_time": "2023-02-12T11:41:45.802Z"
   },
   {
    "duration": 7,
    "start_time": "2023-02-12T11:41:47.984Z"
   },
   {
    "duration": 10,
    "start_time": "2023-02-12T11:41:50.764Z"
   },
   {
    "duration": 7,
    "start_time": "2023-02-12T11:41:53.673Z"
   },
   {
    "duration": 11,
    "start_time": "2023-02-12T11:57:14.921Z"
   },
   {
    "duration": 53,
    "start_time": "2023-02-12T11:57:34.962Z"
   },
   {
    "duration": 23,
    "start_time": "2023-02-12T11:57:38.231Z"
   },
   {
    "duration": 19,
    "start_time": "2023-02-12T11:58:09.541Z"
   },
   {
    "duration": 11,
    "start_time": "2023-02-12T11:58:12.271Z"
   },
   {
    "duration": 27,
    "start_time": "2023-02-12T11:58:31.871Z"
   },
   {
    "duration": 26,
    "start_time": "2023-02-12T11:58:50.851Z"
   },
   {
    "duration": 26,
    "start_time": "2023-02-12T11:59:02.211Z"
   },
   {
    "duration": 55,
    "start_time": "2023-02-12T11:59:36.891Z"
   },
   {
    "duration": 55,
    "start_time": "2023-02-12T12:00:04.506Z"
   },
   {
    "duration": 19,
    "start_time": "2023-02-12T12:00:18.312Z"
   },
   {
    "duration": 14,
    "start_time": "2023-02-12T12:00:33.121Z"
   },
   {
    "duration": 19,
    "start_time": "2023-02-12T12:01:08.783Z"
   },
   {
    "duration": 11,
    "start_time": "2023-02-12T12:01:16.355Z"
   },
   {
    "duration": 19,
    "start_time": "2023-02-12T12:02:33.054Z"
   },
   {
    "duration": 11,
    "start_time": "2023-02-12T12:03:07.722Z"
   },
   {
    "duration": 11,
    "start_time": "2023-02-12T12:03:16.532Z"
   },
   {
    "duration": 5,
    "start_time": "2023-02-12T12:06:13.172Z"
   },
   {
    "duration": 6,
    "start_time": "2023-02-12T12:06:15.779Z"
   },
   {
    "duration": 6,
    "start_time": "2023-02-12T12:06:26.879Z"
   },
   {
    "duration": 20,
    "start_time": "2023-02-12T12:06:31.264Z"
   },
   {
    "duration": 49,
    "start_time": "2023-02-12T12:07:14.751Z"
   },
   {
    "duration": 23,
    "start_time": "2023-02-12T12:07:21.438Z"
   },
   {
    "duration": 18,
    "start_time": "2023-02-12T12:07:25.720Z"
   },
   {
    "duration": 37,
    "start_time": "2023-02-12T12:08:27.233Z"
   },
   {
    "duration": 67,
    "start_time": "2023-02-12T12:08:36.812Z"
   },
   {
    "duration": 58,
    "start_time": "2023-02-12T12:09:11.132Z"
   },
   {
    "duration": 26,
    "start_time": "2023-02-12T12:09:18.491Z"
   },
   {
    "duration": 17,
    "start_time": "2023-02-12T12:09:41.592Z"
   },
   {
    "duration": 19,
    "start_time": "2023-02-12T12:14:18.484Z"
   },
   {
    "duration": 18,
    "start_time": "2023-02-12T12:14:37.712Z"
   },
   {
    "duration": 23,
    "start_time": "2023-02-12T12:14:59.789Z"
   },
   {
    "duration": 26,
    "start_time": "2023-02-12T12:15:18.172Z"
   },
   {
    "duration": 22,
    "start_time": "2023-02-12T12:15:31.793Z"
   },
   {
    "duration": 27,
    "start_time": "2023-02-12T12:15:58.363Z"
   },
   {
    "duration": 20,
    "start_time": "2023-02-12T12:16:23.634Z"
   },
   {
    "duration": 19,
    "start_time": "2023-02-12T12:16:43.532Z"
   },
   {
    "duration": 18,
    "start_time": "2023-02-12T12:17:01.238Z"
   },
   {
    "duration": 22,
    "start_time": "2023-02-12T12:19:42.653Z"
   },
   {
    "duration": 25,
    "start_time": "2023-02-12T12:20:38.930Z"
   },
   {
    "duration": 22,
    "start_time": "2023-02-12T12:23:51.974Z"
   },
   {
    "duration": 15,
    "start_time": "2023-02-12T12:25:20.821Z"
   },
   {
    "duration": 6,
    "start_time": "2023-02-12T12:25:40.239Z"
   },
   {
    "duration": 610,
    "start_time": "2023-02-12T12:26:04.130Z"
   },
   {
    "duration": 1459,
    "start_time": "2023-02-12T12:26:56.318Z"
   },
   {
    "duration": 4,
    "start_time": "2023-02-12T12:26:57.787Z"
   },
   {
    "duration": 21,
    "start_time": "2023-02-12T12:26:57.793Z"
   },
   {
    "duration": 28,
    "start_time": "2023-02-12T12:26:57.816Z"
   },
   {
    "duration": 40,
    "start_time": "2023-02-12T12:26:57.847Z"
   },
   {
    "duration": 953,
    "start_time": "2023-02-12T12:26:57.889Z"
   },
   {
    "duration": 152,
    "start_time": "2023-02-12T12:26:58.844Z"
   },
   {
    "duration": 24,
    "start_time": "2023-02-12T12:26:58.998Z"
   },
   {
    "duration": 322,
    "start_time": "2023-02-12T12:26:59.024Z"
   },
   {
    "duration": 101,
    "start_time": "2023-02-12T12:26:59.348Z"
   },
   {
    "duration": 459,
    "start_time": "2023-02-12T12:26:59.451Z"
   },
   {
    "duration": 2325,
    "start_time": "2023-02-12T12:26:59.911Z"
   },
   {
    "duration": 30,
    "start_time": "2023-02-12T12:27:02.238Z"
   },
   {
    "duration": 151,
    "start_time": "2023-02-12T12:27:02.273Z"
   },
   {
    "duration": 110,
    "start_time": "2023-02-12T12:27:02.426Z"
   },
   {
    "duration": 6,
    "start_time": "2023-02-12T12:27:02.537Z"
   },
   {
    "duration": 176,
    "start_time": "2023-02-12T12:27:02.545Z"
   },
   {
    "duration": 5,
    "start_time": "2023-02-12T12:27:02.724Z"
   },
   {
    "duration": 1071,
    "start_time": "2023-02-12T12:27:02.731Z"
   },
   {
    "duration": 16,
    "start_time": "2023-02-12T12:27:03.804Z"
   },
   {
    "duration": 13,
    "start_time": "2023-02-12T12:27:03.823Z"
   },
   {
    "duration": 769,
    "start_time": "2023-02-12T12:27:18.987Z"
   },
   {
    "duration": 1513,
    "start_time": "2023-02-12T12:27:52.963Z"
   },
   {
    "duration": 5,
    "start_time": "2023-02-12T12:27:54.479Z"
   },
   {
    "duration": 32,
    "start_time": "2023-02-12T12:27:54.486Z"
   },
   {
    "duration": 47,
    "start_time": "2023-02-12T12:27:54.521Z"
   },
   {
    "duration": 53,
    "start_time": "2023-02-12T12:27:54.573Z"
   },
   {
    "duration": 1148,
    "start_time": "2023-02-12T12:27:54.629Z"
   },
   {
    "duration": 229,
    "start_time": "2023-02-12T12:27:55.779Z"
   },
   {
    "duration": 39,
    "start_time": "2023-02-12T12:27:56.010Z"
   },
   {
    "duration": 355,
    "start_time": "2023-02-12T12:27:56.051Z"
   },
   {
    "duration": 195,
    "start_time": "2023-02-12T12:27:56.409Z"
   },
   {
    "duration": 476,
    "start_time": "2023-02-12T12:27:56.606Z"
   },
   {
    "duration": 2468,
    "start_time": "2023-02-12T12:27:57.084Z"
   },
   {
    "duration": 35,
    "start_time": "2023-02-12T12:27:59.554Z"
   },
   {
    "duration": 213,
    "start_time": "2023-02-12T12:27:59.592Z"
   },
   {
    "duration": 98,
    "start_time": "2023-02-12T12:27:59.807Z"
   },
   {
    "duration": 5,
    "start_time": "2023-02-12T12:27:59.908Z"
   },
   {
    "duration": 148,
    "start_time": "2023-02-12T12:27:59.915Z"
   },
   {
    "duration": 5,
    "start_time": "2023-02-12T12:28:00.067Z"
   },
   {
    "duration": 962,
    "start_time": "2023-02-12T12:28:00.074Z"
   },
   {
    "duration": 43,
    "start_time": "2023-02-12T12:28:01.038Z"
   },
   {
    "duration": 16,
    "start_time": "2023-02-12T12:28:01.084Z"
   },
   {
    "duration": 1397,
    "start_time": "2023-02-12T12:28:26.702Z"
   },
   {
    "duration": 5,
    "start_time": "2023-02-12T12:28:28.101Z"
   },
   {
    "duration": 10,
    "start_time": "2023-02-12T12:28:28.109Z"
   },
   {
    "duration": 7,
    "start_time": "2023-02-12T12:28:28.121Z"
   },
   {
    "duration": 6,
    "start_time": "2023-02-12T12:28:28.131Z"
   },
   {
    "duration": 836,
    "start_time": "2023-02-12T12:28:28.139Z"
   },
   {
    "duration": 160,
    "start_time": "2023-02-12T12:28:28.976Z"
   },
   {
    "duration": 33,
    "start_time": "2023-02-12T12:28:29.139Z"
   },
   {
    "duration": 322,
    "start_time": "2023-02-12T12:28:29.174Z"
   },
   {
    "duration": 107,
    "start_time": "2023-02-12T12:28:29.497Z"
   },
   {
    "duration": 463,
    "start_time": "2023-02-12T12:28:29.606Z"
   },
   {
    "duration": 2141,
    "start_time": "2023-02-12T12:28:30.071Z"
   },
   {
    "duration": 33,
    "start_time": "2023-02-12T12:28:32.214Z"
   },
   {
    "duration": 138,
    "start_time": "2023-02-12T12:28:32.251Z"
   },
   {
    "duration": 95,
    "start_time": "2023-02-12T12:28:32.390Z"
   },
   {
    "duration": 5,
    "start_time": "2023-02-12T12:28:32.486Z"
   },
   {
    "duration": 164,
    "start_time": "2023-02-12T12:28:32.493Z"
   },
   {
    "duration": 8,
    "start_time": "2023-02-12T12:28:32.659Z"
   },
   {
    "duration": 996,
    "start_time": "2023-02-12T12:28:32.668Z"
   },
   {
    "duration": 21,
    "start_time": "2023-02-12T12:28:33.667Z"
   },
   {
    "duration": 37,
    "start_time": "2023-02-12T12:28:33.690Z"
   },
   {
    "duration": 101,
    "start_time": "2023-02-12T12:28:48.003Z"
   },
   {
    "duration": 8,
    "start_time": "2023-02-12T12:32:10.588Z"
   },
   {
    "duration": 122,
    "start_time": "2023-02-12T12:32:20.421Z"
   },
   {
    "duration": 1412,
    "start_time": "2023-02-12T12:32:41.910Z"
   },
   {
    "duration": 4,
    "start_time": "2023-02-12T12:32:43.324Z"
   },
   {
    "duration": 18,
    "start_time": "2023-02-12T12:32:43.330Z"
   },
   {
    "duration": 13,
    "start_time": "2023-02-12T12:32:43.350Z"
   },
   {
    "duration": 10,
    "start_time": "2023-02-12T12:32:43.366Z"
   },
   {
    "duration": 1025,
    "start_time": "2023-02-12T12:32:43.377Z"
   },
   {
    "duration": 149,
    "start_time": "2023-02-12T12:32:44.403Z"
   },
   {
    "duration": 41,
    "start_time": "2023-02-12T12:32:44.555Z"
   },
   {
    "duration": 385,
    "start_time": "2023-02-12T12:32:44.599Z"
   },
   {
    "duration": 129,
    "start_time": "2023-02-12T12:32:44.989Z"
   },
   {
    "duration": 516,
    "start_time": "2023-02-12T12:32:45.120Z"
   },
   {
    "duration": 2403,
    "start_time": "2023-02-12T12:32:45.637Z"
   },
   {
    "duration": 39,
    "start_time": "2023-02-12T12:32:48.042Z"
   },
   {
    "duration": 165,
    "start_time": "2023-02-12T12:32:48.086Z"
   },
   {
    "duration": 146,
    "start_time": "2023-02-12T12:32:48.253Z"
   },
   {
    "duration": 6,
    "start_time": "2023-02-12T12:32:48.401Z"
   },
   {
    "duration": 203,
    "start_time": "2023-02-12T12:32:48.409Z"
   },
   {
    "duration": 5,
    "start_time": "2023-02-12T12:32:48.614Z"
   },
   {
    "duration": 1038,
    "start_time": "2023-02-12T12:32:48.621Z"
   },
   {
    "duration": 29,
    "start_time": "2023-02-12T12:32:49.661Z"
   },
   {
    "duration": 111,
    "start_time": "2023-02-12T12:32:55.093Z"
   },
   {
    "duration": 23,
    "start_time": "2023-02-12T12:33:22.910Z"
   },
   {
    "duration": 24,
    "start_time": "2023-02-12T12:33:52.489Z"
   },
   {
    "duration": 9,
    "start_time": "2023-02-12T12:34:36.628Z"
   },
   {
    "duration": 25,
    "start_time": "2023-02-12T12:34:40.051Z"
   },
   {
    "duration": 8,
    "start_time": "2023-02-12T12:34:50.528Z"
   },
   {
    "duration": 21,
    "start_time": "2023-02-12T12:34:52.458Z"
   },
   {
    "duration": 10,
    "start_time": "2023-02-12T12:35:21.092Z"
   },
   {
    "duration": 19,
    "start_time": "2023-02-12T12:35:23.890Z"
   },
   {
    "duration": 13,
    "start_time": "2023-02-12T12:36:16.089Z"
   },
   {
    "duration": 19,
    "start_time": "2023-02-12T12:36:18.389Z"
   },
   {
    "duration": 135,
    "start_time": "2023-02-12T12:43:23.268Z"
   },
   {
    "duration": 1584,
    "start_time": "2023-02-12T12:43:36.090Z"
   },
   {
    "duration": 5,
    "start_time": "2023-02-12T12:43:37.676Z"
   },
   {
    "duration": 12,
    "start_time": "2023-02-12T12:43:37.683Z"
   },
   {
    "duration": 11,
    "start_time": "2023-02-12T12:43:37.698Z"
   },
   {
    "duration": 14,
    "start_time": "2023-02-12T12:43:37.711Z"
   },
   {
    "duration": 957,
    "start_time": "2023-02-12T12:43:37.727Z"
   },
   {
    "duration": 150,
    "start_time": "2023-02-12T12:43:38.686Z"
   },
   {
    "duration": 18,
    "start_time": "2023-02-12T12:43:38.838Z"
   },
   {
    "duration": 294,
    "start_time": "2023-02-12T12:43:38.868Z"
   },
   {
    "duration": 107,
    "start_time": "2023-02-12T12:43:39.164Z"
   },
   {
    "duration": 427,
    "start_time": "2023-02-12T12:43:39.273Z"
   },
   {
    "duration": 2254,
    "start_time": "2023-02-12T12:43:39.702Z"
   },
   {
    "duration": 35,
    "start_time": "2023-02-12T12:43:41.958Z"
   },
   {
    "duration": 162,
    "start_time": "2023-02-12T12:43:41.998Z"
   },
   {
    "duration": 90,
    "start_time": "2023-02-12T12:43:42.162Z"
   },
   {
    "duration": 16,
    "start_time": "2023-02-12T12:43:42.253Z"
   },
   {
    "duration": 161,
    "start_time": "2023-02-12T12:43:42.270Z"
   },
   {
    "duration": 5,
    "start_time": "2023-02-12T12:43:42.433Z"
   },
   {
    "duration": 959,
    "start_time": "2023-02-12T12:43:42.440Z"
   },
   {
    "duration": 5,
    "start_time": "2023-02-12T12:43:43.401Z"
   },
   {
    "duration": 24,
    "start_time": "2023-02-12T12:43:43.409Z"
   },
   {
    "duration": 5,
    "start_time": "2023-02-12T12:44:18.160Z"
   },
   {
    "duration": 23,
    "start_time": "2023-02-12T12:44:20.070Z"
   },
   {
    "duration": 23,
    "start_time": "2023-02-12T12:44:52.351Z"
   },
   {
    "duration": 177,
    "start_time": "2023-02-12T12:44:59.236Z"
   },
   {
    "duration": 5,
    "start_time": "2023-02-12T12:45:08.488Z"
   },
   {
    "duration": 17,
    "start_time": "2023-02-12T12:45:10.237Z"
   },
   {
    "duration": 22,
    "start_time": "2023-02-12T12:45:12.587Z"
   },
   {
    "duration": 5,
    "start_time": "2023-02-12T12:46:20.441Z"
   },
   {
    "duration": 3,
    "start_time": "2023-02-12T12:47:29.156Z"
   },
   {
    "duration": 12,
    "start_time": "2023-02-12T12:48:23.398Z"
   },
   {
    "duration": 12,
    "start_time": "2023-02-12T12:48:42.588Z"
   },
   {
    "duration": 67,
    "start_time": "2023-02-12T12:48:50.910Z"
   },
   {
    "duration": 19,
    "start_time": "2023-02-12T12:51:17.942Z"
   },
   {
    "duration": 28,
    "start_time": "2023-02-12T12:51:22.633Z"
   },
   {
    "duration": 35,
    "start_time": "2023-02-12T12:51:40.238Z"
   },
   {
    "duration": 38,
    "start_time": "2023-02-12T12:51:47.890Z"
   },
   {
    "duration": 44,
    "start_time": "2023-02-12T12:51:52.631Z"
   },
   {
    "duration": 45,
    "start_time": "2023-02-12T12:56:50.036Z"
   },
   {
    "duration": 178,
    "start_time": "2023-02-12T12:57:32.635Z"
   },
   {
    "duration": 202,
    "start_time": "2023-02-12T12:57:53.645Z"
   },
   {
    "duration": 20,
    "start_time": "2023-02-12T12:58:56.952Z"
   },
   {
    "duration": 1988,
    "start_time": "2023-02-12T12:59:50.296Z"
   },
   {
    "duration": 9,
    "start_time": "2023-02-12T12:59:52.289Z"
   },
   {
    "duration": 17,
    "start_time": "2023-02-12T12:59:52.302Z"
   },
   {
    "duration": 13,
    "start_time": "2023-02-12T12:59:52.321Z"
   },
   {
    "duration": 14,
    "start_time": "2023-02-12T12:59:52.337Z"
   },
   {
    "duration": 41,
    "start_time": "2023-02-12T12:59:52.353Z"
   },
   {
    "duration": 13,
    "start_time": "2023-02-12T12:59:52.396Z"
   },
   {
    "duration": 14,
    "start_time": "2023-02-12T12:59:52.411Z"
   },
   {
    "duration": 1155,
    "start_time": "2023-02-12T12:59:52.428Z"
   },
   {
    "duration": 160,
    "start_time": "2023-02-12T12:59:53.584Z"
   },
   {
    "duration": 34,
    "start_time": "2023-02-12T12:59:53.747Z"
   },
   {
    "duration": 293,
    "start_time": "2023-02-12T12:59:53.783Z"
   },
   {
    "duration": 109,
    "start_time": "2023-02-12T12:59:54.084Z"
   },
   {
    "duration": 435,
    "start_time": "2023-02-12T12:59:54.196Z"
   },
   {
    "duration": 2361,
    "start_time": "2023-02-12T12:59:54.633Z"
   },
   {
    "duration": 50,
    "start_time": "2023-02-12T12:59:56.996Z"
   },
   {
    "duration": 152,
    "start_time": "2023-02-12T12:59:57.048Z"
   },
   {
    "duration": 100,
    "start_time": "2023-02-12T12:59:57.202Z"
   },
   {
    "duration": 4,
    "start_time": "2023-02-12T12:59:57.304Z"
   },
   {
    "duration": 150,
    "start_time": "2023-02-12T12:59:57.310Z"
   },
   {
    "duration": 25,
    "start_time": "2023-02-12T12:59:57.461Z"
   },
   {
    "duration": 976,
    "start_time": "2023-02-12T12:59:57.487Z"
   },
   {
    "duration": 263,
    "start_time": "2023-02-12T13:00:33.996Z"
   },
   {
    "duration": 194,
    "start_time": "2023-02-12T13:01:04.834Z"
   },
   {
    "duration": 1726,
    "start_time": "2023-02-12T13:02:50.661Z"
   },
   {
    "duration": 7,
    "start_time": "2023-02-12T13:02:52.392Z"
   },
   {
    "duration": 150,
    "start_time": "2023-02-12T13:02:52.401Z"
   },
   {
    "duration": 17,
    "start_time": "2023-02-12T13:02:52.553Z"
   },
   {
    "duration": 33,
    "start_time": "2023-02-12T13:02:52.572Z"
   },
   {
    "duration": 9,
    "start_time": "2023-02-12T13:02:52.607Z"
   },
   {
    "duration": 6,
    "start_time": "2023-02-12T13:02:52.618Z"
   },
   {
    "duration": 10,
    "start_time": "2023-02-12T13:02:52.626Z"
   },
   {
    "duration": 958,
    "start_time": "2023-02-12T13:02:52.637Z"
   },
   {
    "duration": 152,
    "start_time": "2023-02-12T13:02:53.596Z"
   },
   {
    "duration": 29,
    "start_time": "2023-02-12T13:02:53.751Z"
   },
   {
    "duration": 268,
    "start_time": "2023-02-12T13:02:53.787Z"
   },
   {
    "duration": 125,
    "start_time": "2023-02-12T13:02:54.057Z"
   },
   {
    "duration": 459,
    "start_time": "2023-02-12T13:02:54.190Z"
   },
   {
    "duration": 2538,
    "start_time": "2023-02-12T13:02:54.650Z"
   },
   {
    "duration": 34,
    "start_time": "2023-02-12T13:02:57.190Z"
   },
   {
    "duration": 151,
    "start_time": "2023-02-12T13:02:57.226Z"
   },
   {
    "duration": 107,
    "start_time": "2023-02-12T13:02:57.380Z"
   },
   {
    "duration": 4,
    "start_time": "2023-02-12T13:02:57.493Z"
   },
   {
    "duration": 146,
    "start_time": "2023-02-12T13:02:57.499Z"
   },
   {
    "duration": 5,
    "start_time": "2023-02-12T13:02:57.647Z"
   },
   {
    "duration": 1173,
    "start_time": "2023-02-12T13:02:57.654Z"
   },
   {
    "duration": 29,
    "start_time": "2023-02-12T13:03:06.361Z"
   },
   {
    "duration": 28,
    "start_time": "2023-02-12T13:03:09.074Z"
   },
   {
    "duration": 172,
    "start_time": "2023-02-12T13:03:12.563Z"
   },
   {
    "duration": 156,
    "start_time": "2023-02-12T13:03:39.406Z"
   },
   {
    "duration": 189,
    "start_time": "2023-02-12T13:03:55.552Z"
   },
   {
    "duration": 273,
    "start_time": "2023-02-12T13:06:17.823Z"
   },
   {
    "duration": 180,
    "start_time": "2023-02-12T13:06:31.639Z"
   },
   {
    "duration": 234,
    "start_time": "2023-02-12T13:06:44.021Z"
   },
   {
    "duration": 1514,
    "start_time": "2023-02-12T13:07:14.615Z"
   },
   {
    "duration": 5,
    "start_time": "2023-02-12T13:07:16.132Z"
   },
   {
    "duration": 16,
    "start_time": "2023-02-12T13:07:16.139Z"
   },
   {
    "duration": 14,
    "start_time": "2023-02-12T13:07:16.169Z"
   },
   {
    "duration": 8,
    "start_time": "2023-02-12T13:07:16.186Z"
   },
   {
    "duration": 5,
    "start_time": "2023-02-12T13:07:16.196Z"
   },
   {
    "duration": 6,
    "start_time": "2023-02-12T13:07:16.202Z"
   },
   {
    "duration": 8,
    "start_time": "2023-02-12T13:07:16.210Z"
   },
   {
    "duration": 967,
    "start_time": "2023-02-12T13:07:16.220Z"
   },
   {
    "duration": 145,
    "start_time": "2023-02-12T13:07:17.189Z"
   },
   {
    "duration": 16,
    "start_time": "2023-02-12T13:07:17.336Z"
   },
   {
    "duration": 305,
    "start_time": "2023-02-12T13:07:17.354Z"
   },
   {
    "duration": 107,
    "start_time": "2023-02-12T13:07:17.661Z"
   },
   {
    "duration": 457,
    "start_time": "2023-02-12T13:07:17.772Z"
   },
   {
    "duration": 2232,
    "start_time": "2023-02-12T13:07:18.231Z"
   },
   {
    "duration": 33,
    "start_time": "2023-02-12T13:07:20.465Z"
   },
   {
    "duration": 175,
    "start_time": "2023-02-12T13:07:20.500Z"
   },
   {
    "duration": 104,
    "start_time": "2023-02-12T13:07:20.682Z"
   },
   {
    "duration": 5,
    "start_time": "2023-02-12T13:07:20.789Z"
   },
   {
    "duration": 174,
    "start_time": "2023-02-12T13:07:20.796Z"
   },
   {
    "duration": 4,
    "start_time": "2023-02-12T13:07:20.978Z"
   },
   {
    "duration": 990,
    "start_time": "2023-02-12T13:07:20.989Z"
   },
   {
    "duration": 20,
    "start_time": "2023-02-12T13:07:21.981Z"
   },
   {
    "duration": 1395,
    "start_time": "2023-02-12T13:09:47.381Z"
   },
   {
    "duration": 5,
    "start_time": "2023-02-12T13:09:48.786Z"
   },
   {
    "duration": 11,
    "start_time": "2023-02-12T13:09:48.793Z"
   },
   {
    "duration": 11,
    "start_time": "2023-02-12T13:09:48.806Z"
   },
   {
    "duration": 11,
    "start_time": "2023-02-12T13:09:48.818Z"
   },
   {
    "duration": 5,
    "start_time": "2023-02-12T13:09:48.831Z"
   },
   {
    "duration": 7,
    "start_time": "2023-02-12T13:09:48.839Z"
   },
   {
    "duration": 7,
    "start_time": "2023-02-12T13:09:48.848Z"
   },
   {
    "duration": 901,
    "start_time": "2023-02-12T13:09:48.856Z"
   },
   {
    "duration": 154,
    "start_time": "2023-02-12T13:09:49.760Z"
   },
   {
    "duration": 16,
    "start_time": "2023-02-12T13:09:49.916Z"
   },
   {
    "duration": 320,
    "start_time": "2023-02-12T13:09:49.933Z"
   },
   {
    "duration": 101,
    "start_time": "2023-02-12T13:09:50.255Z"
   },
   {
    "duration": 447,
    "start_time": "2023-02-12T13:09:50.367Z"
   },
   {
    "duration": 2100,
    "start_time": "2023-02-12T13:09:50.816Z"
   },
   {
    "duration": 29,
    "start_time": "2023-02-12T13:09:52.918Z"
   },
   {
    "duration": 152,
    "start_time": "2023-02-12T13:09:52.949Z"
   },
   {
    "duration": 103,
    "start_time": "2023-02-12T13:09:53.103Z"
   },
   {
    "duration": 4,
    "start_time": "2023-02-12T13:09:53.208Z"
   },
   {
    "duration": 166,
    "start_time": "2023-02-12T13:09:53.214Z"
   },
   {
    "duration": 4,
    "start_time": "2023-02-12T13:09:53.384Z"
   },
   {
    "duration": 932,
    "start_time": "2023-02-12T13:09:53.390Z"
   },
   {
    "duration": 16,
    "start_time": "2023-02-12T13:09:54.323Z"
   },
   {
    "duration": 199,
    "start_time": "2023-02-12T13:09:54.342Z"
   },
   {
    "duration": 177,
    "start_time": "2023-02-12T13:10:19.397Z"
   },
   {
    "duration": 119,
    "start_time": "2023-02-12T13:12:29.921Z"
   },
   {
    "duration": 1496,
    "start_time": "2023-02-12T13:20:12.817Z"
   },
   {
    "duration": 5,
    "start_time": "2023-02-12T13:20:14.315Z"
   },
   {
    "duration": 34,
    "start_time": "2023-02-12T13:20:14.322Z"
   },
   {
    "duration": 17,
    "start_time": "2023-02-12T13:20:14.358Z"
   },
   {
    "duration": 6,
    "start_time": "2023-02-12T13:20:14.378Z"
   },
   {
    "duration": 6,
    "start_time": "2023-02-12T13:20:14.386Z"
   },
   {
    "duration": 10,
    "start_time": "2023-02-12T13:20:14.394Z"
   },
   {
    "duration": 7,
    "start_time": "2023-02-12T13:20:14.407Z"
   },
   {
    "duration": 1045,
    "start_time": "2023-02-12T13:20:14.416Z"
   },
   {
    "duration": 145,
    "start_time": "2023-02-12T13:20:15.462Z"
   },
   {
    "duration": 18,
    "start_time": "2023-02-12T13:20:15.610Z"
   },
   {
    "duration": 391,
    "start_time": "2023-02-12T13:20:15.631Z"
   },
   {
    "duration": 111,
    "start_time": "2023-02-12T13:20:16.024Z"
   },
   {
    "duration": 458,
    "start_time": "2023-02-12T13:20:16.137Z"
   },
   {
    "duration": 2160,
    "start_time": "2023-02-12T13:20:16.596Z"
   },
   {
    "duration": 29,
    "start_time": "2023-02-12T13:20:18.759Z"
   },
   {
    "duration": 212,
    "start_time": "2023-02-12T13:20:18.790Z"
   },
   {
    "duration": 137,
    "start_time": "2023-02-12T13:20:19.004Z"
   },
   {
    "duration": 5,
    "start_time": "2023-02-12T13:20:19.144Z"
   },
   {
    "duration": 207,
    "start_time": "2023-02-12T13:20:19.150Z"
   },
   {
    "duration": 10,
    "start_time": "2023-02-12T13:20:19.359Z"
   },
   {
    "duration": 968,
    "start_time": "2023-02-12T13:20:19.371Z"
   },
   {
    "duration": 31,
    "start_time": "2023-02-12T13:20:20.341Z"
   },
   {
    "duration": 198,
    "start_time": "2023-02-12T13:20:20.374Z"
   },
   {
    "duration": 276,
    "start_time": "2023-02-12T13:20:32.536Z"
   },
   {
    "duration": 167,
    "start_time": "2023-02-12T13:21:00.964Z"
   },
   {
    "duration": 340,
    "start_time": "2023-02-12T13:21:10.862Z"
   },
   {
    "duration": 368,
    "start_time": "2023-02-12T13:21:52.164Z"
   },
   {
    "duration": 8,
    "start_time": "2023-02-12T13:23:13.391Z"
   },
   {
    "duration": 485,
    "start_time": "2023-02-12T13:23:18.167Z"
   },
   {
    "duration": 8,
    "start_time": "2023-02-12T13:24:40.092Z"
   },
   {
    "duration": 768,
    "start_time": "2023-02-12T13:24:43.917Z"
   },
   {
    "duration": 6,
    "start_time": "2023-02-12T13:25:36.413Z"
   },
   {
    "duration": 671,
    "start_time": "2023-02-12T13:25:39.977Z"
   },
   {
    "duration": 19,
    "start_time": "2023-02-12T13:29:12.637Z"
   },
   {
    "duration": 1716,
    "start_time": "2023-02-12T13:29:57.986Z"
   },
   {
    "duration": 8,
    "start_time": "2023-02-12T13:30:00.309Z"
   },
   {
    "duration": 17,
    "start_time": "2023-02-12T13:30:01.098Z"
   },
   {
    "duration": 5,
    "start_time": "2023-02-12T13:30:01.539Z"
   },
   {
    "duration": 10,
    "start_time": "2023-02-12T13:30:01.828Z"
   },
   {
    "duration": 4,
    "start_time": "2023-02-12T13:30:02.028Z"
   },
   {
    "duration": 5,
    "start_time": "2023-02-12T13:30:02.237Z"
   },
   {
    "duration": 6,
    "start_time": "2023-02-12T13:30:02.674Z"
   },
   {
    "duration": 1103,
    "start_time": "2023-02-12T13:30:04.505Z"
   },
   {
    "duration": 148,
    "start_time": "2023-02-12T13:30:05.610Z"
   },
   {
    "duration": 20,
    "start_time": "2023-02-12T13:30:05.767Z"
   },
   {
    "duration": 452,
    "start_time": "2023-02-12T13:30:13.435Z"
   },
   {
    "duration": 123,
    "start_time": "2023-02-12T13:30:14.726Z"
   },
   {
    "duration": 784,
    "start_time": "2023-02-12T13:30:15.115Z"
   },
   {
    "duration": 2479,
    "start_time": "2023-02-12T13:30:15.905Z"
   },
   {
    "duration": 25,
    "start_time": "2023-02-12T13:30:29.183Z"
   },
   {
    "duration": 199,
    "start_time": "2023-02-12T13:30:46.533Z"
   },
   {
    "duration": 167,
    "start_time": "2023-02-12T13:30:47.644Z"
   },
   {
    "duration": 6,
    "start_time": "2023-02-12T13:30:50.903Z"
   },
   {
    "duration": 154,
    "start_time": "2023-02-12T13:30:56.561Z"
   },
   {
    "duration": 5,
    "start_time": "2023-02-12T13:30:57.042Z"
   },
   {
    "duration": 201,
    "start_time": "2023-02-12T13:30:58.870Z"
   },
   {
    "duration": 1018,
    "start_time": "2023-02-12T13:31:12.925Z"
   },
   {
    "duration": 27,
    "start_time": "2023-02-12T13:31:19.141Z"
   },
   {
    "duration": 202,
    "start_time": "2023-02-12T13:31:20.909Z"
   },
   {
    "duration": 287,
    "start_time": "2023-02-12T13:31:23.851Z"
   },
   {
    "duration": 3,
    "start_time": "2023-02-12T13:31:40.104Z"
   },
   {
    "duration": 1472,
    "start_time": "2023-02-12T13:46:03.319Z"
   },
   {
    "duration": 6,
    "start_time": "2023-02-12T13:46:04.794Z"
   },
   {
    "duration": 13,
    "start_time": "2023-02-12T13:46:04.802Z"
   },
   {
    "duration": 8,
    "start_time": "2023-02-12T13:46:04.818Z"
   },
   {
    "duration": 6,
    "start_time": "2023-02-12T13:46:04.828Z"
   },
   {
    "duration": 8,
    "start_time": "2023-02-12T13:46:04.835Z"
   },
   {
    "duration": 40,
    "start_time": "2023-02-12T13:46:04.845Z"
   },
   {
    "duration": 8,
    "start_time": "2023-02-12T13:46:04.887Z"
   },
   {
    "duration": 1091,
    "start_time": "2023-02-12T13:46:04.897Z"
   },
   {
    "duration": 152,
    "start_time": "2023-02-12T13:46:05.991Z"
   },
   {
    "duration": 37,
    "start_time": "2023-02-12T13:46:06.144Z"
   },
   {
    "duration": 302,
    "start_time": "2023-02-12T13:46:06.185Z"
   },
   {
    "duration": 125,
    "start_time": "2023-02-12T13:46:06.490Z"
   },
   {
    "duration": 825,
    "start_time": "2023-02-12T13:46:06.617Z"
   },
   {
    "duration": 2384,
    "start_time": "2023-02-12T13:46:07.444Z"
   },
   {
    "duration": 22,
    "start_time": "2023-02-12T13:46:09.830Z"
   },
   {
    "duration": 148,
    "start_time": "2023-02-12T13:46:09.854Z"
   },
   {
    "duration": 114,
    "start_time": "2023-02-12T13:46:10.004Z"
   },
   {
    "duration": 5,
    "start_time": "2023-02-12T13:46:10.122Z"
   },
   {
    "duration": 166,
    "start_time": "2023-02-12T13:46:10.129Z"
   },
   {
    "duration": 5,
    "start_time": "2023-02-12T13:46:10.296Z"
   },
   {
    "duration": 806,
    "start_time": "2023-02-12T13:46:10.303Z"
   },
   {
    "duration": 17,
    "start_time": "2023-02-12T13:46:11.111Z"
   },
   {
    "duration": 214,
    "start_time": "2023-02-12T13:46:11.130Z"
   },
   {
    "duration": 309,
    "start_time": "2023-02-12T13:46:11.346Z"
   },
   {
    "duration": 19,
    "start_time": "2023-02-12T13:46:11.667Z"
   },
   {
    "duration": 25,
    "start_time": "2023-02-12T13:46:11.689Z"
   },
   {
    "duration": 12,
    "start_time": "2023-02-12T13:46:11.717Z"
   },
   {
    "duration": 56356,
    "start_time": "2023-02-12T13:46:11.731Z"
   },
   {
    "duration": 3376,
    "start_time": "2023-02-12T13:47:08.090Z"
   },
   {
    "duration": 100,
    "start_time": "2023-02-12T13:47:11.474Z"
   },
   {
    "duration": 295913,
    "start_time": "2023-02-12T13:47:11.576Z"
   },
   {
    "duration": 24358,
    "start_time": "2023-02-12T13:52:07.491Z"
   },
   {
    "duration": 581,
    "start_time": "2023-02-12T13:52:31.850Z"
   },
   {
    "duration": 3045259,
    "start_time": "2023-02-12T13:52:32.432Z"
   },
   {
    "duration": 59,
    "start_time": "2023-02-12T14:43:17.693Z"
   },
   {
    "duration": 10,
    "start_time": "2023-02-12T14:43:17.755Z"
   },
   {
    "duration": 33342,
    "start_time": "2023-02-12T14:43:55.837Z"
   },
   {
    "duration": 38725,
    "start_time": "2023-02-12T14:45:51.653Z"
   },
   {
    "duration": 24295,
    "start_time": "2023-02-12T14:47:11.645Z"
   },
   {
    "duration": 1643,
    "start_time": "2023-02-12T15:56:11.799Z"
   },
   {
    "duration": 7,
    "start_time": "2023-02-12T15:56:13.443Z"
   },
   {
    "duration": 30,
    "start_time": "2023-02-12T15:56:13.451Z"
   },
   {
    "duration": 39,
    "start_time": "2023-02-12T15:56:13.483Z"
   },
   {
    "duration": 17,
    "start_time": "2023-02-12T15:56:13.525Z"
   },
   {
    "duration": 7,
    "start_time": "2023-02-12T15:56:13.544Z"
   },
   {
    "duration": 12,
    "start_time": "2023-02-12T15:56:13.553Z"
   },
   {
    "duration": 39,
    "start_time": "2023-02-12T15:56:13.575Z"
   },
   {
    "duration": 1002,
    "start_time": "2023-02-12T15:56:13.616Z"
   },
   {
    "duration": 167,
    "start_time": "2023-02-12T15:56:14.619Z"
   },
   {
    "duration": 24,
    "start_time": "2023-02-12T15:56:14.788Z"
   },
   {
    "duration": 311,
    "start_time": "2023-02-12T15:56:14.814Z"
   },
   {
    "duration": 119,
    "start_time": "2023-02-12T15:56:15.127Z"
   },
   {
    "duration": 721,
    "start_time": "2023-02-12T15:56:15.249Z"
   },
   {
    "duration": 2273,
    "start_time": "2023-02-12T15:56:15.971Z"
   },
   {
    "duration": 19,
    "start_time": "2023-02-12T15:56:18.246Z"
   },
   {
    "duration": 161,
    "start_time": "2023-02-12T15:56:18.267Z"
   },
   {
    "duration": 118,
    "start_time": "2023-02-12T15:56:18.430Z"
   },
   {
    "duration": 3,
    "start_time": "2023-02-12T15:56:18.550Z"
   },
   {
    "duration": 148,
    "start_time": "2023-02-12T15:56:18.555Z"
   },
   {
    "duration": 6,
    "start_time": "2023-02-12T15:56:18.705Z"
   },
   {
    "duration": 691,
    "start_time": "2023-02-12T15:56:18.713Z"
   },
   {
    "duration": 15,
    "start_time": "2023-02-12T15:56:19.409Z"
   },
   {
    "duration": 191,
    "start_time": "2023-02-12T15:56:19.426Z"
   },
   {
    "duration": 274,
    "start_time": "2023-02-12T15:56:19.618Z"
   },
   {
    "duration": 5,
    "start_time": "2023-02-12T15:56:19.894Z"
   },
   {
    "duration": 25,
    "start_time": "2023-02-12T15:56:19.905Z"
   },
   {
    "duration": 10,
    "start_time": "2023-02-12T15:56:19.931Z"
   },
   {
    "duration": 111451,
    "start_time": "2023-02-12T15:57:04.745Z"
   },
   {
    "duration": 505903,
    "start_time": "2023-02-12T16:03:17.894Z"
   },
   {
    "duration": 85985,
    "start_time": "2023-02-12T16:14:00.733Z"
   },
   {
    "duration": 468,
    "start_time": "2023-02-12T16:15:26.721Z"
   },
   {
    "duration": 80764,
    "start_time": "2023-02-12T16:16:01.593Z"
   },
   {
    "duration": 4814,
    "start_time": "2023-02-12T16:17:22.359Z"
   },
   {
    "duration": 156,
    "start_time": "2023-02-12T16:17:27.175Z"
   },
   {
    "duration": 359314,
    "start_time": "2023-02-12T16:17:27.334Z"
   },
   {
    "duration": 31729,
    "start_time": "2023-02-12T16:23:26.650Z"
   },
   {
    "duration": 808,
    "start_time": "2023-02-12T16:23:58.381Z"
   },
   {
    "duration": 110,
    "start_time": "2023-02-12T16:27:48.910Z"
   },
   {
    "duration": 1558,
    "start_time": "2023-02-12T16:28:00.069Z"
   },
   {
    "duration": 5,
    "start_time": "2023-02-12T16:28:01.629Z"
   },
   {
    "duration": 20,
    "start_time": "2023-02-12T16:28:01.636Z"
   },
   {
    "duration": 61,
    "start_time": "2023-02-12T16:28:01.659Z"
   },
   {
    "duration": 10,
    "start_time": "2023-02-12T16:28:01.721Z"
   },
   {
    "duration": 12,
    "start_time": "2023-02-12T16:28:01.732Z"
   },
   {
    "duration": 9,
    "start_time": "2023-02-12T16:28:01.746Z"
   },
   {
    "duration": 5,
    "start_time": "2023-02-12T16:28:01.757Z"
   },
   {
    "duration": 1127,
    "start_time": "2023-02-12T16:28:01.764Z"
   },
   {
    "duration": 191,
    "start_time": "2023-02-12T16:28:02.896Z"
   },
   {
    "duration": 36,
    "start_time": "2023-02-12T16:28:03.095Z"
   },
   {
    "duration": 424,
    "start_time": "2023-02-12T16:28:03.133Z"
   },
   {
    "duration": 117,
    "start_time": "2023-02-12T16:28:03.559Z"
   },
   {
    "duration": 804,
    "start_time": "2023-02-12T16:28:03.678Z"
   },
   {
    "duration": 2664,
    "start_time": "2023-02-12T16:28:04.488Z"
   },
   {
    "duration": 46,
    "start_time": "2023-02-12T16:28:07.155Z"
   },
   {
    "duration": 220,
    "start_time": "2023-02-12T16:28:07.204Z"
   },
   {
    "duration": 133,
    "start_time": "2023-02-12T16:28:07.426Z"
   },
   {
    "duration": 15,
    "start_time": "2023-02-12T16:28:07.562Z"
   },
   {
    "duration": 236,
    "start_time": "2023-02-12T16:28:07.580Z"
   },
   {
    "duration": 5,
    "start_time": "2023-02-12T16:28:07.817Z"
   },
   {
    "duration": 810,
    "start_time": "2023-02-12T16:28:07.824Z"
   },
   {
    "duration": 22,
    "start_time": "2023-02-12T16:28:08.636Z"
   },
   {
    "duration": 254,
    "start_time": "2023-02-12T16:28:08.667Z"
   },
   {
    "duration": 317,
    "start_time": "2023-02-12T16:28:08.923Z"
   },
   {
    "duration": 3,
    "start_time": "2023-02-12T16:28:09.243Z"
   },
   {
    "duration": 91,
    "start_time": "2023-02-12T16:28:09.248Z"
   },
   {
    "duration": 11,
    "start_time": "2023-02-12T16:28:09.343Z"
   },
   {
    "duration": 71145,
    "start_time": "2023-02-12T16:28:09.356Z"
   },
   {
    "duration": 3945,
    "start_time": "2023-02-12T16:29:20.508Z"
   },
   {
    "duration": 146,
    "start_time": "2023-02-12T16:29:24.454Z"
   },
   {
    "duration": 333997,
    "start_time": "2023-02-12T16:29:24.608Z"
   },
   {
    "duration": 28511,
    "start_time": "2023-02-12T16:34:58.609Z"
   },
   {
    "duration": 605,
    "start_time": "2023-02-12T16:35:27.125Z"
   },
   {
    "duration": 546318,
    "start_time": "2023-02-12T16:35:27.732Z"
   },
   {
    "duration": 81562,
    "start_time": "2023-02-12T16:44:34.053Z"
   },
   {
    "duration": 380,
    "start_time": "2023-02-12T16:45:55.617Z"
   },
   {
    "duration": 154,
    "start_time": "2023-02-12T16:45:55.999Z"
   },
   {
    "duration": 1702,
    "start_time": "2023-02-13T14:22:02.243Z"
   },
   {
    "duration": 7,
    "start_time": "2023-02-13T14:22:03.947Z"
   },
   {
    "duration": 19,
    "start_time": "2023-02-13T14:22:03.956Z"
   },
   {
    "duration": 23,
    "start_time": "2023-02-13T14:22:03.977Z"
   },
   {
    "duration": 22,
    "start_time": "2023-02-13T14:22:04.003Z"
   },
   {
    "duration": 21,
    "start_time": "2023-02-13T14:22:04.027Z"
   },
   {
    "duration": 9,
    "start_time": "2023-02-13T14:22:04.050Z"
   },
   {
    "duration": 13,
    "start_time": "2023-02-13T14:22:04.061Z"
   },
   {
    "duration": 15,
    "start_time": "2023-02-13T14:22:04.075Z"
   },
   {
    "duration": 3099,
    "start_time": "2023-02-13T14:22:04.092Z"
   },
   {
    "duration": 120,
    "start_time": "2023-02-13T14:22:07.192Z"
   },
   {
    "duration": 27,
    "start_time": "2023-02-13T14:22:07.314Z"
   },
   {
    "duration": 307,
    "start_time": "2023-02-13T14:22:07.343Z"
   },
   {
    "duration": 113,
    "start_time": "2023-02-13T14:22:07.653Z"
   },
   {
    "duration": 686,
    "start_time": "2023-02-13T14:22:07.768Z"
   },
   {
    "duration": 2283,
    "start_time": "2023-02-13T14:22:08.456Z"
   },
   {
    "duration": 22,
    "start_time": "2023-02-13T14:22:10.741Z"
   },
   {
    "duration": 133,
    "start_time": "2023-02-13T14:22:10.764Z"
   },
   {
    "duration": 88,
    "start_time": "2023-02-13T14:22:10.899Z"
   },
   {
    "duration": 6,
    "start_time": "2023-02-13T14:22:10.989Z"
   },
   {
    "duration": 164,
    "start_time": "2023-02-13T14:22:10.997Z"
   },
   {
    "duration": 5,
    "start_time": "2023-02-13T14:22:11.163Z"
   },
   {
    "duration": 606,
    "start_time": "2023-02-13T14:22:11.171Z"
   },
   {
    "duration": 25,
    "start_time": "2023-02-13T14:22:29.598Z"
   },
   {
    "duration": 118,
    "start_time": "2023-02-13T14:22:32.195Z"
   },
   {
    "duration": 123,
    "start_time": "2023-02-13T14:24:01.026Z"
   },
   {
    "duration": 106,
    "start_time": "2023-02-13T14:24:23.963Z"
   },
   {
    "duration": 4,
    "start_time": "2023-02-13T14:25:20.480Z"
   },
   {
    "duration": 1562,
    "start_time": "2023-02-13T14:26:31.991Z"
   },
   {
    "duration": 6,
    "start_time": "2023-02-13T14:26:33.555Z"
   },
   {
    "duration": 29,
    "start_time": "2023-02-13T14:26:33.564Z"
   },
   {
    "duration": 31,
    "start_time": "2023-02-13T14:26:33.595Z"
   },
   {
    "duration": 34,
    "start_time": "2023-02-13T14:26:33.629Z"
   },
   {
    "duration": 21,
    "start_time": "2023-02-13T14:26:33.665Z"
   },
   {
    "duration": 37,
    "start_time": "2023-02-13T14:26:33.688Z"
   },
   {
    "duration": 23,
    "start_time": "2023-02-13T14:26:33.727Z"
   },
   {
    "duration": 17,
    "start_time": "2023-02-13T14:26:33.752Z"
   },
   {
    "duration": 31,
    "start_time": "2023-02-13T14:26:33.771Z"
   },
   {
    "duration": 1005,
    "start_time": "2023-02-13T14:26:33.804Z"
   },
   {
    "duration": 115,
    "start_time": "2023-02-13T14:26:34.811Z"
   },
   {
    "duration": 33,
    "start_time": "2023-02-13T14:26:34.928Z"
   },
   {
    "duration": 299,
    "start_time": "2023-02-13T14:26:34.964Z"
   },
   {
    "duration": 123,
    "start_time": "2023-02-13T14:26:35.265Z"
   },
   {
    "duration": 771,
    "start_time": "2023-02-13T14:26:35.390Z"
   },
   {
    "duration": 2304,
    "start_time": "2023-02-13T14:26:36.163Z"
   },
   {
    "duration": 30,
    "start_time": "2023-02-13T14:26:38.469Z"
   },
   {
    "duration": 151,
    "start_time": "2023-02-13T14:26:38.501Z"
   },
   {
    "duration": 95,
    "start_time": "2023-02-13T14:26:38.654Z"
   },
   {
    "duration": 5,
    "start_time": "2023-02-13T14:26:38.752Z"
   },
   {
    "duration": 210,
    "start_time": "2023-02-13T14:26:38.759Z"
   },
   {
    "duration": 4,
    "start_time": "2023-02-13T14:26:38.971Z"
   },
   {
    "duration": 636,
    "start_time": "2023-02-13T14:26:38.977Z"
   },
   {
    "duration": 29,
    "start_time": "2023-02-13T14:26:39.614Z"
   },
   {
    "duration": 126,
    "start_time": "2023-02-13T14:26:39.645Z"
   },
   {
    "duration": 247,
    "start_time": "2023-02-13T14:26:44.279Z"
   },
   {
    "duration": 299,
    "start_time": "2023-02-13T14:27:19.995Z"
   },
   {
    "duration": 272,
    "start_time": "2023-02-13T14:27:37.251Z"
   },
   {
    "duration": 1536,
    "start_time": "2023-02-13T14:28:08.505Z"
   },
   {
    "duration": 6,
    "start_time": "2023-02-13T14:28:10.043Z"
   },
   {
    "duration": 16,
    "start_time": "2023-02-13T14:28:10.051Z"
   },
   {
    "duration": 8,
    "start_time": "2023-02-13T14:28:10.069Z"
   },
   {
    "duration": 4,
    "start_time": "2023-02-13T14:28:10.080Z"
   },
   {
    "duration": 5,
    "start_time": "2023-02-13T14:28:10.086Z"
   },
   {
    "duration": 12,
    "start_time": "2023-02-13T14:28:10.093Z"
   },
   {
    "duration": 30,
    "start_time": "2023-02-13T14:28:10.107Z"
   },
   {
    "duration": 9,
    "start_time": "2023-02-13T14:28:10.139Z"
   },
   {
    "duration": 6,
    "start_time": "2023-02-13T14:28:10.149Z"
   },
   {
    "duration": 921,
    "start_time": "2023-02-13T14:28:10.156Z"
   },
   {
    "duration": 139,
    "start_time": "2023-02-13T14:28:11.079Z"
   },
   {
    "duration": 26,
    "start_time": "2023-02-13T14:28:11.221Z"
   },
   {
    "duration": 339,
    "start_time": "2023-02-13T14:28:11.250Z"
   },
   {
    "duration": 122,
    "start_time": "2023-02-13T14:28:11.592Z"
   },
   {
    "duration": 705,
    "start_time": "2023-02-13T14:28:11.716Z"
   },
   {
    "duration": 2324,
    "start_time": "2023-02-13T14:28:12.423Z"
   },
   {
    "duration": 21,
    "start_time": "2023-02-13T14:28:14.750Z"
   },
   {
    "duration": 124,
    "start_time": "2023-02-13T14:28:14.773Z"
   },
   {
    "duration": 85,
    "start_time": "2023-02-13T14:28:14.899Z"
   },
   {
    "duration": 5,
    "start_time": "2023-02-13T14:28:14.987Z"
   },
   {
    "duration": 161,
    "start_time": "2023-02-13T14:28:14.993Z"
   },
   {
    "duration": 5,
    "start_time": "2023-02-13T14:28:15.155Z"
   },
   {
    "duration": 612,
    "start_time": "2023-02-13T14:28:15.162Z"
   },
   {
    "duration": 18,
    "start_time": "2023-02-13T14:28:15.777Z"
   },
   {
    "duration": 140,
    "start_time": "2023-02-13T14:28:15.797Z"
   },
   {
    "duration": 212,
    "start_time": "2023-02-13T14:28:15.939Z"
   },
   {
    "duration": 312,
    "start_time": "2023-02-13T14:28:16.152Z"
   },
   {
    "duration": 1480,
    "start_time": "2023-02-13T14:31:25.781Z"
   },
   {
    "duration": 5,
    "start_time": "2023-02-13T14:31:27.264Z"
   },
   {
    "duration": 20,
    "start_time": "2023-02-13T14:31:27.271Z"
   },
   {
    "duration": 45,
    "start_time": "2023-02-13T14:31:27.293Z"
   },
   {
    "duration": 32,
    "start_time": "2023-02-13T14:31:27.339Z"
   },
   {
    "duration": 19,
    "start_time": "2023-02-13T14:31:27.374Z"
   },
   {
    "duration": 41,
    "start_time": "2023-02-13T14:31:27.395Z"
   },
   {
    "duration": 19,
    "start_time": "2023-02-13T14:31:27.438Z"
   },
   {
    "duration": 50,
    "start_time": "2023-02-13T14:31:27.459Z"
   },
   {
    "duration": 24,
    "start_time": "2023-02-13T14:31:27.512Z"
   },
   {
    "duration": 1016,
    "start_time": "2023-02-13T14:31:27.539Z"
   },
   {
    "duration": 190,
    "start_time": "2023-02-13T14:31:28.557Z"
   },
   {
    "duration": 40,
    "start_time": "2023-02-13T14:31:28.749Z"
   },
   {
    "duration": 293,
    "start_time": "2023-02-13T14:31:28.791Z"
   },
   {
    "duration": 118,
    "start_time": "2023-02-13T14:31:29.085Z"
   },
   {
    "duration": 735,
    "start_time": "2023-02-13T14:31:29.204Z"
   },
   {
    "duration": 2350,
    "start_time": "2023-02-13T14:31:29.941Z"
   },
   {
    "duration": 25,
    "start_time": "2023-02-13T14:31:32.294Z"
   },
   {
    "duration": 131,
    "start_time": "2023-02-13T14:31:32.321Z"
   },
   {
    "duration": 90,
    "start_time": "2023-02-13T14:31:32.454Z"
   },
   {
    "duration": 6,
    "start_time": "2023-02-13T14:31:32.547Z"
   },
   {
    "duration": 174,
    "start_time": "2023-02-13T14:31:32.555Z"
   },
   {
    "duration": 7,
    "start_time": "2023-02-13T14:31:32.731Z"
   },
   {
    "duration": 608,
    "start_time": "2023-02-13T14:31:32.740Z"
   },
   {
    "duration": 23,
    "start_time": "2023-02-13T14:31:33.350Z"
   },
   {
    "duration": 176,
    "start_time": "2023-02-13T14:31:33.378Z"
   },
   {
    "duration": 219,
    "start_time": "2023-02-13T14:31:33.556Z"
   },
   {
    "duration": 315,
    "start_time": "2023-02-13T14:31:33.778Z"
   },
   {
    "duration": 3,
    "start_time": "2023-02-13T14:31:34.095Z"
   },
   {
    "duration": 46,
    "start_time": "2023-02-13T14:31:34.100Z"
   },
   {
    "duration": 17,
    "start_time": "2023-02-13T14:31:34.149Z"
   },
   {
    "duration": 59038,
    "start_time": "2023-02-13T14:31:34.169Z"
   },
   {
    "duration": 3527,
    "start_time": "2023-02-13T14:32:33.209Z"
   },
   {
    "duration": 126,
    "start_time": "2023-02-13T14:32:36.738Z"
   },
   {
    "duration": 291765,
    "start_time": "2023-02-13T14:32:36.866Z"
   },
   {
    "duration": 26470,
    "start_time": "2023-02-13T14:37:28.636Z"
   },
   {
    "duration": 719,
    "start_time": "2023-02-13T14:37:55.108Z"
   },
   {
    "duration": 528620,
    "start_time": "2023-02-13T14:37:55.829Z"
   },
   {
    "duration": 75598,
    "start_time": "2023-02-13T14:46:44.451Z"
   },
   {
    "duration": 408,
    "start_time": "2023-02-13T14:48:00.051Z"
   },
   {
    "duration": 178,
    "start_time": "2023-02-13T14:48:00.462Z"
   }
  ],
  "kernelspec": {
   "display_name": "Python 3 (ipykernel)",
   "language": "python",
   "name": "python3"
  },
  "language_info": {
   "codemirror_mode": {
    "name": "ipython",
    "version": 3
   },
   "file_extension": ".py",
   "mimetype": "text/x-python",
   "name": "python",
   "nbconvert_exporter": "python",
   "pygments_lexer": "ipython3",
   "version": "3.9.13"
  },
  "toc": {
   "base_numbering": 1,
   "nav_menu": {},
   "number_sections": true,
   "sideBar": true,
   "skip_h1_title": true,
   "title_cell": "Table of Contents",
   "title_sidebar": "Contents",
   "toc_cell": false,
   "toc_position": {
    "height": "calc(100% - 180px)",
    "left": "10px",
    "top": "150px",
    "width": "233.188px"
   },
   "toc_section_display": true,
   "toc_window_display": true
  }
 },
 "nbformat": 4,
 "nbformat_minor": 2
}
