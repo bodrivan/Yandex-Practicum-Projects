{
 "cells": [
  {
   "cell_type": "markdown",
   "id": "b79bd403",
   "metadata": {
    "deletable": false,
    "editable": false,
    "id": "c81daeeb"
   },
   "source": [
    "# Исследование надежности заемщиков\n"
   ]
  },
  {
   "cell_type": "markdown",
   "id": "a668b107",
   "metadata": {
    "deletable": false,
    "editable": false,
    "id": "827c20bf"
   },
   "source": [
    "Во второй части проекта вы выполните шаги 3 и 4. Их вручную проверит ревьюер.\n",
    "Чтобы вам не пришлось писать код заново для шагов 1 и 2, мы добавили авторские решения в ячейки с кодом. \n",
    "\n"
   ]
  },
  {
   "cell_type": "markdown",
   "id": "1acf9ff2",
   "metadata": {
    "deletable": false,
    "editable": false,
    "id": "744d7639"
   },
   "source": [
    "## Откройте таблицу и изучите общую информацию о данных"
   ]
  },
  {
   "cell_type": "markdown",
   "id": "7b439911",
   "metadata": {
    "deletable": false,
    "editable": false,
    "id": "e7a14c31"
   },
   "source": [
    "**Задание 1. Импортируйте библиотеку pandas. Считайте данные из csv-файла в датафрейм и сохраните в переменную `data`. Путь к файлу:**\n",
    "\n",
    "`/datasets/data.csv`"
   ]
  },
  {
   "cell_type": "code",
   "execution_count": 1,
   "id": "83ebbeaa",
   "metadata": {
    "deletable": false,
    "id": "7bcf75c9"
   },
   "outputs": [],
   "source": [
    "import pandas as pd\n",
    "\n",
    "try:\n",
    "    data = pd.read_csv('/datasets/data.csv')\n",
    "except:\n",
    "    data = pd.read_csv('https://code.s3.yandex.net/datasets/data.csv')"
   ]
  },
  {
   "cell_type": "markdown",
   "id": "937386e2",
   "metadata": {
    "deletable": false,
    "editable": false,
    "id": "b8038fe3"
   },
   "source": [
    "**Задание 2. Выведите первые 20 строчек датафрейма `data` на экран.**"
   ]
  },
  {
   "cell_type": "code",
   "execution_count": 2,
   "id": "c920e337",
   "metadata": {
    "deletable": false,
    "id": "2a7cab99",
    "outputId": "1a8f3ef2-d323-4ec2-ddf7-89670b5944c4"
   },
   "outputs": [
    {
     "data": {
      "text/html": [
       "<div>\n",
       "<style scoped>\n",
       "    .dataframe tbody tr th:only-of-type {\n",
       "        vertical-align: middle;\n",
       "    }\n",
       "\n",
       "    .dataframe tbody tr th {\n",
       "        vertical-align: top;\n",
       "    }\n",
       "\n",
       "    .dataframe thead th {\n",
       "        text-align: right;\n",
       "    }\n",
       "</style>\n",
       "<table border=\"1\" class=\"dataframe\">\n",
       "  <thead>\n",
       "    <tr style=\"text-align: right;\">\n",
       "      <th></th>\n",
       "      <th>children</th>\n",
       "      <th>days_employed</th>\n",
       "      <th>dob_years</th>\n",
       "      <th>education</th>\n",
       "      <th>education_id</th>\n",
       "      <th>family_status</th>\n",
       "      <th>family_status_id</th>\n",
       "      <th>gender</th>\n",
       "      <th>income_type</th>\n",
       "      <th>debt</th>\n",
       "      <th>total_income</th>\n",
       "      <th>purpose</th>\n",
       "    </tr>\n",
       "  </thead>\n",
       "  <tbody>\n",
       "    <tr>\n",
       "      <th>0</th>\n",
       "      <td>1</td>\n",
       "      <td>-8437.673028</td>\n",
       "      <td>42</td>\n",
       "      <td>высшее</td>\n",
       "      <td>0</td>\n",
       "      <td>женат / замужем</td>\n",
       "      <td>0</td>\n",
       "      <td>F</td>\n",
       "      <td>сотрудник</td>\n",
       "      <td>0</td>\n",
       "      <td>253875.639453</td>\n",
       "      <td>покупка жилья</td>\n",
       "    </tr>\n",
       "    <tr>\n",
       "      <th>1</th>\n",
       "      <td>1</td>\n",
       "      <td>-4024.803754</td>\n",
       "      <td>36</td>\n",
       "      <td>среднее</td>\n",
       "      <td>1</td>\n",
       "      <td>женат / замужем</td>\n",
       "      <td>0</td>\n",
       "      <td>F</td>\n",
       "      <td>сотрудник</td>\n",
       "      <td>0</td>\n",
       "      <td>112080.014102</td>\n",
       "      <td>приобретение автомобиля</td>\n",
       "    </tr>\n",
       "    <tr>\n",
       "      <th>2</th>\n",
       "      <td>0</td>\n",
       "      <td>-5623.422610</td>\n",
       "      <td>33</td>\n",
       "      <td>Среднее</td>\n",
       "      <td>1</td>\n",
       "      <td>женат / замужем</td>\n",
       "      <td>0</td>\n",
       "      <td>M</td>\n",
       "      <td>сотрудник</td>\n",
       "      <td>0</td>\n",
       "      <td>145885.952297</td>\n",
       "      <td>покупка жилья</td>\n",
       "    </tr>\n",
       "    <tr>\n",
       "      <th>3</th>\n",
       "      <td>3</td>\n",
       "      <td>-4124.747207</td>\n",
       "      <td>32</td>\n",
       "      <td>среднее</td>\n",
       "      <td>1</td>\n",
       "      <td>женат / замужем</td>\n",
       "      <td>0</td>\n",
       "      <td>M</td>\n",
       "      <td>сотрудник</td>\n",
       "      <td>0</td>\n",
       "      <td>267628.550329</td>\n",
       "      <td>дополнительное образование</td>\n",
       "    </tr>\n",
       "    <tr>\n",
       "      <th>4</th>\n",
       "      <td>0</td>\n",
       "      <td>340266.072047</td>\n",
       "      <td>53</td>\n",
       "      <td>среднее</td>\n",
       "      <td>1</td>\n",
       "      <td>гражданский брак</td>\n",
       "      <td>1</td>\n",
       "      <td>F</td>\n",
       "      <td>пенсионер</td>\n",
       "      <td>0</td>\n",
       "      <td>158616.077870</td>\n",
       "      <td>сыграть свадьбу</td>\n",
       "    </tr>\n",
       "    <tr>\n",
       "      <th>5</th>\n",
       "      <td>0</td>\n",
       "      <td>-926.185831</td>\n",
       "      <td>27</td>\n",
       "      <td>высшее</td>\n",
       "      <td>0</td>\n",
       "      <td>гражданский брак</td>\n",
       "      <td>1</td>\n",
       "      <td>M</td>\n",
       "      <td>компаньон</td>\n",
       "      <td>0</td>\n",
       "      <td>255763.565419</td>\n",
       "      <td>покупка жилья</td>\n",
       "    </tr>\n",
       "    <tr>\n",
       "      <th>6</th>\n",
       "      <td>0</td>\n",
       "      <td>-2879.202052</td>\n",
       "      <td>43</td>\n",
       "      <td>высшее</td>\n",
       "      <td>0</td>\n",
       "      <td>женат / замужем</td>\n",
       "      <td>0</td>\n",
       "      <td>F</td>\n",
       "      <td>компаньон</td>\n",
       "      <td>0</td>\n",
       "      <td>240525.971920</td>\n",
       "      <td>операции с жильем</td>\n",
       "    </tr>\n",
       "    <tr>\n",
       "      <th>7</th>\n",
       "      <td>0</td>\n",
       "      <td>-152.779569</td>\n",
       "      <td>50</td>\n",
       "      <td>СРЕДНЕЕ</td>\n",
       "      <td>1</td>\n",
       "      <td>женат / замужем</td>\n",
       "      <td>0</td>\n",
       "      <td>M</td>\n",
       "      <td>сотрудник</td>\n",
       "      <td>0</td>\n",
       "      <td>135823.934197</td>\n",
       "      <td>образование</td>\n",
       "    </tr>\n",
       "    <tr>\n",
       "      <th>8</th>\n",
       "      <td>2</td>\n",
       "      <td>-6929.865299</td>\n",
       "      <td>35</td>\n",
       "      <td>ВЫСШЕЕ</td>\n",
       "      <td>0</td>\n",
       "      <td>гражданский брак</td>\n",
       "      <td>1</td>\n",
       "      <td>F</td>\n",
       "      <td>сотрудник</td>\n",
       "      <td>0</td>\n",
       "      <td>95856.832424</td>\n",
       "      <td>на проведение свадьбы</td>\n",
       "    </tr>\n",
       "    <tr>\n",
       "      <th>9</th>\n",
       "      <td>0</td>\n",
       "      <td>-2188.756445</td>\n",
       "      <td>41</td>\n",
       "      <td>среднее</td>\n",
       "      <td>1</td>\n",
       "      <td>женат / замужем</td>\n",
       "      <td>0</td>\n",
       "      <td>M</td>\n",
       "      <td>сотрудник</td>\n",
       "      <td>0</td>\n",
       "      <td>144425.938277</td>\n",
       "      <td>покупка жилья для семьи</td>\n",
       "    </tr>\n",
       "    <tr>\n",
       "      <th>10</th>\n",
       "      <td>2</td>\n",
       "      <td>-4171.483647</td>\n",
       "      <td>36</td>\n",
       "      <td>высшее</td>\n",
       "      <td>0</td>\n",
       "      <td>женат / замужем</td>\n",
       "      <td>0</td>\n",
       "      <td>M</td>\n",
       "      <td>компаньон</td>\n",
       "      <td>0</td>\n",
       "      <td>113943.491460</td>\n",
       "      <td>покупка недвижимости</td>\n",
       "    </tr>\n",
       "    <tr>\n",
       "      <th>11</th>\n",
       "      <td>0</td>\n",
       "      <td>-792.701887</td>\n",
       "      <td>40</td>\n",
       "      <td>среднее</td>\n",
       "      <td>1</td>\n",
       "      <td>женат / замужем</td>\n",
       "      <td>0</td>\n",
       "      <td>F</td>\n",
       "      <td>сотрудник</td>\n",
       "      <td>0</td>\n",
       "      <td>77069.234271</td>\n",
       "      <td>покупка коммерческой недвижимости</td>\n",
       "    </tr>\n",
       "    <tr>\n",
       "      <th>12</th>\n",
       "      <td>0</td>\n",
       "      <td>NaN</td>\n",
       "      <td>65</td>\n",
       "      <td>среднее</td>\n",
       "      <td>1</td>\n",
       "      <td>гражданский брак</td>\n",
       "      <td>1</td>\n",
       "      <td>M</td>\n",
       "      <td>пенсионер</td>\n",
       "      <td>0</td>\n",
       "      <td>NaN</td>\n",
       "      <td>сыграть свадьбу</td>\n",
       "    </tr>\n",
       "    <tr>\n",
       "      <th>13</th>\n",
       "      <td>0</td>\n",
       "      <td>-1846.641941</td>\n",
       "      <td>54</td>\n",
       "      <td>неоконченное высшее</td>\n",
       "      <td>2</td>\n",
       "      <td>женат / замужем</td>\n",
       "      <td>0</td>\n",
       "      <td>F</td>\n",
       "      <td>сотрудник</td>\n",
       "      <td>0</td>\n",
       "      <td>130458.228857</td>\n",
       "      <td>приобретение автомобиля</td>\n",
       "    </tr>\n",
       "    <tr>\n",
       "      <th>14</th>\n",
       "      <td>0</td>\n",
       "      <td>-1844.956182</td>\n",
       "      <td>56</td>\n",
       "      <td>высшее</td>\n",
       "      <td>0</td>\n",
       "      <td>гражданский брак</td>\n",
       "      <td>1</td>\n",
       "      <td>F</td>\n",
       "      <td>компаньон</td>\n",
       "      <td>1</td>\n",
       "      <td>165127.911772</td>\n",
       "      <td>покупка жилой недвижимости</td>\n",
       "    </tr>\n",
       "    <tr>\n",
       "      <th>15</th>\n",
       "      <td>1</td>\n",
       "      <td>-972.364419</td>\n",
       "      <td>26</td>\n",
       "      <td>среднее</td>\n",
       "      <td>1</td>\n",
       "      <td>женат / замужем</td>\n",
       "      <td>0</td>\n",
       "      <td>F</td>\n",
       "      <td>сотрудник</td>\n",
       "      <td>0</td>\n",
       "      <td>116820.904450</td>\n",
       "      <td>строительство собственной недвижимости</td>\n",
       "    </tr>\n",
       "    <tr>\n",
       "      <th>16</th>\n",
       "      <td>0</td>\n",
       "      <td>-1719.934226</td>\n",
       "      <td>35</td>\n",
       "      <td>среднее</td>\n",
       "      <td>1</td>\n",
       "      <td>женат / замужем</td>\n",
       "      <td>0</td>\n",
       "      <td>F</td>\n",
       "      <td>сотрудник</td>\n",
       "      <td>0</td>\n",
       "      <td>289202.704229</td>\n",
       "      <td>недвижимость</td>\n",
       "    </tr>\n",
       "    <tr>\n",
       "      <th>17</th>\n",
       "      <td>0</td>\n",
       "      <td>-2369.999720</td>\n",
       "      <td>33</td>\n",
       "      <td>высшее</td>\n",
       "      <td>0</td>\n",
       "      <td>гражданский брак</td>\n",
       "      <td>1</td>\n",
       "      <td>M</td>\n",
       "      <td>сотрудник</td>\n",
       "      <td>0</td>\n",
       "      <td>90410.586745</td>\n",
       "      <td>строительство недвижимости</td>\n",
       "    </tr>\n",
       "    <tr>\n",
       "      <th>18</th>\n",
       "      <td>0</td>\n",
       "      <td>400281.136913</td>\n",
       "      <td>53</td>\n",
       "      <td>среднее</td>\n",
       "      <td>1</td>\n",
       "      <td>вдовец / вдова</td>\n",
       "      <td>2</td>\n",
       "      <td>F</td>\n",
       "      <td>пенсионер</td>\n",
       "      <td>0</td>\n",
       "      <td>56823.777243</td>\n",
       "      <td>на покупку подержанного автомобиля</td>\n",
       "    </tr>\n",
       "    <tr>\n",
       "      <th>19</th>\n",
       "      <td>0</td>\n",
       "      <td>-10038.818549</td>\n",
       "      <td>48</td>\n",
       "      <td>СРЕДНЕЕ</td>\n",
       "      <td>1</td>\n",
       "      <td>в разводе</td>\n",
       "      <td>3</td>\n",
       "      <td>F</td>\n",
       "      <td>сотрудник</td>\n",
       "      <td>0</td>\n",
       "      <td>242831.107982</td>\n",
       "      <td>на покупку своего автомобиля</td>\n",
       "    </tr>\n",
       "  </tbody>\n",
       "</table>\n",
       "</div>"
      ],
      "text/plain": [
       "    children  days_employed  dob_years            education  education_id  \\\n",
       "0          1   -8437.673028         42               высшее             0   \n",
       "1          1   -4024.803754         36              среднее             1   \n",
       "2          0   -5623.422610         33              Среднее             1   \n",
       "3          3   -4124.747207         32              среднее             1   \n",
       "4          0  340266.072047         53              среднее             1   \n",
       "5          0    -926.185831         27               высшее             0   \n",
       "6          0   -2879.202052         43               высшее             0   \n",
       "7          0    -152.779569         50              СРЕДНЕЕ             1   \n",
       "8          2   -6929.865299         35               ВЫСШЕЕ             0   \n",
       "9          0   -2188.756445         41              среднее             1   \n",
       "10         2   -4171.483647         36               высшее             0   \n",
       "11         0    -792.701887         40              среднее             1   \n",
       "12         0            NaN         65              среднее             1   \n",
       "13         0   -1846.641941         54  неоконченное высшее             2   \n",
       "14         0   -1844.956182         56               высшее             0   \n",
       "15         1    -972.364419         26              среднее             1   \n",
       "16         0   -1719.934226         35              среднее             1   \n",
       "17         0   -2369.999720         33               высшее             0   \n",
       "18         0  400281.136913         53              среднее             1   \n",
       "19         0  -10038.818549         48              СРЕДНЕЕ             1   \n",
       "\n",
       "       family_status  family_status_id gender income_type  debt  \\\n",
       "0    женат / замужем                 0      F   сотрудник     0   \n",
       "1    женат / замужем                 0      F   сотрудник     0   \n",
       "2    женат / замужем                 0      M   сотрудник     0   \n",
       "3    женат / замужем                 0      M   сотрудник     0   \n",
       "4   гражданский брак                 1      F   пенсионер     0   \n",
       "5   гражданский брак                 1      M   компаньон     0   \n",
       "6    женат / замужем                 0      F   компаньон     0   \n",
       "7    женат / замужем                 0      M   сотрудник     0   \n",
       "8   гражданский брак                 1      F   сотрудник     0   \n",
       "9    женат / замужем                 0      M   сотрудник     0   \n",
       "10   женат / замужем                 0      M   компаньон     0   \n",
       "11   женат / замужем                 0      F   сотрудник     0   \n",
       "12  гражданский брак                 1      M   пенсионер     0   \n",
       "13   женат / замужем                 0      F   сотрудник     0   \n",
       "14  гражданский брак                 1      F   компаньон     1   \n",
       "15   женат / замужем                 0      F   сотрудник     0   \n",
       "16   женат / замужем                 0      F   сотрудник     0   \n",
       "17  гражданский брак                 1      M   сотрудник     0   \n",
       "18    вдовец / вдова                 2      F   пенсионер     0   \n",
       "19         в разводе                 3      F   сотрудник     0   \n",
       "\n",
       "     total_income                                 purpose  \n",
       "0   253875.639453                           покупка жилья  \n",
       "1   112080.014102                 приобретение автомобиля  \n",
       "2   145885.952297                           покупка жилья  \n",
       "3   267628.550329              дополнительное образование  \n",
       "4   158616.077870                         сыграть свадьбу  \n",
       "5   255763.565419                           покупка жилья  \n",
       "6   240525.971920                       операции с жильем  \n",
       "7   135823.934197                             образование  \n",
       "8    95856.832424                   на проведение свадьбы  \n",
       "9   144425.938277                 покупка жилья для семьи  \n",
       "10  113943.491460                    покупка недвижимости  \n",
       "11   77069.234271       покупка коммерческой недвижимости  \n",
       "12            NaN                         сыграть свадьбу  \n",
       "13  130458.228857                 приобретение автомобиля  \n",
       "14  165127.911772              покупка жилой недвижимости  \n",
       "15  116820.904450  строительство собственной недвижимости  \n",
       "16  289202.704229                            недвижимость  \n",
       "17   90410.586745              строительство недвижимости  \n",
       "18   56823.777243      на покупку подержанного автомобиля  \n",
       "19  242831.107982            на покупку своего автомобиля  "
      ]
     },
     "execution_count": 2,
     "metadata": {},
     "output_type": "execute_result"
    }
   ],
   "source": [
    "data.head(20)"
   ]
  },
  {
   "cell_type": "markdown",
   "id": "1e476444",
   "metadata": {
    "deletable": false,
    "editable": false,
    "id": "1c12e233"
   },
   "source": [
    "**Задание 3. Выведите основную информацию о датафрейме с помощью метода `info()`.**"
   ]
  },
  {
   "cell_type": "code",
   "execution_count": 3,
   "id": "329c0d56",
   "metadata": {
    "deletable": false,
    "id": "2b757bca",
    "outputId": "15376089-8dad-46c9-b520-c05248d43158"
   },
   "outputs": [
    {
     "name": "stdout",
     "output_type": "stream",
     "text": [
      "<class 'pandas.core.frame.DataFrame'>\n",
      "RangeIndex: 21525 entries, 0 to 21524\n",
      "Data columns (total 12 columns):\n",
      " #   Column            Non-Null Count  Dtype  \n",
      "---  ------            --------------  -----  \n",
      " 0   children          21525 non-null  int64  \n",
      " 1   days_employed     19351 non-null  float64\n",
      " 2   dob_years         21525 non-null  int64  \n",
      " 3   education         21525 non-null  object \n",
      " 4   education_id      21525 non-null  int64  \n",
      " 5   family_status     21525 non-null  object \n",
      " 6   family_status_id  21525 non-null  int64  \n",
      " 7   gender            21525 non-null  object \n",
      " 8   income_type       21525 non-null  object \n",
      " 9   debt              21525 non-null  int64  \n",
      " 10  total_income      19351 non-null  float64\n",
      " 11  purpose           21525 non-null  object \n",
      "dtypes: float64(2), int64(5), object(5)\n",
      "memory usage: 2.0+ MB\n"
     ]
    }
   ],
   "source": [
    "data.info()"
   ]
  },
  {
   "cell_type": "markdown",
   "id": "03a12b2e",
   "metadata": {
    "deletable": false,
    "editable": false,
    "id": "333ec665"
   },
   "source": [
    "## Предобработка данных"
   ]
  },
  {
   "cell_type": "markdown",
   "id": "08b0b93a",
   "metadata": {
    "deletable": false,
    "editable": false,
    "id": "02d92d53"
   },
   "source": [
    "### Удаление пропусков"
   ]
  },
  {
   "cell_type": "markdown",
   "id": "52b4ee63",
   "metadata": {
    "deletable": false,
    "editable": false,
    "id": "cd84967c"
   },
   "source": [
    "**Задание 4. Выведите количество пропущенных значений для каждого столбца. Используйте комбинацию двух методов.**"
   ]
  },
  {
   "cell_type": "code",
   "execution_count": 4,
   "id": "16bcd388",
   "metadata": {
    "deletable": false,
    "id": "7f9b2309",
    "outputId": "81f4d817-781c-465c-ed15-91ce4446810d"
   },
   "outputs": [
    {
     "data": {
      "text/plain": [
       "children               0\n",
       "days_employed       2174\n",
       "dob_years              0\n",
       "education              0\n",
       "education_id           0\n",
       "family_status          0\n",
       "family_status_id       0\n",
       "gender                 0\n",
       "income_type            0\n",
       "debt                   0\n",
       "total_income        2174\n",
       "purpose                0\n",
       "dtype: int64"
      ]
     },
     "execution_count": 4,
     "metadata": {},
     "output_type": "execute_result"
    }
   ],
   "source": [
    "data.isna().sum()"
   ]
  },
  {
   "cell_type": "markdown",
   "id": "932be26a",
   "metadata": {
    "deletable": false,
    "editable": false,
    "id": "db86e27b"
   },
   "source": [
    "**Задание 5. В двух столбцах есть пропущенные значения. Один из них — `days_employed`. Пропуски в этом столбце вы обработаете на следующем этапе. Другой столбец с пропущенными значениями — `total_income` — хранит данные о доходах. На сумму дохода сильнее всего влияет тип занятости, поэтому заполнить пропуски в этом столбце нужно медианным значением по каждому типу из столбца `income_type`. Например, у человека с типом занятости `сотрудник` пропуск в столбце `total_income` должен быть заполнен медианным доходом среди всех записей с тем же типом.**"
   ]
  },
  {
   "cell_type": "code",
   "execution_count": 5,
   "id": "45c19560",
   "metadata": {
    "deletable": false,
    "id": "42006a93"
   },
   "outputs": [],
   "source": [
    "for t in data['income_type'].unique():\n",
    "    data.loc[(data['income_type'] == t) & (data['total_income'].isna()), 'total_income'] = \\\n",
    "    data.loc[(data['income_type'] == t), 'total_income'].median()"
   ]
  },
  {
   "cell_type": "markdown",
   "id": "b9d8d8d4",
   "metadata": {
    "deletable": false,
    "editable": false,
    "id": "89da5ece"
   },
   "source": [
    "### Обработка аномальных значений"
   ]
  },
  {
   "cell_type": "markdown",
   "id": "a9eac29e",
   "metadata": {
    "deletable": false,
    "editable": false,
    "id": "57964554"
   },
   "source": [
    "**Задание 6. В данных могут встречаться артефакты (аномалии) — значения, которые не отражают действительность и появились по какой-то ошибке. таким артефактом будет отрицательное количество дней трудового стажа в столбце `days_employed`. Для реальных данных это нормально. Обработайте значения в этом столбце: замените все отрицательные значения положительными с помощью метода `abs()`.**"
   ]
  },
  {
   "cell_type": "code",
   "execution_count": 6,
   "id": "e46bb5fa",
   "metadata": {
    "deletable": false,
    "id": "f6f055bf"
   },
   "outputs": [],
   "source": [
    "data['days_employed'] = data['days_employed'].abs()"
   ]
  },
  {
   "cell_type": "markdown",
   "id": "e7f5378f",
   "metadata": {
    "deletable": false,
    "editable": false,
    "id": "6107dd2f"
   },
   "source": [
    "**Задание 7. Для каждого типа занятости выведите медианное значение трудового стажа `days_employed` в днях.**"
   ]
  },
  {
   "cell_type": "code",
   "execution_count": 7,
   "id": "40fad422",
   "metadata": {
    "deletable": false,
    "id": "85a5faf6",
    "outputId": "801ef80e-522b-4668-f34e-565af7432bcf"
   },
   "outputs": [
    {
     "data": {
      "text/plain": [
       "income_type\n",
       "безработный        366413.652744\n",
       "в декрете            3296.759962\n",
       "госслужащий          2689.368353\n",
       "компаньон            1547.382223\n",
       "пенсионер          365213.306266\n",
       "предприниматель       520.848083\n",
       "сотрудник            1574.202821\n",
       "студент               578.751554\n",
       "Name: days_employed, dtype: float64"
      ]
     },
     "execution_count": 7,
     "metadata": {},
     "output_type": "execute_result"
    }
   ],
   "source": [
    "data.groupby('income_type')['days_employed'].agg('median')"
   ]
  },
  {
   "cell_type": "markdown",
   "id": "13c776ce",
   "metadata": {
    "deletable": false,
    "editable": false,
    "id": "38d1a030"
   },
   "source": [
    "У двух типов (безработные и пенсионеры) получатся аномально большие значения. Исправить такие значения сложно, поэтому оставьте их как есть. Тем более этот столбец не понадобится вам для исследования."
   ]
  },
  {
   "cell_type": "markdown",
   "id": "3c5caed5",
   "metadata": {
    "deletable": false,
    "editable": false,
    "id": "d8a9f147"
   },
   "source": [
    "**Задание 8. Выведите перечень уникальных значений столбца `children`.**"
   ]
  },
  {
   "cell_type": "code",
   "execution_count": 8,
   "id": "e47d6549",
   "metadata": {
    "deletable": false,
    "id": "ef5056eb",
    "outputId": "6975b15c-7f95-4697-d16d-a0c79b657b03"
   },
   "outputs": [
    {
     "data": {
      "text/plain": [
       "array([ 1,  0,  3,  2, -1,  4, 20,  5])"
      ]
     },
     "execution_count": 8,
     "metadata": {},
     "output_type": "execute_result"
    }
   ],
   "source": [
    "data['children'].unique()"
   ]
  },
  {
   "cell_type": "markdown",
   "id": "4b5f1528",
   "metadata": {
    "deletable": false,
    "editable": false,
    "id": "40b9ebf2"
   },
   "source": [
    "**Задание 9. В столбце `children` есть два аномальных значения. Удалите строки, в которых встречаются такие аномальные значения из датафрейма `data`.**"
   ]
  },
  {
   "cell_type": "code",
   "execution_count": 9,
   "id": "fe9547c5",
   "metadata": {
    "deletable": false,
    "id": "3ff9801d"
   },
   "outputs": [],
   "source": [
    "data = data[(data['children'] != -1) & (data['children'] != 20)]"
   ]
  },
  {
   "cell_type": "markdown",
   "id": "359c96f3",
   "metadata": {
    "deletable": false,
    "editable": false,
    "id": "bbc4d0ce"
   },
   "source": [
    "**Задание 10. Ещё раз выведите перечень уникальных значений столбца `children`, чтобы убедиться, что артефакты удалены.**"
   ]
  },
  {
   "cell_type": "code",
   "execution_count": 10,
   "id": "0806705b",
   "metadata": {
    "deletable": false,
    "id": "ad4fa8b7",
    "outputId": "b2097101-d49d-44d9-901b-32a65c9463d1"
   },
   "outputs": [
    {
     "data": {
      "text/plain": [
       "array([1, 0, 3, 2, 4, 5])"
      ]
     },
     "execution_count": 10,
     "metadata": {},
     "output_type": "execute_result"
    }
   ],
   "source": [
    "data['children'].unique()"
   ]
  },
  {
   "cell_type": "markdown",
   "id": "8db9a8e7",
   "metadata": {
    "deletable": false,
    "editable": false,
    "id": "75440b63"
   },
   "source": [
    "### Удаление пропусков (продолжение)"
   ]
  },
  {
   "cell_type": "markdown",
   "id": "554bc81d",
   "metadata": {
    "deletable": false,
    "editable": false,
    "id": "f4ea573f"
   },
   "source": [
    "**Задание 11. Заполните пропуски в столбце `days_employed` медианными значениями по каждого типа занятости `income_type`.**"
   ]
  },
  {
   "cell_type": "code",
   "execution_count": 11,
   "id": "e80b0a33",
   "metadata": {
    "deletable": false,
    "id": "af6b1a7e"
   },
   "outputs": [],
   "source": [
    "for t in data['income_type'].unique():\n",
    "    data.loc[(data['income_type'] == t) & (data['days_employed'].isna()), 'days_employed'] = \\\n",
    "    data.loc[(data['income_type'] == t), 'days_employed'].median()"
   ]
  },
  {
   "cell_type": "markdown",
   "id": "0e64f2c0",
   "metadata": {
    "deletable": false,
    "editable": false,
    "id": "2753f40d"
   },
   "source": [
    "**Задание 12. Убедитесь, что все пропуски заполнены. Проверьте себя и ещё раз выведите количество пропущенных значений для каждого столбца с помощью двух методов.**"
   ]
  },
  {
   "cell_type": "code",
   "execution_count": 12,
   "id": "e08803a5",
   "metadata": {
    "deletable": false,
    "id": "55f78bc2",
    "outputId": "8da1e4e1-358e-4e87-98c9-f261bce0a7b2"
   },
   "outputs": [
    {
     "data": {
      "text/plain": [
       "children            0\n",
       "days_employed       0\n",
       "dob_years           0\n",
       "education           0\n",
       "education_id        0\n",
       "family_status       0\n",
       "family_status_id    0\n",
       "gender              0\n",
       "income_type         0\n",
       "debt                0\n",
       "total_income        0\n",
       "purpose             0\n",
       "dtype: int64"
      ]
     },
     "execution_count": 12,
     "metadata": {},
     "output_type": "execute_result"
    }
   ],
   "source": [
    "data.isna().sum()"
   ]
  },
  {
   "cell_type": "markdown",
   "id": "527b0106",
   "metadata": {
    "deletable": false,
    "editable": false,
    "id": "ddc81e43"
   },
   "source": [
    "### Изменение типов данных"
   ]
  },
  {
   "cell_type": "markdown",
   "id": "49eed78f",
   "metadata": {
    "deletable": false,
    "editable": false,
    "id": "42d19d24"
   },
   "source": [
    "**Задание 13. Замените вещественный тип данных в столбце `total_income` на целочисленный с помощью метода `astype()`.**"
   ]
  },
  {
   "cell_type": "code",
   "execution_count": 13,
   "id": "4da34ab5",
   "metadata": {
    "deletable": false,
    "id": "920b65ad"
   },
   "outputs": [],
   "source": [
    "data['total_income'] = data['total_income'].astype(int)"
   ]
  },
  {
   "cell_type": "markdown",
   "id": "324970ad",
   "metadata": {
    "deletable": false,
    "editable": false,
    "id": "80c420ba"
   },
   "source": [
    "### Обработка дубликатов"
   ]
  },
  {
   "cell_type": "markdown",
   "id": "4c508ba9",
   "metadata": {
    "deletable": false,
    "editable": false
   },
   "source": [
    "**Задание 14. Обработайте неявные дубликаты в столбце `education`. В этом столбце есть одни и те же значения, но записанные по-разному: с использованием заглавных и строчных букв. Приведите их к нижнему регистру. Проверьте остальные столбцы.**"
   ]
  },
  {
   "cell_type": "code",
   "execution_count": 14,
   "id": "60c41708",
   "metadata": {
    "deletable": false
   },
   "outputs": [],
   "source": [
    "data['education'] = data['education'].str.lower()"
   ]
  },
  {
   "cell_type": "markdown",
   "id": "e1951eb6",
   "metadata": {
    "deletable": false,
    "editable": false,
    "id": "dc587695"
   },
   "source": [
    "**Задание 15. Выведите на экран количество строк-дубликатов в данных. Если такие строки присутствуют, удалите их.**"
   ]
  },
  {
   "cell_type": "code",
   "execution_count": 15,
   "id": "73100244",
   "metadata": {
    "deletable": false,
    "id": "3ee445e4",
    "outputId": "9684deba-1934-42d1-99e1-cda61740f822"
   },
   "outputs": [
    {
     "data": {
      "text/plain": [
       "71"
      ]
     },
     "execution_count": 15,
     "metadata": {},
     "output_type": "execute_result"
    }
   ],
   "source": [
    "data.duplicated().sum()"
   ]
  },
  {
   "cell_type": "code",
   "execution_count": 16,
   "id": "0060ba28",
   "metadata": {
    "deletable": false,
    "id": "8575fe05"
   },
   "outputs": [],
   "source": [
    "data = data.drop_duplicates()"
   ]
  },
  {
   "cell_type": "markdown",
   "id": "54d4889c",
   "metadata": {
    "deletable": false,
    "editable": false,
    "id": "9904cf55"
   },
   "source": [
    "### Категоризация данных"
   ]
  },
  {
   "cell_type": "markdown",
   "id": "dd82cfc2",
   "metadata": {
    "deletable": false,
    "editable": false,
    "id": "72fcc8a2"
   },
   "source": [
    "**Задание 16. На основании диапазонов, указанных ниже, создайте в датафрейме `data` столбец `total_income_category` с категориями:**\n",
    "\n",
    "- 0–30000 — `'E'`;\n",
    "- 30001–50000 — `'D'`;\n",
    "- 50001–200000 — `'C'`;\n",
    "- 200001–1000000 — `'B'`;\n",
    "- 1000001 и выше — `'A'`.\n",
    "\n",
    "\n",
    "**Например, кредитополучателю с доходом 25000 нужно назначить категорию `'E'`, а клиенту, получающему 235000, — `'B'`. Используйте собственную функцию с именем `categorize_income()` и метод `apply()`.**"
   ]
  },
  {
   "cell_type": "code",
   "execution_count": 17,
   "id": "75073d22",
   "metadata": {
    "deletable": false,
    "id": "e1771346"
   },
   "outputs": [],
   "source": [
    "def categorize_income(income):\n",
    "    try:\n",
    "        if 0 <= income <= 30000:\n",
    "            return 'E'\n",
    "        elif 30001 <= income <= 50000:\n",
    "            return 'D'\n",
    "        elif 50001 <= income <= 200000:\n",
    "            return 'C'\n",
    "        elif 200001 <= income <= 1000000:\n",
    "            return 'B'\n",
    "        elif income >= 1000001:\n",
    "            return 'A'\n",
    "    except:\n",
    "        pass"
   ]
  },
  {
   "cell_type": "code",
   "execution_count": 18,
   "id": "4f37e1c2",
   "metadata": {
    "deletable": false,
    "id": "d5f3586d"
   },
   "outputs": [],
   "source": [
    "data['total_income_category'] = data['total_income'].apply(categorize_income)"
   ]
  },
  {
   "cell_type": "markdown",
   "id": "a7ec5959",
   "metadata": {
    "deletable": false,
    "editable": false,
    "id": "dde49b5c"
   },
   "source": [
    "**Задание 17. Выведите на экран перечень уникальных целей взятия кредита из столбца `purpose`.**"
   ]
  },
  {
   "cell_type": "code",
   "execution_count": 19,
   "id": "b2b78351",
   "metadata": {
    "deletable": false,
    "id": "f67ce9b3",
    "outputId": "673c12d9-7d7e-4ae0-9812-c622c89dd244"
   },
   "outputs": [
    {
     "data": {
      "text/plain": [
       "array(['покупка жилья', 'приобретение автомобиля',\n",
       "       'дополнительное образование', 'сыграть свадьбу',\n",
       "       'операции с жильем', 'образование', 'на проведение свадьбы',\n",
       "       'покупка жилья для семьи', 'покупка недвижимости',\n",
       "       'покупка коммерческой недвижимости', 'покупка жилой недвижимости',\n",
       "       'строительство собственной недвижимости', 'недвижимость',\n",
       "       'строительство недвижимости', 'на покупку подержанного автомобиля',\n",
       "       'на покупку своего автомобиля',\n",
       "       'операции с коммерческой недвижимостью',\n",
       "       'строительство жилой недвижимости', 'жилье',\n",
       "       'операции со своей недвижимостью', 'автомобили',\n",
       "       'заняться образованием', 'сделка с подержанным автомобилем',\n",
       "       'получение образования', 'автомобиль', 'свадьба',\n",
       "       'получение дополнительного образования', 'покупка своего жилья',\n",
       "       'операции с недвижимостью', 'получение высшего образования',\n",
       "       'свой автомобиль', 'сделка с автомобилем',\n",
       "       'профильное образование', 'высшее образование',\n",
       "       'покупка жилья для сдачи', 'на покупку автомобиля', 'ремонт жилью',\n",
       "       'заняться высшим образованием'], dtype=object)"
      ]
     },
     "execution_count": 19,
     "metadata": {},
     "output_type": "execute_result"
    }
   ],
   "source": [
    "data['purpose'].unique()"
   ]
  },
  {
   "cell_type": "markdown",
   "id": "848c3f6d",
   "metadata": {
    "deletable": false,
    "editable": false,
    "id": "85d0aef0"
   },
   "source": [
    "**Задание 18. Создайте функцию, которая на основании данных из столбца `purpose` сформирует новый столбец `purpose_category`, в который войдут следующие категории:**\n",
    "\n",
    "- `'операции с автомобилем'`,\n",
    "- `'операции с недвижимостью'`,\n",
    "- `'проведение свадьбы'`,\n",
    "- `'получение образования'`.\n",
    "\n",
    "**Например, если в столбце `purpose` находится подстрока `'на покупку автомобиля'`, то в столбце `purpose_category` должна появиться строка `'операции с автомобилем'`.**\n",
    "\n",
    "**Используйте собственную функцию с именем `categorize_purpose()` и метод `apply()`. Изучите данные в столбце `purpose` и определите, какие подстроки помогут вам правильно определить категорию.**"
   ]
  },
  {
   "cell_type": "code",
   "execution_count": 20,
   "id": "206d17e7",
   "metadata": {
    "deletable": false,
    "id": "e149fab4"
   },
   "outputs": [],
   "source": [
    "def categorize_purpose(row):\n",
    "    try:\n",
    "        if 'автом' in row:\n",
    "            return 'операции с автомобилем'\n",
    "        elif 'жил' in row or 'недвиж' in row:\n",
    "            return 'операции с недвижимостью'\n",
    "        elif 'свад' in row:\n",
    "            return 'проведение свадьбы'\n",
    "        elif 'образов' in row:\n",
    "            return 'получение образования'\n",
    "    except:\n",
    "        return 'нет категории'"
   ]
  },
  {
   "cell_type": "code",
   "execution_count": 21,
   "id": "95c25b43",
   "metadata": {
    "deletable": false,
    "id": "bf36e69b"
   },
   "outputs": [],
   "source": [
    "data['purpose_category'] = data['purpose'].apply(categorize_purpose)"
   ]
  },
  {
   "cell_type": "markdown",
   "id": "d9dfa5b5",
   "metadata": {
    "deletable": false,
    "editable": false,
    "id": "09b242bf"
   },
   "source": [
    "### Шаг 3. Исследуйте данные и ответьте на вопросы"
   ]
  },
  {
   "cell_type": "markdown",
   "id": "bc216cdb",
   "metadata": {
    "deletable": false,
    "editable": false,
    "id": "c5d66278"
   },
   "source": [
    "#### 3.1 Есть ли зависимость между количеством детей и возвратом кредита в срок?"
   ]
  },
  {
   "cell_type": "code",
   "execution_count": 22,
   "id": "05f88205",
   "metadata": {
    "deletable": false,
    "id": "2cacfc4a"
   },
   "outputs": [
    {
     "data": {
      "text/html": [
       "<div>\n",
       "<style scoped>\n",
       "    .dataframe tbody tr th:only-of-type {\n",
       "        vertical-align: middle;\n",
       "    }\n",
       "\n",
       "    .dataframe tbody tr th {\n",
       "        vertical-align: top;\n",
       "    }\n",
       "\n",
       "    .dataframe thead tr th {\n",
       "        text-align: left;\n",
       "    }\n",
       "\n",
       "    .dataframe thead tr:last-of-type th {\n",
       "        text-align: right;\n",
       "    }\n",
       "</style>\n",
       "<table border=\"1\" class=\"dataframe\">\n",
       "  <thead>\n",
       "    <tr>\n",
       "      <th></th>\n",
       "      <th>count</th>\n",
       "      <th>sum</th>\n",
       "      <th>mean</th>\n",
       "    </tr>\n",
       "    <tr>\n",
       "      <th></th>\n",
       "      <th>debt</th>\n",
       "      <th>debt</th>\n",
       "      <th>debt</th>\n",
       "    </tr>\n",
       "    <tr>\n",
       "      <th>children</th>\n",
       "      <th></th>\n",
       "      <th></th>\n",
       "      <th></th>\n",
       "    </tr>\n",
       "  </thead>\n",
       "  <tbody>\n",
       "    <tr>\n",
       "      <th>0</th>\n",
       "      <td>14091</td>\n",
       "      <td>1063</td>\n",
       "      <td>0.075438</td>\n",
       "    </tr>\n",
       "    <tr>\n",
       "      <th>1</th>\n",
       "      <td>4808</td>\n",
       "      <td>444</td>\n",
       "      <td>0.092346</td>\n",
       "    </tr>\n",
       "    <tr>\n",
       "      <th>2</th>\n",
       "      <td>2052</td>\n",
       "      <td>194</td>\n",
       "      <td>0.094542</td>\n",
       "    </tr>\n",
       "    <tr>\n",
       "      <th>3</th>\n",
       "      <td>330</td>\n",
       "      <td>27</td>\n",
       "      <td>0.081818</td>\n",
       "    </tr>\n",
       "    <tr>\n",
       "      <th>4</th>\n",
       "      <td>41</td>\n",
       "      <td>4</td>\n",
       "      <td>0.097561</td>\n",
       "    </tr>\n",
       "    <tr>\n",
       "      <th>5</th>\n",
       "      <td>9</td>\n",
       "      <td>0</td>\n",
       "      <td>0.000000</td>\n",
       "    </tr>\n",
       "  </tbody>\n",
       "</table>\n",
       "</div>"
      ],
      "text/plain": [
       "          count   sum      mean\n",
       "           debt  debt      debt\n",
       "children                       \n",
       "0         14091  1063  0.075438\n",
       "1          4808   444  0.092346\n",
       "2          2052   194  0.094542\n",
       "3           330    27  0.081818\n",
       "4            41     4  0.097561\n",
       "5             9     0  0.000000"
      ]
     },
     "metadata": {},
     "output_type": "display_data"
    }
   ],
   "source": [
    "data_pivot = data.pivot_table(index = 'children', values = 'debt', aggfunc = ['count', 'sum', 'mean'])\n",
    "\n",
    "display(data_pivot)\n"
   ]
  },
  {
   "cell_type": "markdown",
   "id": "a4b2ca08",
   "metadata": {
    "deletable": false,
    "id": "3a6b99ec"
   },
   "source": [
    "**Вывод:** \n",
    "Наиболее надежной группой по результатам исследования является группа людей без детей, хотя 0% должников выявлено в группе с 5-ю детьми, нельзя назвать такие результаты репрезентативными, так как во всем датасете таких людей всего 9 человек. Также среди наименее рискованных групп можно выделить группу людей с 3-я детьми. Остальные группы в более чем 9% случаев имели долги по кредиту."
   ]
  },
  {
   "cell_type": "markdown",
   "id": "2f7b141a",
   "metadata": {
    "deletable": false,
    "editable": false,
    "id": "97be82ca"
   },
   "source": [
    "#### 3.2 Есть ли зависимость между семейным положением и возвратом кредита в срок?"
   ]
  },
  {
   "cell_type": "code",
   "execution_count": 23,
   "id": "d2369a5f",
   "metadata": {
    "deletable": false,
    "id": "dc3f7ee8"
   },
   "outputs": [
    {
     "data": {
      "text/html": [
       "<div>\n",
       "<style scoped>\n",
       "    .dataframe tbody tr th:only-of-type {\n",
       "        vertical-align: middle;\n",
       "    }\n",
       "\n",
       "    .dataframe tbody tr th {\n",
       "        vertical-align: top;\n",
       "    }\n",
       "\n",
       "    .dataframe thead tr th {\n",
       "        text-align: left;\n",
       "    }\n",
       "\n",
       "    .dataframe thead tr:last-of-type th {\n",
       "        text-align: right;\n",
       "    }\n",
       "</style>\n",
       "<table border=\"1\" class=\"dataframe\">\n",
       "  <thead>\n",
       "    <tr>\n",
       "      <th></th>\n",
       "      <th>count</th>\n",
       "      <th>sum</th>\n",
       "      <th>mean</th>\n",
       "    </tr>\n",
       "    <tr>\n",
       "      <th></th>\n",
       "      <th>debt</th>\n",
       "      <th>debt</th>\n",
       "      <th>debt</th>\n",
       "    </tr>\n",
       "    <tr>\n",
       "      <th>family_status</th>\n",
       "      <th></th>\n",
       "      <th></th>\n",
       "      <th></th>\n",
       "    </tr>\n",
       "  </thead>\n",
       "  <tbody>\n",
       "    <tr>\n",
       "      <th>в разводе</th>\n",
       "      <td>1189</td>\n",
       "      <td>84</td>\n",
       "      <td>0.070648</td>\n",
       "    </tr>\n",
       "    <tr>\n",
       "      <th>вдовец / вдова</th>\n",
       "      <td>951</td>\n",
       "      <td>63</td>\n",
       "      <td>0.066246</td>\n",
       "    </tr>\n",
       "    <tr>\n",
       "      <th>гражданский брак</th>\n",
       "      <td>4134</td>\n",
       "      <td>385</td>\n",
       "      <td>0.093130</td>\n",
       "    </tr>\n",
       "    <tr>\n",
       "      <th>женат / замужем</th>\n",
       "      <td>12261</td>\n",
       "      <td>927</td>\n",
       "      <td>0.075606</td>\n",
       "    </tr>\n",
       "    <tr>\n",
       "      <th>не женат / не замужем</th>\n",
       "      <td>2796</td>\n",
       "      <td>273</td>\n",
       "      <td>0.097639</td>\n",
       "    </tr>\n",
       "  </tbody>\n",
       "</table>\n",
       "</div>"
      ],
      "text/plain": [
       "                       count  sum      mean\n",
       "                        debt debt      debt\n",
       "family_status                              \n",
       "в разводе               1189   84  0.070648\n",
       "вдовец / вдова           951   63  0.066246\n",
       "гражданский брак        4134  385  0.093130\n",
       "женат / замужем        12261  927  0.075606\n",
       "не женат / не замужем   2796  273  0.097639"
      ]
     },
     "metadata": {},
     "output_type": "display_data"
    }
   ],
   "source": [
    "\n",
    "data['family_status'] = data['family_status'].str.lower()\n",
    "\n",
    "data_pivot = data.pivot_table(index = 'family_status', values = 'debt', aggfunc = ['count', 'sum', 'mean'])\n",
    "\n",
    "display(data_pivot)\n"
   ]
  },
  {
   "cell_type": "markdown",
   "id": "4f69f0ad",
   "metadata": {
    "deletable": false,
    "id": "1cef7837"
   },
   "source": [
    "**Вывод:**\n",
    "Наименьшую надежность показали группы людей с семейным положением \"не женат/не замужем\" и люди в гражданском браке. Остальные группы людей существенно более надежны в качестве заемщиков по результатам исследования. Наиболее надежная группа - вдовы/вдовцы."
   ]
  },
  {
   "cell_type": "markdown",
   "id": "3c5b4cc0",
   "metadata": {
    "deletable": false,
    "editable": false,
    "id": "1e8b2fca"
   },
   "source": [
    "#### 3.3 Есть ли зависимость между уровнем дохода и возвратом кредита в срок?"
   ]
  },
  {
   "cell_type": "code",
   "execution_count": 24,
   "id": "8ee6099c",
   "metadata": {
    "deletable": false,
    "id": "cd7e3720"
   },
   "outputs": [
    {
     "data": {
      "text/html": [
       "<div>\n",
       "<style scoped>\n",
       "    .dataframe tbody tr th:only-of-type {\n",
       "        vertical-align: middle;\n",
       "    }\n",
       "\n",
       "    .dataframe tbody tr th {\n",
       "        vertical-align: top;\n",
       "    }\n",
       "\n",
       "    .dataframe thead tr th {\n",
       "        text-align: left;\n",
       "    }\n",
       "\n",
       "    .dataframe thead tr:last-of-type th {\n",
       "        text-align: right;\n",
       "    }\n",
       "</style>\n",
       "<table border=\"1\" class=\"dataframe\">\n",
       "  <thead>\n",
       "    <tr>\n",
       "      <th></th>\n",
       "      <th>count</th>\n",
       "      <th>sum</th>\n",
       "      <th>mean</th>\n",
       "    </tr>\n",
       "    <tr>\n",
       "      <th></th>\n",
       "      <th>debt</th>\n",
       "      <th>debt</th>\n",
       "      <th>debt</th>\n",
       "    </tr>\n",
       "    <tr>\n",
       "      <th>total_income_category</th>\n",
       "      <th></th>\n",
       "      <th></th>\n",
       "      <th></th>\n",
       "    </tr>\n",
       "  </thead>\n",
       "  <tbody>\n",
       "    <tr>\n",
       "      <th>A</th>\n",
       "      <td>25</td>\n",
       "      <td>2</td>\n",
       "      <td>0.080000</td>\n",
       "    </tr>\n",
       "    <tr>\n",
       "      <th>B</th>\n",
       "      <td>5014</td>\n",
       "      <td>354</td>\n",
       "      <td>0.070602</td>\n",
       "    </tr>\n",
       "    <tr>\n",
       "      <th>C</th>\n",
       "      <td>15921</td>\n",
       "      <td>1353</td>\n",
       "      <td>0.084982</td>\n",
       "    </tr>\n",
       "    <tr>\n",
       "      <th>D</th>\n",
       "      <td>349</td>\n",
       "      <td>21</td>\n",
       "      <td>0.060172</td>\n",
       "    </tr>\n",
       "    <tr>\n",
       "      <th>E</th>\n",
       "      <td>22</td>\n",
       "      <td>2</td>\n",
       "      <td>0.090909</td>\n",
       "    </tr>\n",
       "  </tbody>\n",
       "</table>\n",
       "</div>"
      ],
      "text/plain": [
       "                       count   sum      mean\n",
       "                        debt  debt      debt\n",
       "total_income_category                       \n",
       "A                         25     2  0.080000\n",
       "B                       5014   354  0.070602\n",
       "C                      15921  1353  0.084982\n",
       "D                        349    21  0.060172\n",
       "E                         22     2  0.090909"
      ]
     },
     "metadata": {},
     "output_type": "display_data"
    }
   ],
   "source": [
    "data_pivot = data.pivot_table(index = 'total_income_category', values = 'debt', aggfunc = ['count', 'sum', 'mean'])\n",
    "\n",
    "display(data_pivot)\n"
   ]
  },
  {
   "cell_type": "markdown",
   "id": "da3c8bbf",
   "metadata": {
    "deletable": false,
    "id": "e8593def"
   },
   "source": [
    "**Вывод:**\n",
    "Группы A, D, E представленны крайне малым количеством людей, невозможно сделать вывод по этим группам. Достаточное для анализа количество людей находится в группах B и C. Группа B демонстрирует меньший процент должников по займу."
   ]
  },
  {
   "cell_type": "markdown",
   "id": "eafb2278",
   "metadata": {
    "deletable": false,
    "editable": false,
    "id": "99ecbd1f"
   },
   "source": [
    "#### 3.4 Как разные цели кредита влияют на его возврат в срок?"
   ]
  },
  {
   "cell_type": "code",
   "execution_count": 25,
   "id": "4f6ba474",
   "metadata": {
    "deletable": false,
    "id": "2b687290"
   },
   "outputs": [
    {
     "data": {
      "text/html": [
       "<div>\n",
       "<style scoped>\n",
       "    .dataframe tbody tr th:only-of-type {\n",
       "        vertical-align: middle;\n",
       "    }\n",
       "\n",
       "    .dataframe tbody tr th {\n",
       "        vertical-align: top;\n",
       "    }\n",
       "\n",
       "    .dataframe thead tr th {\n",
       "        text-align: left;\n",
       "    }\n",
       "\n",
       "    .dataframe thead tr:last-of-type th {\n",
       "        text-align: right;\n",
       "    }\n",
       "</style>\n",
       "<table border=\"1\" class=\"dataframe\">\n",
       "  <thead>\n",
       "    <tr>\n",
       "      <th></th>\n",
       "      <th>count</th>\n",
       "      <th>sum</th>\n",
       "      <th>mean</th>\n",
       "    </tr>\n",
       "    <tr>\n",
       "      <th></th>\n",
       "      <th>debt</th>\n",
       "      <th>debt</th>\n",
       "      <th>debt</th>\n",
       "    </tr>\n",
       "    <tr>\n",
       "      <th>purpose_category</th>\n",
       "      <th></th>\n",
       "      <th></th>\n",
       "      <th></th>\n",
       "    </tr>\n",
       "  </thead>\n",
       "  <tbody>\n",
       "    <tr>\n",
       "      <th>операции с автомобилем</th>\n",
       "      <td>4279</td>\n",
       "      <td>400</td>\n",
       "      <td>0.093480</td>\n",
       "    </tr>\n",
       "    <tr>\n",
       "      <th>операции с недвижимостью</th>\n",
       "      <td>10751</td>\n",
       "      <td>780</td>\n",
       "      <td>0.072551</td>\n",
       "    </tr>\n",
       "    <tr>\n",
       "      <th>получение образования</th>\n",
       "      <td>3988</td>\n",
       "      <td>369</td>\n",
       "      <td>0.092528</td>\n",
       "    </tr>\n",
       "    <tr>\n",
       "      <th>проведение свадьбы</th>\n",
       "      <td>2313</td>\n",
       "      <td>183</td>\n",
       "      <td>0.079118</td>\n",
       "    </tr>\n",
       "  </tbody>\n",
       "</table>\n",
       "</div>"
      ],
      "text/plain": [
       "                          count  sum      mean\n",
       "                           debt debt      debt\n",
       "purpose_category                              \n",
       "операции с автомобилем     4279  400  0.093480\n",
       "операции с недвижимостью  10751  780  0.072551\n",
       "получение образования      3988  369  0.092528\n",
       "проведение свадьбы         2313  183  0.079118"
      ]
     },
     "metadata": {},
     "output_type": "display_data"
    }
   ],
   "source": [
    "data_pivot = data.pivot_table(index = 'purpose_category', values = 'debt', aggfunc = ['count', 'sum', 'mean'])\n",
    "\n",
    "display(data_pivot)\n"
   ]
  },
  {
   "cell_type": "markdown",
   "id": "47be7f10",
   "metadata": {
    "deletable": false,
    "id": "b4bb2ce6"
   },
   "source": [
    "**Вывод:** Люди, берущие кредит с целью операций с недвижимостью и для проведения свадьбы с бОльшей вероятностью вернут займ в срок. "
   ]
  },
  {
   "cell_type": "markdown",
   "id": "6447e669",
   "metadata": {
    "deletable": false,
    "editable": false,
    "id": "09c3ac4c"
   },
   "source": [
    "#### 3.5 Приведите возможные причины появления пропусков в исходных данных."
   ]
  },
  {
   "cell_type": "markdown",
   "id": "a189ce59",
   "metadata": {
    "deletable": false,
    "id": "9da2ceda"
   },
   "source": [
    "*Ответ:* учитывая одинаковое количество пропусков в столбце общего трудового стажа и дохода, предположу, что пропуски обусловлены внесением в датасет людей, которые не имеют дохода и никогда не работали. Либо, возможно это люди, которые по тем или иным причинам скрывают свой доход и место работы."
   ]
  },
  {
   "cell_type": "markdown",
   "id": "41d55038",
   "metadata": {
    "deletable": false,
    "editable": false,
    "id": "7b0487d6"
   },
   "source": [
    "#### 3.6 Объясните, почему заполнить пропуски медианным значением — лучшее решение для количественных переменных."
   ]
  },
  {
   "cell_type": "markdown",
   "id": "17d1a304",
   "metadata": {
    "deletable": false,
    "id": "7ecf2b8e"
   },
   "source": [
    "*Ответ:* медианное значение находится ровно в середине набора чисел. В отличие от среднего арифметического с медианным значением не будет такого эффекта, что одно выдающееся значение вытягивает метрику выше или ниже. "
   ]
  },
  {
   "cell_type": "markdown",
   "id": "f8ff4026",
   "metadata": {
    "deletable": false,
    "editable": false,
    "id": "6db5255a"
   },
   "source": [
    "### Шаг 4: общий вывод."
   ]
  },
  {
   "cell_type": "markdown",
   "id": "84b2fd6c",
   "metadata": {
    "deletable": false,
    "id": "bad65432"
   },
   "source": [
    "<br />**Вывод для сравнения по количетсву детей:** Наиболее надежными заемщиками по результатам исследования являются люди без детей. В имеющемся датасете самой надежной категорией заемщиков стала категория людей с 5-ю детьми, но она представлена слишком малым количеством людей, считать их наиболее надежной категорией заемщиков нельзя. Также, высокую надежность показали люди с 3-я детьми.\n",
    "<br />**Вывод для сравнения по семейному положению:** Наиболее надежными заемщиками по результатам исследования являются люди состоящие в официальном браке (женаты/замужем) или состоявшие в таковом (вдовы/вдовцы).\n",
    "<br /> **Вывод для сравнения по уровню дохода:** Категории дохода людей в датасете были разбиты на 5 категорий:\n",
    " * A - более 1 млн. рублей;\n",
    " * B - от 200 тыс. рублей до 1 млн. рублей;\n",
    " * C - от 50 тыс. рублей до 200 тыс. рублей;\n",
    " * D - от 30 тыс. рублей до 50 тыс. рублей;\n",
    " * E - менее 30 тыс. рублей.\n",
    " Наиболее надежные заемщики представлены в группе D, но группы A, D, E представлены малым количеством людей. Непосредственному сравнению подвержены группы B и C. Среди выделенных групп наиболее надежной является группа B.\n",
    " <br /> **Вывод для сравнения по цели кредита:** Наиболее надежными по результатам исследования являются заемщики, которые берут кредит на недвижимость и на проведение свадьбы."
   ]
  }
 ],
 "metadata": {
  "ExecuteTimeLog": [
   {
    "duration": 663,
    "start_time": "2022-09-28T16:07:29.959Z"
   },
   {
    "duration": 23,
    "start_time": "2022-09-28T16:07:30.624Z"
   },
   {
    "duration": 18,
    "start_time": "2022-09-28T16:07:30.649Z"
   },
   {
    "duration": 20,
    "start_time": "2022-09-28T16:07:30.669Z"
   },
   {
    "duration": 45,
    "start_time": "2022-09-28T16:07:30.692Z"
   },
   {
    "duration": 37,
    "start_time": "2022-09-28T16:07:30.739Z"
   },
   {
    "duration": 41,
    "start_time": "2022-09-28T16:07:30.777Z"
   },
   {
    "duration": 12,
    "start_time": "2022-09-28T16:07:30.820Z"
   },
   {
    "duration": 23,
    "start_time": "2022-09-28T16:07:30.833Z"
   },
   {
    "duration": 28,
    "start_time": "2022-09-28T16:07:30.858Z"
   },
   {
    "duration": 55,
    "start_time": "2022-09-28T16:07:30.888Z"
   },
   {
    "duration": 9,
    "start_time": "2022-09-28T16:07:30.945Z"
   },
   {
    "duration": 22,
    "start_time": "2022-09-28T16:07:30.955Z"
   },
   {
    "duration": 27,
    "start_time": "2022-09-28T16:07:30.979Z"
   },
   {
    "duration": 39,
    "start_time": "2022-09-28T16:07:31.007Z"
   },
   {
    "duration": 37,
    "start_time": "2022-09-28T16:07:31.048Z"
   },
   {
    "duration": 26,
    "start_time": "2022-09-28T16:07:31.086Z"
   },
   {
    "duration": 37,
    "start_time": "2022-09-28T16:07:31.113Z"
   },
   {
    "duration": 14,
    "start_time": "2022-09-28T16:07:31.152Z"
   },
   {
    "duration": 6,
    "start_time": "2022-09-28T16:07:31.168Z"
   },
   {
    "duration": 3,
    "start_time": "2022-09-28T16:07:40.833Z"
   },
   {
    "duration": 9,
    "start_time": "2022-09-28T16:07:41.390Z"
   },
   {
    "duration": 18,
    "start_time": "2022-09-28T16:24:04.502Z"
   },
   {
    "duration": 908,
    "start_time": "2022-09-28T16:29:17.904Z"
   },
   {
    "duration": 321,
    "start_time": "2022-09-28T16:30:25.724Z"
   },
   {
    "duration": 3,
    "start_time": "2022-09-28T16:31:06.001Z"
   },
   {
    "duration": 21,
    "start_time": "2022-09-28T16:32:19.924Z"
   },
   {
    "duration": 317,
    "start_time": "2022-09-28T16:32:56.618Z"
   },
   {
    "duration": 294,
    "start_time": "2022-09-28T16:33:12.521Z"
   },
   {
    "duration": 20,
    "start_time": "2022-09-28T16:34:05.984Z"
   },
   {
    "duration": 118,
    "start_time": "2022-09-28T16:34:32.591Z"
   },
   {
    "duration": 8,
    "start_time": "2022-09-28T16:34:39.070Z"
   },
   {
    "duration": 8,
    "start_time": "2022-09-28T16:34:42.914Z"
   },
   {
    "duration": 9,
    "start_time": "2022-09-28T16:34:53.749Z"
   },
   {
    "duration": 19,
    "start_time": "2022-09-28T16:35:14.682Z"
   },
   {
    "duration": 5,
    "start_time": "2022-09-28T16:35:26.740Z"
   },
   {
    "duration": 5,
    "start_time": "2022-09-28T16:36:27.616Z"
   },
   {
    "duration": 5,
    "start_time": "2022-09-28T16:36:39.555Z"
   },
   {
    "duration": 12,
    "start_time": "2022-09-28T16:37:28.730Z"
   },
   {
    "duration": 20,
    "start_time": "2022-09-28T16:37:33.505Z"
   },
   {
    "duration": 10,
    "start_time": "2022-09-28T16:38:00.218Z"
   },
   {
    "duration": 506,
    "start_time": "2022-09-28T16:38:12.244Z"
   },
   {
    "duration": 12,
    "start_time": "2022-09-28T16:38:22.311Z"
   },
   {
    "duration": 12,
    "start_time": "2022-09-28T16:38:32.589Z"
   },
   {
    "duration": 20,
    "start_time": "2022-09-28T16:38:41.646Z"
   },
   {
    "duration": 13,
    "start_time": "2022-09-28T16:39:06.591Z"
   },
   {
    "duration": 765,
    "start_time": "2022-09-28T16:39:48.500Z"
   },
   {
    "duration": 782,
    "start_time": "2022-09-28T16:39:55.812Z"
   },
   {
    "duration": 1485,
    "start_time": "2022-09-28T16:40:04.311Z"
   },
   {
    "duration": 1120,
    "start_time": "2022-09-28T16:40:32.478Z"
   },
   {
    "duration": 1362,
    "start_time": "2022-09-28T16:40:38.862Z"
   },
   {
    "duration": 1821,
    "start_time": "2022-09-28T16:40:44.160Z"
   },
   {
    "duration": 32,
    "start_time": "2022-09-28T16:40:58.612Z"
   },
   {
    "duration": 22,
    "start_time": "2022-09-28T16:41:10.910Z"
   },
   {
    "duration": 24,
    "start_time": "2022-09-28T16:41:38.560Z"
   },
   {
    "duration": 22,
    "start_time": "2022-09-28T16:42:34.915Z"
   },
   {
    "duration": 16,
    "start_time": "2022-09-28T16:43:04.191Z"
   },
   {
    "duration": 17,
    "start_time": "2022-09-28T16:43:27.661Z"
   },
   {
    "duration": 18,
    "start_time": "2022-09-28T16:43:39.642Z"
   },
   {
    "duration": 7,
    "start_time": "2022-09-28T16:43:46.741Z"
   },
   {
    "duration": 13,
    "start_time": "2022-09-28T16:44:07.433Z"
   },
   {
    "duration": 11,
    "start_time": "2022-09-28T16:44:16.747Z"
   },
   {
    "duration": 898,
    "start_time": "2022-09-28T16:44:23.762Z"
   },
   {
    "duration": 3,
    "start_time": "2022-09-28T16:53:23.323Z"
   },
   {
    "duration": 4,
    "start_time": "2022-09-28T16:53:29.426Z"
   },
   {
    "duration": 4,
    "start_time": "2022-09-28T16:53:35.124Z"
   },
   {
    "duration": 3,
    "start_time": "2022-09-28T16:53:37.541Z"
   },
   {
    "duration": 4,
    "start_time": "2022-09-28T16:54:28.841Z"
   },
   {
    "duration": 15,
    "start_time": "2022-09-28T16:54:41.432Z"
   },
   {
    "duration": 4,
    "start_time": "2022-09-28T16:54:59.838Z"
   },
   {
    "duration": 5,
    "start_time": "2022-09-28T16:55:07.289Z"
   },
   {
    "duration": 4,
    "start_time": "2022-09-28T16:55:47.671Z"
   },
   {
    "duration": 10,
    "start_time": "2022-09-28T16:56:46.946Z"
   },
   {
    "duration": 4,
    "start_time": "2022-09-28T16:56:55.524Z"
   },
   {
    "duration": 4,
    "start_time": "2022-09-28T16:57:57.313Z"
   },
   {
    "duration": 3,
    "start_time": "2022-09-28T16:58:02.471Z"
   },
   {
    "duration": 5,
    "start_time": "2022-09-28T16:58:15.137Z"
   },
   {
    "duration": 17,
    "start_time": "2022-09-28T16:58:34.451Z"
   },
   {
    "duration": 8,
    "start_time": "2022-09-28T16:58:43.831Z"
   },
   {
    "duration": 7,
    "start_time": "2022-09-28T16:58:56.624Z"
   },
   {
    "duration": 22,
    "start_time": "2022-09-28T17:00:00.362Z"
   },
   {
    "duration": 8,
    "start_time": "2022-09-28T17:00:08.924Z"
   },
   {
    "duration": 9,
    "start_time": "2022-09-28T17:00:46.385Z"
   },
   {
    "duration": 8,
    "start_time": "2022-09-28T17:00:52.799Z"
   },
   {
    "duration": 24,
    "start_time": "2022-09-28T17:01:00.711Z"
   },
   {
    "duration": 10,
    "start_time": "2022-09-28T17:01:15.762Z"
   },
   {
    "duration": 11,
    "start_time": "2022-09-28T17:03:19.275Z"
   },
   {
    "duration": 9,
    "start_time": "2022-09-28T17:03:25.015Z"
   },
   {
    "duration": 20,
    "start_time": "2022-09-28T17:07:22.911Z"
   },
   {
    "duration": 18,
    "start_time": "2022-09-28T17:07:42.822Z"
   },
   {
    "duration": 18,
    "start_time": "2022-09-28T17:07:59.196Z"
   },
   {
    "duration": 19,
    "start_time": "2022-09-28T17:08:07.063Z"
   },
   {
    "duration": 102,
    "start_time": "2022-09-28T17:09:38.627Z"
   },
   {
    "duration": 11,
    "start_time": "2022-09-28T17:09:50.209Z"
   },
   {
    "duration": 19,
    "start_time": "2022-09-28T17:09:59.678Z"
   },
   {
    "duration": 22,
    "start_time": "2022-09-28T17:11:38.434Z"
   },
   {
    "duration": 18,
    "start_time": "2022-09-28T17:11:59.626Z"
   },
   {
    "duration": 21,
    "start_time": "2022-09-28T17:12:18.368Z"
   },
   {
    "duration": 20,
    "start_time": "2022-09-28T17:12:22.591Z"
   },
   {
    "duration": 19,
    "start_time": "2022-09-28T17:12:25.742Z"
   },
   {
    "duration": 20,
    "start_time": "2022-09-28T17:14:23.292Z"
   },
   {
    "duration": 19,
    "start_time": "2022-09-28T17:18:32.770Z"
   },
   {
    "duration": 22,
    "start_time": "2022-09-28T17:18:41.322Z"
   },
   {
    "duration": 20,
    "start_time": "2022-09-28T17:18:45.763Z"
   },
   {
    "duration": 7,
    "start_time": "2022-09-28T17:20:34.279Z"
   },
   {
    "duration": 7,
    "start_time": "2022-09-28T17:21:03.818Z"
   },
   {
    "duration": 467,
    "start_time": "2022-09-28T17:25:21.344Z"
   },
   {
    "duration": 21,
    "start_time": "2022-09-28T17:25:21.813Z"
   },
   {
    "duration": 13,
    "start_time": "2022-09-28T17:25:21.836Z"
   },
   {
    "duration": 10,
    "start_time": "2022-09-28T17:25:21.851Z"
   },
   {
    "duration": 54,
    "start_time": "2022-09-28T17:25:21.863Z"
   },
   {
    "duration": 3,
    "start_time": "2022-09-28T17:25:21.918Z"
   },
   {
    "duration": 9,
    "start_time": "2022-09-28T17:25:21.923Z"
   },
   {
    "duration": 4,
    "start_time": "2022-09-28T17:25:21.934Z"
   },
   {
    "duration": 12,
    "start_time": "2022-09-28T17:25:21.939Z"
   },
   {
    "duration": 4,
    "start_time": "2022-09-28T17:25:21.953Z"
   },
   {
    "duration": 54,
    "start_time": "2022-09-28T17:25:21.958Z"
   },
   {
    "duration": 9,
    "start_time": "2022-09-28T17:25:22.014Z"
   },
   {
    "duration": 4,
    "start_time": "2022-09-28T17:25:22.024Z"
   },
   {
    "duration": 10,
    "start_time": "2022-09-28T17:25:22.030Z"
   },
   {
    "duration": 19,
    "start_time": "2022-09-28T17:25:22.042Z"
   },
   {
    "duration": 17,
    "start_time": "2022-09-28T17:25:22.062Z"
   },
   {
    "duration": 29,
    "start_time": "2022-09-28T17:25:22.080Z"
   },
   {
    "duration": 16,
    "start_time": "2022-09-28T17:25:22.111Z"
   },
   {
    "duration": 6,
    "start_time": "2022-09-28T17:25:22.129Z"
   },
   {
    "duration": 8,
    "start_time": "2022-09-28T17:25:22.136Z"
   },
   {
    "duration": 9,
    "start_time": "2022-09-28T17:25:22.146Z"
   },
   {
    "duration": 25,
    "start_time": "2022-09-28T17:25:33.219Z"
   },
   {
    "duration": 10,
    "start_time": "2022-09-28T17:25:36.774Z"
   },
   {
    "duration": 33,
    "start_time": "2022-09-28T17:25:59.980Z"
   },
   {
    "duration": 76,
    "start_time": "2022-09-28T17:27:32.937Z"
   },
   {
    "duration": 48,
    "start_time": "2022-09-28T17:29:06.408Z"
   },
   {
    "duration": 46,
    "start_time": "2022-09-28T17:29:22.137Z"
   },
   {
    "duration": 49,
    "start_time": "2022-09-28T17:29:45.389Z"
   },
   {
    "duration": 45,
    "start_time": "2022-09-28T17:29:53.726Z"
   },
   {
    "duration": 49,
    "start_time": "2022-09-28T17:30:39.179Z"
   },
   {
    "duration": 863,
    "start_time": "2022-09-28T17:34:09.016Z"
   },
   {
    "duration": 467,
    "start_time": "2022-09-28T17:34:42.440Z"
   },
   {
    "duration": 21,
    "start_time": "2022-09-28T17:34:42.909Z"
   },
   {
    "duration": 14,
    "start_time": "2022-09-28T17:34:42.932Z"
   },
   {
    "duration": 9,
    "start_time": "2022-09-28T17:34:42.947Z"
   },
   {
    "duration": 53,
    "start_time": "2022-09-28T17:34:42.958Z"
   },
   {
    "duration": 3,
    "start_time": "2022-09-28T17:34:43.012Z"
   },
   {
    "duration": 13,
    "start_time": "2022-09-28T17:34:43.017Z"
   },
   {
    "duration": 4,
    "start_time": "2022-09-28T17:34:43.032Z"
   },
   {
    "duration": 14,
    "start_time": "2022-09-28T17:34:43.037Z"
   },
   {
    "duration": 4,
    "start_time": "2022-09-28T17:34:43.052Z"
   },
   {
    "duration": 51,
    "start_time": "2022-09-28T17:34:43.058Z"
   },
   {
    "duration": 9,
    "start_time": "2022-09-28T17:34:43.111Z"
   },
   {
    "duration": 3,
    "start_time": "2022-09-28T17:34:43.122Z"
   },
   {
    "duration": 14,
    "start_time": "2022-09-28T17:34:43.129Z"
   },
   {
    "duration": 20,
    "start_time": "2022-09-28T17:34:43.144Z"
   },
   {
    "duration": 47,
    "start_time": "2022-09-28T17:34:43.165Z"
   },
   {
    "duration": 4,
    "start_time": "2022-09-28T17:34:43.214Z"
   },
   {
    "duration": 15,
    "start_time": "2022-09-28T17:34:43.220Z"
   },
   {
    "duration": 6,
    "start_time": "2022-09-28T17:34:43.236Z"
   },
   {
    "duration": 11,
    "start_time": "2022-09-28T17:34:43.243Z"
   },
   {
    "duration": 10,
    "start_time": "2022-09-28T17:34:43.256Z"
   },
   {
    "duration": 41,
    "start_time": "2022-09-28T17:34:43.268Z"
   },
   {
    "duration": 47,
    "start_time": "2022-09-28T17:34:43.310Z"
   },
   {
    "duration": 490,
    "start_time": "2022-09-28T17:35:58.378Z"
   },
   {
    "duration": 22,
    "start_time": "2022-09-28T17:35:58.870Z"
   },
   {
    "duration": 18,
    "start_time": "2022-09-28T17:35:58.908Z"
   },
   {
    "duration": 9,
    "start_time": "2022-09-28T17:35:58.928Z"
   },
   {
    "duration": 34,
    "start_time": "2022-09-28T17:35:58.939Z"
   },
   {
    "duration": 3,
    "start_time": "2022-09-28T17:35:58.975Z"
   },
   {
    "duration": 31,
    "start_time": "2022-09-28T17:35:58.979Z"
   },
   {
    "duration": 4,
    "start_time": "2022-09-28T17:35:59.012Z"
   },
   {
    "duration": 7,
    "start_time": "2022-09-28T17:35:59.017Z"
   },
   {
    "duration": 4,
    "start_time": "2022-09-28T17:35:59.026Z"
   },
   {
    "duration": 35,
    "start_time": "2022-09-28T17:35:59.031Z"
   },
   {
    "duration": 10,
    "start_time": "2022-09-28T17:35:59.068Z"
   },
   {
    "duration": 4,
    "start_time": "2022-09-28T17:35:59.109Z"
   },
   {
    "duration": 12,
    "start_time": "2022-09-28T17:35:59.117Z"
   },
   {
    "duration": 22,
    "start_time": "2022-09-28T17:35:59.131Z"
   },
   {
    "duration": 16,
    "start_time": "2022-09-28T17:35:59.154Z"
   },
   {
    "duration": 3,
    "start_time": "2022-09-28T17:35:59.172Z"
   },
   {
    "duration": 36,
    "start_time": "2022-09-28T17:35:59.176Z"
   },
   {
    "duration": 7,
    "start_time": "2022-09-28T17:35:59.214Z"
   },
   {
    "duration": 4,
    "start_time": "2022-09-28T17:35:59.222Z"
   },
   {
    "duration": 9,
    "start_time": "2022-09-28T17:35:59.227Z"
   },
   {
    "duration": 26,
    "start_time": "2022-09-28T17:35:59.237Z"
   },
   {
    "duration": 73,
    "start_time": "2022-09-28T17:35:59.265Z"
   },
   {
    "duration": 15,
    "start_time": "2022-09-28T17:36:04.975Z"
   },
   {
    "duration": 47,
    "start_time": "2022-09-28T17:37:14.464Z"
   },
   {
    "duration": 70,
    "start_time": "2022-09-28T17:37:29.748Z"
   },
   {
    "duration": 76,
    "start_time": "2022-09-28T17:37:57.707Z"
   },
   {
    "duration": 41,
    "start_time": "2022-09-28T17:38:52.835Z"
   },
   {
    "duration": 40,
    "start_time": "2022-09-28T17:39:27.987Z"
   },
   {
    "duration": 47,
    "start_time": "2022-09-28T17:43:05.252Z"
   },
   {
    "duration": 52,
    "start_time": "2022-09-28T17:59:27.083Z"
   },
   {
    "duration": 49,
    "start_time": "2022-09-28T17:59:34.448Z"
   },
   {
    "duration": 35,
    "start_time": "2022-09-28T18:00:09.160Z"
   },
   {
    "duration": 56,
    "start_time": "2022-09-28T18:01:49.353Z"
   },
   {
    "duration": 61,
    "start_time": "2022-09-28T18:01:54.846Z"
   },
   {
    "duration": 64,
    "start_time": "2022-09-28T18:02:06.081Z"
   },
   {
    "duration": 48,
    "start_time": "2022-09-28T18:02:10.255Z"
   },
   {
    "duration": 37,
    "start_time": "2022-09-28T18:02:17.968Z"
   },
   {
    "duration": 36,
    "start_time": "2022-09-28T18:02:23.931Z"
   },
   {
    "duration": 37,
    "start_time": "2022-09-28T18:02:29.479Z"
   },
   {
    "duration": 38,
    "start_time": "2022-09-28T18:02:52.769Z"
   },
   {
    "duration": 56,
    "start_time": "2022-09-28T18:03:31.046Z"
   },
   {
    "duration": 42,
    "start_time": "2022-09-28T18:05:12.400Z"
   },
   {
    "duration": 74,
    "start_time": "2022-09-28T18:05:17.550Z"
   },
   {
    "duration": 539,
    "start_time": "2022-09-28T18:07:01.588Z"
   },
   {
    "duration": 23,
    "start_time": "2022-09-28T18:07:02.129Z"
   },
   {
    "duration": 22,
    "start_time": "2022-09-28T18:07:02.153Z"
   },
   {
    "duration": 15,
    "start_time": "2022-09-28T18:07:02.177Z"
   },
   {
    "duration": 64,
    "start_time": "2022-09-28T18:07:02.195Z"
   },
   {
    "duration": 4,
    "start_time": "2022-09-28T18:07:02.260Z"
   },
   {
    "duration": 17,
    "start_time": "2022-09-28T18:07:02.266Z"
   },
   {
    "duration": 5,
    "start_time": "2022-09-28T18:07:02.284Z"
   },
   {
    "duration": 35,
    "start_time": "2022-09-28T18:07:02.291Z"
   },
   {
    "duration": 20,
    "start_time": "2022-09-28T18:07:02.327Z"
   },
   {
    "duration": 37,
    "start_time": "2022-09-28T18:07:02.349Z"
   },
   {
    "duration": 11,
    "start_time": "2022-09-28T18:07:02.387Z"
   },
   {
    "duration": 29,
    "start_time": "2022-09-28T18:07:02.400Z"
   },
   {
    "duration": 21,
    "start_time": "2022-09-28T18:07:02.433Z"
   },
   {
    "duration": 33,
    "start_time": "2022-09-28T18:07:02.456Z"
   },
   {
    "duration": 36,
    "start_time": "2022-09-28T18:07:02.491Z"
   },
   {
    "duration": 3,
    "start_time": "2022-09-28T18:07:02.529Z"
   },
   {
    "duration": 55,
    "start_time": "2022-09-28T18:07:02.539Z"
   },
   {
    "duration": 31,
    "start_time": "2022-09-28T18:07:02.596Z"
   },
   {
    "duration": 12,
    "start_time": "2022-09-28T18:07:02.629Z"
   },
   {
    "duration": 29,
    "start_time": "2022-09-28T18:07:02.643Z"
   },
   {
    "duration": 33,
    "start_time": "2022-09-28T18:07:02.674Z"
   },
   {
    "duration": 56,
    "start_time": "2022-09-28T18:07:02.712Z"
   },
   {
    "duration": 76,
    "start_time": "2022-09-28T18:07:02.770Z"
   },
   {
    "duration": 45,
    "start_time": "2022-09-28T18:07:02.848Z"
   },
   {
    "duration": 31,
    "start_time": "2022-09-28T18:07:34.331Z"
   },
   {
    "duration": 63,
    "start_time": "2022-09-28T18:07:37.294Z"
   },
   {
    "duration": 41,
    "start_time": "2022-09-28T18:08:12.094Z"
   },
   {
    "duration": 80,
    "start_time": "2022-09-29T17:51:49.951Z"
   },
   {
    "duration": 44,
    "start_time": "2022-09-30T13:29:21.869Z"
   },
   {
    "duration": 559,
    "start_time": "2022-09-30T13:29:42.113Z"
   },
   {
    "duration": 20,
    "start_time": "2022-09-30T13:29:42.674Z"
   },
   {
    "duration": 13,
    "start_time": "2022-09-30T13:29:42.695Z"
   },
   {
    "duration": 9,
    "start_time": "2022-09-30T13:29:42.710Z"
   },
   {
    "duration": 31,
    "start_time": "2022-09-30T13:29:42.724Z"
   },
   {
    "duration": 3,
    "start_time": "2022-09-30T13:29:42.757Z"
   },
   {
    "duration": 18,
    "start_time": "2022-09-30T13:29:42.761Z"
   },
   {
    "duration": 4,
    "start_time": "2022-09-30T13:29:42.780Z"
   },
   {
    "duration": 11,
    "start_time": "2022-09-30T13:29:42.785Z"
   },
   {
    "duration": 3,
    "start_time": "2022-09-30T13:29:42.798Z"
   },
   {
    "duration": 58,
    "start_time": "2022-09-30T13:29:42.802Z"
   },
   {
    "duration": 8,
    "start_time": "2022-09-30T13:29:42.861Z"
   },
   {
    "duration": 3,
    "start_time": "2022-09-30T13:29:42.871Z"
   },
   {
    "duration": 12,
    "start_time": "2022-09-30T13:29:42.876Z"
   },
   {
    "duration": 24,
    "start_time": "2022-09-30T13:29:42.890Z"
   },
   {
    "duration": 21,
    "start_time": "2022-09-30T13:29:42.915Z"
   },
   {
    "duration": 3,
    "start_time": "2022-09-30T13:29:42.938Z"
   },
   {
    "duration": 15,
    "start_time": "2022-09-30T13:29:42.943Z"
   },
   {
    "duration": 5,
    "start_time": "2022-09-30T13:29:42.960Z"
   },
   {
    "duration": 6,
    "start_time": "2022-09-30T13:29:42.967Z"
   },
   {
    "duration": 11,
    "start_time": "2022-09-30T13:29:42.974Z"
   },
   {
    "duration": 67,
    "start_time": "2022-09-30T13:29:44.756Z"
   },
   {
    "duration": 11,
    "start_time": "2022-09-30T13:30:04.815Z"
   },
   {
    "duration": 87,
    "start_time": "2022-09-30T13:32:03.915Z"
   },
   {
    "duration": 10,
    "start_time": "2022-09-30T13:32:26.603Z"
   },
   {
    "duration": 17,
    "start_time": "2022-09-30T13:33:02.773Z"
   },
   {
    "duration": 30,
    "start_time": "2022-09-30T13:33:20.557Z"
   },
   {
    "duration": 30,
    "start_time": "2022-09-30T13:34:48.819Z"
   },
   {
    "duration": 22,
    "start_time": "2022-09-30T13:35:03.423Z"
   },
   {
    "duration": 23,
    "start_time": "2022-09-30T13:36:36.758Z"
   },
   {
    "duration": 12,
    "start_time": "2022-09-30T13:37:08.215Z"
   },
   {
    "duration": 14,
    "start_time": "2022-09-30T13:37:24.417Z"
   },
   {
    "duration": 14,
    "start_time": "2022-09-30T13:38:00.345Z"
   },
   {
    "duration": 8,
    "start_time": "2022-09-30T13:41:51.711Z"
   },
   {
    "duration": 9,
    "start_time": "2022-09-30T13:42:41.298Z"
   },
   {
    "duration": 8,
    "start_time": "2022-09-30T13:45:29.943Z"
   },
   {
    "duration": 7,
    "start_time": "2022-09-30T13:46:08.017Z"
   },
   {
    "duration": 8,
    "start_time": "2022-09-30T13:46:23.068Z"
   },
   {
    "duration": 11,
    "start_time": "2022-09-30T13:47:16.159Z"
   },
   {
    "duration": 444,
    "start_time": "2022-09-30T13:47:31.819Z"
   },
   {
    "duration": 20,
    "start_time": "2022-09-30T13:47:32.265Z"
   },
   {
    "duration": 24,
    "start_time": "2022-09-30T13:47:32.286Z"
   },
   {
    "duration": 15,
    "start_time": "2022-09-30T13:47:32.312Z"
   },
   {
    "duration": 47,
    "start_time": "2022-09-30T13:47:32.330Z"
   },
   {
    "duration": 3,
    "start_time": "2022-09-30T13:47:32.379Z"
   },
   {
    "duration": 28,
    "start_time": "2022-09-30T13:47:32.384Z"
   },
   {
    "duration": 8,
    "start_time": "2022-09-30T13:47:32.414Z"
   },
   {
    "duration": 29,
    "start_time": "2022-09-30T13:47:32.423Z"
   },
   {
    "duration": 12,
    "start_time": "2022-09-30T13:47:32.453Z"
   },
   {
    "duration": 38,
    "start_time": "2022-09-30T13:47:32.466Z"
   },
   {
    "duration": 9,
    "start_time": "2022-09-30T13:47:32.505Z"
   },
   {
    "duration": 14,
    "start_time": "2022-09-30T13:47:32.515Z"
   },
   {
    "duration": 22,
    "start_time": "2022-09-30T13:47:32.531Z"
   },
   {
    "duration": 23,
    "start_time": "2022-09-30T13:47:32.554Z"
   },
   {
    "duration": 18,
    "start_time": "2022-09-30T13:47:32.578Z"
   },
   {
    "duration": 7,
    "start_time": "2022-09-30T13:47:32.597Z"
   },
   {
    "duration": 24,
    "start_time": "2022-09-30T13:47:32.606Z"
   },
   {
    "duration": 28,
    "start_time": "2022-09-30T13:47:32.631Z"
   },
   {
    "duration": 17,
    "start_time": "2022-09-30T13:47:32.661Z"
   },
   {
    "duration": 20,
    "start_time": "2022-09-30T13:47:32.679Z"
   },
   {
    "duration": 23,
    "start_time": "2022-09-30T13:47:34.848Z"
   },
   {
    "duration": 67,
    "start_time": "2022-09-30T13:47:53.768Z"
   },
   {
    "duration": 15,
    "start_time": "2022-09-30T13:50:24.595Z"
   },
   {
    "duration": 15,
    "start_time": "2022-09-30T13:50:38.944Z"
   },
   {
    "duration": 23,
    "start_time": "2022-09-30T13:50:49.156Z"
   },
   {
    "duration": 23,
    "start_time": "2022-09-30T13:50:57.937Z"
   },
   {
    "duration": 11,
    "start_time": "2022-09-30T13:52:40.136Z"
   },
   {
    "duration": 27,
    "start_time": "2022-09-30T13:52:49.303Z"
   },
   {
    "duration": 29,
    "start_time": "2022-09-30T13:53:37.827Z"
   },
   {
    "duration": 34,
    "start_time": "2022-09-30T13:53:57.065Z"
   },
   {
    "duration": 36,
    "start_time": "2022-09-30T13:55:22.154Z"
   },
   {
    "duration": 27,
    "start_time": "2022-09-30T13:55:32.610Z"
   },
   {
    "duration": 17,
    "start_time": "2022-09-30T13:56:46.200Z"
   },
   {
    "duration": 27,
    "start_time": "2022-09-30T13:59:12.698Z"
   },
   {
    "duration": 30,
    "start_time": "2022-09-30T13:59:53.261Z"
   },
   {
    "duration": 46,
    "start_time": "2022-09-30T14:00:26.505Z"
   },
   {
    "duration": 42,
    "start_time": "2022-09-30T14:09:50.104Z"
   },
   {
    "duration": 17,
    "start_time": "2022-09-30T14:10:12.260Z"
   },
   {
    "duration": 16,
    "start_time": "2022-09-30T14:11:10.956Z"
   },
   {
    "duration": 14,
    "start_time": "2022-09-30T14:11:49.852Z"
   },
   {
    "duration": 19,
    "start_time": "2022-09-30T14:12:01.653Z"
   },
   {
    "duration": 21,
    "start_time": "2022-09-30T14:13:12.772Z"
   },
   {
    "duration": 92,
    "start_time": "2022-09-30T14:14:35.302Z"
   },
   {
    "duration": 19,
    "start_time": "2022-09-30T14:14:43.989Z"
   },
   {
    "duration": 33,
    "start_time": "2022-09-30T14:15:37.514Z"
   },
   {
    "duration": 31,
    "start_time": "2022-09-30T14:15:52.163Z"
   },
   {
    "duration": 42,
    "start_time": "2022-09-30T14:16:51.993Z"
   },
   {
    "duration": 14,
    "start_time": "2022-09-30T14:17:02.873Z"
   },
   {
    "duration": 33,
    "start_time": "2022-09-30T14:17:15.352Z"
   },
   {
    "duration": 40,
    "start_time": "2022-09-30T14:17:28.004Z"
   },
   {
    "duration": 33,
    "start_time": "2022-09-30T14:17:35.701Z"
   },
   {
    "duration": 37,
    "start_time": "2022-09-30T14:17:51.764Z"
   },
   {
    "duration": 96,
    "start_time": "2022-09-30T14:22:07.415Z"
   },
   {
    "duration": 6,
    "start_time": "2022-09-30T14:22:20.273Z"
   },
   {
    "duration": 142,
    "start_time": "2022-09-30T14:22:31.466Z"
   },
   {
    "duration": 26,
    "start_time": "2022-09-30T14:24:03.222Z"
   },
   {
    "duration": 203,
    "start_time": "2022-09-30T14:25:15.336Z"
   },
   {
    "duration": 60,
    "start_time": "2022-09-30T14:25:29.238Z"
   },
   {
    "duration": 56,
    "start_time": "2022-09-30T14:27:51.404Z"
   },
   {
    "duration": 52,
    "start_time": "2022-09-30T14:28:09.099Z"
   },
   {
    "duration": 451,
    "start_time": "2022-09-30T14:45:34.532Z"
   },
   {
    "duration": 21,
    "start_time": "2022-09-30T14:45:34.985Z"
   },
   {
    "duration": 14,
    "start_time": "2022-09-30T14:45:35.008Z"
   },
   {
    "duration": 9,
    "start_time": "2022-09-30T14:45:35.023Z"
   },
   {
    "duration": 31,
    "start_time": "2022-09-30T14:45:35.034Z"
   },
   {
    "duration": 3,
    "start_time": "2022-09-30T14:45:35.067Z"
   },
   {
    "duration": 17,
    "start_time": "2022-09-30T14:45:35.071Z"
   },
   {
    "duration": 14,
    "start_time": "2022-09-30T14:45:35.089Z"
   },
   {
    "duration": 18,
    "start_time": "2022-09-30T14:45:35.104Z"
   },
   {
    "duration": 5,
    "start_time": "2022-09-30T14:45:35.124Z"
   },
   {
    "duration": 33,
    "start_time": "2022-09-30T14:45:35.130Z"
   },
   {
    "duration": 9,
    "start_time": "2022-09-30T14:45:35.165Z"
   },
   {
    "duration": 20,
    "start_time": "2022-09-30T14:45:35.176Z"
   },
   {
    "duration": 21,
    "start_time": "2022-09-30T14:45:35.199Z"
   },
   {
    "duration": 17,
    "start_time": "2022-09-30T14:45:35.222Z"
   },
   {
    "duration": 15,
    "start_time": "2022-09-30T14:45:35.241Z"
   },
   {
    "duration": 3,
    "start_time": "2022-09-30T14:45:35.258Z"
   },
   {
    "duration": 12,
    "start_time": "2022-09-30T14:45:35.263Z"
   },
   {
    "duration": 13,
    "start_time": "2022-09-30T14:45:35.277Z"
   },
   {
    "duration": 10,
    "start_time": "2022-09-30T14:45:35.291Z"
   },
   {
    "duration": 21,
    "start_time": "2022-09-30T14:45:35.302Z"
   },
   {
    "duration": 52,
    "start_time": "2022-09-30T14:45:38.394Z"
   },
   {
    "duration": 50,
    "start_time": "2022-09-30T14:47:29.083Z"
   },
   {
    "duration": 37,
    "start_time": "2022-09-30T14:47:38.858Z"
   },
   {
    "duration": 36,
    "start_time": "2022-09-30T14:47:53.733Z"
   },
   {
    "duration": 36,
    "start_time": "2022-09-30T14:48:39.848Z"
   },
   {
    "duration": 35,
    "start_time": "2022-09-30T14:50:02.657Z"
   },
   {
    "duration": 62,
    "start_time": "2022-09-30T14:50:26.199Z"
   },
   {
    "duration": 39,
    "start_time": "2022-09-30T14:50:53.039Z"
   },
   {
    "duration": 105,
    "start_time": "2022-09-30T14:54:01.982Z"
   },
   {
    "duration": 76,
    "start_time": "2022-09-30T14:54:32.085Z"
   },
   {
    "duration": 80,
    "start_time": "2022-09-30T14:54:59.556Z"
   },
   {
    "duration": 78,
    "start_time": "2022-09-30T14:55:06.785Z"
   },
   {
    "duration": 72,
    "start_time": "2022-09-30T14:55:21.981Z"
   },
   {
    "duration": 133,
    "start_time": "2022-09-30T14:55:50.381Z"
   },
   {
    "duration": 79,
    "start_time": "2022-09-30T14:56:37.276Z"
   },
   {
    "duration": 37,
    "start_time": "2022-09-30T14:56:59.681Z"
   },
   {
    "duration": 37,
    "start_time": "2022-09-30T14:57:15.902Z"
   },
   {
    "duration": 46,
    "start_time": "2022-09-30T14:57:54.717Z"
   },
   {
    "duration": 52,
    "start_time": "2022-09-30T14:58:15.408Z"
   },
   {
    "duration": 47,
    "start_time": "2022-09-30T14:58:22.351Z"
   },
   {
    "duration": 35,
    "start_time": "2022-09-30T14:59:22.437Z"
   },
   {
    "duration": 77,
    "start_time": "2022-09-30T14:59:34.110Z"
   },
   {
    "duration": 61,
    "start_time": "2022-09-30T15:01:07.834Z"
   },
   {
    "duration": 64,
    "start_time": "2022-09-30T15:02:10.343Z"
   },
   {
    "duration": 68,
    "start_time": "2022-09-30T15:02:35.976Z"
   },
   {
    "duration": 66,
    "start_time": "2022-09-30T15:03:03.132Z"
   },
   {
    "duration": 37,
    "start_time": "2022-09-30T15:03:20.059Z"
   },
   {
    "duration": 63,
    "start_time": "2022-09-30T15:03:24.929Z"
   },
   {
    "duration": 51,
    "start_time": "2022-09-30T15:04:22.685Z"
   },
   {
    "duration": 48,
    "start_time": "2022-09-30T15:05:39.294Z"
   },
   {
    "duration": 73,
    "start_time": "2022-10-01T13:46:12.251Z"
   },
   {
    "duration": 554,
    "start_time": "2022-10-01T13:46:22.854Z"
   },
   {
    "duration": 33,
    "start_time": "2022-10-01T13:46:23.411Z"
   },
   {
    "duration": 16,
    "start_time": "2022-10-01T13:46:23.446Z"
   },
   {
    "duration": 24,
    "start_time": "2022-10-01T13:46:23.464Z"
   },
   {
    "duration": 52,
    "start_time": "2022-10-01T13:46:23.494Z"
   },
   {
    "duration": 3,
    "start_time": "2022-10-01T13:46:23.548Z"
   },
   {
    "duration": 16,
    "start_time": "2022-10-01T13:46:23.553Z"
   },
   {
    "duration": 20,
    "start_time": "2022-10-01T13:46:23.572Z"
   },
   {
    "duration": 43,
    "start_time": "2022-10-01T13:46:23.594Z"
   },
   {
    "duration": 23,
    "start_time": "2022-10-01T13:46:23.640Z"
   },
   {
    "duration": 56,
    "start_time": "2022-10-01T13:46:23.665Z"
   },
   {
    "duration": 21,
    "start_time": "2022-10-01T13:46:23.723Z"
   },
   {
    "duration": 13,
    "start_time": "2022-10-01T13:46:23.746Z"
   },
   {
    "duration": 25,
    "start_time": "2022-10-01T13:46:23.762Z"
   },
   {
    "duration": 51,
    "start_time": "2022-10-01T13:46:23.788Z"
   },
   {
    "duration": 28,
    "start_time": "2022-10-01T13:46:23.841Z"
   },
   {
    "duration": 5,
    "start_time": "2022-10-01T13:46:23.871Z"
   },
   {
    "duration": 22,
    "start_time": "2022-10-01T13:46:23.877Z"
   },
   {
    "duration": 21,
    "start_time": "2022-10-01T13:46:23.901Z"
   },
   {
    "duration": 4,
    "start_time": "2022-10-01T13:46:23.923Z"
   },
   {
    "duration": 10,
    "start_time": "2022-10-01T13:46:23.929Z"
   },
   {
    "duration": 57,
    "start_time": "2022-10-01T13:46:23.941Z"
   },
   {
    "duration": 79,
    "start_time": "2022-10-01T13:46:24.003Z"
   },
   {
    "duration": 67,
    "start_time": "2022-10-01T13:46:24.092Z"
   },
   {
    "duration": 72,
    "start_time": "2022-10-01T13:46:24.161Z"
   },
   {
    "duration": 51,
    "start_time": "2022-10-01T13:46:44.926Z"
   },
   {
    "duration": 62,
    "start_time": "2022-10-01T13:46:50.556Z"
   },
   {
    "duration": 54,
    "start_time": "2022-10-01T13:47:03.524Z"
   },
   {
    "duration": 42,
    "start_time": "2022-10-01T13:47:43.512Z"
   },
   {
    "duration": 60,
    "start_time": "2022-10-01T13:51:37.765Z"
   },
   {
    "duration": 526,
    "start_time": "2022-10-01T13:51:55.458Z"
   },
   {
    "duration": 31,
    "start_time": "2022-10-01T13:51:55.986Z"
   },
   {
    "duration": 19,
    "start_time": "2022-10-01T13:51:56.019Z"
   },
   {
    "duration": 14,
    "start_time": "2022-10-01T13:51:56.040Z"
   },
   {
    "duration": 75,
    "start_time": "2022-10-01T13:51:56.060Z"
   },
   {
    "duration": 5,
    "start_time": "2022-10-01T13:51:56.137Z"
   },
   {
    "duration": 16,
    "start_time": "2022-10-01T13:51:56.144Z"
   },
   {
    "duration": 5,
    "start_time": "2022-10-01T13:51:56.162Z"
   },
   {
    "duration": 30,
    "start_time": "2022-10-01T13:51:56.169Z"
   },
   {
    "duration": 23,
    "start_time": "2022-10-01T13:51:56.201Z"
   },
   {
    "duration": 50,
    "start_time": "2022-10-01T13:51:56.225Z"
   },
   {
    "duration": 16,
    "start_time": "2022-10-01T13:51:56.278Z"
   },
   {
    "duration": 26,
    "start_time": "2022-10-01T13:51:56.296Z"
   },
   {
    "duration": 12,
    "start_time": "2022-10-01T13:51:56.325Z"
   },
   {
    "duration": 35,
    "start_time": "2022-10-01T13:51:56.339Z"
   },
   {
    "duration": 30,
    "start_time": "2022-10-01T13:51:56.376Z"
   },
   {
    "duration": 5,
    "start_time": "2022-10-01T13:51:56.411Z"
   },
   {
    "duration": 24,
    "start_time": "2022-10-01T13:51:56.418Z"
   },
   {
    "duration": 9,
    "start_time": "2022-10-01T13:51:56.444Z"
   },
   {
    "duration": 5,
    "start_time": "2022-10-01T13:51:56.455Z"
   },
   {
    "duration": 15,
    "start_time": "2022-10-01T13:51:56.462Z"
   },
   {
    "duration": 65,
    "start_time": "2022-10-01T13:52:01.246Z"
   },
   {
    "duration": 68,
    "start_time": "2022-10-01T13:53:07.475Z"
   },
   {
    "duration": 58,
    "start_time": "2022-10-01T13:54:58.412Z"
   },
   {
    "duration": 133,
    "start_time": "2022-10-01T13:55:14.991Z"
   },
   {
    "duration": 75,
    "start_time": "2022-10-01T13:55:23.172Z"
   },
   {
    "duration": 50,
    "start_time": "2022-10-01T13:55:36.757Z"
   },
   {
    "duration": 57,
    "start_time": "2022-10-01T13:55:44.558Z"
   },
   {
    "duration": 68,
    "start_time": "2022-10-01T13:56:10.359Z"
   },
   {
    "duration": 65,
    "start_time": "2022-10-01T13:56:50.249Z"
   },
   {
    "duration": 76,
    "start_time": "2022-10-01T13:57:29.057Z"
   },
   {
    "duration": 67,
    "start_time": "2022-10-01T13:57:42.529Z"
   },
   {
    "duration": 57,
    "start_time": "2022-10-01T13:57:49.763Z"
   },
   {
    "duration": 55,
    "start_time": "2022-10-01T13:57:55.804Z"
   },
   {
    "duration": 76,
    "start_time": "2022-10-01T14:00:12.553Z"
   },
   {
    "duration": 73,
    "start_time": "2022-10-01T14:00:49.414Z"
   },
   {
    "duration": 65,
    "start_time": "2022-10-01T14:01:08.239Z"
   },
   {
    "duration": 68,
    "start_time": "2022-10-01T14:01:38.715Z"
   },
   {
    "duration": 83,
    "start_time": "2022-10-01T14:03:30.117Z"
   },
   {
    "duration": 66,
    "start_time": "2022-10-01T14:08:32.307Z"
   },
   {
    "duration": 62,
    "start_time": "2022-10-01T14:08:43.114Z"
   },
   {
    "duration": 69,
    "start_time": "2022-10-01T14:08:49.157Z"
   },
   {
    "duration": 166,
    "start_time": "2022-10-01T14:09:01.480Z"
   },
   {
    "duration": 72,
    "start_time": "2022-10-01T14:09:23.812Z"
   },
   {
    "duration": 528,
    "start_time": "2022-10-01T14:25:26.917Z"
   },
   {
    "duration": 34,
    "start_time": "2022-10-01T14:25:27.448Z"
   },
   {
    "duration": 27,
    "start_time": "2022-10-01T14:25:27.484Z"
   },
   {
    "duration": 22,
    "start_time": "2022-10-01T14:25:27.520Z"
   },
   {
    "duration": 36,
    "start_time": "2022-10-01T14:25:27.544Z"
   },
   {
    "duration": 4,
    "start_time": "2022-10-01T14:25:27.582Z"
   },
   {
    "duration": 44,
    "start_time": "2022-10-01T14:25:27.588Z"
   },
   {
    "duration": 5,
    "start_time": "2022-10-01T14:25:27.634Z"
   },
   {
    "duration": 9,
    "start_time": "2022-10-01T14:25:27.641Z"
   },
   {
    "duration": 5,
    "start_time": "2022-10-01T14:25:27.652Z"
   },
   {
    "duration": 48,
    "start_time": "2022-10-01T14:25:27.658Z"
   },
   {
    "duration": 15,
    "start_time": "2022-10-01T14:25:27.708Z"
   },
   {
    "duration": 11,
    "start_time": "2022-10-01T14:25:27.726Z"
   },
   {
    "duration": 19,
    "start_time": "2022-10-01T14:25:27.741Z"
   },
   {
    "duration": 40,
    "start_time": "2022-10-01T14:25:27.762Z"
   },
   {
    "duration": 31,
    "start_time": "2022-10-01T14:25:27.805Z"
   },
   {
    "duration": 4,
    "start_time": "2022-10-01T14:25:27.839Z"
   },
   {
    "duration": 13,
    "start_time": "2022-10-01T14:25:27.845Z"
   },
   {
    "duration": 10,
    "start_time": "2022-10-01T14:25:27.859Z"
   },
   {
    "duration": 7,
    "start_time": "2022-10-01T14:25:27.871Z"
   },
   {
    "duration": 38,
    "start_time": "2022-10-01T14:25:27.880Z"
   },
   {
    "duration": 68,
    "start_time": "2022-10-01T14:25:29.808Z"
   },
   {
    "duration": 94,
    "start_time": "2022-10-01T14:25:41.813Z"
   },
   {
    "duration": 102,
    "start_time": "2022-10-01T14:28:42.826Z"
   },
   {
    "duration": 133,
    "start_time": "2022-10-01T14:28:53.320Z"
   },
   {
    "duration": 70,
    "start_time": "2022-10-01T14:29:18.055Z"
   },
   {
    "duration": 81,
    "start_time": "2022-10-01T14:29:27.343Z"
   },
   {
    "duration": 575,
    "start_time": "2022-10-01T15:02:01.633Z"
   },
   {
    "duration": 30,
    "start_time": "2022-10-01T15:02:02.213Z"
   },
   {
    "duration": 37,
    "start_time": "2022-10-01T15:02:02.245Z"
   },
   {
    "duration": 26,
    "start_time": "2022-10-01T15:02:02.284Z"
   },
   {
    "duration": 52,
    "start_time": "2022-10-01T15:02:02.317Z"
   },
   {
    "duration": 5,
    "start_time": "2022-10-01T15:02:02.371Z"
   },
   {
    "duration": 63,
    "start_time": "2022-10-01T15:02:02.378Z"
   },
   {
    "duration": 18,
    "start_time": "2022-10-01T15:02:02.444Z"
   },
   {
    "duration": 45,
    "start_time": "2022-10-01T15:02:02.464Z"
   },
   {
    "duration": 17,
    "start_time": "2022-10-01T15:02:02.512Z"
   },
   {
    "duration": 59,
    "start_time": "2022-10-01T15:02:02.531Z"
   },
   {
    "duration": 19,
    "start_time": "2022-10-01T15:02:02.592Z"
   },
   {
    "duration": 9,
    "start_time": "2022-10-01T15:02:02.613Z"
   },
   {
    "duration": 34,
    "start_time": "2022-10-01T15:02:02.625Z"
   },
   {
    "duration": 41,
    "start_time": "2022-10-01T15:02:02.661Z"
   },
   {
    "duration": 22,
    "start_time": "2022-10-01T15:02:02.706Z"
   },
   {
    "duration": 11,
    "start_time": "2022-10-01T15:02:02.730Z"
   },
   {
    "duration": 19,
    "start_time": "2022-10-01T15:02:02.744Z"
   },
   {
    "duration": 19,
    "start_time": "2022-10-01T15:02:02.765Z"
   },
   {
    "duration": 27,
    "start_time": "2022-10-01T15:02:02.786Z"
   },
   {
    "duration": 15,
    "start_time": "2022-10-01T15:02:02.815Z"
   },
   {
    "duration": 65,
    "start_time": "2022-10-01T15:02:02.832Z"
   },
   {
    "duration": 108,
    "start_time": "2022-10-01T15:02:02.900Z"
   },
   {
    "duration": 65,
    "start_time": "2022-10-01T15:02:03.011Z"
   },
   {
    "duration": 68,
    "start_time": "2022-10-01T15:02:03.078Z"
   },
   {
    "duration": 82,
    "start_time": "2022-10-01T15:14:09.160Z"
   },
   {
    "duration": 121,
    "start_time": "2022-10-01T15:14:14.631Z"
   },
   {
    "duration": 56,
    "start_time": "2022-10-01T15:14:25.206Z"
   },
   {
    "duration": 50,
    "start_time": "2022-10-01T15:35:29.325Z"
   },
   {
    "duration": 88,
    "start_time": "2022-10-01T15:35:35.708Z"
   },
   {
    "duration": 76,
    "start_time": "2022-10-01T15:41:31.360Z"
   },
   {
    "duration": 70,
    "start_time": "2022-10-01T15:41:43.321Z"
   },
   {
    "duration": 69,
    "start_time": "2022-10-01T15:42:20.725Z"
   },
   {
    "duration": 78,
    "start_time": "2022-10-01T15:42:30.796Z"
   },
   {
    "duration": 70,
    "start_time": "2022-10-01T15:49:00.828Z"
   },
   {
    "duration": 54,
    "start_time": "2022-10-01T15:49:54.021Z"
   },
   {
    "duration": 7,
    "start_time": "2022-10-01T15:53:39.615Z"
   },
   {
    "duration": 69,
    "start_time": "2022-10-01T15:54:08.106Z"
   },
   {
    "duration": 67,
    "start_time": "2022-10-01T15:54:36.409Z"
   },
   {
    "duration": 58,
    "start_time": "2022-10-01T15:54:42.227Z"
   },
   {
    "duration": 75,
    "start_time": "2022-10-01T15:54:50.016Z"
   },
   {
    "duration": 111,
    "start_time": "2022-10-01T15:55:21.897Z"
   },
   {
    "duration": 114,
    "start_time": "2022-10-01T15:56:15.056Z"
   },
   {
    "duration": 52,
    "start_time": "2022-10-01T15:56:40.925Z"
   },
   {
    "duration": 113,
    "start_time": "2022-10-01T15:56:50.008Z"
   },
   {
    "duration": 63,
    "start_time": "2022-10-01T15:57:58.000Z"
   },
   {
    "duration": 115,
    "start_time": "2022-10-01T15:58:45.916Z"
   },
   {
    "duration": 131,
    "start_time": "2022-10-01T16:00:58.983Z"
   },
   {
    "duration": 94,
    "start_time": "2022-10-01T16:01:07.431Z"
   },
   {
    "duration": 75,
    "start_time": "2022-10-01T16:01:51.845Z"
   },
   {
    "duration": 57,
    "start_time": "2022-10-01T16:01:59.414Z"
   },
   {
    "duration": 103,
    "start_time": "2022-10-01T16:02:07.734Z"
   },
   {
    "duration": 122,
    "start_time": "2022-10-01T16:03:35.336Z"
   },
   {
    "duration": 146,
    "start_time": "2022-10-01T16:09:29.324Z"
   },
   {
    "duration": 97,
    "start_time": "2022-10-01T16:09:36.160Z"
   },
   {
    "duration": 68,
    "start_time": "2022-10-01T16:09:48.750Z"
   },
   {
    "duration": 64,
    "start_time": "2022-10-01T16:10:03.214Z"
   },
   {
    "duration": 71,
    "start_time": "2022-10-01T16:10:10.956Z"
   },
   {
    "duration": 78,
    "start_time": "2022-10-01T16:10:25.036Z"
   },
   {
    "duration": 496,
    "start_time": "2022-10-01T16:14:56.523Z"
   },
   {
    "duration": 25,
    "start_time": "2022-10-01T16:14:57.022Z"
   },
   {
    "duration": 62,
    "start_time": "2022-10-01T16:14:57.049Z"
   },
   {
    "duration": 30,
    "start_time": "2022-10-01T16:14:57.116Z"
   },
   {
    "duration": 68,
    "start_time": "2022-10-01T16:14:57.149Z"
   },
   {
    "duration": 4,
    "start_time": "2022-10-01T16:14:57.221Z"
   },
   {
    "duration": 50,
    "start_time": "2022-10-01T16:14:57.227Z"
   },
   {
    "duration": 41,
    "start_time": "2022-10-01T16:14:57.278Z"
   },
   {
    "duration": 20,
    "start_time": "2022-10-01T16:14:57.321Z"
   },
   {
    "duration": 23,
    "start_time": "2022-10-01T16:14:57.343Z"
   },
   {
    "duration": 61,
    "start_time": "2022-10-01T16:14:57.368Z"
   },
   {
    "duration": 17,
    "start_time": "2022-10-01T16:14:57.433Z"
   },
   {
    "duration": 11,
    "start_time": "2022-10-01T16:14:57.452Z"
   },
   {
    "duration": 16,
    "start_time": "2022-10-01T16:14:57.466Z"
   },
   {
    "duration": 63,
    "start_time": "2022-10-01T16:14:57.484Z"
   },
   {
    "duration": 27,
    "start_time": "2022-10-01T16:14:57.549Z"
   },
   {
    "duration": 4,
    "start_time": "2022-10-01T16:14:57.578Z"
   },
   {
    "duration": 33,
    "start_time": "2022-10-01T16:14:57.584Z"
   },
   {
    "duration": 17,
    "start_time": "2022-10-01T16:14:57.620Z"
   },
   {
    "duration": 7,
    "start_time": "2022-10-01T16:14:57.639Z"
   },
   {
    "duration": 15,
    "start_time": "2022-10-01T16:14:57.648Z"
   },
   {
    "duration": 88,
    "start_time": "2022-10-01T16:14:57.666Z"
   },
   {
    "duration": 95,
    "start_time": "2022-10-01T16:14:57.756Z"
   },
   {
    "duration": 85,
    "start_time": "2022-10-01T16:14:57.853Z"
   },
   {
    "duration": 77,
    "start_time": "2022-10-01T16:14:57.940Z"
   },
   {
    "duration": 80,
    "start_time": "2022-10-01T16:20:55.141Z"
   },
   {
    "duration": 84,
    "start_time": "2022-10-01T16:32:31.259Z"
   },
   {
    "duration": 88,
    "start_time": "2022-10-01T16:32:32.488Z"
   },
   {
    "duration": 66,
    "start_time": "2022-10-01T16:32:43.312Z"
   },
   {
    "duration": 142,
    "start_time": "2022-10-01T16:53:02.087Z"
   },
   {
    "duration": 484,
    "start_time": "2022-10-01T16:53:12.321Z"
   },
   {
    "duration": 25,
    "start_time": "2022-10-01T16:53:12.806Z"
   },
   {
    "duration": 17,
    "start_time": "2022-10-01T16:53:12.832Z"
   },
   {
    "duration": 11,
    "start_time": "2022-10-01T16:53:12.852Z"
   },
   {
    "duration": 67,
    "start_time": "2022-10-01T16:53:12.865Z"
   },
   {
    "duration": 4,
    "start_time": "2022-10-01T16:53:12.934Z"
   },
   {
    "duration": 15,
    "start_time": "2022-10-01T16:53:12.939Z"
   },
   {
    "duration": 13,
    "start_time": "2022-10-01T16:53:12.956Z"
   },
   {
    "duration": 45,
    "start_time": "2022-10-01T16:53:12.971Z"
   },
   {
    "duration": 53,
    "start_time": "2022-10-01T16:53:13.019Z"
   },
   {
    "duration": 44,
    "start_time": "2022-10-01T16:53:13.074Z"
   },
   {
    "duration": 11,
    "start_time": "2022-10-01T16:53:13.120Z"
   },
   {
    "duration": 26,
    "start_time": "2022-10-01T16:53:13.133Z"
   },
   {
    "duration": 78,
    "start_time": "2022-10-01T16:53:13.161Z"
   },
   {
    "duration": 39,
    "start_time": "2022-10-01T16:53:13.241Z"
   },
   {
    "duration": 27,
    "start_time": "2022-10-01T16:53:13.282Z"
   },
   {
    "duration": 6,
    "start_time": "2022-10-01T16:53:13.311Z"
   },
   {
    "duration": 33,
    "start_time": "2022-10-01T16:53:13.319Z"
   },
   {
    "duration": 19,
    "start_time": "2022-10-01T16:53:13.354Z"
   },
   {
    "duration": 16,
    "start_time": "2022-10-01T16:53:13.375Z"
   },
   {
    "duration": 24,
    "start_time": "2022-10-01T16:53:13.393Z"
   },
   {
    "duration": 128,
    "start_time": "2022-10-01T16:53:13.419Z"
   },
   {
    "duration": 0,
    "start_time": "2022-10-01T16:53:13.549Z"
   },
   {
    "duration": 0,
    "start_time": "2022-10-01T16:53:13.550Z"
   },
   {
    "duration": 0,
    "start_time": "2022-10-01T16:53:13.551Z"
   },
   {
    "duration": 56,
    "start_time": "2022-10-01T16:53:19.416Z"
   },
   {
    "duration": 71,
    "start_time": "2022-10-01T16:53:25.971Z"
   },
   {
    "duration": 82,
    "start_time": "2022-10-01T16:54:04.494Z"
   },
   {
    "duration": 57,
    "start_time": "2022-10-01T16:54:34.221Z"
   },
   {
    "duration": 95,
    "start_time": "2022-10-01T16:56:14.909Z"
   },
   {
    "duration": 71,
    "start_time": "2022-10-01T16:56:28.512Z"
   },
   {
    "duration": 79,
    "start_time": "2022-10-01T16:56:30.604Z"
   },
   {
    "duration": 108,
    "start_time": "2022-10-01T16:57:11.850Z"
   },
   {
    "duration": 51,
    "start_time": "2022-10-01T16:57:20.927Z"
   },
   {
    "duration": 78,
    "start_time": "2022-10-01T16:57:26.751Z"
   },
   {
    "duration": 509,
    "start_time": "2022-10-01T17:20:33.080Z"
   },
   {
    "duration": 24,
    "start_time": "2022-10-01T17:20:33.591Z"
   },
   {
    "duration": 16,
    "start_time": "2022-10-01T17:20:33.616Z"
   },
   {
    "duration": 10,
    "start_time": "2022-10-01T17:20:33.635Z"
   },
   {
    "duration": 59,
    "start_time": "2022-10-01T17:20:33.647Z"
   },
   {
    "duration": 3,
    "start_time": "2022-10-01T17:20:33.708Z"
   },
   {
    "duration": 22,
    "start_time": "2022-10-01T17:20:33.712Z"
   },
   {
    "duration": 24,
    "start_time": "2022-10-01T17:20:33.736Z"
   },
   {
    "duration": 34,
    "start_time": "2022-10-01T17:20:33.762Z"
   },
   {
    "duration": 34,
    "start_time": "2022-10-01T17:20:33.799Z"
   },
   {
    "duration": 48,
    "start_time": "2022-10-01T17:20:33.834Z"
   },
   {
    "duration": 10,
    "start_time": "2022-10-01T17:20:33.883Z"
   },
   {
    "duration": 19,
    "start_time": "2022-10-01T17:20:33.895Z"
   },
   {
    "duration": 22,
    "start_time": "2022-10-01T17:20:33.916Z"
   },
   {
    "duration": 25,
    "start_time": "2022-10-01T17:20:33.940Z"
   },
   {
    "duration": 17,
    "start_time": "2022-10-01T17:20:33.967Z"
   },
   {
    "duration": 3,
    "start_time": "2022-10-01T17:20:33.986Z"
   },
   {
    "duration": 13,
    "start_time": "2022-10-01T17:20:33.991Z"
   },
   {
    "duration": 12,
    "start_time": "2022-10-01T17:20:34.006Z"
   },
   {
    "duration": 6,
    "start_time": "2022-10-01T17:20:34.020Z"
   },
   {
    "duration": 13,
    "start_time": "2022-10-01T17:20:34.028Z"
   },
   {
    "duration": 89,
    "start_time": "2022-10-01T17:20:34.043Z"
   },
   {
    "duration": 89,
    "start_time": "2022-10-01T17:20:34.133Z"
   },
   {
    "duration": 67,
    "start_time": "2022-10-01T17:20:34.224Z"
   },
   {
    "duration": 53,
    "start_time": "2022-10-01T17:20:34.292Z"
   },
   {
    "duration": 105,
    "start_time": "2022-10-01T17:22:02.479Z"
   },
   {
    "duration": 48,
    "start_time": "2022-10-01T17:22:12.379Z"
   },
   {
    "duration": 52,
    "start_time": "2022-10-01T17:23:08.570Z"
   },
   {
    "duration": 77,
    "start_time": "2022-10-01T17:23:16.656Z"
   },
   {
    "duration": 50,
    "start_time": "2022-10-01T17:24:00.881Z"
   },
   {
    "duration": 49,
    "start_time": "2022-10-01T17:24:01.501Z"
   },
   {
    "duration": 77,
    "start_time": "2022-10-01T17:24:29.129Z"
   },
   {
    "duration": 57,
    "start_time": "2022-10-01T17:24:42.496Z"
   },
   {
    "duration": 55,
    "start_time": "2022-10-01T17:26:28.050Z"
   },
   {
    "duration": 62,
    "start_time": "2022-10-01T17:26:58.336Z"
   },
   {
    "duration": 61,
    "start_time": "2022-10-01T17:27:38.708Z"
   },
   {
    "duration": 61,
    "start_time": "2022-10-01T17:27:53.952Z"
   },
   {
    "duration": 59,
    "start_time": "2022-10-01T17:28:12.953Z"
   },
   {
    "duration": 63,
    "start_time": "2022-10-01T17:28:31.555Z"
   },
   {
    "duration": 63,
    "start_time": "2022-10-01T17:28:44.938Z"
   },
   {
    "duration": 64,
    "start_time": "2022-10-01T17:29:02.291Z"
   },
   {
    "duration": 61,
    "start_time": "2022-10-01T17:29:22.861Z"
   },
   {
    "duration": 68,
    "start_time": "2022-10-01T17:29:30.463Z"
   },
   {
    "duration": 73,
    "start_time": "2022-10-01T17:29:50.934Z"
   },
   {
    "duration": 75,
    "start_time": "2022-10-01T17:30:30.131Z"
   },
   {
    "duration": 45,
    "start_time": "2022-10-01T17:32:44.397Z"
   },
   {
    "duration": 61,
    "start_time": "2022-10-01T17:32:53.493Z"
   },
   {
    "duration": 54,
    "start_time": "2022-10-01T17:33:01.741Z"
   },
   {
    "duration": 56,
    "start_time": "2022-10-01T17:33:31.468Z"
   },
   {
    "duration": 58,
    "start_time": "2022-10-01T17:35:35.506Z"
   },
   {
    "duration": 62,
    "start_time": "2022-10-01T17:39:38.156Z"
   },
   {
    "duration": 72,
    "start_time": "2022-10-01T17:39:41.873Z"
   },
   {
    "duration": 5,
    "start_time": "2022-10-01T17:40:02.204Z"
   },
   {
    "duration": 59,
    "start_time": "2022-10-01T17:40:05.560Z"
   },
   {
    "duration": 62,
    "start_time": "2022-10-01T17:45:19.266Z"
   },
   {
    "duration": 60,
    "start_time": "2022-10-01T17:47:58.496Z"
   },
   {
    "duration": 61,
    "start_time": "2022-10-01T17:48:08.401Z"
   },
   {
    "duration": 63,
    "start_time": "2022-10-01T17:53:23.596Z"
   },
   {
    "duration": 62,
    "start_time": "2022-10-01T17:53:42.232Z"
   },
   {
    "duration": 30,
    "start_time": "2022-10-01T17:54:29.408Z"
   },
   {
    "duration": 103,
    "start_time": "2022-10-01T17:55:19.118Z"
   },
   {
    "duration": 102,
    "start_time": "2022-10-01T17:55:32.130Z"
   },
   {
    "duration": 111,
    "start_time": "2022-10-01T17:56:13.180Z"
   },
   {
    "duration": 97,
    "start_time": "2022-10-01T17:56:27.045Z"
   },
   {
    "duration": 42,
    "start_time": "2022-10-01T17:56:46.052Z"
   },
   {
    "duration": 82,
    "start_time": "2022-10-01T17:57:05.389Z"
   },
   {
    "duration": 72,
    "start_time": "2022-10-01T17:57:45.691Z"
   },
   {
    "duration": 533,
    "start_time": "2022-10-01T18:11:41.373Z"
   },
   {
    "duration": 29,
    "start_time": "2022-10-01T18:11:41.909Z"
   },
   {
    "duration": 19,
    "start_time": "2022-10-01T18:11:41.941Z"
   },
   {
    "duration": 27,
    "start_time": "2022-10-01T18:11:41.963Z"
   },
   {
    "duration": 46,
    "start_time": "2022-10-01T18:11:41.993Z"
   },
   {
    "duration": 4,
    "start_time": "2022-10-01T18:11:42.040Z"
   },
   {
    "duration": 10,
    "start_time": "2022-10-01T18:11:42.045Z"
   },
   {
    "duration": 4,
    "start_time": "2022-10-01T18:11:42.056Z"
   },
   {
    "duration": 8,
    "start_time": "2022-10-01T18:11:42.088Z"
   },
   {
    "duration": 6,
    "start_time": "2022-10-01T18:11:42.098Z"
   },
   {
    "duration": 35,
    "start_time": "2022-10-01T18:11:42.105Z"
   },
   {
    "duration": 10,
    "start_time": "2022-10-01T18:11:42.141Z"
   },
   {
    "duration": 4,
    "start_time": "2022-10-01T18:11:42.152Z"
   },
   {
    "duration": 40,
    "start_time": "2022-10-01T18:11:42.157Z"
   },
   {
    "duration": 20,
    "start_time": "2022-10-01T18:11:42.198Z"
   },
   {
    "duration": 17,
    "start_time": "2022-10-01T18:11:42.220Z"
   },
   {
    "duration": 4,
    "start_time": "2022-10-01T18:11:42.239Z"
   },
   {
    "duration": 14,
    "start_time": "2022-10-01T18:11:42.244Z"
   },
   {
    "duration": 31,
    "start_time": "2022-10-01T18:11:42.259Z"
   },
   {
    "duration": 3,
    "start_time": "2022-10-01T18:11:42.291Z"
   },
   {
    "duration": 12,
    "start_time": "2022-10-01T18:11:42.296Z"
   },
   {
    "duration": 35,
    "start_time": "2022-10-01T18:11:42.309Z"
   },
   {
    "duration": 55,
    "start_time": "2022-10-01T18:11:42.345Z"
   },
   {
    "duration": 28,
    "start_time": "2022-10-01T18:11:42.401Z"
   },
   {
    "duration": 27,
    "start_time": "2022-10-01T18:11:42.431Z"
   },
   {
    "duration": 27,
    "start_time": "2022-10-01T18:30:22.405Z"
   },
   {
    "duration": 54,
    "start_time": "2022-10-01T18:30:28.734Z"
   },
   {
    "duration": 30,
    "start_time": "2022-10-01T18:30:32.760Z"
   },
   {
    "duration": 31,
    "start_time": "2022-10-01T18:30:50.525Z"
   },
   {
    "duration": 179,
    "start_time": "2022-10-01T19:55:02.722Z"
   },
   {
    "duration": 85,
    "start_time": "2022-10-01T19:56:26.122Z"
   },
   {
    "duration": 575,
    "start_time": "2022-10-02T11:27:50.482Z"
   },
   {
    "duration": 24,
    "start_time": "2022-10-02T11:27:51.059Z"
   },
   {
    "duration": 21,
    "start_time": "2022-10-02T11:27:51.084Z"
   },
   {
    "duration": 14,
    "start_time": "2022-10-02T11:27:51.110Z"
   },
   {
    "duration": 34,
    "start_time": "2022-10-02T11:27:51.127Z"
   },
   {
    "duration": 4,
    "start_time": "2022-10-02T11:27:51.162Z"
   },
   {
    "duration": 11,
    "start_time": "2022-10-02T11:27:51.167Z"
   },
   {
    "duration": 6,
    "start_time": "2022-10-02T11:27:51.197Z"
   },
   {
    "duration": 10,
    "start_time": "2022-10-02T11:27:51.205Z"
   },
   {
    "duration": 5,
    "start_time": "2022-10-02T11:27:51.216Z"
   },
   {
    "duration": 35,
    "start_time": "2022-10-02T11:27:51.223Z"
   },
   {
    "duration": 42,
    "start_time": "2022-10-02T11:27:51.260Z"
   },
   {
    "duration": 9,
    "start_time": "2022-10-02T11:27:51.306Z"
   },
   {
    "duration": 23,
    "start_time": "2022-10-02T11:27:51.318Z"
   },
   {
    "duration": 34,
    "start_time": "2022-10-02T11:27:51.343Z"
   },
   {
    "duration": 29,
    "start_time": "2022-10-02T11:27:51.379Z"
   },
   {
    "duration": 3,
    "start_time": "2022-10-02T11:27:51.410Z"
   },
   {
    "duration": 13,
    "start_time": "2022-10-02T11:27:51.415Z"
   },
   {
    "duration": 8,
    "start_time": "2022-10-02T11:27:51.429Z"
   },
   {
    "duration": 4,
    "start_time": "2022-10-02T11:27:51.439Z"
   },
   {
    "duration": 14,
    "start_time": "2022-10-02T11:27:51.445Z"
   },
   {
    "duration": 50,
    "start_time": "2022-10-02T11:27:51.461Z"
   },
   {
    "duration": 44,
    "start_time": "2022-10-02T11:27:51.513Z"
   },
   {
    "duration": 54,
    "start_time": "2022-10-02T11:27:51.559Z"
   },
   {
    "duration": 32,
    "start_time": "2022-10-02T11:27:51.615Z"
   }
  ],
  "colab": {
   "name": "dpp_template_part2.ipynb",
   "provenance": []
  },
  "kernelspec": {
   "display_name": "Python 3 (ipykernel)",
   "language": "python",
   "name": "python3"
  },
  "language_info": {
   "codemirror_mode": {
    "name": "ipython",
    "version": 3
   },
   "file_extension": ".py",
   "mimetype": "text/x-python",
   "name": "python",
   "nbconvert_exporter": "python",
   "pygments_lexer": "ipython3",
   "version": "3.9.13"
  },
  "toc": {
   "base_numbering": 1,
   "nav_menu": {},
   "number_sections": true,
   "sideBar": true,
   "skip_h1_title": true,
   "title_cell": "Table of Contents",
   "title_sidebar": "Contents",
   "toc_cell": false,
   "toc_position": {},
   "toc_section_display": true,
   "toc_window_display": false
  }
 },
 "nbformat": 4,
 "nbformat_minor": 5
}
